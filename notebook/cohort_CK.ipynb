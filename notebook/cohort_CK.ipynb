{
 "cells": [
  {
   "cell_type": "code",
   "execution_count": 1,
   "metadata": {},
   "outputs": [],
   "source": [
    "import pandas as pd\n",
    "import numpy as np"
   ]
  },
  {
   "cell_type": "code",
   "execution_count": 2,
   "metadata": {},
   "outputs": [],
   "source": [
    "path = '/mnt/data1/songziwu/data/crc_data/01_MQ_Incident_Match_Files/'"
   ]
  },
  {
   "cell_type": "code",
   "execution_count": 3,
   "metadata": {},
   "outputs": [],
   "source": [
    "matched_case_control_CC_01yr = pd.read_csv(path + 'matched_case_control_CC_01yr.csv')\n",
    "matched_case_control_CC_3yr = pd.read_csv(path + 'matched_case_control_CC_3yr.csv')\n",
    "matched_case_control_CC_5yr = pd.read_csv(path + 'matched_case_control_CC_5yr.csv')"
   ]
  },
  {
   "cell_type": "code",
   "execution_count": 4,
   "metadata": {},
   "outputs": [],
   "source": [
    "matched_case_control_CRC_01yr = pd.read_csv(path + 'matched_case_control_CRC_01yr.csv')\n",
    "matched_case_control_CRC_3yr = pd.read_csv(path + 'matched_case_control_CRC_3yr.csv')\n",
    "matched_case_control_CRC_5yr = pd.read_csv(path + 'matched_case_control_CRC_5yr.csv')"
   ]
  },
  {
   "cell_type": "code",
   "execution_count": 5,
   "metadata": {},
   "outputs": [],
   "source": [
    "matched_case_control_RC_01yr = pd.read_csv(path + 'matched_case_control_RC_01yr.csv')\n",
    "matched_case_control_RC_3yr = pd.read_csv(path + 'matched_case_control_RC_3yr.csv')\n",
    "matched_case_control_RC_5yr = pd.read_csv(path + 'matched_case_control_RC_5yr.csv')"
   ]
  },
  {
   "cell_type": "code",
   "execution_count": 6,
   "metadata": {},
   "outputs": [],
   "source": [
    "matched_control_CC = pd.read_csv(path + 'matched_control_CC.csv')\n",
    "matched_control_CRC = pd.read_csv(path + 'matched_control_CRC.csv')\n",
    "matched_control_RC = pd.read_csv(path + 'matched_control_RC.csv')"
   ]
  },
  {
   "cell_type": "markdown",
   "metadata": {},
   "source": [
    "## Matching\n",
    "- Incident Matching Criteria\n",
    "    1. index date = first encounter date at which patient was diagnosed with AD/RD? (CRC)\n",
    "    2. reference date of control = the encounter date within 30 days of the index date of the case\n",
    "    3. first date = first encounter date of the patients\n",
    "    4. watching period date = first encounter date that allows more than the time specified by the prediction window \n",
    "    5. observation window = all days from the first encounter date to the watching period date\n",
    "    \n",
    "- Exclusion Criteria\n",
    "    1. observation criteria < 2 years\n",
    "    \n",
    "- Incident Matching Criteria\n",
    "    1. Match to age within +- 2.5 years\n",
    "    2. Having an encounter within 30-day interval of the case's onset date\n",
    "    3. Two AV encounters that are at least two years apart before index date\n",
    "    4. Age at index date >=18"
   ]
  },
  {
   "cell_type": "code",
   "execution_count": 7,
   "metadata": {},
   "outputs": [
    {
     "data": {
      "text/plain": [
       "249"
      ]
     },
     "execution_count": 7,
     "metadata": {},
     "output_type": "execute_result"
    }
   ],
   "source": [
    "matched_control_RC['matched_case_id'].nunique()"
   ]
  },
  {
   "cell_type": "code",
   "execution_count": 8,
   "metadata": {},
   "outputs": [
    {
     "data": {
      "text/plain": [
       "2463"
      ]
     },
     "execution_count": 8,
     "metadata": {},
     "output_type": "execute_result"
    }
   ],
   "source": [
    "matched_control_RC['PATID'].nunique()"
   ]
  },
  {
   "cell_type": "code",
   "execution_count": 9,
   "metadata": {},
   "outputs": [],
   "source": [
    "# define index date\n",
    "def fun_index_date(status, case_date, control_date):\n",
    "    if status == 1:\n",
    "        return case_date\n",
    "    elif status == 0:\n",
    "        return control_date"
   ]
  },
  {
   "cell_type": "code",
   "execution_count": 10,
   "metadata": {},
   "outputs": [],
   "source": [
    "def calculate_age(df):\n",
    "    df['BIRTH_DATE'] = pd.to_datetime(df['BIRTH_DATE'])\n",
    "    df['CRC_f_date'] = pd.to_datetime(df['CRC_f_date'])\n",
    "    df['ref_index_date'] = pd.to_datetime(df['ref_index_date'])\n",
    "    \n",
    "    df['index_CRC'] = df.apply(lambda x: fun_index_date(x['has_CRC'],x['CRC_f_date'],x['ref_index_date']), axis=1)\n",
    "    df['age_index'] = (df.index_CRC - df.BIRTH_DATE).astype('<m8[Y]')\n",
    "    \n",
    "    print(df.age_index.describe())\n",
    "    \n",
    "    "
   ]
  },
  {
   "cell_type": "code",
   "execution_count": 11,
   "metadata": {},
   "outputs": [
    {
     "name": "stdout",
     "output_type": "stream",
     "text": [
      "count    6564.000000\n",
      "mean       39.104509\n",
      "std         7.969356\n",
      "min        17.000000\n",
      "25%        34.000000\n",
      "50%        42.000000\n",
      "75%        46.000000\n",
      "max        51.000000\n",
      "Name: age_index, dtype: float64\n"
     ]
    }
   ],
   "source": [
    "calculate_age(matched_control_CC)"
   ]
  },
  {
   "cell_type": "code",
   "execution_count": 12,
   "metadata": {},
   "outputs": [
    {
     "name": "stdout",
     "output_type": "stream",
     "text": [
      "count    8665.000000\n",
      "mean       39.284824\n",
      "std         7.920157\n",
      "min        17.000000\n",
      "25%        34.000000\n",
      "50%        41.000000\n",
      "75%        46.000000\n",
      "max        52.000000\n",
      "Name: age_index, dtype: float64\n"
     ]
    }
   ],
   "source": [
    "calculate_age(matched_control_CRC)"
   ]
  },
  {
   "cell_type": "code",
   "execution_count": 13,
   "metadata": {},
   "outputs": [
    {
     "name": "stdout",
     "output_type": "stream",
     "text": [
      "count    2463.000000\n",
      "mean       40.094194\n",
      "std         7.652754\n",
      "min        18.000000\n",
      "25%        35.000000\n",
      "50%        42.000000\n",
      "75%        46.000000\n",
      "max        52.000000\n",
      "Name: age_index, dtype: float64\n"
     ]
    }
   ],
   "source": [
    "calculate_age(matched_control_RC)"
   ]
  },
  {
   "cell_type": "code",
   "execution_count": 14,
   "metadata": {},
   "outputs": [
    {
     "data": {
      "text/plain": [
       "449"
      ]
     },
     "execution_count": 14,
     "metadata": {},
     "output_type": "execute_result"
    }
   ],
   "source": [
    "matched_control_CC[(matched_control_CC['age_index']<45) & (matched_control_CC['age_index']>=0)]['matched_case_id'].nunique()"
   ]
  },
  {
   "cell_type": "code",
   "execution_count": 15,
   "metadata": {},
   "outputs": [
    {
     "data": {
      "text/plain": [
       "222"
      ]
     },
     "execution_count": 15,
     "metadata": {},
     "output_type": "execute_result"
    }
   ],
   "source": [
    "matched_control_CC[(matched_control_CC['age_index']<64) & (matched_control_CC['age_index']>=45)]['matched_case_id'].nunique()"
   ]
  },
  {
   "cell_type": "code",
   "execution_count": 16,
   "metadata": {},
   "outputs": [
    {
     "data": {
      "text/plain": [
       "0"
      ]
     },
     "execution_count": 16,
     "metadata": {},
     "output_type": "execute_result"
    }
   ],
   "source": [
    "matched_control_CC[(matched_control_CC['age_index']<74) & (matched_control_CC['age_index']>=64)]['matched_case_id'].nunique()"
   ]
  },
  {
   "cell_type": "code",
   "execution_count": 17,
   "metadata": {},
   "outputs": [
    {
     "data": {
      "text/plain": [
       "0"
      ]
     },
     "execution_count": 17,
     "metadata": {},
     "output_type": "execute_result"
    }
   ],
   "source": [
    "matched_control_CC[(matched_control_CC['age_index']<130) & (matched_control_CC['age_index']>=74)]['matched_case_id'].nunique()"
   ]
  }
 ],
 "metadata": {
  "kernelspec": {
   "display_name": "Python 3",
   "language": "python",
   "name": "python3"
  },
  "language_info": {
   "codemirror_mode": {
    "name": "ipython",
    "version": 3
   },
   "file_extension": ".py",
   "mimetype": "text/x-python",
   "name": "python",
   "nbconvert_exporter": "python",
   "pygments_lexer": "ipython3",
   "version": "3.7.3"
  }
 },
 "nbformat": 4,
 "nbformat_minor": 4
}
