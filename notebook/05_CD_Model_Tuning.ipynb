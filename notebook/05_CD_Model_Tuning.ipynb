{
 "cells": [
  {
   "cell_type": "code",
   "execution_count": 1,
   "metadata": {},
   "outputs": [],
   "source": [
    "import csv\n",
    "import os\n",
    "import shap\n",
    "import numpy as np\n",
    "import pandas as pd\n",
    "import pickle as pkl\n",
    "from sklearn.linear_model import LogisticRegression\n",
    "from sklearn.model_selection import RandomizedSearchCV, cross_val_score, StratifiedKFold, cross_val_predict, train_test_split\n",
    "from sklearn.metrics import roc_auc_score, average_precision_score, roc_curve, auc, precision_recall_fscore_support\n",
    "from sklearn import metrics\n",
    "from tqdm import tqdm"
   ]
  },
  {
   "cell_type": "code",
   "execution_count": 2,
   "metadata": {},
   "outputs": [],
   "source": [
    "#UTF-8 encoding issue\n",
    "\n",
    "def pkl_dump(data, file, output_path):\n",
    "    with open(output_path + file, \"wb\") as fw:\n",
    "        pkl.dump(data, fw, pkl.HIGHEST_PROTOCOL)\n",
    "\n",
    "def pkl_load(file, input_path):\n",
    "    with open(input_path + file, \"rb\") as fr:\n",
    "        data = pkl.load(fr)\n",
    "    return data\n",
    "\n",
    "def load_data(features_path,features_filename,data_filename):\n",
    "    fea2id, features = pkl_load(f\"{features_filename}\", features_path)\n",
    "    data = pkl_load(f\"{data_filename}\", features_path)\n",
    "    return fea2id,data\n",
    "\n",
    "def convert_to_dataframe(fea2id,patient_data):\n",
    "    patient_with_features = pd.DataFrame(columns = ['pid']+list(fea2id.values()))\n",
    "\n",
    "    for i in range(len(patient_data)):\n",
    "        patient_with_features.loc[i,'pid']=patient_data[i][0]\n",
    "        for j in range(1, len(fea2id)+1):\n",
    "            if j in patient_data[i][1:]:\n",
    "                patient_with_features.loc[i,j]=1\n",
    "            else:\n",
    "                patient_with_features.loc[i,j]=0\n",
    "    return patient_with_features"
   ]
  },
  {
   "cell_type": "code",
   "execution_count": 3,
   "metadata": {},
   "outputs": [],
   "source": [
    "input_path = '/mnt/data1/chong/2021-CRC/updated_data/'\n",
    "data_CC0yr = pd.read_csv(input_path + 'data_CC0yr_expr.csv', dtype=str)"
   ]
  },
  {
   "cell_type": "code",
   "execution_count": 4,
   "metadata": {},
   "outputs": [],
   "source": [
    "data_CC0yr['outcome'] = data_CC0yr['outcome'].astype('float').astype('int')"
   ]
  },
  {
   "cell_type": "code",
   "execution_count": 5,
   "metadata": {},
   "outputs": [
    {
     "data": {
      "text/html": [
       "<div>\n",
       "<style scoped>\n",
       "    .dataframe tbody tr th:only-of-type {\n",
       "        vertical-align: middle;\n",
       "    }\n",
       "\n",
       "    .dataframe tbody tr th {\n",
       "        vertical-align: top;\n",
       "    }\n",
       "\n",
       "    .dataframe thead th {\n",
       "        text-align: right;\n",
       "    }\n",
       "</style>\n",
       "<table border=\"1\" class=\"dataframe\">\n",
       "  <thead>\n",
       "    <tr style=\"text-align: right;\">\n",
       "      <th></th>\n",
       "      <th>pid</th>\n",
       "      <th>outcome</th>\n",
       "      <th>age_40_49</th>\n",
       "      <th>SEX_M</th>\n",
       "      <th>Race_03</th>\n",
       "      <th>Hispanic_N</th>\n",
       "      <th>med_p_26225</th>\n",
       "      <th>med_p_8745</th>\n",
       "      <th>med_p_6628</th>\n",
       "      <th>med_p_9863</th>\n",
       "      <th>...</th>\n",
       "      <th>proc_No charge</th>\n",
       "      <th>diag_24200</th>\n",
       "      <th>diag_7014</th>\n",
       "      <th>diag_25201</th>\n",
       "      <th>proc_9929</th>\n",
       "      <th>proc_0695</th>\n",
       "      <th>med_p_298869</th>\n",
       "      <th>lab_41005-0</th>\n",
       "      <th>diag_255.1</th>\n",
       "      <th>med_p_860807</th>\n",
       "    </tr>\n",
       "  </thead>\n",
       "  <tbody>\n",
       "    <tr>\n",
       "      <th>0</th>\n",
       "      <td>11e75060d2b34f18907a0050569ea8fb</td>\n",
       "      <td>0</td>\n",
       "      <td>1</td>\n",
       "      <td>1</td>\n",
       "      <td>1</td>\n",
       "      <td>1</td>\n",
       "      <td>1</td>\n",
       "      <td>1</td>\n",
       "      <td>1</td>\n",
       "      <td>1</td>\n",
       "      <td>...</td>\n",
       "      <td>0</td>\n",
       "      <td>0</td>\n",
       "      <td>0</td>\n",
       "      <td>0</td>\n",
       "      <td>0</td>\n",
       "      <td>0</td>\n",
       "      <td>0</td>\n",
       "      <td>0</td>\n",
       "      <td>0</td>\n",
       "      <td>0</td>\n",
       "    </tr>\n",
       "    <tr>\n",
       "      <th>1</th>\n",
       "      <td>11e75060db07ec1ebb6a0050569ea8fb</td>\n",
       "      <td>0</td>\n",
       "      <td>0</td>\n",
       "      <td>0</td>\n",
       "      <td>1</td>\n",
       "      <td>1</td>\n",
       "      <td>0</td>\n",
       "      <td>0</td>\n",
       "      <td>0</td>\n",
       "      <td>0</td>\n",
       "      <td>...</td>\n",
       "      <td>0</td>\n",
       "      <td>0</td>\n",
       "      <td>0</td>\n",
       "      <td>0</td>\n",
       "      <td>0</td>\n",
       "      <td>0</td>\n",
       "      <td>0</td>\n",
       "      <td>0</td>\n",
       "      <td>0</td>\n",
       "      <td>0</td>\n",
       "    </tr>\n",
       "    <tr>\n",
       "      <th>2</th>\n",
       "      <td>11e750610fb3ce06bc3a0050569ea8fb</td>\n",
       "      <td>1</td>\n",
       "      <td>1</td>\n",
       "      <td>0</td>\n",
       "      <td>1</td>\n",
       "      <td>1</td>\n",
       "      <td>1</td>\n",
       "      <td>1</td>\n",
       "      <td>0</td>\n",
       "      <td>1</td>\n",
       "      <td>...</td>\n",
       "      <td>0</td>\n",
       "      <td>0</td>\n",
       "      <td>0</td>\n",
       "      <td>0</td>\n",
       "      <td>0</td>\n",
       "      <td>0</td>\n",
       "      <td>0</td>\n",
       "      <td>0</td>\n",
       "      <td>0</td>\n",
       "      <td>0</td>\n",
       "    </tr>\n",
       "    <tr>\n",
       "      <th>3</th>\n",
       "      <td>11e75061126eaa76a7850050569ea8fb</td>\n",
       "      <td>1</td>\n",
       "      <td>1</td>\n",
       "      <td>0</td>\n",
       "      <td>0</td>\n",
       "      <td>1</td>\n",
       "      <td>0</td>\n",
       "      <td>0</td>\n",
       "      <td>0</td>\n",
       "      <td>0</td>\n",
       "      <td>...</td>\n",
       "      <td>0</td>\n",
       "      <td>0</td>\n",
       "      <td>0</td>\n",
       "      <td>0</td>\n",
       "      <td>0</td>\n",
       "      <td>0</td>\n",
       "      <td>0</td>\n",
       "      <td>0</td>\n",
       "      <td>0</td>\n",
       "      <td>0</td>\n",
       "    </tr>\n",
       "    <tr>\n",
       "      <th>4</th>\n",
       "      <td>11e75060e4aded54907a0050569ea8fb</td>\n",
       "      <td>0</td>\n",
       "      <td>0</td>\n",
       "      <td>0</td>\n",
       "      <td>0</td>\n",
       "      <td>1</td>\n",
       "      <td>0</td>\n",
       "      <td>0</td>\n",
       "      <td>0</td>\n",
       "      <td>0</td>\n",
       "      <td>...</td>\n",
       "      <td>0</td>\n",
       "      <td>0</td>\n",
       "      <td>0</td>\n",
       "      <td>0</td>\n",
       "      <td>0</td>\n",
       "      <td>0</td>\n",
       "      <td>0</td>\n",
       "      <td>0</td>\n",
       "      <td>0</td>\n",
       "      <td>0</td>\n",
       "    </tr>\n",
       "  </tbody>\n",
       "</table>\n",
       "<p>5 rows × 8603 columns</p>\n",
       "</div>"
      ],
      "text/plain": [
       "                                pid  outcome age_40_49 SEX_M Race_03  \\\n",
       "0  11e75060d2b34f18907a0050569ea8fb        0         1     1       1   \n",
       "1  11e75060db07ec1ebb6a0050569ea8fb        0         0     0       1   \n",
       "2  11e750610fb3ce06bc3a0050569ea8fb        1         1     0       1   \n",
       "3  11e75061126eaa76a7850050569ea8fb        1         1     0       0   \n",
       "4  11e75060e4aded54907a0050569ea8fb        0         0     0       0   \n",
       "\n",
       "  Hispanic_N med_p_26225 med_p_8745 med_p_6628 med_p_9863  ... proc_No charge  \\\n",
       "0          1           1          1          1          1  ...              0   \n",
       "1          1           0          0          0          0  ...              0   \n",
       "2          1           1          1          0          1  ...              0   \n",
       "3          1           0          0          0          0  ...              0   \n",
       "4          1           0          0          0          0  ...              0   \n",
       "\n",
       "  diag_24200 diag_7014 diag_25201 proc_9929 proc_0695 med_p_298869  \\\n",
       "0          0         0          0         0         0            0   \n",
       "1          0         0          0         0         0            0   \n",
       "2          0         0          0         0         0            0   \n",
       "3          0         0          0         0         0            0   \n",
       "4          0         0          0         0         0            0   \n",
       "\n",
       "  lab_41005-0 diag_255.1 med_p_860807  \n",
       "0           0          0            0  \n",
       "1           0          0            0  \n",
       "2           0          0            0  \n",
       "3           0          0            0  \n",
       "4           0          0            0  \n",
       "\n",
       "[5 rows x 8603 columns]"
      ]
     },
     "execution_count": 5,
     "metadata": {},
     "output_type": "execute_result"
    }
   ],
   "source": [
    "data_CC0yr.head()"
   ]
  },
  {
   "cell_type": "code",
   "execution_count": 6,
   "metadata": {},
   "outputs": [],
   "source": [
    "X = data_CC0yr.iloc[:,2:]\n",
    "y = data_CC0yr.iloc[:,1:2]"
   ]
  },
  {
   "cell_type": "code",
   "execution_count": 7,
   "metadata": {},
   "outputs": [],
   "source": [
    "import numpy as np\n",
    "import scipy.stats\n",
    "\n",
    "def mean_confidence_interval(data, confidence=0.95):\n",
    "    a = 1.0 * np.array(data)\n",
    "    n = len(a)\n",
    "    m, se = np.mean(a), scipy.stats.sem(a)\n",
    "    h = se * scipy.stats.t.ppf((1 + confidence) / 2., n-1)\n",
    "    return m, m-h, m+h\n",
    "\n",
    "def print_with_ci(performance, name):\n",
    "    m, m_l, m_h = mean_confidence_interval(performance[name])\n",
    "    print('%s: %.3f (%.3f, %.3f)'%(name, m, m_l, m_h))\n",
    "    "
   ]
  },
  {
   "cell_type": "code",
   "execution_count": 8,
   "metadata": {},
   "outputs": [],
   "source": [
    "from sklearn.metrics import confusion_matrix\n",
    "\n",
    "def confusion_metrics (conf_matrix):\n",
    "# save confusion matrix and slice into four pieces\n",
    "    TP = conf_matrix[1][1]\n",
    "    TN = conf_matrix[0][0]\n",
    "    FP = conf_matrix[0][1]\n",
    "    FN = conf_matrix[1][0]\n",
    "    #print('True Positives:', TP)\n",
    "    #print('True Negatives:', TN)\n",
    "    #print('False Positives:', FP)\n",
    "    #print('False Negatives:', FN)\n",
    "    \n",
    "    # calculate accuracy\n",
    "    conf_accuracy = (float (TP+TN) / float(TP + TN + FP + FN))\n",
    "    \n",
    "    # calculate mis-classification\n",
    "    conf_misclassification = 1- conf_accuracy\n",
    "    \n",
    "    # calculate the sensitivity/recall\n",
    "    conf_sensitivity_recall = (TP / float(TP + FN))\n",
    "                                          \n",
    "    # calculate the specificity\n",
    "    conf_specificity = (TN / float(TN + FP))\n",
    "    \n",
    "    # calculate precision\n",
    "    conf_precision = (TP / float(TP + FP))\n",
    "    \n",
    "    # calculate f_1 score\n",
    "    conf_f1 = 2 * ((conf_precision * conf_sensitivity_recall) / (conf_precision + conf_sensitivity_recall))\n",
    "\n",
    "    # calculate ppv\n",
    "    conf_ppv = (TP / float(TP + FP))\n",
    "                        \n",
    "    # calculate npv\n",
    "    conf_npv = (TN / float(TN + FN))\n",
    "    \n",
    "    #print('-'*50)\n",
    "    #print(f'Accuracy: {round(conf_accuracy,2)}') \n",
    "    #print(f'Mis-Classification: {round(conf_misclassification,2)}') \n",
    "    #print(f'Sensitivity: {round(conf_sensitivity,2)}') \n",
    "    #print(f'Specificity: {round(conf_specificity,2)}') \n",
    "    #print(f'Precision: {round(conf_precision,2)}')\n",
    "    #print(f'f_1 Score: {round(conf_f1,2)}')\n",
    "    return {\n",
    "        'precision': conf_precision,\n",
    "        'recall': conf_sensitivity_recall,\n",
    "        'sensitivity': conf_sensitivity_recall,\n",
    "        'specificity': conf_specificity,\n",
    "        'accuracy': conf_accuracy,\n",
    "        'f1': conf_f1,\n",
    "        'ppv': conf_ppv,\n",
    "        'npv': conf_npv\n",
    "        \n",
    "    }"
   ]
  },
  {
   "cell_type": "code",
   "execution_count": 9,
   "metadata": {},
   "outputs": [],
   "source": [
    "def model_with_ci(X, y, clf):\n",
    "    \n",
    "    performance = pd.DataFrame()\n",
    "\n",
    "    metrics_average = 'binary'\n",
    "    labels = None #[0]\n",
    "    for i in range(10):\n",
    "\n",
    "        X_train, X_test, y_train, y_test = train_test_split(X, y, test_size=0.2, random_state=i)\n",
    "\n",
    "        \n",
    "        clf.fit(X_train,y_train.values.ravel())\n",
    "        y_pred=clf.predict(X_test)\n",
    "        y_prob=clf.predict_proba(X_test)[:,1]\n",
    "\n",
    "        performance = performance.append({\n",
    "                'i': i,\n",
    "                'f1': metrics.f1_score(y_test, y_pred, average=metrics_average, labels = labels),\n",
    "                'precision': metrics.precision_score(y_test, y_pred, average=metrics_average, labels = labels),\n",
    "                'recall': metrics.recall_score(y_test, y_pred, average=metrics_average, labels = labels),\n",
    "                'auc_roc': metrics.roc_auc_score(y_test, y_prob)\n",
    "            }, ignore_index=True)\n",
    "\n",
    "    print(\"--------------------------------------------------\")\n",
    "    print_with_ci(performance, 'f1')\n",
    "    print_with_ci(performance, 'precision')\n",
    "    print_with_ci(performance, 'recall')\n",
    "    print_with_ci(performance, 'auc_roc')\n",
    "\n",
    "    print(\"--------------------------------------------------\")"
   ]
  },
  {
   "cell_type": "code",
   "execution_count": 10,
   "metadata": {},
   "outputs": [
    {
     "name": "stderr",
     "output_type": "stream",
     "text": [
      "lbfgs failed to converge. Increase the number of iterations.\n",
      "lbfgs failed to converge. Increase the number of iterations.\n",
      "lbfgs failed to converge. Increase the number of iterations.\n",
      "lbfgs failed to converge. Increase the number of iterations.\n",
      "lbfgs failed to converge. Increase the number of iterations.\n",
      "lbfgs failed to converge. Increase the number of iterations.\n",
      "lbfgs failed to converge. Increase the number of iterations.\n",
      "lbfgs failed to converge. Increase the number of iterations.\n",
      "lbfgs failed to converge. Increase the number of iterations.\n",
      "lbfgs failed to converge. Increase the number of iterations.\n"
     ]
    },
    {
     "name": "stdout",
     "output_type": "stream",
     "text": [
      "--------------------------------------------------\n",
      "f1: 0.556 (0.531, 0.581)\n",
      "precision: 0.669 (0.636, 0.702)\n",
      "recall: 0.478 (0.446, 0.510)\n",
      "auc_roc: 0.843 (0.832, 0.854)\n",
      "--------------------------------------------------\n"
     ]
    }
   ],
   "source": [
    "model_with_ci(X,y,LogisticRegression(warm_start=True,solver='lbfgs'))"
   ]
  },
  {
   "cell_type": "markdown",
   "metadata": {},
   "source": [
    "# Hyperparameter Tunning - 0 YEAR"
   ]
  },
  {
   "cell_type": "code",
   "execution_count": 11,
   "metadata": {},
   "outputs": [],
   "source": [
    "import matplotlib.pyplot as plt\n",
    "from matplotlib.legend_handler import HandlerLine2D\n",
    "\n",
    "from sklearn.metrics import precision_recall_curve\n",
    "from sklearn.metrics import average_precision_score\n",
    "from sklearn.metrics import roc_curve\n",
    "from sklearn.metrics import *"
   ]
  },
  {
   "cell_type": "code",
   "execution_count": 12,
   "metadata": {},
   "outputs": [],
   "source": [
    "X_train, X_test, y_train, y_test = train_test_split(X, y, test_size=0.2)"
   ]
  },
  {
   "cell_type": "code",
   "execution_count": 13,
   "metadata": {},
   "outputs": [
    {
     "name": "stdout",
     "output_type": "stream",
     "text": [
      "(3282, 8601)\n",
      "(3282, 1)\n",
      "(821, 8601)\n",
      "(821, 1)\n"
     ]
    }
   ],
   "source": [
    "print(X_train.shape)\n",
    "print(y_train.shape)\n",
    "print(X_test.shape)\n",
    "print(y_test.shape)"
   ]
  },
  {
   "cell_type": "code",
   "execution_count": 14,
   "metadata": {},
   "outputs": [],
   "source": [
    "from sklearn.svm import SVC\n",
    "from sklearn.ensemble import RandomForestClassifier\n",
    "from sklearn.ensemble import GradientBoostingClassifier\n",
    "\n",
    "def model_parameter_tuning(model_type, tuned_parameter, parameter_values):\n",
    "    train_results = []\n",
    "    test_results = []\n",
    "\n",
    "    for value in parameter_values:\n",
    "        \n",
    "        for i in range(6):\n",
    "            performance = pd.DataFrame()\n",
    "            \n",
    "            metrics_average = 'binary'\n",
    "            labels = None\n",
    "\n",
    "            X_train, X_test, y_train, y_test = train_test_split(X, y, test_size=0.2, random_state=i)\n",
    "            \n",
    "            if model_type == 'lr':\n",
    "                clf = LogisticRegression(**{tuned_parameter: value},solver='lbfgs')\n",
    "            elif model_type == 'rf':\n",
    "                clf = RandomForestClassifier(**{tuned_parameter: value})\n",
    "            elif model_type == 'svm':\n",
    "                clf = SVC(**{tuned_parameter: value})\n",
    "            elif model_type == 'gbdt':\n",
    "                clf = GradientBoostingClassifier(**{tuned_parameter: value})\n",
    "                \n",
    "            clf.fit(X_train,y_train.values.ravel())\n",
    "            train_pred=clf.predict(X_train)\n",
    "            test_pred=clf.predict(X_test)\n",
    "\n",
    "#             train_prob=clf.predict_proba(X_train)[:,1]\n",
    "#             test_prob=clf.predict_proba(X_test)[:,1]\n",
    "\n",
    "            performance = performance.append({\n",
    "                    'i': i,\n",
    "                    'train_f1': metrics.f1_score(y_train, train_pred, average='weighted', labels=np.unique(train_pred)),\n",
    "                    'test_f1': metrics.f1_score(y_test, test_pred, average='weighted', labels=np.unique(test_pred))\n",
    "                }, ignore_index=True)\n",
    "                        \n",
    "            train_f1 = performance['train_f1'].mean()\n",
    "            test_f1 = performance['test_f1'].mean()\n",
    "\n",
    "\n",
    "#         clf = LogisticRegression(**{tuned_parameter: value})\n",
    "#         clf.fit(X_train, y_train)\n",
    "#         train_pred = clf.predict(X_train)\n",
    "#         false_positive_rate, true_positive_rate, thresholds = roc_curve(y_train, train_pred)\n",
    "#         roc_auc = auc(false_positive_rate, true_positive_rate)\n",
    "        train_results.append(train_f1)\n",
    "\n",
    "#         y_pred = clf.predict(X_test)\n",
    "#         false_positive_rate, true_positive_rate, thresholds = roc_curve(y_test, y_pred)\n",
    "#         roc_auc = auc(false_positive_rate, true_positive_rate)\n",
    "        test_results.append(test_f1)\n",
    "\n",
    "    line1, = plt.plot(parameter_values, train_results, 'b', label=\"Train F1\")\n",
    "    line2, = plt.plot(parameter_values, test_results, 'r', label=\"Test F1\")\n",
    "    plt.legend(handler_map={line1: HandlerLine2D(numpoints=2)})\n",
    "    plt.ylabel(\"F1 score\")\n",
    "    plt.xlabel(tuned_parameter)\n",
    "    plt.show()"
   ]
  },
  {
   "cell_type": "markdown",
   "metadata": {},
   "source": [
    "### LR"
   ]
  },
  {
   "cell_type": "markdown",
   "metadata": {},
   "source": [
    "#### max_iter"
   ]
  },
  {
   "cell_type": "code",
   "execution_count": 15,
   "metadata": {},
   "outputs": [],
   "source": [
    "# X_train, y_train, X_test, y_test = pkl_load('expr_data_CC0yr_train_test.pkl', '/mnt/data1/chong/2021-CRC/updated_data/encoding_files/')"
   ]
  },
  {
   "cell_type": "code",
   "execution_count": 16,
   "metadata": {},
   "outputs": [
    {
     "name": "stderr",
     "output_type": "stream",
     "text": [
      "lbfgs failed to converge. Increase the number of iterations.\n",
      "lbfgs failed to converge. Increase the number of iterations.\n",
      "lbfgs failed to converge. Increase the number of iterations.\n",
      "lbfgs failed to converge. Increase the number of iterations.\n",
      "lbfgs failed to converge. Increase the number of iterations.\n",
      "lbfgs failed to converge. Increase the number of iterations.\n",
      "lbfgs failed to converge. Increase the number of iterations.\n",
      "lbfgs failed to converge. Increase the number of iterations.\n",
      "lbfgs failed to converge. Increase the number of iterations.\n",
      "lbfgs failed to converge. Increase the number of iterations.\n"
     ]
    },
    {
     "data": {
      "image/png": "[encoded data removed]",
      "text/plain": [
       "<Figure size 432x288 with 1 Axes>"
      ]
     },
     "metadata": {
      "needs_background": "light"
     },
     "output_type": "display_data"
    }
   ],
   "source": [
    "model_parameter_tuning('lr', 'max_iter',[2, 5, 6, 10, 100])\n",
    "# max_iter: 100"
   ]
  },
  {
   "cell_type": "markdown",
   "metadata": {},
   "source": [
    "#### tol"
   ]
  },
  {
   "cell_type": "code",
   "execution_count": 17,
   "metadata": {},
   "outputs": [
    {
     "name": "stderr",
     "output_type": "stream",
     "text": [
      "lbfgs failed to converge. Increase the number of iterations.\n",
      "lbfgs failed to converge. Increase the number of iterations.\n",
      "lbfgs failed to converge. Increase the number of iterations.\n",
      "lbfgs failed to converge. Increase the number of iterations.\n"
     ]
    },
    {
     "data": {
      "image/png": "[encoded data removed]",
      "text/plain": [
       "<Figure size 432x288 with 1 Axes>"
      ]
     },
     "metadata": {
      "needs_background": "light"
     },
     "output_type": "display_data"
    }
   ],
   "source": [
    "model_parameter_tuning('lr', 'tol',[0.001, 0.01, 0.1])\n",
    "# tol: 0.10"
   ]
  },
  {
   "cell_type": "markdown",
   "metadata": {},
   "source": [
    "#### C"
   ]
  },
  {
   "cell_type": "code",
   "execution_count": 18,
   "metadata": {},
   "outputs": [
    {
     "name": "stderr",
     "output_type": "stream",
     "text": [
      "lbfgs failed to converge. Increase the number of iterations.\n",
      "lbfgs failed to converge. Increase the number of iterations.\n",
      "lbfgs failed to converge. Increase the number of iterations.\n",
      "lbfgs failed to converge. Increase the number of iterations.\n",
      "lbfgs failed to converge. Increase the number of iterations.\n",
      "lbfgs failed to converge. Increase the number of iterations.\n"
     ]
    },
    {
     "data": {
      "image/png": "[encoded data removed]",
      "text/plain": [
       "<Figure size 432x288 with 1 Axes>"
      ]
     },
     "metadata": {
      "needs_background": "light"
     },
     "output_type": "display_data"
    }
   ],
   "source": [
    "model_parameter_tuning('lr', 'C',[0.001, 0.1, 1, 5, 20])\n",
    "# C: 1.25"
   ]
  },
  {
   "cell_type": "markdown",
   "metadata": {},
   "source": [
    "#### solver"
   ]
  },
  {
   "cell_type": "code",
   "execution_count": 19,
   "metadata": {},
   "outputs": [],
   "source": [
    "# model_parameter_tuning('lr','solver',['sag', 'saga'])"
   ]
  },
  {
   "cell_type": "markdown",
   "metadata": {},
   "source": [
    "### RF"
   ]
  },
  {
   "cell_type": "code",
   "execution_count": 20,
   "metadata": {},
   "outputs": [],
   "source": [
    "# how to pass model as a parameter in function\n",
    "# sklean API docs\n",
    "\n",
    "# def rf_parameter_tuning(tuned_parameter, parameter_values):\n",
    "#     train_results = []\n",
    "#     test_results = []\n",
    "\n",
    "#     for value in parameter_values:\n",
    "#         clf = RandomForestClassifier(**{tuned_parameter: value})\n",
    "#         clf.fit(X_train, y_train)\n",
    "#         train_pred = clf.predict(X_train)\n",
    "#         false_positive_rate, true_positive_rate, thresholds = roc_curve(y_train, train_pred)\n",
    "#         roc_auc = auc(false_positive_rate, true_positive_rate)\n",
    "#         train_results.append(roc_auc)\n",
    "\n",
    "#         y_pred = clf.predict(X_test)\n",
    "#         false_positive_rate, true_positive_rate, thresholds = roc_curve(y_test, y_pred)\n",
    "#         roc_auc = auc(false_positive_rate, true_positive_rate)\n",
    "#         test_results.append(roc_auc)\n",
    "\n",
    "#     line1, = plt.plot(parameter_values, train_results, 'b', label=\"Train AUC\")\n",
    "#     line2, = plt.plot(parameter_values, test_results, 'r', label=\"Test AUC\")\n",
    "#     plt.legend(handler_map={line1: HandlerLine2D(numpoints=2)})\n",
    "#     plt.ylabel(\"AUC score\")\n",
    "#     plt.xlabel(tuned_parameter)\n",
    "#     plt.show()"
   ]
  },
  {
   "cell_type": "markdown",
   "metadata": {},
   "source": [
    "#### n_estimators"
   ]
  },
  {
   "cell_type": "code",
   "execution_count": 21,
   "metadata": {},
   "outputs": [
    {
     "data": {
      "image/png": "[encoded data removed]",
      "text/plain": [
       "<Figure size 432x288 with 1 Axes>"
      ]
     },
     "metadata": {
      "needs_background": "light"
     },
     "output_type": "display_data"
    }
   ],
   "source": [
    "model_parameter_tuning('rf', 'n_estimators',[100, 500, 1000, 2000])\n",
    "# n_estimators: 500"
   ]
  },
  {
   "cell_type": "markdown",
   "metadata": {},
   "source": [
    "#### max_depth"
   ]
  },
  {
   "cell_type": "code",
   "execution_count": 22,
   "metadata": {},
   "outputs": [
    {
     "name": "stderr",
     "output_type": "stream",
     "text": [
      "The default value of n_estimators will change from 10 in version 0.20 to 100 in 0.22.\n",
      "The default value of n_estimators will change from 10 in version 0.20 to 100 in 0.22.\n",
      "The default value of n_estimators will change from 10 in version 0.20 to 100 in 0.22.\n",
      "The default value of n_estimators will change from 10 in version 0.20 to 100 in 0.22.\n",
      "The default value of n_estimators will change from 10 in version 0.20 to 100 in 0.22.\n",
      "The default value of n_estimators will change from 10 in version 0.20 to 100 in 0.22.\n",
      "The default value of n_estimators will change from 10 in version 0.20 to 100 in 0.22.\n",
      "The default value of n_estimators will change from 10 in version 0.20 to 100 in 0.22.\n",
      "The default value of n_estimators will change from 10 in version 0.20 to 100 in 0.22.\n",
      "The default value of n_estimators will change from 10 in version 0.20 to 100 in 0.22.\n"
     ]
    },
    {
     "data": {
      "image/png": "[encoded data removed]",
      "text/plain": [
       "<Figure size 432x288 with 1 Axes>"
      ]
     },
     "metadata": {
      "needs_background": "light"
     },
     "output_type": "display_data"
    }
   ],
   "source": [
    "# need to set large range\n",
    "model_parameter_tuning('rf', 'max_depth',[5, 10, 30, 50, 70])\n",
    "# max_depth: 50"
   ]
  },
  {
   "cell_type": "markdown",
   "metadata": {},
   "source": [
    "#### min_samples_leaf"
   ]
  },
  {
   "cell_type": "code",
   "execution_count": 23,
   "metadata": {},
   "outputs": [
    {
     "name": "stderr",
     "output_type": "stream",
     "text": [
      "The default value of n_estimators will change from 10 in version 0.20 to 100 in 0.22.\n",
      "The default value of n_estimators will change from 10 in version 0.20 to 100 in 0.22.\n",
      "The default value of n_estimators will change from 10 in version 0.20 to 100 in 0.22.\n",
      "The default value of n_estimators will change from 10 in version 0.20 to 100 in 0.22.\n",
      "The default value of n_estimators will change from 10 in version 0.20 to 100 in 0.22.\n",
      "The default value of n_estimators will change from 10 in version 0.20 to 100 in 0.22.\n",
      "The default value of n_estimators will change from 10 in version 0.20 to 100 in 0.22.\n",
      "The default value of n_estimators will change from 10 in version 0.20 to 100 in 0.22.\n",
      "The default value of n_estimators will change from 10 in version 0.20 to 100 in 0.22.\n",
      "The default value of n_estimators will change from 10 in version 0.20 to 100 in 0.22.\n",
      "The default value of n_estimators will change from 10 in version 0.20 to 100 in 0.22.\n",
      "The default value of n_estimators will change from 10 in version 0.20 to 100 in 0.22.\n",
      "The default value of n_estimators will change from 10 in version 0.20 to 100 in 0.22.\n",
      "The default value of n_estimators will change from 10 in version 0.20 to 100 in 0.22.\n",
      "The default value of n_estimators will change from 10 in version 0.20 to 100 in 0.22.\n",
      "The default value of n_estimators will change from 10 in version 0.20 to 100 in 0.22.\n"
     ]
    },
    {
     "data": {
      "image/png": "[encoded data removed]",
      "text/plain": [
       "<Figure size 432x288 with 1 Axes>"
      ]
     },
     "metadata": {
      "needs_background": "light"
     },
     "output_type": "display_data"
    }
   ],
   "source": [
    "model_parameter_tuning('rf', 'min_samples_leaf',[0.5, 1, 2, 5, 8, 10, 15, 20])\n",
    "# min_samples_leaf: 20"
   ]
  },
  {
   "cell_type": "markdown",
   "metadata": {},
   "source": [
    "#### min_weight_fraction_leaf"
   ]
  },
  {
   "cell_type": "code",
   "execution_count": 24,
   "metadata": {},
   "outputs": [],
   "source": [
    "# model_parameter_tuning('rf', 'min_weight_fraction_leaf',[1e-5, 1e-3])"
   ]
  },
  {
   "cell_type": "markdown",
   "metadata": {},
   "source": [
    "#### min_samples_split"
   ]
  },
  {
   "cell_type": "code",
   "execution_count": 25,
   "metadata": {},
   "outputs": [
    {
     "name": "stderr",
     "output_type": "stream",
     "text": [
      "The default value of n_estimators will change from 10 in version 0.20 to 100 in 0.22.\n",
      "The default value of n_estimators will change from 10 in version 0.20 to 100 in 0.22.\n",
      "The default value of n_estimators will change from 10 in version 0.20 to 100 in 0.22.\n",
      "The default value of n_estimators will change from 10 in version 0.20 to 100 in 0.22.\n",
      "The default value of n_estimators will change from 10 in version 0.20 to 100 in 0.22.\n",
      "The default value of n_estimators will change from 10 in version 0.20 to 100 in 0.22.\n",
      "The default value of n_estimators will change from 10 in version 0.20 to 100 in 0.22.\n",
      "The default value of n_estimators will change from 10 in version 0.20 to 100 in 0.22.\n",
      "The default value of n_estimators will change from 10 in version 0.20 to 100 in 0.22.\n",
      "The default value of n_estimators will change from 10 in version 0.20 to 100 in 0.22.\n",
      "The default value of n_estimators will change from 10 in version 0.20 to 100 in 0.22.\n",
      "The default value of n_estimators will change from 10 in version 0.20 to 100 in 0.22.\n",
      "The default value of n_estimators will change from 10 in version 0.20 to 100 in 0.22.\n",
      "The default value of n_estimators will change from 10 in version 0.20 to 100 in 0.22.\n"
     ]
    },
    {
     "data": {
      "image/png": "[encoded data removed]",
      "text/plain": [
       "<Figure size 432x288 with 1 Axes>"
      ]
     },
     "metadata": {
      "needs_background": "light"
     },
     "output_type": "display_data"
    }
   ],
   "source": [
    "# need to set large range\n",
    "model_parameter_tuning('rf','min_samples_split',[5, 10,30,50,70,90,110])\n",
    "# min_samples_split: 8"
   ]
  },
  {
   "cell_type": "markdown",
   "metadata": {},
   "source": [
    "### SVM"
   ]
  },
  {
   "cell_type": "code",
   "execution_count": 26,
   "metadata": {},
   "outputs": [],
   "source": [
    "# def svm_parameter_tuning(tuned_parameter, parameter_values):\n",
    "#     train_results = []\n",
    "#     test_results = []\n",
    "\n",
    "#     for value in parameter_values:\n",
    "#         clf = SVC(**{tuned_parameter: value})\n",
    "#         clf.fit(X_train, y_train)\n",
    "#         train_pred = clf.predict(X_train)\n",
    "#         false_positive_rate, true_positive_rate, thresholds = roc_curve(y_train, train_pred)\n",
    "#         roc_auc = auc(false_positive_rate, true_positive_rate)\n",
    "#         train_results.append(roc_auc)\n",
    "\n",
    "#         y_pred = clf.predict(X_test)\n",
    "#         false_positive_rate, true_positive_rate, thresholds = roc_curve(y_test, y_pred)\n",
    "#         roc_auc = auc(false_positive_rate, true_positive_rate)\n",
    "#         test_results.append(roc_auc)\n",
    "\n",
    "#     line1, = plt.plot(parameter_values, train_results, 'b', label=\"Train AUC\")\n",
    "#     line2, = plt.plot(parameter_values, test_results, 'r', label=\"Test AUC\")\n",
    "#     plt.legend(handler_map={line1: HandlerLine2D(numpoints=2)})\n",
    "#     plt.ylabel(\"AUC score\")\n",
    "#     plt.xlabel(tuned_parameter)\n",
    "#     plt.show()"
   ]
  },
  {
   "cell_type": "markdown",
   "metadata": {},
   "source": [
    "#### C"
   ]
  },
  {
   "cell_type": "code",
   "execution_count": 27,
   "metadata": {},
   "outputs": [
    {
     "name": "stderr",
     "output_type": "stream",
     "text": [
      "The default value of gamma will change from 'auto' to 'scale' in version 0.22 to account better for unscaled features. Set gamma explicitly to 'auto' or 'scale' to avoid this warning.\n",
      "The default value of gamma will change from 'auto' to 'scale' in version 0.22 to account better for unscaled features. Set gamma explicitly to 'auto' or 'scale' to avoid this warning.\n",
      "The default value of gamma will change from 'auto' to 'scale' in version 0.22 to account better for unscaled features. Set gamma explicitly to 'auto' or 'scale' to avoid this warning.\n",
      "The default value of gamma will change from 'auto' to 'scale' in version 0.22 to account better for unscaled features. Set gamma explicitly to 'auto' or 'scale' to avoid this warning.\n",
      "The default value of gamma will change from 'auto' to 'scale' in version 0.22 to account better for unscaled features. Set gamma explicitly to 'auto' or 'scale' to avoid this warning.\n",
      "The default value of gamma will change from 'auto' to 'scale' in version 0.22 to account better for unscaled features. Set gamma explicitly to 'auto' or 'scale' to avoid this warning.\n",
      "The default value of gamma will change from 'auto' to 'scale' in version 0.22 to account better for unscaled features. Set gamma explicitly to 'auto' or 'scale' to avoid this warning.\n",
      "The default value of gamma will change from 'auto' to 'scale' in version 0.22 to account better for unscaled features. Set gamma explicitly to 'auto' or 'scale' to avoid this warning.\n",
      "The default value of gamma will change from 'auto' to 'scale' in version 0.22 to account better for unscaled features. Set gamma explicitly to 'auto' or 'scale' to avoid this warning.\n",
      "The default value of gamma will change from 'auto' to 'scale' in version 0.22 to account better for unscaled features. Set gamma explicitly to 'auto' or 'scale' to avoid this warning.\n",
      "The default value of gamma will change from 'auto' to 'scale' in version 0.22 to account better for unscaled features. Set gamma explicitly to 'auto' or 'scale' to avoid this warning.\n",
      "The default value of gamma will change from 'auto' to 'scale' in version 0.22 to account better for unscaled features. Set gamma explicitly to 'auto' or 'scale' to avoid this warning.\n",
      "The default value of gamma will change from 'auto' to 'scale' in version 0.22 to account better for unscaled features. Set gamma explicitly to 'auto' or 'scale' to avoid this warning.\n",
      "The default value of gamma will change from 'auto' to 'scale' in version 0.22 to account better for unscaled features. Set gamma explicitly to 'auto' or 'scale' to avoid this warning.\n",
      "The default value of gamma will change from 'auto' to 'scale' in version 0.22 to account better for unscaled features. Set gamma explicitly to 'auto' or 'scale' to avoid this warning.\n",
      "The default value of gamma will change from 'auto' to 'scale' in version 0.22 to account better for unscaled features. Set gamma explicitly to 'auto' or 'scale' to avoid this warning.\n",
      "The default value of gamma will change from 'auto' to 'scale' in version 0.22 to account better for unscaled features. Set gamma explicitly to 'auto' or 'scale' to avoid this warning.\n",
      "The default value of gamma will change from 'auto' to 'scale' in version 0.22 to account better for unscaled features. Set gamma explicitly to 'auto' or 'scale' to avoid this warning.\n",
      "The default value of gamma will change from 'auto' to 'scale' in version 0.22 to account better for unscaled features. Set gamma explicitly to 'auto' or 'scale' to avoid this warning.\n",
      "The default value of gamma will change from 'auto' to 'scale' in version 0.22 to account better for unscaled features. Set gamma explicitly to 'auto' or 'scale' to avoid this warning.\n",
      "The default value of gamma will change from 'auto' to 'scale' in version 0.22 to account better for unscaled features. Set gamma explicitly to 'auto' or 'scale' to avoid this warning.\n",
      "The default value of gamma will change from 'auto' to 'scale' in version 0.22 to account better for unscaled features. Set gamma explicitly to 'auto' or 'scale' to avoid this warning.\n"
     ]
    },
    {
     "data": {
      "image/png": "[encoded data removed]",
      "text/plain": [
       "<Figure size 432x288 with 1 Axes>"
      ]
     },
     "metadata": {
      "needs_background": "light"
     },
     "output_type": "display_data"
    }
   ],
   "source": [
    "model_parameter_tuning('svm','C',[0.001, 0.01, 0.1, 2, 8, 32, 64, 128, 512, 1024, 2048\n",
    "# C: 500"
   ]
  },
  {
   "cell_type": "markdown",
   "metadata": {},
   "source": [
    "#### gamma"
   ]
  },
  {
   "cell_type": "code",
   "execution_count": 28,
   "metadata": {},
   "outputs": [],
   "source": [
    "# svm_parameter_tuning('gamma',['scale', 'auto'])"
   ]
  },
  {
   "cell_type": "markdown",
   "metadata": {},
   "source": [
    "#### kernals"
   ]
  },
  {
   "cell_type": "code",
   "execution_count": 29,
   "metadata": {},
   "outputs": [],
   "source": [
    "# no need to tune\n",
    "# svm_parameter_tuning('tol',[0.1, 0.01, 0.001, 0.0001])"
   ]
  },
  {
   "cell_type": "code",
   "execution_count": 31,
   "metadata": {},
   "outputs": [
    {
     "name": "stderr",
     "output_type": "stream",
     "text": [
      "The default value of gamma will change from 'auto' to 'scale' in version 0.22 to account better for unscaled features. Set gamma explicitly to 'auto' or 'scale' to avoid this warning.\n",
      "The default value of gamma will change from 'auto' to 'scale' in version 0.22 to account better for unscaled features. Set gamma explicitly to 'auto' or 'scale' to avoid this warning.\n",
      "The default value of gamma will change from 'auto' to 'scale' in version 0.22 to account better for unscaled features. Set gamma explicitly to 'auto' or 'scale' to avoid this warning.\n",
      "The default value of gamma will change from 'auto' to 'scale' in version 0.22 to account better for unscaled features. Set gamma explicitly to 'auto' or 'scale' to avoid this warning.\n",
      "The default value of gamma will change from 'auto' to 'scale' in version 0.22 to account better for unscaled features. Set gamma explicitly to 'auto' or 'scale' to avoid this warning.\n",
      "The default value of gamma will change from 'auto' to 'scale' in version 0.22 to account better for unscaled features. Set gamma explicitly to 'auto' or 'scale' to avoid this warning.\n"
     ]
    },
    {
     "data": {
      "image/png": "[encoded data removed]",
      "text/plain": [
       "<Figure size 432x288 with 1 Axes>"
      ]
     },
     "metadata": {
      "needs_background": "light"
     },
     "output_type": "display_data"
    }
   ],
   "source": [
    "# other kernals SVM\n",
    "model_parameter_tuning('svm','kernel',['linear', 'poly', 'rbf', 'sigmoid'])\n",
    "# kernel: poly/rbf/sigmoid"
   ]
  },
  {
   "cell_type": "markdown",
   "metadata": {},
   "source": [
    "### GBDT"
   ]
  },
  {
   "cell_type": "code",
   "execution_count": 32,
   "metadata": {},
   "outputs": [],
   "source": [
    "# from sklearn.ensemble import GradientBoostingClassifier\n",
    "\n",
    "# def gbdt_parameter_tuning(tuned_parameter, parameter_values):\n",
    "#     train_results = []\n",
    "#     test_results = []\n",
    "\n",
    "#     for value in parameter_values:\n",
    "#         clf = GradientBoostingClassifier(**{tuned_parameter: value})\n",
    "#         clf.fit(X_train, y_train)\n",
    "#         train_pred = clf.predict(X_train)\n",
    "#         false_positive_rate, true_positive_rate, thresholds = roc_curve(y_train, train_pred)\n",
    "#         roc_auc = auc(false_positive_rate, true_positive_rate)\n",
    "#         train_results.append(roc_auc)\n",
    "\n",
    "#         y_pred = clf.predict(X_test)\n",
    "#         false_positive_rate, true_positive_rate, thresholds = roc_curve(y_test, y_pred)\n",
    "#         roc_auc = auc(false_positive_rate, true_positive_rate)\n",
    "#         test_results.append(roc_auc)\n",
    "\n",
    "#     line1, = plt.plot(parameter_values, train_results, 'b', label=\"Train AUC\")\n",
    "#     line2, = plt.plot(parameter_values, test_results, 'r', label=\"Test AUC\")\n",
    "#     plt.legend(handler_map={line1: HandlerLine2D(numpoints=2)})\n",
    "#     plt.ylabel(\"AUC score\")\n",
    "#     plt.xlabel(tuned_parameter)\n",
    "#     plt.show()"
   ]
  },
  {
   "cell_type": "markdown",
   "metadata": {},
   "source": [
    "#### Learning rate"
   ]
  },
  {
   "cell_type": "code",
   "execution_count": 33,
   "metadata": {},
   "outputs": [
    {
     "data": {
      "image/png": "[encoded data removed]",
      "text/plain": [
       "<Figure size 432x288 with 1 Axes>"
      ]
     },
     "metadata": {
      "needs_background": "light"
     },
     "output_type": "display_data"
    }
   ],
   "source": [
    "model_parameter_tuning('gbdt','learning_rate',[2.0, 1.50, 1.25, 1, 0.5, 0.25, 0.1, 0.05, 0.01])\n",
    "# learning_rate: 0.25"
   ]
  },
  {
   "cell_type": "markdown",
   "metadata": {},
   "source": [
    "#### n_estimators"
   ]
  },
  {
   "cell_type": "code",
   "execution_count": 34,
   "metadata": {},
   "outputs": [
    {
     "data": {
      "image/png": "[encoded data removed]",
      "text/plain": [
       "<Figure size 432x288 with 1 Axes>"
      ]
     },
     "metadata": {
      "needs_background": "light"
     },
     "output_type": "display_data"
    }
   ],
   "source": [
    "# need to set large range\n",
    "model_parameter_tuning('gbdt','n_estimators',[100, 200, 500, 1000])\n",
    "# n_estimators: 500"
   ]
  },
  {
   "cell_type": "markdown",
   "metadata": {},
   "source": [
    "#### min_samples_split"
   ]
  },
  {
   "cell_type": "code",
   "execution_count": 35,
   "metadata": {},
   "outputs": [],
   "source": [
    "min_samples_splits = np.linspace(0.1, 1.0, 10, endpoint=True)"
   ]
  },
  {
   "cell_type": "code",
   "execution_count": 36,
   "metadata": {},
   "outputs": [
    {
     "data": {
      "image/png": "[encoded data removed]",
      "text/plain": [
       "<Figure size 432x288 with 1 Axes>"
      ]
     },
     "metadata": {
      "needs_background": "light"
     },
     "output_type": "display_data"
    }
   ],
   "source": [
    "model_parameter_tuning('gbdt','min_samples_split',min_samples_splits)\n",
    "# min_samples_split: 0.6"
   ]
  },
  {
   "cell_type": "markdown",
   "metadata": {},
   "source": [
    "#### max features"
   ]
  },
  {
   "cell_type": "code",
   "execution_count": 37,
   "metadata": {},
   "outputs": [],
   "source": [
    "# no need to tune\n",
    "max_features = list(range(1,X_train.shape[1]))"
   ]
  },
  {
   "cell_type": "code",
   "execution_count": 39,
   "metadata": {},
   "outputs": [],
   "source": [
    "# model_parameter_tuning('gbdt','max_features',max_features)"
   ]
  }
 ],
 "metadata": {
  "kernelspec": {
   "display_name": "Python 3",
   "language": "python",
   "name": "python3"
  },
  "language_info": {
   "codemirror_mode": {
    "name": "ipython",
    "version": 3
   },
   "file_extension": ".py",
   "mimetype": "text/x-python",
   "name": "python",
   "nbconvert_exporter": "python",
   "pygments_lexer": "ipython3",
   "version": "3.7.3"
  }
 },
 "nbformat": 4,
 "nbformat_minor": 4
}
