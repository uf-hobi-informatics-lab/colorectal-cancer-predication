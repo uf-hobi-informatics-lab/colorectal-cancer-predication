{
 "cells": [
  {
   "cell_type": "code",
   "execution_count": 1,
   "metadata": {},
   "outputs": [],
   "source": [
    "## Authors:     Michael Quillen & Max Parker; M.D. Candidates @ University of Florida\n",
    "## Project:     'Towards prediction of CRC in patients under the age of 50'\n",
    "## PIs:         Dr. Thomas George, MD; Dr. Jiang Bian, PhD\n",
    "## \n",
    "## **base code adapted from Dr. Xi Yang, PhD project: 'Early Prediction of Alzheimer's Disease and Related Dementias\n",
    "##                                                          Using Electronic Health Records'"
   ]
  },
  {
   "cell_type": "code",
   "execution_count": 2,
   "metadata": {},
   "outputs": [],
   "source": [
    "import numpy as np\n",
    "import pandas as pd\n",
    "from pathlib import Path"
   ]
  },
  {
   "cell_type": "code",
   "execution_count": 3,
   "metadata": {},
   "outputs": [],
   "source": [
    "import time\n",
    "import os\n",
    "import sys\n",
    "import re \n",
    "from collections import Counter, defaultdict\n",
    "from concurrent.futures import ProcessPoolExecutor, wait\n",
    "from functools import partial\n",
    "import mmap\n",
    "import json\n",
    "import pickle as pkl\n",
    "import gc\n",
    "import logging\n",
    "from tqdm import tqdm\n",
    "CPU_COUNT=9"
   ]
  },
  {
   "cell_type": "code",
   "execution_count": 4,
   "metadata": {},
   "outputs": [],
   "source": [
    "def pkl_dump(data, file):\n",
    "    with open(file, \"wb\") as fw:\n",
    "        pkl.dump(data, fw)\n",
    "\n",
    "        \n",
    "def pkl_load(file):\n",
    "    with open(file, \"rb\") as fr:\n",
    "        data = pkl.load(fr)\n",
    "    return data\n",
    "\n",
    "\n",
    "def pkl4_dump(data, file):\n",
    "    with open(file, \"wb\") as fw:\n",
    "        pkl.dump(data, fw, pkl.HIGHEST_PROTOCOL)\n",
    "\n",
    "        \n",
    "def pkl4_load(file):\n",
    "    with open(file, \"rb\") as fr:\n",
    "        data = pkl.load(fr)\n",
    "    return data"
   ]
  },
  {
   "cell_type": "markdown",
   "metadata": {},
   "source": [
    "# Case_Control"
   ]
  },
  {
   "cell_type": "code",
   "execution_count": 5,
   "metadata": {},
   "outputs": [
    {
     "data": {
      "text/plain": [
       "'/mnt/data1/chong/2021-CRC/updated_data/psm_result'"
      ]
     },
     "execution_count": 5,
     "metadata": {},
     "output_type": "execute_result"
    }
   ],
   "source": [
    "os.chdir('/mnt/data1/chong/2021-CRC/updated_data/psm_result/')\n",
    "os.getcwd()\n",
    "#case_control = pd.read_csv('DATA_v2/matched_case_control.csv')\n",
    "#case_control[case_control.has_CRC ==1].head()"
   ]
  },
  {
   "cell_type": "code",
   "execution_count": 6,
   "metadata": {},
   "outputs": [
    {
     "name": "stdout",
     "output_type": "stream",
     "text": [
      "(4103, 22)\n"
     ]
    }
   ],
   "source": [
    "case_control_CC_01yr = pd.read_csv(\"matched_case_control_CC_01yr.csv\")\n",
    "case_control_CC_01yr[case_control_CC_01yr.has_CRC ==1].head()\n",
    "print(case_control_CC_01yr.shape)"
   ]
  },
  {
   "cell_type": "code",
   "execution_count": 7,
   "metadata": {},
   "outputs": [
    {
     "name": "stdout",
     "output_type": "stream",
     "text": [
      "(2236, 22)\n"
     ]
    }
   ],
   "source": [
    "case_control_CC_3yr = pd.read_csv(\"matched_case_control_CC_3yr.csv\")\n",
    "case_control_CC_3yr[case_control_CC_3yr.has_CRC ==1].head()\n",
    "print(case_control_CC_3yr.shape)"
   ]
  },
  {
   "cell_type": "code",
   "execution_count": 8,
   "metadata": {},
   "outputs": [
    {
     "name": "stdout",
     "output_type": "stream",
     "text": [
      "(892, 22)\n"
     ]
    }
   ],
   "source": [
    "case_control_CC_5yr = pd.read_csv(\"matched_case_control_CC_5yr.csv\")\n",
    "case_control_CC_5yr[case_control_CC_5yr.has_CRC ==1].head()\n",
    "print(case_control_CC_5yr.shape)"
   ]
  },
  {
   "cell_type": "code",
   "execution_count": 9,
   "metadata": {},
   "outputs": [],
   "source": [
    "# initialize global data variable\n",
    "\n",
    "global_data_CC_01yr = dict()\n",
    "global_data_CC_3yr = dict()\n",
    "global_data_CC_5yr = dict()\n"
   ]
  },
  {
   "cell_type": "code",
   "execution_count": 10,
   "metadata": {},
   "outputs": [],
   "source": [
    "# function which puts cases and control into global data\n",
    "\n",
    "def f_case_control01(x):\n",
    "    pid = x['PATID']\n",
    "    has_CRC = x['has_CRC']\n",
    "    age = x['age_index']\n",
    "    if has_CRC:\n",
    "        idxd = str(x['index_CRC']).split(\" \")[0]\n",
    "    else:\n",
    "        idxd = str(x['ref_index_date']).split(\" \")[0]\n",
    "    global_data_CC_01yr[pid] = dict()\n",
    "    global_data_CC_01yr[pid]['index_date'] = idxd\n",
    "    global_data_CC_01yr[pid]['age'] = age\n",
    "    global_data_CC_01yr[pid]['has_CRC'] = has_CRC\n",
    "\n",
    "def f_case_control3(x):\n",
    "    pid = x['PATID']\n",
    "    has_CRC = x['has_CRC']\n",
    "    age = x['age_index']\n",
    "    if has_CRC:\n",
    "        idxd = str(x['index_CRC']).split(\" \")[0]\n",
    "    else:\n",
    "        idxd = str(x['ref_index_date']).split(\" \")[0]\n",
    "    global_data_CC_3yr[pid] = dict()\n",
    "    global_data_CC_3yr[pid]['index_date'] = idxd\n",
    "    global_data_CC_3yr[pid]['age'] = age\n",
    "    global_data_CC_3yr[pid]['has_CRC'] = has_CRC\n",
    "\n",
    "def f_case_control5(x):\n",
    "    pid = x['PATID']\n",
    "    has_CRC = x['has_CRC']\n",
    "    age = x['age_index']\n",
    "    if has_CRC:\n",
    "        idxd = str(x['index_CRC']).split(\" \")[0]\n",
    "    else:\n",
    "        idxd = str(x['ref_index_date']).split(\" \")[0]\n",
    "    global_data_CC_5yr[pid] = dict()\n",
    "    global_data_CC_5yr[pid]['index_date'] = idxd\n",
    "    global_data_CC_5yr[pid]['age'] = age\n",
    "    global_data_CC_5yr[pid]['has_CRC'] = has_CRC"
   ]
  },
  {
   "cell_type": "code",
   "execution_count": 11,
   "metadata": {},
   "outputs": [],
   "source": [
    "# puts cases and controls into global data\n",
    "os.chdir('/mnt/data1/chong/2021-CRC/updated_data/agg_files')\n",
    "os.getcwd()\n",
    "x01 = case_control_CC_01yr.apply(f_case_control01, axis=1)\n",
    "x3 = case_control_CC_3yr.apply(f_case_control3, axis=1)\n",
    "x5 = case_control_CC_5yr.apply(f_case_control5, axis=1)\n",
    "\n",
    "pkl_dump(global_data_CC_01yr, \"aggCC01.pkl\")\n",
    "#global_data_CC_01yr['11e750610fb3ce06bc3a0050569ea8fb'], len(global_data_CC_01yr)"
   ]
  },
  {
   "cell_type": "code",
   "execution_count": 12,
   "metadata": {},
   "outputs": [],
   "source": [
    "pkl_dump(global_data_CC_3yr, \"aggCC3.pkl\")\n",
    "#global_data_CC_3yr['11e750610fb3ce06bc3a0050569ea8fb'], len(global_data_CC_3yr)"
   ]
  },
  {
   "cell_type": "code",
   "execution_count": 13,
   "metadata": {},
   "outputs": [],
   "source": [
    "pkl_dump(global_data_CC_5yr, \"aggCC5.pkl\")\n",
    "#global_data_CC_5yr['11e750610fb3ce06bc3a0050569ea8fb'], len(global_data_CC_5yr)"
   ]
  },
  {
   "cell_type": "markdown",
   "metadata": {},
   "source": [
    "# Data Preprocessing"
   ]
  },
  {
   "cell_type": "markdown",
   "metadata": {},
   "source": [
    "#### ENCOUNTERS"
   ]
  },
  {
   "cell_type": "code",
   "execution_count": 14,
   "metadata": {},
   "outputs": [
    {
     "data": {
      "text/html": [
       "<div>\n",
       "<style scoped>\n",
       "    .dataframe tbody tr th:only-of-type {\n",
       "        vertical-align: middle;\n",
       "    }\n",
       "\n",
       "    .dataframe tbody tr th {\n",
       "        vertical-align: top;\n",
       "    }\n",
       "\n",
       "    .dataframe thead th {\n",
       "        text-align: right;\n",
       "    }\n",
       "</style>\n",
       "<table border=\"1\" class=\"dataframe\">\n",
       "  <thead>\n",
       "    <tr style=\"text-align: right;\">\n",
       "      <th></th>\n",
       "      <th>PATID</th>\n",
       "      <th>ADMIT_DATE</th>\n",
       "    </tr>\n",
       "  </thead>\n",
       "  <tbody>\n",
       "    <tr>\n",
       "      <th>0</th>\n",
       "      <td>11e75061a5e8c7c8a3fa0050569ea8fb</td>\n",
       "      <td>2013-04-19</td>\n",
       "    </tr>\n",
       "    <tr>\n",
       "      <th>1</th>\n",
       "      <td>11e7506100fa593488ed0050569ea8fb</td>\n",
       "      <td>2017-09-05</td>\n",
       "    </tr>\n",
       "    <tr>\n",
       "      <th>2</th>\n",
       "      <td>11e75061216d13e68cac0050569ea8fb</td>\n",
       "      <td>2014-02-15</td>\n",
       "    </tr>\n",
       "    <tr>\n",
       "      <th>3</th>\n",
       "      <td>11e7506101fb9c9e9be90050569ea8fb</td>\n",
       "      <td>2012-08-21</td>\n",
       "    </tr>\n",
       "    <tr>\n",
       "      <th>4</th>\n",
       "      <td>11e75060c0e2203e94360050569ea8fb</td>\n",
       "      <td>2018-08-02</td>\n",
       "    </tr>\n",
       "  </tbody>\n",
       "</table>\n",
       "</div>"
      ],
      "text/plain": [
       "                              PATID  ADMIT_DATE\n",
       "0  11e75061a5e8c7c8a3fa0050569ea8fb  2013-04-19\n",
       "1  11e7506100fa593488ed0050569ea8fb  2017-09-05\n",
       "2  11e75061216d13e68cac0050569ea8fb  2014-02-15\n",
       "3  11e7506101fb9c9e9be90050569ea8fb  2012-08-21\n",
       "4  11e75060c0e2203e94360050569ea8fb  2018-08-02"
      ]
     },
     "execution_count": 14,
     "metadata": {},
     "output_type": "execute_result"
    }
   ],
   "source": [
    "os.chdir('/mnt/data1/chong/2021-CRC/original_data/EHRs/')\n",
    "fields = ['PATID','ADMIT_DATE']\n",
    "df_enc = pd.read_csv(\"ENCOUNTER.csv\", dtype =str,skipinitialspace = True, usecols = fields)\n",
    "df_enc.head()"
   ]
  },
  {
   "cell_type": "code",
   "execution_count": 15,
   "metadata": {},
   "outputs": [],
   "source": [
    "# gets first encounter data from ENCOUNTER for each patient\n",
    "enc_dates = dict()\n",
    "for each in df_enc.groupby('PATID'):\n",
    "    pid = each[0]\n",
    "    tmp = list(each[1].sort_values('ADMIT_DATE')['ADMIT_DATE'])\n",
    "    enc_dates[pid] = {\"f_enc\":tmp[0]}"
   ]
  },
  {
   "cell_type": "markdown",
   "metadata": {},
   "source": [
    "#### DEMOGRAPHICS"
   ]
  },
  {
   "cell_type": "code",
   "execution_count": 16,
   "metadata": {},
   "outputs": [],
   "source": [
    "df_dem = pd.read_csv(\"DEMOGRAPHIC.csv\",dtype=str)"
   ]
  },
  {
   "cell_type": "code",
   "execution_count": 17,
   "metadata": {},
   "outputs": [
    {
     "name": "stdout",
     "output_type": "stream",
     "text": [
      "{'M', 'F'}\n",
      "{'NI', 'Y', 'UN', 'N', 'OT', 'R'}\n",
      "{'01', '02', '06', 'NI', 'UN', '07', 'OT', '04', '03', '05'}\n"
     ]
    }
   ],
   "source": [
    "# defining criteria to fill as NaN is demographics with UN\n",
    "print(set(df_dem['SEX'])) # replace sex nan with UN\n",
    "print(set(df_dem['HISPANIC'])) # NI, R => UN\n",
    "print(set(df_dem['RACE'])) # '07', 'NI' => UN\n",
    "et_map = {'NI', 'R'}\n",
    "race_map = {'07', 'NI'}"
   ]
  },
  {
   "cell_type": "code",
   "execution_count": 18,
   "metadata": {},
   "outputs": [],
   "source": [
    "os.chdir('/mnt/data1/chong/2021-CRC/updated_data/agg_files')\n",
    "global_data_CC_01yr = pkl_load(\"aggCC01.pkl\")\n",
    "global_data_CC_3yr = pkl_load(\"aggCC3.pkl\")\n",
    "global_data_CC_5yr = pkl_load(\"aggCC5.pkl\")"
   ]
  },
  {
   "cell_type": "code",
   "execution_count": 19,
   "metadata": {},
   "outputs": [
    {
     "name": "stdout",
     "output_type": "stream",
     "text": [
      "0\n",
      "0\n",
      "0\n"
     ]
    }
   ],
   "source": [
    "print(df_dem['HISPANIC'].isna().sum())\n",
    "print(df_dem['SEX'].isna().sum())\n",
    "print(df_dem['RACE'].isna().sum())"
   ]
  },
  {
   "cell_type": "code",
   "execution_count": 20,
   "metadata": {},
   "outputs": [],
   "source": [
    "# function to fix issues with unknowns in demographics\n",
    "\n",
    "def f_dem01(x):\n",
    "    pid = x['PATID']\n",
    "    if pid in global_data_CC_01yr:\n",
    "        sex = x['SEX']\n",
    "        if pd.isna(sex):\n",
    "            sex = 'UN'\n",
    "        global_data_CC_01yr[pid]['SEX'] = sex\n",
    "        et = x['HISPANIC']\n",
    "        if et in et_map:\n",
    "            et = 'UN'\n",
    "        global_data_CC_01yr[pid]['Hispanic'] = et\n",
    "        race = x['RACE']\n",
    "        if race in race_map:\n",
    "            race = 'UN'\n",
    "        global_data_CC_01yr[pid]['Race'] = race\n",
    "        \n",
    "def f_dem3(x):\n",
    "    pid = x['PATID']\n",
    "    if pid in global_data_CC_3yr:\n",
    "        sex = x['SEX']\n",
    "        if pd.isna(sex):\n",
    "            sex = 'UN'\n",
    "        global_data_CC_3yr[pid]['SEX'] = sex\n",
    "        et = x['HISPANIC']\n",
    "        if et in et_map:\n",
    "            et = 'UN'\n",
    "        global_data_CC_3yr[pid]['Hispanic'] = et\n",
    "        race = x['RACE']\n",
    "        if race in race_map:\n",
    "            race = 'UN'\n",
    "        global_data_CC_3yr[pid]['Race'] = race\n",
    "        \n",
    "def f_dem5(x):\n",
    "    pid = x['PATID']\n",
    "    if pid in global_data_CC_5yr:\n",
    "        sex = x['SEX']\n",
    "        if pd.isna(sex):\n",
    "            sex = 'UN'\n",
    "        global_data_CC_5yr[pid]['SEX'] = sex\n",
    "        et = x['HISPANIC']\n",
    "        if et in et_map:\n",
    "            et = 'UN'\n",
    "        global_data_CC_5yr[pid]['Hispanic'] = et\n",
    "        race = x['RACE']\n",
    "        if race in race_map:\n",
    "            race = 'UN'\n",
    "        global_data_CC_5yr[pid]['Race'] = race"
   ]
  },
  {
   "cell_type": "code",
   "execution_count": 21,
   "metadata": {},
   "outputs": [],
   "source": [
    "# puts demographics data into global data by patient ID\n",
    "xx = df_dem.apply(f_dem01,axis=1)\n",
    "xx = df_dem.apply(f_dem3, axis =1)\n",
    "xx = df_dem.apply(f_dem5, axis=1)\n",
    "\n",
    "#global_data_CC_01yr['11e750610fb3ce06bc3a0050569ea8fb'], len(global_data_CC_01yr)"
   ]
  },
  {
   "cell_type": "code",
   "execution_count": 22,
   "metadata": {},
   "outputs": [],
   "source": [
    "pkl_dump(global_data_CC_01yr, \"aggCC01.pkl\")\n",
    "pkl_dump(global_data_CC_3yr, \"aggCC3.pkl\")\n",
    "pkl_dump(global_data_CC_5yr, \"aggCC5.pkl\")"
   ]
  },
  {
   "cell_type": "markdown",
   "metadata": {},
   "source": [
    "#### DIAGNOSES"
   ]
  },
  {
   "cell_type": "code",
   "execution_count": 23,
   "metadata": {},
   "outputs": [
    {
     "data": {
      "text/html": [
       "<div>\n",
       "<style scoped>\n",
       "    .dataframe tbody tr th:only-of-type {\n",
       "        vertical-align: middle;\n",
       "    }\n",
       "\n",
       "    .dataframe tbody tr th {\n",
       "        vertical-align: top;\n",
       "    }\n",
       "\n",
       "    .dataframe thead th {\n",
       "        text-align: right;\n",
       "    }\n",
       "</style>\n",
       "<table border=\"1\" class=\"dataframe\">\n",
       "  <thead>\n",
       "    <tr style=\"text-align: right;\">\n",
       "      <th></th>\n",
       "      <th>PheCode</th>\n",
       "    </tr>\n",
       "    <tr>\n",
       "      <th>ICD</th>\n",
       "      <th></th>\n",
       "    </tr>\n",
       "  </thead>\n",
       "  <tbody>\n",
       "    <tr>\n",
       "      <th>001</th>\n",
       "      <td>8.0</td>\n",
       "    </tr>\n",
       "    <tr>\n",
       "      <th>001.0</th>\n",
       "      <td>8.0</td>\n",
       "    </tr>\n",
       "    <tr>\n",
       "      <th>001.1</th>\n",
       "      <td>8.0</td>\n",
       "    </tr>\n",
       "    <tr>\n",
       "      <th>001.9</th>\n",
       "      <td>8.0</td>\n",
       "    </tr>\n",
       "    <tr>\n",
       "      <th>002</th>\n",
       "      <td>8.0</td>\n",
       "    </tr>\n",
       "  </tbody>\n",
       "</table>\n",
       "</div>"
      ],
      "text/plain": [
       "      PheCode\n",
       "ICD          \n",
       "001       8.0\n",
       "001.0     8.0\n",
       "001.1     8.0\n",
       "001.9     8.0\n",
       "002       8.0"
      ]
     },
     "execution_count": 23,
     "metadata": {},
     "output_type": "execute_result"
    }
   ],
   "source": [
    "os.chdir('/mnt/data1/chong/2021-CRC/original_data/02_MQ_Pre_Processing_Agg_Files/01_MQ_Mapping_Files')\n",
    "icd2phewas = pd.read_csv(\"icd2phewasfinal.csv\",dtype = str)\n",
    "icd2phewas = icd2phewas[['ICD','PheCode']]\n",
    "icd2phewas = icd2phewas.set_index('ICD')\n",
    "icd2phewas.head()"
   ]
  },
  {
   "cell_type": "code",
   "execution_count": 24,
   "metadata": {},
   "outputs": [],
   "source": [
    "icd2phewas = icd2phewas.PheCode.to_dict()\n",
    "#idc2phewas = dict(zip(icd2phewas.ICD,icd2phewasi))"
   ]
  },
  {
   "cell_type": "code",
   "execution_count": 25,
   "metadata": {},
   "outputs": [
    {
     "data": {
      "text/plain": [
       "(98549, '747.11', '250.24')"
      ]
     },
     "execution_count": 25,
     "metadata": {},
     "output_type": "execute_result"
    }
   ],
   "source": [
    "len(icd2phewas), icd2phewas['745'], icd2phewas['E11.40']"
   ]
  },
  {
   "cell_type": "code",
   "execution_count": 26,
   "metadata": {},
   "outputs": [],
   "source": [
    "os.chdir('/mnt/data1/chong/2021-CRC/updated_data/agg_files')\n",
    "global_data_CC_01yr = pkl_load(\"aggCC01.pkl\")\n",
    "global_data_CC_3yr = pkl_load(\"aggCC3.pkl\")\n",
    "global_data_CC_5yr = pkl_load(\"aggCC5.pkl\")\n",
    "for k in global_data_CC_01yr:\n",
    "    global_data_CC_01yr[k]['diag'] = dict()\n",
    "#print(global_data_CC_01yr['11e750610fb3ce06bc3a0050569ea8fb'])\n",
    "\n",
    "for k in global_data_CC_3yr:\n",
    "    global_data_CC_3yr[k]['diag'] = dict()\n",
    "#print(global_data_CC_3yr['11e750610fb3ce06bc3a0050569ea8fb'])\n",
    "\n",
    "for k in global_data_CC_5yr:\n",
    "    global_data_CC_5yr[k]['diag'] = dict()\n",
    "#print(global_data_CC_5yr['11e750610fb3ce06bc3a0050569ea8fb'])"
   ]
  },
  {
   "cell_type": "code",
   "execution_count": 27,
   "metadata": {},
   "outputs": [],
   "source": [
    "os.chdir('/mnt/data1/chong/2021-CRC/original_data/EHRs/')\n",
    "df_dx = pd.read_csv(\"DIAGNOSIS.csv\", chunksize = 100000, dtype = str)"
   ]
  },
  {
   "cell_type": "code",
   "execution_count": 28,
   "metadata": {},
   "outputs": [],
   "source": [
    "def f_dx01(x):\n",
    "    pid = x['PATID']\n",
    "    if pid in global_data_CC_01yr:\n",
    "        date = x['ADMIT_DATE']\n",
    "        dx = x['DX']\n",
    "        if dx in icd2phewas:\n",
    "            dx = list({icd2phewas[dx]})\n",
    "        else:\n",
    "            dx = [dx]\n",
    "        if date in global_data_CC_01yr[pid]['diag']:\n",
    "            global_data_CC_01yr[pid]['diag'][date].extend(dx)\n",
    "        else:\n",
    "            global_data_CC_01yr[pid]['diag'][date] = dx\n",
    "            \n",
    "def f_dx3(x):\n",
    "    pid = x['PATID']\n",
    "    if pid in global_data_CC_3yr:\n",
    "        date = x['ADMIT_DATE']\n",
    "        dx = x['DX']\n",
    "        if dx in icd2phewas:\n",
    "            dx = list({icd2phewas[dx]})\n",
    "        else:\n",
    "            dx = [dx]\n",
    "        if date in global_data_CC_3yr[pid]['diag']:\n",
    "            global_data_CC_3yr[pid]['diag'][date].extend(dx)\n",
    "        else:\n",
    "            global_data_CC_3yr[pid]['diag'][date] = dx\n",
    "            \n",
    "def f_dx5(x):\n",
    "    pid = x['PATID']\n",
    "    if pid in global_data_CC_5yr:\n",
    "        date = x['ADMIT_DATE']\n",
    "        dx = x['DX']\n",
    "        if dx in icd2phewas:\n",
    "            dx = list({icd2phewas[dx]})\n",
    "        else:\n",
    "            dx = [dx]\n",
    "        if date in global_data_CC_5yr[pid]['diag']:\n",
    "            global_data_CC_5yr[pid]['diag'][date].extend(dx)\n",
    "        else:\n",
    "            global_data_CC_5yr[pid]['diag'][date] = dx"
   ]
  },
  {
   "cell_type": "code",
   "execution_count": 29,
   "metadata": {},
   "outputs": [],
   "source": [
    "for each in df_dx:\n",
    "    xx = each.apply(f_dx01, axis =1)\n",
    "    yy = each.apply(f_dx3, axis =1)\n",
    "    zz = each.apply(f_dx5, axis = 1)"
   ]
  },
  {
   "cell_type": "code",
   "execution_count": 30,
   "metadata": {},
   "outputs": [],
   "source": [
    "os.chdir('/mnt/data1/chong/2021-CRC/updated_data/agg_files')\n",
    "\n",
    "pkl_dump(global_data_CC_01yr, \"aggCC01.pkl\")\n",
    "pkl_dump(global_data_CC_3yr, \"aggCC3.pkl\")\n",
    "pkl_dump(global_data_CC_5yr, \"aggCC5.pkl\")"
   ]
  },
  {
   "cell_type": "markdown",
   "metadata": {},
   "source": [
    "#### PROCEDURE"
   ]
  },
  {
   "cell_type": "code",
   "execution_count": 31,
   "metadata": {},
   "outputs": [
    {
     "data": {
      "text/plain": [
       "(138930, '1')"
      ]
     },
     "execution_count": 31,
     "metadata": {},
     "output_type": "execute_result"
    }
   ],
   "source": [
    "os.chdir('/mnt/data1/chong/2021-CRC/original_data/02_MQ_Pre_Processing_Agg_Files/01_MQ_Mapping_Files')\n",
    "proc2ccs = pkl_load(\"icd2ccs.pkl\")\n",
    "len(proc2ccs), proc2ccs['009B00Z']"
   ]
  },
  {
   "cell_type": "code",
   "execution_count": 32,
   "metadata": {},
   "outputs": [],
   "source": [
    "os.chdir('/mnt/data1/chong/2021-CRC/original_data/EHRs/')\n",
    "for each in pd.read_csv(\"PROCEDURES.csv\", chunksize=5, dtype=str):\n",
    "    x = each\n",
    "    break"
   ]
  },
  {
   "cell_type": "code",
   "execution_count": 33,
   "metadata": {},
   "outputs": [],
   "source": [
    "os.chdir('/mnt/data1/chong/2021-CRC/updated_data/agg_files')\n",
    "global_data_CC_01yr = pkl_load(\"aggCC01.pkl\")\n",
    "global_data_CC_3yr = pkl_load(\"aggCC3.pkl\")\n",
    "global_data_CC_5yr = pkl_load(\"aggCC5.pkl\")"
   ]
  },
  {
   "cell_type": "code",
   "execution_count": 34,
   "metadata": {},
   "outputs": [],
   "source": [
    "for k in global_data_CC_01yr:\n",
    "    global_data_CC_01yr[k]['proc'] = dict()\n",
    "#print(global_data_CC_01yr['11e750610fb3ce06bc3a0050569ea8fb'].keys())\n",
    "\n",
    "for k in global_data_CC_3yr:\n",
    "    global_data_CC_3yr[k]['proc'] = dict()\n",
    "#print(global_data_CC_3yr['11e750610fb3ce06bc3a0050569ea8fb'].keys())\n",
    "\n",
    "for k in global_data_CC_5yr:\n",
    "    global_data_CC_5yr[k]['proc'] = dict()\n",
    "#print(global_data_CC_5yr['11e750610fb3ce06bc3a0050569ea8fb'].keys())"
   ]
  },
  {
   "cell_type": "code",
   "execution_count": 35,
   "metadata": {},
   "outputs": [],
   "source": [
    "def f_px01(x):\n",
    "    pid = x['PATID']\n",
    "    if pid in global_data_CC_01yr:\n",
    "        date = x['PX_DATE']\n",
    "        dx = x['PX']\n",
    "        if dx in proc2ccs:\n",
    "            dx = list({proc2ccs[dx]})\n",
    "        else:\n",
    "            dx = [dx]\n",
    "        if date in global_data_CC_01yr[pid]['proc']:\n",
    "            global_data_CC_01yr[pid]['proc'][date].extend(dx)\n",
    "        else:\n",
    "            global_data_CC_01yr[pid]['proc'][date] = dx\n",
    "            \n",
    "def f_px3(x):\n",
    "    pid = x['PATID']\n",
    "    if pid in global_data_CC_3yr:\n",
    "        date = x['PX_DATE']\n",
    "        dx = x['PX']\n",
    "        if dx in proc2ccs:\n",
    "            dx = list({proc2ccs[dx]})\n",
    "        else:\n",
    "            dx = [dx]\n",
    "        if date in global_data_CC_3yr[pid]['proc']:\n",
    "            global_data_CC_3yr[pid]['proc'][date].extend(dx)\n",
    "        else:\n",
    "            global_data_CC_3yr[pid]['proc'][date] = dx\n",
    "\n",
    "def f_px5(x):\n",
    "    pid = x['PATID']\n",
    "    if pid in global_data_CC_5yr:\n",
    "        date = x['PX_DATE']\n",
    "        dx = x['PX']\n",
    "        if dx in proc2ccs:\n",
    "            dx = list({proc2ccs[dx]})\n",
    "        else:\n",
    "            dx = [dx]\n",
    "        if date in global_data_CC_5yr[pid]['proc']:\n",
    "            global_data_CC_5yr[pid]['proc'][date].extend(dx)\n",
    "        else:\n",
    "            global_data_CC_5yr[pid]['proc'][date] = dx"
   ]
  },
  {
   "cell_type": "code",
   "execution_count": 36,
   "metadata": {},
   "outputs": [],
   "source": [
    "os.chdir('/mnt/data1/chong/2021-CRC/original_data/EHRs/')\n",
    "df_proc = pd.read_csv(\"PROCEDURES.csv\", chunksize=100000, dtype=str)"
   ]
  },
  {
   "cell_type": "code",
   "execution_count": 37,
   "metadata": {},
   "outputs": [],
   "source": [
    "os.chdir('/mnt/data1/chong/2021-CRC/updated_data/agg_files')\n",
    "for each in df_proc:\n",
    "    xx = each.apply(f_px01, axis=1)\n",
    "    xx = each.apply(f_px3, axis=1)\n",
    "    xx = each.apply(f_px5, axis=1)"
   ]
  },
  {
   "cell_type": "code",
   "execution_count": 38,
   "metadata": {},
   "outputs": [],
   "source": [
    "pkl_dump(global_data_CC_01yr, \"aggCC01.pkl\")\n",
    "pkl_dump(global_data_CC_3yr, \"aggCC3.pkl\")\n",
    "pkl_dump(global_data_CC_5yr, \"aggCC5.pkl\")"
   ]
  },
  {
   "cell_type": "markdown",
   "metadata": {},
   "source": [
    "#### MEDICATION"
   ]
  },
  {
   "cell_type": "code",
   "execution_count": 39,
   "metadata": {},
   "outputs": [],
   "source": [
    "os.chdir('/mnt/data1/chong/2021-CRC/original_data/02_MQ_Pre_Processing_Agg_Files/01_MQ_Mapping_Files')\n",
    "r2i = pkl_load(\"rxcode2ingred.pkl\")"
   ]
  },
  {
   "cell_type": "code",
   "execution_count": 42,
   "metadata": {},
   "outputs": [],
   "source": [
    "os.chdir('/mnt/data1/chong/2021-CRC/original_data/EHRs')\n",
    "for each in pd.read_csv(\"PRESCRIBING.csv\",chunksize=5, dtype =str):\n",
    "    x = each\n",
    "    break\n",
    "    \n",
    "os.chdir('/mnt/data1/chong/2021-CRC/updated_data/agg_files')\n",
    "global_data_CC_01yr = pkl_load(\"aggCC01.pkl\")\n",
    "global_data_CC_3yr = pkl_load(\"aggCC3.pkl\")\n",
    "global_data_CC_5yr = pkl_load(\"aggCC5.pkl\")"
   ]
  },
  {
   "cell_type": "code",
   "execution_count": 43,
   "metadata": {},
   "outputs": [],
   "source": [
    "#create keys for prescribing and dispensing medications for each patient\n",
    "\n",
    "for k in global_data_CC_01yr:\n",
    "    global_data_CC_01yr[k]['med_p'] = dict()\n",
    "    global_data_CC_01yr[k]['med_d'] = dict()\n",
    "    \n",
    "#global_data_CC_01yr['11e750610fb3ce06bc3a0050569ea8fb'].keys()"
   ]
  },
  {
   "cell_type": "code",
   "execution_count": 44,
   "metadata": {},
   "outputs": [],
   "source": [
    "for k in global_data_CC_3yr:\n",
    "    global_data_CC_3yr[k]['med_p'] = dict()\n",
    "    global_data_CC_3yr[k]['med_d'] = dict()\n",
    "    \n",
    "#global_data_CC_3yr['11e750610fb3ce06bc3a0050569ea8fb'].keys()"
   ]
  },
  {
   "cell_type": "code",
   "execution_count": 45,
   "metadata": {},
   "outputs": [],
   "source": [
    "for k in global_data_CC_5yr:\n",
    "    global_data_CC_5yr[k]['med_p'] = dict()\n",
    "    global_data_CC_5yr[k]['med_d'] = dict()\n",
    "    \n",
    "#global_data_CC_5yr['11e750610fb3ce06bc3a0050569ea8fb'].keys()"
   ]
  },
  {
   "cell_type": "code",
   "execution_count": 46,
   "metadata": {},
   "outputs": [],
   "source": [
    "# read in prescibing data\n",
    "\n",
    "os.chdir('/mnt/data1/chong/2021-CRC/original_data/EHRs')\n",
    "px_df = pd.read_csv(\"PRESCRIBING.csv\", chunksize=100000, dtype=str)\n",
    "ndc2rxcui = dict()"
   ]
  },
  {
   "cell_type": "code",
   "execution_count": 47,
   "metadata": {},
   "outputs": [],
   "source": [
    "# input prescibing data into aggregate data function\n",
    "\n",
    "def px01(x):\n",
    "    pid = x['PATID']\n",
    "    ndc = x['RAW_RX_NDC']\n",
    "    dx = x['RXNORM_CUI']\n",
    "    if pd.isna(dx):\n",
    "        return\n",
    "    ndc2rxcui[ndc] = dx\n",
    "    if pid in global_data_CC_01yr:\n",
    "        date = x['RX_ORDER_DATE']\n",
    "        if pd.isna(date):\n",
    "            date = x['RX_START_DATE']\n",
    "        if dx in r2i:\n",
    "            dx = list(r2i[dx])\n",
    "        else:\n",
    "            dx = [dx]\n",
    "        if date in global_data_CC_01yr[pid]['med_p']:\n",
    "            global_data_CC_01yr[pid]['med_p'][date].extend(dx)\n",
    "        else:\n",
    "            global_data_CC_01yr[pid]['med_p'][date] = dx\n",
    "\n",
    "def px3(x):\n",
    "    pid = x['PATID']\n",
    "    ndc = x['RAW_RX_NDC']\n",
    "    dx = x['RXNORM_CUI']\n",
    "    if pd.isna(dx):\n",
    "        return\n",
    "    ndc2rxcui[ndc] = dx\n",
    "    if pid in global_data_CC_3yr:\n",
    "        date = x['RX_ORDER_DATE']\n",
    "        if pd.isna(date):\n",
    "            date = x['RX_START_DATE']\n",
    "        if dx in r2i:\n",
    "            dx = list(r2i[dx])\n",
    "        else:\n",
    "            dx = [dx]\n",
    "        if date in global_data_CC_3yr[pid]['med_p']:\n",
    "            global_data_CC_3yr[pid]['med_p'][date].extend(dx)\n",
    "        else:\n",
    "            global_data_CC_3yr[pid]['med_p'][date] = dx\n",
    "\n",
    "def px5(x):\n",
    "    pid = x['PATID']\n",
    "    ndc = x['RAW_RX_NDC']\n",
    "    dx = x['RXNORM_CUI']\n",
    "    if pd.isna(dx):\n",
    "        return\n",
    "    ndc2rxcui[ndc] = dx\n",
    "    if pid in global_data_CC_5yr:\n",
    "        date = x['RX_ORDER_DATE']\n",
    "        if pd.isna(date):\n",
    "            date = x['RX_START_DATE']\n",
    "        if dx in r2i:\n",
    "            dx = list(r2i[dx])\n",
    "        else:\n",
    "            dx = [dx]\n",
    "        if date in global_data_CC_5yr[pid]['med_p']:\n",
    "            global_data_CC_5yr[pid]['med_p'][date].extend(dx)\n",
    "        else:\n",
    "            global_data_CC_5yr[pid]['med_p'][date] = dx"
   ]
  },
  {
   "cell_type": "code",
   "execution_count": 48,
   "metadata": {},
   "outputs": [],
   "source": [
    "for each in px_df:\n",
    "    xx = each.apply(px01, axis=1)\n",
    "    xx = each.apply(px3, axis=1)\n",
    "    xx = each.apply(px5, axis=1)"
   ]
  },
  {
   "cell_type": "code",
   "execution_count": 49,
   "metadata": {},
   "outputs": [],
   "source": [
    "os.chdir('/mnt/data1/chong/2021-CRC/updated_data/agg_files')\n",
    "pkl_dump(global_data_CC_01yr, \"aggCC01.pkl\")\n",
    "pkl_dump(global_data_CC_3yr, \"aggCC3.pkl\")\n",
    "pkl_dump(global_data_CC_5yr, \"aggCC5.pkl\")"
   ]
  },
  {
   "cell_type": "markdown",
   "metadata": {},
   "source": [
    "#### DISPENSING"
   ]
  },
  {
   "cell_type": "code",
   "execution_count": 50,
   "metadata": {},
   "outputs": [],
   "source": [
    "# view dispensing data\n",
    "os.chdir('/mnt/data1/chong/2021-CRC/original_data/EHRs')\n",
    "for each in pd.read_csv(\"DISPENSING.csv\", chunksize=5, dtype=str):\n",
    "    x = each\n",
    "    break"
   ]
  },
  {
   "cell_type": "code",
   "execution_count": 51,
   "metadata": {},
   "outputs": [],
   "source": [
    "os.chdir('/mnt/data1/chong/2021-CRC/original_data/02_MQ_Pre_Processing_Agg_Files/01_MQ_Mapping_Files')\n",
    "n2r = pkl_load(\"ndc2rxcui.pkl\")\n",
    "\n",
    "for k, v in n2r.items():\n",
    "    if k not in ndc2rxcui:\n",
    "         ndc2rxcui[k] = v\n",
    "\n",
    "pkl_dump(ndc2rxcui, \"ndc2rxcuifinalCC.pkl\")"
   ]
  },
  {
   "cell_type": "code",
   "execution_count": 52,
   "metadata": {},
   "outputs": [],
   "source": [
    "os.chdir('/mnt/data1/chong/2021-CRC/original_data/EHRs')\n",
    "\n",
    "df_dp = pd.read_csv(\"DISPENSING.csv\", chunksize=1000000,dtype =str)\n",
    "\n",
    "unmapped_ndc = set()\n",
    "\n",
    "def unmapndcs(x):\n",
    "    ndc = x['NDC']\n",
    "    if not (ndc in ndc2rxcui or '0' + ndc in ndc2rxcui):\n",
    "        unmapped_ndc.add(ndc)\n",
    "\n",
    "for each in df_dp:\n",
    "    each.apply(unmapndcs,axis =1)"
   ]
  },
  {
   "cell_type": "code",
   "execution_count": 53,
   "metadata": {},
   "outputs": [],
   "source": [
    "os.chdir('/mnt/data1/chong/2021-CRC/updated_data/agg_files')\n",
    "global_data_CC_01yr = pkl_load(\"aggCC01.pkl\")\n",
    "global_data_CC_3yr = pkl_load(\"aggCC3.pkl\")\n",
    "global_data_CC_5yr = pkl_load(\"aggCC5.pkl\")"
   ]
  },
  {
   "cell_type": "code",
   "execution_count": 54,
   "metadata": {},
   "outputs": [],
   "source": [
    "def fx_disp01(x):\n",
    "    pid = x['PATID']\n",
    "    if pid in global_data_CC_01yr:\n",
    "        ndc = x['NDC']\n",
    "        mndc = '0' + ndc\n",
    "        if ndc in ndc2rxcui:\n",
    "            dx = ndc2rxcui[ndc]\n",
    "        elif mndc in ndc2rxcui:\n",
    "            dx = ndc2rxcui[mndc]\n",
    "        else:\n",
    "            return\n",
    "    \n",
    "        date = x['DISPENSE_DATE']\n",
    "        if dx in r2i:\n",
    "            dx = list(r2i[dx])\n",
    "        else:\n",
    "            dx = [dx]\n",
    "        if date in global_data_CC_01yr[pid]['med_d']:\n",
    "            global_data_CC_01yr[pid]['med_d'][date].extend(dx)\n",
    "        else:\n",
    "            global_data_CC_01yr[pid]['med_d'][date] = dx\n",
    "\n",
    "def fx_disp3(x):\n",
    "    pid = x['PATID']\n",
    "    if pid in global_data_CC_3yr:\n",
    "        ndc = x['NDC']\n",
    "        mndc = '0' + ndc\n",
    "        if ndc in ndc2rxcui:\n",
    "            dx = ndc2rxcui[ndc]\n",
    "        elif mndc in ndc2rxcui:\n",
    "            dx = ndc2rxcui[mndc]\n",
    "        else:\n",
    "            return\n",
    "    \n",
    "        date = x['DISPENSE_DATE']\n",
    "        if dx in r2i:\n",
    "            dx = list(r2i[dx])\n",
    "        else:\n",
    "            dx = [dx]\n",
    "        if date in global_data_CC_3yr[pid]['med_d']:\n",
    "            global_data_CC_3yr[pid]['med_d'][date].extend(dx)\n",
    "        else:\n",
    "            global_data_CC_3yr[pid]['med_d'][date] = dx\n",
    "\n",
    "def fx_disp5(x):\n",
    "    pid = x['PATID']\n",
    "    if pid in global_data_CC_5yr:\n",
    "        ndc = x['NDC']\n",
    "        mndc = '0' + ndc\n",
    "        if ndc in ndc2rxcui:\n",
    "            dx = ndc2rxcui[ndc]\n",
    "        elif mndc in ndc2rxcui:\n",
    "            dx = ndc2rxcui[mndc]\n",
    "        else:\n",
    "            return\n",
    "    \n",
    "        date = x['DISPENSE_DATE']\n",
    "        if dx in r2i:\n",
    "            dx = list(r2i[dx])\n",
    "        else:\n",
    "            dx = [dx]\n",
    "        if date in global_data_CC_5yr[pid]['med_d']:\n",
    "            global_data_CC_5yr[pid]['med_d'][date].extend(dx)\n",
    "        else:\n",
    "            global_data_CC_5yr[pid]['med_d'][date] = dx\n",
    "            \n",
    "            "
   ]
  },
  {
   "cell_type": "code",
   "execution_count": 55,
   "metadata": {},
   "outputs": [],
   "source": [
    "os.chdir('/mnt/data1/chong/2021-CRC/original_data/EHRs')\n",
    "df_dp = pd.read_csv(\"DISPENSING.csv\", chunksize=1000000,dtype =str)\n",
    "for each in df_dp:\n",
    "    xx = each.apply(fx_disp01, axis=1)\n",
    "    xx = each.apply(fx_disp3, axis=1)\n",
    "    xx = each.apply(fx_disp5, axis=1)"
   ]
  },
  {
   "cell_type": "code",
   "execution_count": 56,
   "metadata": {},
   "outputs": [],
   "source": [
    "os.chdir('/mnt/data1/chong/2021-CRC/updated_data/agg_files')\n",
    "pkl_dump(global_data_CC_01yr, \"aggCC01.pkl\")\n",
    "pkl_dump(global_data_CC_3yr, \"aggCC3.pkl\")\n",
    "pkl_dump(global_data_CC_5yr, \"aggCC5.pkl\")"
   ]
  },
  {
   "cell_type": "markdown",
   "metadata": {},
   "source": [
    "#### VITALS"
   ]
  },
  {
   "cell_type": "code",
   "execution_count": 57,
   "metadata": {},
   "outputs": [],
   "source": [
    "os.chdir('/mnt/data1/chong/2021-CRC/original_data/02_MQ_Pre_Processing_Agg_Files')"
   ]
  },
  {
   "cell_type": "code",
   "execution_count": 58,
   "metadata": {},
   "outputs": [],
   "source": [
    "df_vitX = pkl_load(\"vitalspro.pkl\")"
   ]
  },
  {
   "cell_type": "code",
   "execution_count": 59,
   "metadata": {},
   "outputs": [
    {
     "data": {
      "text/plain": [
       "Index(['PATID', 'BMI_mean', 'DIASTOLIC_mean', 'SYSTOLIC_mean'], dtype='object')"
      ]
     },
     "execution_count": 59,
     "metadata": {},
     "output_type": "execute_result"
    }
   ],
   "source": [
    "df_vitX.columns"
   ]
  },
  {
   "cell_type": "code",
   "execution_count": 60,
   "metadata": {},
   "outputs": [],
   "source": [
    "vital_cols = ['BMI_mean', 'DIASTOLIC_mean', 'SYSTOLIC_mean']"
   ]
  },
  {
   "cell_type": "code",
   "execution_count": 61,
   "metadata": {},
   "outputs": [],
   "source": [
    "d_l_v01 = defaultdict(dict)\n",
    "d_l_v3 = defaultdict(dict)\n",
    "d_l_v5 = defaultdict(dict)"
   ]
  },
  {
   "cell_type": "code",
   "execution_count": 62,
   "metadata": {},
   "outputs": [],
   "source": [
    "def fx_v01(x):\n",
    "    pid = x['PATID']\n",
    "    for k in vital_cols:\n",
    "        val = x[k]\n",
    "        d_l_v01[pid][k] = val\n",
    "    \n",
    "def fx_v3(x):\n",
    "    pid = x['PATID']\n",
    "    for k in vital_cols:\n",
    "        val = x[k]\n",
    "        d_l_v3[pid][k] = val\n",
    "\n",
    "def fx_v5(x):\n",
    "    pid = x['PATID']\n",
    "    for k in vital_cols:\n",
    "        val = x[k]\n",
    "        d_l_v5[pid][k] = val"
   ]
  },
  {
   "cell_type": "code",
   "execution_count": 63,
   "metadata": {},
   "outputs": [],
   "source": [
    "xx = df_vitX.apply(fx_v01, axis=1)\n",
    "yy = df_vitX.apply(fx_v3, axis=1)\n",
    "zz = df_vitX.apply(fx_v5, axis=1)"
   ]
  },
  {
   "cell_type": "code",
   "execution_count": 64,
   "metadata": {},
   "outputs": [],
   "source": [
    "os.chdir('/mnt/data1/chong/2021-CRC/updated_data/agg_files')\n",
    "pkl_dump(d_l_v01, \"d_l_v_CC_01.pkl\")\n",
    "pkl_dump(d_l_v3, \"d_l_v_CC_3.pkl\")\n",
    "pkl_dump(d_l_v5, \"d_l_v_CC_5.pkl\")"
   ]
  },
  {
   "cell_type": "markdown",
   "metadata": {},
   "source": [
    "#### LABS"
   ]
  },
  {
   "cell_type": "code",
   "execution_count": 65,
   "metadata": {},
   "outputs": [],
   "source": [
    "os.chdir('/mnt/data1/chong/2021-CRC/updated_data/agg_files')\n",
    "\n",
    "global_data_CC_01yr = pkl_load(\"aggCC01.pkl\")\n",
    "global_data_CC_3yr = pkl_load(\"aggCC3.pkl\")\n",
    "global_data_CC_5yr = pkl_load(\"aggCC5.pkl\")"
   ]
  },
  {
   "cell_type": "code",
   "execution_count": 66,
   "metadata": {},
   "outputs": [],
   "source": [
    "for k in global_data_CC_01yr:\n",
    "    global_data_CC_01yr[k]['lab'] = dict()\n",
    "#print(global_data_CC_01yr['11e750610fb3ce06bc3a0050569ea8fb'].keys())\n",
    "\n",
    "for k in global_data_CC_3yr:\n",
    "    global_data_CC_3yr[k]['lab'] = dict()\n",
    "#print(global_data_CC_3yr['11e750610fb3ce06bc3a0050569ea8fb'].keys())\n",
    "\n",
    "for k in global_data_CC_5yr:\n",
    "    global_data_CC_5yr[k]['lab'] = dict()\n",
    "#print(global_data_CC_5yr['11e750610fb3ce06bc3a0050569ea8fb'].keys())"
   ]
  },
  {
   "cell_type": "code",
   "execution_count": 67,
   "metadata": {},
   "outputs": [],
   "source": [
    "def f_lv01(x):\n",
    "    pid = x['PATID']\n",
    "    if pid in global_data_CC_01yr:\n",
    "        date = x['RESULT_DATE']\n",
    "        lab = [x['LAB_LOINC']]\n",
    "        if date in global_data_CC_01yr[pid]['lab']:\n",
    "            global_data_CC_01yr[pid]['lab'][date].extend(lab)\n",
    "        else:\n",
    "            global_data_CC_01yr[pid]['lab'][date] = lab\n",
    "            \n",
    "def f_lv3(x):\n",
    "    pid = x['PATID']\n",
    "    if pid in global_data_CC_3yr:\n",
    "        date = x['RESULT_DATE']\n",
    "        lab = [x['LAB_LOINC']]\n",
    "        if date in global_data_CC_3yr[pid]['lab']:\n",
    "            global_data_CC_3yr[pid]['lab'][date].extend(lab)\n",
    "        else:\n",
    "            global_data_CC_3yr[pid]['lab'][date] = lab\n",
    "            \n",
    "def f_lv5(x):\n",
    "    pid = x['PATID']\n",
    "    if pid in global_data_CC_5yr:\n",
    "        date = x['RESULT_DATE']\n",
    "        lab = [x['LAB_LOINC']]\n",
    "        if date in global_data_CC_5yr[pid]['lab']:\n",
    "            global_data_CC_5yr[pid]['lab'][date].extend(lab)\n",
    "        else:\n",
    "            global_data_CC_5yr[pid]['lab'][date] = lab"
   ]
  },
  {
   "cell_type": "code",
   "execution_count": 68,
   "metadata": {},
   "outputs": [],
   "source": [
    "os.chdir('/mnt/data1/chong/2021-CRC/original_data/EHRs')\n",
    "labs = pd.read_csv(\"LAB_RESULT_CM.csv\",dtype= str)"
   ]
  },
  {
   "cell_type": "code",
   "execution_count": 69,
   "metadata": {},
   "outputs": [],
   "source": [
    "labs['ABN_IND'] = labs['ABN_IND'].replace('NI',np.NaN)\n",
    "labs['ABN_IND'] = labs['ABN_IND'].replace('UN',np.NaN)\n",
    "labs['ABN_IND'] = labs['ABN_IND'].replace('NL',np.NaN)\n",
    "labs['ABN_IND'] = labs['ABN_IND'].replace('OT',np.NaN)\n",
    "labs['ABN_IND'] = labs['ABN_IND'].replace('AH','AB')\n",
    "labs['ABN_IND'] = labs['ABN_IND'].replace('AL','AB')\n",
    "labs['ABN_IND'] = labs['ABN_IND'].replace('CR','AB')\n",
    "labs['ABN_IND'] = labs['ABN_IND'].replace('CH','AB')\n",
    "labs['ABN_IND'] = labs['ABN_IND'].replace('CL','AB')\n",
    "\n",
    "labs = labs[labs['ABN_IND'].notna()]"
   ]
  },
  {
   "cell_type": "code",
   "execution_count": 72,
   "metadata": {},
   "outputs": [],
   "source": [
    "os.chdir('/mnt/data1/chong/2021-CRC/updated_data/agg_files')\n",
    "labs.to_csv(\"ablabsCC.csv\")\n",
    "labs = pd.read_csv(\"ablabsCC.csv\", chunksize=1000000,dtype =str)"
   ]
  },
  {
   "cell_type": "code",
   "execution_count": 73,
   "metadata": {},
   "outputs": [],
   "source": [
    "for each in labs:\n",
    "    xx = each.apply(f_lv01, axis=1)\n",
    "    xx = each.apply(f_lv3, axis=1)\n",
    "    xx = each.apply(f_lv5, axis=1)"
   ]
  },
  {
   "cell_type": "code",
   "execution_count": 74,
   "metadata": {},
   "outputs": [],
   "source": [
    "pkl_dump(global_data_CC_01yr, \"aggCC01.pkl\")\n",
    "pkl_dump(global_data_CC_3yr, \"aggCC3.pkl\")\n",
    "pkl_dump(global_data_CC_5yr, \"aggCC5.pkl\")"
   ]
  },
  {
   "cell_type": "code",
   "execution_count": 75,
   "metadata": {},
   "outputs": [],
   "source": [
    "# IMMUNIZATIONS - decide not to use because of bad data\n",
    "# os.chdir('/mnt/data1/chong/2021-CRC/original_data/EHRs')\n",
    "# df_im = pd.read_csv(\"IMMUNIZATION.csv\")"
   ]
  }
 ],
 "metadata": {
  "kernelspec": {
   "display_name": "Python 3",
   "language": "python",
   "name": "python3"
  },
  "language_info": {
   "codemirror_mode": {
    "name": "ipython",
    "version": 3
   },
   "file_extension": ".py",
   "mimetype": "text/x-python",
   "name": "python",
   "nbconvert_exporter": "python",
   "pygments_lexer": "ipython3",
   "version": "3.7.3"
  }
 },
 "nbformat": 4,
 "nbformat_minor": 4
}
