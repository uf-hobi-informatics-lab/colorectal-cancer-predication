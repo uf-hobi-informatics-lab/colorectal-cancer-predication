{
 "cells": [
  {
   "cell_type": "code",
   "execution_count": 7,
   "metadata": {},
   "outputs": [],
   "source": [
    "import csv\n",
    "import os\n",
    "import shap\n",
    "import numpy as np\n",
    "import pandas as pd\n",
    "import pickle as pkl\n",
    "import lightgbm as lgb\n",
    "from sklearn.model_selection import RandomizedSearchCV, cross_val_score, StratifiedKFold, cross_val_predict, train_test_split\n",
    "from sklearn.metrics import roc_auc_score, average_precision_score, roc_curve, auc, precision_recall_fscore_support\n",
    "from sklearn.decomposition import PCA\n",
    "from tqdm import tqdm"
   ]
  },
  {
   "cell_type": "code",
   "execution_count": 8,
   "metadata": {},
   "outputs": [],
   "source": [
    "#UTF-8 encoding issue\n",
    "\n",
    "def pkl_dump(data, file):\n",
    "    with open(file, \"wb\") as fw:\n",
    "        pkl.dump(data, fw)\n",
    "\n",
    "        \n",
    "def pkl_load(file):\n",
    "    with open(file, \"rb\") as fr:\n",
    "        data = pkl.load(fr)\n",
    "    return data\n",
    "\n",
    "def pkl4_dump(data, file):\n",
    "    with open(file, \"wb\") as fw:\n",
    "        pkl.dump(data, fw, pkl.HIGHEST_PROTOCOL)\n",
    "\n",
    "        \n",
    "def pkl4_load(file):\n",
    "    with open(file, \"rb\") as fr:\n",
    "        data = pkl.load(fr)\n",
    "    return data"
   ]
  },
  {
   "cell_type": "code",
   "execution_count": 9,
   "metadata": {},
   "outputs": [
    {
     "data": {
      "text/plain": [
       "'/mnt/data1/songziwu/data/crc_data'"
      ]
     },
     "execution_count": 9,
     "metadata": {},
     "output_type": "execute_result"
    }
   ],
   "source": [
    "os.chdir('/mnt/data1/songziwu/data/crc_data/')\n",
    "os.getcwd()"
   ]
  },
  {
   "cell_type": "markdown",
   "metadata": {},
   "source": [
    "Add performance report on training data cross-validation"
   ]
  },
  {
   "cell_type": "code",
   "execution_count": 10,
   "metadata": {},
   "outputs": [],
   "source": [
    "def expr(clf, params, tasks, nb, nit, model_name='LR'):\n",
    "    for task in tasks:\n",
    "        print(f\"current task: {task} {model_name}\")\n",
    "        res_output = f\"{task}year_{model_name}.txt\"\n",
    "        model_dump = f\"{task}year_{model_name}_model.pkl\"\n",
    "\n",
    "        fea2iD, features = pkl_load(f\"./03_MQ_Encoding_Files/data_RC{task}yr_expr_features.pkl\")\n",
    "        tr_dx, tr_dy, ts_dx, ts_dy = pkl4_load(f\"./03_MQ_Encoding_Files/expr_data_RC{task}yr_train_test.pkl\")\n",
    "        print(tr_dx.shape, ts_dx.shape)\n",
    "        \n",
    "        cv_model = RandomizedSearchCV(clf, params, scoring='roc_auc', n_jobs=nb, \n",
    "                                      cv=StratifiedKFold(n_splits=5, shuffle=True, random_state=13), \n",
    "                                      verbose=1, iid=True, n_iter=nit, random_state=13)\n",
    "        cv_model.fit(tr_dx, tr_dy)\n",
    "        best_5_cv = cv_model.best_estimator_\n",
    "        opt_clf = cv_model.best_estimator_\n",
    "        pkl_dump(opt_clf, model_dump)\n",
    "\n",
    "        preds = opt_clf.predict_proba(ts_dx)\n",
    "        pkl_dump(preds, f\"{task}year_{model_name}_preds.pkl\")\n",
    "\n",
    "        idx = np.argmax(opt_clf.classes_)\n",
    "        preds_1 = list(map(lambda x: x[idx], preds))\n",
    "\n",
    "        auc_score = roc_auc_score(ts_dy, preds_1)\n",
    "        fprs, tprs, ths = roc_curve(ts_dy, preds_1)\n",
    "        print(\"auc_score is : \",auc_score)\n",
    "        \n",
    "        J_idx = np.argmax(tprs - fprs)\n",
    "        fpr, tpr, th = fprs[J_idx], tprs[J_idx], ths[J_idx]\n",
    "        auc_score1 = auc(fprs, tprs)\n",
    "\n",
    "        sen = tpr\n",
    "        spe = 1 - fpr\n",
    "        stats = [sen, spe, auc_score1]\n",
    "        \n",
    "#         shap.initjs()\n",
    "#         explainer = shap.TreeExplainer(opt_clf)\n",
    "#         shap_values = explainer.shap_values(tr_dx)\n",
    "#         top10 = shap_values[:10,:]\n",
    "        \n",
    "#         with open(f\"master_{task}gbt_RCstats.csv\", \"a\") as fp:\n",
    "#             wr = csv.writer(fp, dialect='excel')\n",
    "#             wr.writerow(['sen','spef','auc'])\n",
    "#             wr.writerow(stats)\n",
    "        \n",
    "       \n",
    "#         with open(f\"master_{task}gbt_RCshap.csv\",\"a\") as sp:\n",
    "#             sp = csv.writer(ir, dialect='excel')\n",
    "#             sp.writerow(['feature','shap_value'])\n",
    "#             sp.writerows([top10])\n",
    "            \n",
    "\n",
    "#         with open(res_output, \"w\") as f:\n",
    "#             f.write(f'''\n",
    "# auc1: {auc_score}\n",
    "# auc2: {auc_score1}\n",
    "# sensitivity: {sen}\n",
    "# specificity: {spe}\n",
    "# J: {th}\n",
    "#             ''')\n",
    "\n",
    "        # feature importance (top 1000)\n",
    "#             imp_feas = opt_clf.feature_importances_\n",
    "#             imp_feas = list(imp_feas)\n",
    "#             imp_feas = list(zip(imp_feas, range(len(imp_feas))))\n",
    "#             imp_feas_500 = sorted(imp_feas, key=lambda x: abs(x[0]), reverse=True)[:1000]\n",
    "#              with open(f\"{task}year_{model_name}_top10features.csv\", \"w\") as f:\n",
    "#                  for each in imp_feas_500:\n",
    "#                     imp = each[0]\n",
    "#                     sfea = features[each[1]]\n",
    "#                     f.write(f\"{sfea},{imp}\\n\")"
   ]
  },
  {
   "cell_type": "code",
   "execution_count": 11,
   "metadata": {},
   "outputs": [],
   "source": [
    "def to_matrix(all_data, col_num, num_fea_cols):\n",
    "    pids = []\n",
    "    matrix = []\n",
    "    for idx, d in enumerate(all_data):\n",
    "        m = np.zeros(col_num + 1)\n",
    "        mp = []\n",
    "        if num_fea_cols == -1:\n",
    "            d1 = d\n",
    "        else:\n",
    "            d1 = d[:-num_fea_cols]\n",
    "        for i, e in enumerate(d1):\n",
    "            if i == 0:\n",
    "                m[0] = e\n",
    "            else:\n",
    "                m[e] = 1.\n",
    "        \n",
    "        if num_fea_cols == -1:\n",
    "            d2 = []\n",
    "        else:\n",
    "            d2 = d[-num_fea_cols:]\n",
    "        for e in d2:\n",
    "            mp.append(e)\n",
    "        \n",
    "        pids.append(idx)\n",
    "        nmn = np.concatenate((m, np.array(mp)))\n",
    "        matrix.append(nmn)\n",
    "    print(np.array(matrix).shape)\n",
    "    print(matrix[1])\n",
    "    return matrix, pids\n",
    "\n",
    "def imputation(matrix, pids, findings=True, labs=True):\n",
    "    cols = ['label'] + features\n",
    "    cols_to_imp = []\n",
    "    if findings:\n",
    "        cols += findings_list\n",
    "        cols_to_imp += findings_list\n",
    "    \n",
    "    if labs:\n",
    "        cols += valid_loinc\n",
    "        cols_to_imp += valid_loinc\n",
    "        \n",
    "    df = pd.DataFrame(data=matrix, index=pids, columns=cols)\n",
    "#     print(df.head())\n",
    "#     cau = dict()\n",
    "#     cou = dict()\n",
    "#     for col in cols_to_imp:\n",
    "#         cau[col] = [e for e in set(df[df['label']==1.0][col]) if not pd.isna(e)]\n",
    "#         cou[col] = [e for e in set(df[df['label']==0.0][col]) if not pd.isna(e)]\n",
    "        \n",
    "    np.random.seed(47)\n",
    "    for col in cols_to_imp:\n",
    "        s = list(set([e for e in df[col] if not np.isnan(e)]))\n",
    "        for idx, c in enumerate(df[col]):\n",
    "            if pd.isna(c):\n",
    "                # choose case or control \n",
    "#                 if df['label'][idx] == 1.0:\n",
    "#                     s = cau[col]\n",
    "#                 elif df['label'][idx] == 0.0:\n",
    "#                     s = cou[col]\n",
    "\n",
    "\n",
    "                df[col][idx] = np.random.choice(s, 1)\n",
    "                \n",
    "#     print(df.head())\n",
    "    matrix = np.array(df)\n",
    "    print(matrix.shape, matrix[0])\n",
    "    return matrix, cols[1:]\n",
    "\n",
    "def create_data(matrix):\n",
    "    np.random.seed(13)\n",
    "    np.random.shuffle(matrix)\n",
    "    np.random.seed(47)\n",
    "    np.random.shuffle(matrix)\n",
    "    dx = []\n",
    "    dy = []\n",
    "    for each in matrix:\n",
    "        dx.append(each[1:])\n",
    "        dy.append(each[0])\n",
    "    dx = np.array(dx)\n",
    "    dy = np.array(dy)\n",
    "    print(dx.shape, dy.shape)\n",
    "    return dx, dy"
   ]
  },
  {
   "cell_type": "code",
   "execution_count": 12,
   "metadata": {},
   "outputs": [],
   "source": [
    "tuned_parameters = {\n",
    "    'num_leaves': [2,4,8,16,32,64,80,96,128],\n",
    "    'min_data_in_leaf': [2,8,16,32,64,128,256,512,1024],\n",
    "    'max_depth': [-1, 8, 16, 32, 64],\n",
    "    'learning_rate': [0.1, 0.01, 0.001, 0.0001, 0.00001],\n",
    "    'num_iterations': range(100, 2000, 100),\n",
    "    'n_estimators': range(100, 2000, 100),\n",
    "    'subsample_for_bin': range(20000, 300000, 20000),\n",
    "    'min_split_gain': [0., 1e-3, 1e-4, 1e-5],\n",
    "    'min_child_weight': [1e-3, 1e-4, 1e-5],\n",
    "    'min_child_samples': [2,4,8,16,32,64,128],\n",
    "    'subsample': np.arange(0.5, 1, 0.1),\n",
    "    'colsample_bytree': np.arange(0.5, 1, 0.1),\n",
    "    'reg_alpha': np.arange(0, 1, 0.1),\n",
    "    'reg_lambda': np.arange(0, 1, 0.1),\n",
    "    'tree_learner': ['feature', 'data', 'voting'],\n",
    "    'max_bin': [128, 256, 512],\n",
    "    'boosting_type': ['dart', 'gbdt'],\n",
    "    'feature_fraction': np.arange(0.5, 1, 0.1), \n",
    "    'bagging_fraction': np.arange(0.5, 1, 0.1)\n",
    "    }"
   ]
  },
  {
   "cell_type": "code",
   "execution_count": 13,
   "metadata": {},
   "outputs": [],
   "source": [
    "clf = lgb.LGBMClassifier(objective='binary', \n",
    "                         n_jobs=10, \n",
    "                         scale_pos_Weight=4, use_missing=True)"
   ]
  },
  {
   "cell_type": "markdown",
   "metadata": {},
   "source": [
    "# 0 YEAR"
   ]
  },
  {
   "cell_type": "code",
   "execution_count": 14,
   "metadata": {},
   "outputs": [],
   "source": [
    "ptIDs = pd.read_csv(\"01_MQ_Incident_Match_Files/matched_case_control_RC_01yr.csv\",usecols=['PATID'],dtype =str)\n",
    "ptIDs.head()\n",
    "fea2id, features = pkl_load(\"./03_MQ_Encoding_Files/data_RC0yr_expr_features.pkl\")\n",
    "data = pkl_load(\"./03_MQ_Encoding_Files/data_RC0yr_expr.pkl\")"
   ]
  },
  {
   "cell_type": "code",
   "execution_count": 15,
   "metadata": {},
   "outputs": [
    {
     "name": "stderr",
     "output_type": "stream",
     "text": [
      "  0%|          | 0/5 [00:00<?, ?it/s]"
     ]
    },
    {
     "name": "stdout",
     "output_type": "stream",
     "text": [
      "(2129, 7832)\n",
      "[0. 0. 1. ... 0. 0. 0.]\n",
      "(2129, 7831) (2129,)\n",
      "(533, 7832)\n",
      "[0. 0. 1. ... 0. 0. 0.]\n",
      "(533, 7831) (533,)\n",
      "current task: 0 GBT\n",
      "(2129, 7831) (533, 7831)\n",
      "Fitting 5 folds for each of 20 candidates, totalling 100 fits\n"
     ]
    },
    {
     "name": "stderr",
     "output_type": "stream",
     "text": [
      "[Parallel(n_jobs=1)]: Using backend SequentialBackend with 1 concurrent workers.\n",
      "Found `num_iterations` in params. Will use it instead of argument\n"
     ]
    },
    {
     "name": "stdout",
     "output_type": "stream",
     "text": [
      "[LightGBM] [Warning] Unknown parameter: scale_pos_Weight\n",
      "[LightGBM] [Warning] bagging_fraction is set=0.8999999999999999, subsample=0.7999999999999999 will be ignored. Current value: bagging_fraction=0.8999999999999999\n",
      "[LightGBM] [Warning] min_data_in_leaf is set=2, min_child_samples=8 will be ignored. Current value: min_data_in_leaf=2\n",
      "[LightGBM] [Warning] feature_fraction is set=0.7, colsample_bytree=0.7999999999999999 will be ignored. Current value: feature_fraction=0.7\n"
     ]
    },
    {
     "name": "stderr",
     "output_type": "stream",
     "text": [
      "Found `num_iterations` in params. Will use it instead of argument\n"
     ]
    },
    {
     "name": "stdout",
     "output_type": "stream",
     "text": [
      "[LightGBM] [Warning] Unknown parameter: scale_pos_Weight\n",
      "[LightGBM] [Warning] bagging_fraction is set=0.8999999999999999, subsample=0.7999999999999999 will be ignored. Current value: bagging_fraction=0.8999999999999999\n",
      "[LightGBM] [Warning] min_data_in_leaf is set=2, min_child_samples=8 will be ignored. Current value: min_data_in_leaf=2\n",
      "[LightGBM] [Warning] feature_fraction is set=0.7, colsample_bytree=0.7999999999999999 will be ignored. Current value: feature_fraction=0.7\n"
     ]
    },
    {
     "name": "stderr",
     "output_type": "stream",
     "text": [
      "Found `num_iterations` in params. Will use it instead of argument\n"
     ]
    },
    {
     "name": "stdout",
     "output_type": "stream",
     "text": [
      "[LightGBM] [Warning] Unknown parameter: scale_pos_Weight\n",
      "[LightGBM] [Warning] bagging_fraction is set=0.8999999999999999, subsample=0.7999999999999999 will be ignored. Current value: bagging_fraction=0.8999999999999999\n",
      "[LightGBM] [Warning] min_data_in_leaf is set=2, min_child_samples=8 will be ignored. Current value: min_data_in_leaf=2\n",
      "[LightGBM] [Warning] feature_fraction is set=0.7, colsample_bytree=0.7999999999999999 will be ignored. Current value: feature_fraction=0.7\n"
     ]
    },
    {
     "name": "stderr",
     "output_type": "stream",
     "text": [
      "Found `num_iterations` in params. Will use it instead of argument\n"
     ]
    },
    {
     "name": "stdout",
     "output_type": "stream",
     "text": [
      "[LightGBM] [Warning] Unknown parameter: scale_pos_Weight\n",
      "[LightGBM] [Warning] bagging_fraction is set=0.8999999999999999, subsample=0.7999999999999999 will be ignored. Current value: bagging_fraction=0.8999999999999999\n",
      "[LightGBM] [Warning] min_data_in_leaf is set=2, min_child_samples=8 will be ignored. Current value: min_data_in_leaf=2\n",
      "[LightGBM] [Warning] feature_fraction is set=0.7, colsample_bytree=0.7999999999999999 will be ignored. Current value: feature_fraction=0.7\n"
     ]
    },
    {
     "name": "stderr",
     "output_type": "stream",
     "text": [
      "Found `num_iterations` in params. Will use it instead of argument\n"
     ]
    },
    {
     "name": "stdout",
     "output_type": "stream",
     "text": [
      "[LightGBM] [Warning] Unknown parameter: scale_pos_Weight\n",
      "[LightGBM] [Warning] bagging_fraction is set=0.8999999999999999, subsample=0.7999999999999999 will be ignored. Current value: bagging_fraction=0.8999999999999999\n",
      "[LightGBM] [Warning] min_data_in_leaf is set=2, min_child_samples=8 will be ignored. Current value: min_data_in_leaf=2\n",
      "[LightGBM] [Warning] feature_fraction is set=0.7, colsample_bytree=0.7999999999999999 will be ignored. Current value: feature_fraction=0.7\n"
     ]
    },
    {
     "name": "stderr",
     "output_type": "stream",
     "text": [
      "Found `num_iterations` in params. Will use it instead of argument\n"
     ]
    },
    {
     "name": "stdout",
     "output_type": "stream",
     "text": [
      "[LightGBM] [Warning] Unknown parameter: scale_pos_Weight\n",
      "[LightGBM] [Warning] bagging_fraction is set=0.5, subsample=0.5 will be ignored. Current value: bagging_fraction=0.5\n",
      "[LightGBM] [Warning] min_data_in_leaf is set=128, min_child_samples=32 will be ignored. Current value: min_data_in_leaf=128\n",
      "[LightGBM] [Warning] feature_fraction is set=0.7999999999999999, colsample_bytree=0.5 will be ignored. Current value: feature_fraction=0.7999999999999999\n"
     ]
    },
    {
     "name": "stderr",
     "output_type": "stream",
     "text": [
      "Found `num_iterations` in params. Will use it instead of argument\n"
     ]
    },
    {
     "name": "stdout",
     "output_type": "stream",
     "text": [
      "[LightGBM] [Warning] Unknown parameter: scale_pos_Weight\n",
      "[LightGBM] [Warning] bagging_fraction is set=0.5, subsample=0.5 will be ignored. Current value: bagging_fraction=0.5\n",
      "[LightGBM] [Warning] min_data_in_leaf is set=128, min_child_samples=32 will be ignored. Current value: min_data_in_leaf=128\n",
      "[LightGBM] [Warning] feature_fraction is set=0.7999999999999999, colsample_bytree=0.5 will be ignored. Current value: feature_fraction=0.7999999999999999\n"
     ]
    },
    {
     "name": "stderr",
     "output_type": "stream",
     "text": [
      "Found `num_iterations` in params. Will use it instead of argument\n"
     ]
    },
    {
     "name": "stdout",
     "output_type": "stream",
     "text": [
      "[LightGBM] [Warning] Unknown parameter: scale_pos_Weight\n",
      "[LightGBM] [Warning] bagging_fraction is set=0.5, subsample=0.5 will be ignored. Current value: bagging_fraction=0.5\n",
      "[LightGBM] [Warning] min_data_in_leaf is set=128, min_child_samples=32 will be ignored. Current value: min_data_in_leaf=128\n",
      "[LightGBM] [Warning] feature_fraction is set=0.7999999999999999, colsample_bytree=0.5 will be ignored. Current value: feature_fraction=0.7999999999999999\n"
     ]
    },
    {
     "name": "stderr",
     "output_type": "stream",
     "text": [
      "Found `num_iterations` in params. Will use it instead of argument\n"
     ]
    },
    {
     "name": "stdout",
     "output_type": "stream",
     "text": [
      "[LightGBM] [Warning] Unknown parameter: scale_pos_Weight\n",
      "[LightGBM] [Warning] bagging_fraction is set=0.5, subsample=0.5 will be ignored. Current value: bagging_fraction=0.5\n",
      "[LightGBM] [Warning] min_data_in_leaf is set=128, min_child_samples=32 will be ignored. Current value: min_data_in_leaf=128\n",
      "[LightGBM] [Warning] feature_fraction is set=0.7999999999999999, colsample_bytree=0.5 will be ignored. Current value: feature_fraction=0.7999999999999999\n"
     ]
    },
    {
     "name": "stderr",
     "output_type": "stream",
     "text": [
      "Found `num_iterations` in params. Will use it instead of argument\n"
     ]
    },
    {
     "name": "stdout",
     "output_type": "stream",
     "text": [
      "[LightGBM] [Warning] Unknown parameter: scale_pos_Weight\n",
      "[LightGBM] [Warning] bagging_fraction is set=0.5, subsample=0.5 will be ignored. Current value: bagging_fraction=0.5\n",
      "[LightGBM] [Warning] min_data_in_leaf is set=128, min_child_samples=32 will be ignored. Current value: min_data_in_leaf=128\n",
      "[LightGBM] [Warning] feature_fraction is set=0.7999999999999999, colsample_bytree=0.5 will be ignored. Current value: feature_fraction=0.7999999999999999\n"
     ]
    },
    {
     "name": "stderr",
     "output_type": "stream",
     "text": [
      "Found `num_iterations` in params. Will use it instead of argument\n"
     ]
    },
    {
     "name": "stdout",
     "output_type": "stream",
     "text": [
      "[LightGBM] [Warning] Unknown parameter: scale_pos_Weight\n",
      "[LightGBM] [Warning] bagging_fraction is set=0.6, subsample=0.7999999999999999 will be ignored. Current value: bagging_fraction=0.6\n",
      "[LightGBM] [Warning] min_data_in_leaf is set=8, min_child_samples=64 will be ignored. Current value: min_data_in_leaf=8\n",
      "[LightGBM] [Warning] feature_fraction is set=0.5, colsample_bytree=0.7999999999999999 will be ignored. Current value: feature_fraction=0.5\n"
     ]
    },
    {
     "name": "stderr",
     "output_type": "stream",
     "text": [
      "Found `num_iterations` in params. Will use it instead of argument\n"
     ]
    },
    {
     "name": "stdout",
     "output_type": "stream",
     "text": [
      "[LightGBM] [Warning] Unknown parameter: scale_pos_Weight\n",
      "[LightGBM] [Warning] bagging_fraction is set=0.6, subsample=0.7999999999999999 will be ignored. Current value: bagging_fraction=0.6\n",
      "[LightGBM] [Warning] min_data_in_leaf is set=8, min_child_samples=64 will be ignored. Current value: min_data_in_leaf=8\n",
      "[LightGBM] [Warning] feature_fraction is set=0.5, colsample_bytree=0.7999999999999999 will be ignored. Current value: feature_fraction=0.5\n"
     ]
    },
    {
     "name": "stderr",
     "output_type": "stream",
     "text": [
      "Found `num_iterations` in params. Will use it instead of argument\n"
     ]
    },
    {
     "name": "stdout",
     "output_type": "stream",
     "text": [
      "[LightGBM] [Warning] Unknown parameter: scale_pos_Weight\n",
      "[LightGBM] [Warning] bagging_fraction is set=0.6, subsample=0.7999999999999999 will be ignored. Current value: bagging_fraction=0.6\n",
      "[LightGBM] [Warning] min_data_in_leaf is set=8, min_child_samples=64 will be ignored. Current value: min_data_in_leaf=8\n",
      "[LightGBM] [Warning] feature_fraction is set=0.5, colsample_bytree=0.7999999999999999 will be ignored. Current value: feature_fraction=0.5\n"
     ]
    },
    {
     "name": "stderr",
     "output_type": "stream",
     "text": [
      "Found `num_iterations` in params. Will use it instead of argument\n"
     ]
    },
    {
     "name": "stdout",
     "output_type": "stream",
     "text": [
      "[LightGBM] [Warning] Unknown parameter: scale_pos_Weight\n",
      "[LightGBM] [Warning] bagging_fraction is set=0.6, subsample=0.7999999999999999 will be ignored. Current value: bagging_fraction=0.6\n",
      "[LightGBM] [Warning] min_data_in_leaf is set=8, min_child_samples=64 will be ignored. Current value: min_data_in_leaf=8\n",
      "[LightGBM] [Warning] feature_fraction is set=0.5, colsample_bytree=0.7999999999999999 will be ignored. Current value: feature_fraction=0.5\n"
     ]
    },
    {
     "name": "stderr",
     "output_type": "stream",
     "text": [
      "Found `num_iterations` in params. Will use it instead of argument\n"
     ]
    },
    {
     "name": "stdout",
     "output_type": "stream",
     "text": [
      "[LightGBM] [Warning] Unknown parameter: scale_pos_Weight\n",
      "[LightGBM] [Warning] bagging_fraction is set=0.6, subsample=0.7999999999999999 will be ignored. Current value: bagging_fraction=0.6\n",
      "[LightGBM] [Warning] min_data_in_leaf is set=8, min_child_samples=64 will be ignored. Current value: min_data_in_leaf=8\n",
      "[LightGBM] [Warning] feature_fraction is set=0.5, colsample_bytree=0.7999999999999999 will be ignored. Current value: feature_fraction=0.5\n"
     ]
    },
    {
     "name": "stderr",
     "output_type": "stream",
     "text": [
      "Found `num_iterations` in params. Will use it instead of argument\n"
     ]
    },
    {
     "name": "stdout",
     "output_type": "stream",
     "text": [
      "[LightGBM] [Warning] Unknown parameter: scale_pos_Weight\n",
      "[LightGBM] [Warning] bagging_fraction is set=0.7999999999999999, subsample=0.6 will be ignored. Current value: bagging_fraction=0.7999999999999999\n",
      "[LightGBM] [Warning] min_data_in_leaf is set=32, min_child_samples=32 will be ignored. Current value: min_data_in_leaf=32\n",
      "[LightGBM] [Warning] feature_fraction is set=0.5, colsample_bytree=0.7 will be ignored. Current value: feature_fraction=0.5\n"
     ]
    },
    {
     "name": "stderr",
     "output_type": "stream",
     "text": [
      "Found `num_iterations` in params. Will use it instead of argument\n"
     ]
    },
    {
     "name": "stdout",
     "output_type": "stream",
     "text": [
      "[LightGBM] [Warning] Unknown parameter: scale_pos_Weight\n",
      "[LightGBM] [Warning] bagging_fraction is set=0.7999999999999999, subsample=0.6 will be ignored. Current value: bagging_fraction=0.7999999999999999\n",
      "[LightGBM] [Warning] min_data_in_leaf is set=32, min_child_samples=32 will be ignored. Current value: min_data_in_leaf=32\n",
      "[LightGBM] [Warning] feature_fraction is set=0.5, colsample_bytree=0.7 will be ignored. Current value: feature_fraction=0.5\n"
     ]
    },
    {
     "name": "stderr",
     "output_type": "stream",
     "text": [
      "Found `num_iterations` in params. Will use it instead of argument\n"
     ]
    },
    {
     "name": "stdout",
     "output_type": "stream",
     "text": [
      "[LightGBM] [Warning] Unknown parameter: scale_pos_Weight\n",
      "[LightGBM] [Warning] bagging_fraction is set=0.7999999999999999, subsample=0.6 will be ignored. Current value: bagging_fraction=0.7999999999999999\n",
      "[LightGBM] [Warning] min_data_in_leaf is set=32, min_child_samples=32 will be ignored. Current value: min_data_in_leaf=32\n",
      "[LightGBM] [Warning] feature_fraction is set=0.5, colsample_bytree=0.7 will be ignored. Current value: feature_fraction=0.5\n"
     ]
    },
    {
     "name": "stderr",
     "output_type": "stream",
     "text": [
      "Found `num_iterations` in params. Will use it instead of argument\n"
     ]
    },
    {
     "name": "stdout",
     "output_type": "stream",
     "text": [
      "[LightGBM] [Warning] Unknown parameter: scale_pos_Weight\n",
      "[LightGBM] [Warning] bagging_fraction is set=0.7999999999999999, subsample=0.6 will be ignored. Current value: bagging_fraction=0.7999999999999999\n",
      "[LightGBM] [Warning] min_data_in_leaf is set=32, min_child_samples=32 will be ignored. Current value: min_data_in_leaf=32\n",
      "[LightGBM] [Warning] feature_fraction is set=0.5, colsample_bytree=0.7 will be ignored. Current value: feature_fraction=0.5\n"
     ]
    },
    {
     "name": "stderr",
     "output_type": "stream",
     "text": [
      "Found `num_iterations` in params. Will use it instead of argument\n"
     ]
    },
    {
     "name": "stdout",
     "output_type": "stream",
     "text": [
      "[LightGBM] [Warning] Unknown parameter: scale_pos_Weight\n",
      "[LightGBM] [Warning] bagging_fraction is set=0.7999999999999999, subsample=0.6 will be ignored. Current value: bagging_fraction=0.7999999999999999\n",
      "[LightGBM] [Warning] min_data_in_leaf is set=32, min_child_samples=32 will be ignored. Current value: min_data_in_leaf=32\n",
      "[LightGBM] [Warning] feature_fraction is set=0.5, colsample_bytree=0.7 will be ignored. Current value: feature_fraction=0.5\n"
     ]
    },
    {
     "name": "stderr",
     "output_type": "stream",
     "text": [
      "Found `num_iterations` in params. Will use it instead of argument\n"
     ]
    },
    {
     "name": "stdout",
     "output_type": "stream",
     "text": [
      "[LightGBM] [Warning] Unknown parameter: scale_pos_Weight\n",
      "[LightGBM] [Warning] bagging_fraction is set=0.6, subsample=0.7 will be ignored. Current value: bagging_fraction=0.6\n",
      "[LightGBM] [Warning] min_data_in_leaf is set=16, min_child_samples=4 will be ignored. Current value: min_data_in_leaf=16\n",
      "[LightGBM] [Warning] feature_fraction is set=0.5, colsample_bytree=0.7999999999999999 will be ignored. Current value: feature_fraction=0.5\n"
     ]
    },
    {
     "name": "stderr",
     "output_type": "stream",
     "text": [
      "Found `num_iterations` in params. Will use it instead of argument\n"
     ]
    },
    {
     "name": "stdout",
     "output_type": "stream",
     "text": [
      "[LightGBM] [Warning] Unknown parameter: scale_pos_Weight\n",
      "[LightGBM] [Warning] bagging_fraction is set=0.6, subsample=0.7 will be ignored. Current value: bagging_fraction=0.6\n",
      "[LightGBM] [Warning] min_data_in_leaf is set=16, min_child_samples=4 will be ignored. Current value: min_data_in_leaf=16\n",
      "[LightGBM] [Warning] feature_fraction is set=0.5, colsample_bytree=0.7999999999999999 will be ignored. Current value: feature_fraction=0.5\n"
     ]
    },
    {
     "name": "stderr",
     "output_type": "stream",
     "text": [
      "Found `num_iterations` in params. Will use it instead of argument\n"
     ]
    },
    {
     "name": "stdout",
     "output_type": "stream",
     "text": [
      "[LightGBM] [Warning] Unknown parameter: scale_pos_Weight\n",
      "[LightGBM] [Warning] bagging_fraction is set=0.6, subsample=0.7 will be ignored. Current value: bagging_fraction=0.6\n",
      "[LightGBM] [Warning] min_data_in_leaf is set=16, min_child_samples=4 will be ignored. Current value: min_data_in_leaf=16\n",
      "[LightGBM] [Warning] feature_fraction is set=0.5, colsample_bytree=0.7999999999999999 will be ignored. Current value: feature_fraction=0.5\n"
     ]
    },
    {
     "name": "stderr",
     "output_type": "stream",
     "text": [
      "Found `num_iterations` in params. Will use it instead of argument\n"
     ]
    },
    {
     "name": "stdout",
     "output_type": "stream",
     "text": [
      "[LightGBM] [Warning] Unknown parameter: scale_pos_Weight\n",
      "[LightGBM] [Warning] bagging_fraction is set=0.6, subsample=0.7 will be ignored. Current value: bagging_fraction=0.6\n",
      "[LightGBM] [Warning] min_data_in_leaf is set=16, min_child_samples=4 will be ignored. Current value: min_data_in_leaf=16\n",
      "[LightGBM] [Warning] feature_fraction is set=0.5, colsample_bytree=0.7999999999999999 will be ignored. Current value: feature_fraction=0.5\n"
     ]
    },
    {
     "name": "stderr",
     "output_type": "stream",
     "text": [
      "Found `num_iterations` in params. Will use it instead of argument\n"
     ]
    },
    {
     "name": "stdout",
     "output_type": "stream",
     "text": [
      "[LightGBM] [Warning] Unknown parameter: scale_pos_Weight\n",
      "[LightGBM] [Warning] bagging_fraction is set=0.6, subsample=0.7 will be ignored. Current value: bagging_fraction=0.6\n",
      "[LightGBM] [Warning] min_data_in_leaf is set=16, min_child_samples=4 will be ignored. Current value: min_data_in_leaf=16\n",
      "[LightGBM] [Warning] feature_fraction is set=0.5, colsample_bytree=0.7999999999999999 will be ignored. Current value: feature_fraction=0.5\n"
     ]
    },
    {
     "name": "stderr",
     "output_type": "stream",
     "text": [
      "Found `num_iterations` in params. Will use it instead of argument\n"
     ]
    },
    {
     "name": "stdout",
     "output_type": "stream",
     "text": [
      "[LightGBM] [Warning] Unknown parameter: scale_pos_Weight\n",
      "[LightGBM] [Warning] bagging_fraction is set=0.6, subsample=0.6 will be ignored. Current value: bagging_fraction=0.6\n",
      "[LightGBM] [Warning] min_data_in_leaf is set=512, min_child_samples=16 will be ignored. Current value: min_data_in_leaf=512\n",
      "[LightGBM] [Warning] feature_fraction is set=0.6, colsample_bytree=0.6 will be ignored. Current value: feature_fraction=0.6\n"
     ]
    },
    {
     "name": "stderr",
     "output_type": "stream",
     "text": [
      "Found `num_iterations` in params. Will use it instead of argument\n"
     ]
    },
    {
     "name": "stdout",
     "output_type": "stream",
     "text": [
      "[LightGBM] [Warning] Unknown parameter: scale_pos_Weight\n",
      "[LightGBM] [Warning] bagging_fraction is set=0.6, subsample=0.6 will be ignored. Current value: bagging_fraction=0.6\n",
      "[LightGBM] [Warning] min_data_in_leaf is set=512, min_child_samples=16 will be ignored. Current value: min_data_in_leaf=512\n",
      "[LightGBM] [Warning] feature_fraction is set=0.6, colsample_bytree=0.6 will be ignored. Current value: feature_fraction=0.6\n"
     ]
    },
    {
     "name": "stderr",
     "output_type": "stream",
     "text": [
      "Found `num_iterations` in params. Will use it instead of argument\n"
     ]
    },
    {
     "name": "stdout",
     "output_type": "stream",
     "text": [
      "[LightGBM] [Warning] Unknown parameter: scale_pos_Weight\n",
      "[LightGBM] [Warning] bagging_fraction is set=0.6, subsample=0.6 will be ignored. Current value: bagging_fraction=0.6\n",
      "[LightGBM] [Warning] min_data_in_leaf is set=512, min_child_samples=16 will be ignored. Current value: min_data_in_leaf=512\n",
      "[LightGBM] [Warning] feature_fraction is set=0.6, colsample_bytree=0.6 will be ignored. Current value: feature_fraction=0.6\n"
     ]
    },
    {
     "name": "stderr",
     "output_type": "stream",
     "text": [
      "Found `num_iterations` in params. Will use it instead of argument\n"
     ]
    },
    {
     "name": "stdout",
     "output_type": "stream",
     "text": [
      "[LightGBM] [Warning] Unknown parameter: scale_pos_Weight\n",
      "[LightGBM] [Warning] bagging_fraction is set=0.6, subsample=0.6 will be ignored. Current value: bagging_fraction=0.6\n",
      "[LightGBM] [Warning] min_data_in_leaf is set=512, min_child_samples=16 will be ignored. Current value: min_data_in_leaf=512\n",
      "[LightGBM] [Warning] feature_fraction is set=0.6, colsample_bytree=0.6 will be ignored. Current value: feature_fraction=0.6\n"
     ]
    },
    {
     "name": "stderr",
     "output_type": "stream",
     "text": [
      "Found `num_iterations` in params. Will use it instead of argument\n"
     ]
    },
    {
     "name": "stdout",
     "output_type": "stream",
     "text": [
      "[LightGBM] [Warning] Unknown parameter: scale_pos_Weight\n",
      "[LightGBM] [Warning] bagging_fraction is set=0.6, subsample=0.6 will be ignored. Current value: bagging_fraction=0.6\n",
      "[LightGBM] [Warning] min_data_in_leaf is set=512, min_child_samples=16 will be ignored. Current value: min_data_in_leaf=512\n",
      "[LightGBM] [Warning] feature_fraction is set=0.6, colsample_bytree=0.6 will be ignored. Current value: feature_fraction=0.6\n"
     ]
    },
    {
     "name": "stderr",
     "output_type": "stream",
     "text": [
      "Found `num_iterations` in params. Will use it instead of argument\n"
     ]
    },
    {
     "name": "stdout",
     "output_type": "stream",
     "text": [
      "[LightGBM] [Warning] Unknown parameter: scale_pos_Weight\n",
      "[LightGBM] [Warning] bagging_fraction is set=0.7999999999999999, subsample=0.8999999999999999 will be ignored. Current value: bagging_fraction=0.7999999999999999\n",
      "[LightGBM] [Warning] min_data_in_leaf is set=64, min_child_samples=64 will be ignored. Current value: min_data_in_leaf=64\n",
      "[LightGBM] [Warning] feature_fraction is set=0.8999999999999999, colsample_bytree=0.6 will be ignored. Current value: feature_fraction=0.8999999999999999\n"
     ]
    },
    {
     "name": "stderr",
     "output_type": "stream",
     "text": [
      "Found `num_iterations` in params. Will use it instead of argument\n"
     ]
    },
    {
     "name": "stdout",
     "output_type": "stream",
     "text": [
      "[LightGBM] [Warning] Unknown parameter: scale_pos_Weight\n",
      "[LightGBM] [Warning] bagging_fraction is set=0.7999999999999999, subsample=0.8999999999999999 will be ignored. Current value: bagging_fraction=0.7999999999999999\n",
      "[LightGBM] [Warning] min_data_in_leaf is set=64, min_child_samples=64 will be ignored. Current value: min_data_in_leaf=64\n",
      "[LightGBM] [Warning] feature_fraction is set=0.8999999999999999, colsample_bytree=0.6 will be ignored. Current value: feature_fraction=0.8999999999999999\n"
     ]
    },
    {
     "name": "stderr",
     "output_type": "stream",
     "text": [
      "Found `num_iterations` in params. Will use it instead of argument\n"
     ]
    },
    {
     "name": "stdout",
     "output_type": "stream",
     "text": [
      "[LightGBM] [Warning] Unknown parameter: scale_pos_Weight\n",
      "[LightGBM] [Warning] bagging_fraction is set=0.7999999999999999, subsample=0.8999999999999999 will be ignored. Current value: bagging_fraction=0.7999999999999999\n",
      "[LightGBM] [Warning] min_data_in_leaf is set=64, min_child_samples=64 will be ignored. Current value: min_data_in_leaf=64\n",
      "[LightGBM] [Warning] feature_fraction is set=0.8999999999999999, colsample_bytree=0.6 will be ignored. Current value: feature_fraction=0.8999999999999999\n"
     ]
    },
    {
     "name": "stderr",
     "output_type": "stream",
     "text": [
      "Found `num_iterations` in params. Will use it instead of argument\n"
     ]
    },
    {
     "name": "stdout",
     "output_type": "stream",
     "text": [
      "[LightGBM] [Warning] Unknown parameter: scale_pos_Weight\n",
      "[LightGBM] [Warning] bagging_fraction is set=0.7999999999999999, subsample=0.8999999999999999 will be ignored. Current value: bagging_fraction=0.7999999999999999\n",
      "[LightGBM] [Warning] min_data_in_leaf is set=64, min_child_samples=64 will be ignored. Current value: min_data_in_leaf=64\n",
      "[LightGBM] [Warning] feature_fraction is set=0.8999999999999999, colsample_bytree=0.6 will be ignored. Current value: feature_fraction=0.8999999999999999\n"
     ]
    },
    {
     "name": "stderr",
     "output_type": "stream",
     "text": [
      "Found `num_iterations` in params. Will use it instead of argument\n"
     ]
    },
    {
     "name": "stdout",
     "output_type": "stream",
     "text": [
      "[LightGBM] [Warning] Unknown parameter: scale_pos_Weight\n",
      "[LightGBM] [Warning] bagging_fraction is set=0.7999999999999999, subsample=0.8999999999999999 will be ignored. Current value: bagging_fraction=0.7999999999999999\n",
      "[LightGBM] [Warning] min_data_in_leaf is set=64, min_child_samples=64 will be ignored. Current value: min_data_in_leaf=64\n",
      "[LightGBM] [Warning] feature_fraction is set=0.8999999999999999, colsample_bytree=0.6 will be ignored. Current value: feature_fraction=0.8999999999999999\n"
     ]
    },
    {
     "name": "stderr",
     "output_type": "stream",
     "text": [
      "Found `num_iterations` in params. Will use it instead of argument\n"
     ]
    },
    {
     "name": "stdout",
     "output_type": "stream",
     "text": [
      "[LightGBM] [Warning] Unknown parameter: scale_pos_Weight\n",
      "[LightGBM] [Warning] bagging_fraction is set=0.5, subsample=0.7 will be ignored. Current value: bagging_fraction=0.5\n",
      "[LightGBM] [Warning] min_data_in_leaf is set=256, min_child_samples=16 will be ignored. Current value: min_data_in_leaf=256\n",
      "[LightGBM] [Warning] feature_fraction is set=0.6, colsample_bytree=0.7 will be ignored. Current value: feature_fraction=0.6\n"
     ]
    },
    {
     "name": "stderr",
     "output_type": "stream",
     "text": [
      "Found `num_iterations` in params. Will use it instead of argument\n"
     ]
    },
    {
     "name": "stdout",
     "output_type": "stream",
     "text": [
      "[LightGBM] [Warning] Unknown parameter: scale_pos_Weight\n",
      "[LightGBM] [Warning] bagging_fraction is set=0.5, subsample=0.7 will be ignored. Current value: bagging_fraction=0.5\n",
      "[LightGBM] [Warning] min_data_in_leaf is set=256, min_child_samples=16 will be ignored. Current value: min_data_in_leaf=256\n",
      "[LightGBM] [Warning] feature_fraction is set=0.6, colsample_bytree=0.7 will be ignored. Current value: feature_fraction=0.6\n"
     ]
    },
    {
     "name": "stderr",
     "output_type": "stream",
     "text": [
      "Found `num_iterations` in params. Will use it instead of argument\n"
     ]
    },
    {
     "name": "stdout",
     "output_type": "stream",
     "text": [
      "[LightGBM] [Warning] Unknown parameter: scale_pos_Weight\n",
      "[LightGBM] [Warning] bagging_fraction is set=0.5, subsample=0.7 will be ignored. Current value: bagging_fraction=0.5\n",
      "[LightGBM] [Warning] min_data_in_leaf is set=256, min_child_samples=16 will be ignored. Current value: min_data_in_leaf=256\n",
      "[LightGBM] [Warning] feature_fraction is set=0.6, colsample_bytree=0.7 will be ignored. Current value: feature_fraction=0.6\n"
     ]
    },
    {
     "name": "stderr",
     "output_type": "stream",
     "text": [
      "Found `num_iterations` in params. Will use it instead of argument\n"
     ]
    },
    {
     "name": "stdout",
     "output_type": "stream",
     "text": [
      "[LightGBM] [Warning] Unknown parameter: scale_pos_Weight\n",
      "[LightGBM] [Warning] bagging_fraction is set=0.5, subsample=0.7 will be ignored. Current value: bagging_fraction=0.5\n",
      "[LightGBM] [Warning] min_data_in_leaf is set=256, min_child_samples=16 will be ignored. Current value: min_data_in_leaf=256\n",
      "[LightGBM] [Warning] feature_fraction is set=0.6, colsample_bytree=0.7 will be ignored. Current value: feature_fraction=0.6\n"
     ]
    },
    {
     "name": "stderr",
     "output_type": "stream",
     "text": [
      "Found `num_iterations` in params. Will use it instead of argument\n"
     ]
    },
    {
     "name": "stdout",
     "output_type": "stream",
     "text": [
      "[LightGBM] [Warning] Unknown parameter: scale_pos_Weight\n",
      "[LightGBM] [Warning] bagging_fraction is set=0.5, subsample=0.7 will be ignored. Current value: bagging_fraction=0.5\n",
      "[LightGBM] [Warning] min_data_in_leaf is set=256, min_child_samples=16 will be ignored. Current value: min_data_in_leaf=256\n",
      "[LightGBM] [Warning] feature_fraction is set=0.6, colsample_bytree=0.7 will be ignored. Current value: feature_fraction=0.6\n"
     ]
    },
    {
     "name": "stderr",
     "output_type": "stream",
     "text": [
      "Found `num_iterations` in params. Will use it instead of argument\n"
     ]
    },
    {
     "name": "stdout",
     "output_type": "stream",
     "text": [
      "[LightGBM] [Warning] Unknown parameter: scale_pos_Weight\n",
      "[LightGBM] [Warning] bagging_fraction is set=0.8999999999999999, subsample=0.5 will be ignored. Current value: bagging_fraction=0.8999999999999999\n",
      "[LightGBM] [Warning] min_data_in_leaf is set=128, min_child_samples=2 will be ignored. Current value: min_data_in_leaf=128\n",
      "[LightGBM] [Warning] feature_fraction is set=0.6, colsample_bytree=0.6 will be ignored. Current value: feature_fraction=0.6\n"
     ]
    },
    {
     "name": "stderr",
     "output_type": "stream",
     "text": [
      "Found `num_iterations` in params. Will use it instead of argument\n"
     ]
    },
    {
     "name": "stdout",
     "output_type": "stream",
     "text": [
      "[LightGBM] [Warning] Unknown parameter: scale_pos_Weight\n",
      "[LightGBM] [Warning] bagging_fraction is set=0.8999999999999999, subsample=0.5 will be ignored. Current value: bagging_fraction=0.8999999999999999\n",
      "[LightGBM] [Warning] min_data_in_leaf is set=128, min_child_samples=2 will be ignored. Current value: min_data_in_leaf=128\n",
      "[LightGBM] [Warning] feature_fraction is set=0.6, colsample_bytree=0.6 will be ignored. Current value: feature_fraction=0.6\n"
     ]
    },
    {
     "name": "stderr",
     "output_type": "stream",
     "text": [
      "Found `num_iterations` in params. Will use it instead of argument\n"
     ]
    },
    {
     "name": "stdout",
     "output_type": "stream",
     "text": [
      "[LightGBM] [Warning] Unknown parameter: scale_pos_Weight\n",
      "[LightGBM] [Warning] bagging_fraction is set=0.8999999999999999, subsample=0.5 will be ignored. Current value: bagging_fraction=0.8999999999999999\n",
      "[LightGBM] [Warning] min_data_in_leaf is set=128, min_child_samples=2 will be ignored. Current value: min_data_in_leaf=128\n",
      "[LightGBM] [Warning] feature_fraction is set=0.6, colsample_bytree=0.6 will be ignored. Current value: feature_fraction=0.6\n"
     ]
    },
    {
     "name": "stderr",
     "output_type": "stream",
     "text": [
      "Found `num_iterations` in params. Will use it instead of argument\n"
     ]
    },
    {
     "name": "stdout",
     "output_type": "stream",
     "text": [
      "[LightGBM] [Warning] Unknown parameter: scale_pos_Weight\n",
      "[LightGBM] [Warning] bagging_fraction is set=0.8999999999999999, subsample=0.5 will be ignored. Current value: bagging_fraction=0.8999999999999999\n",
      "[LightGBM] [Warning] min_data_in_leaf is set=128, min_child_samples=2 will be ignored. Current value: min_data_in_leaf=128\n",
      "[LightGBM] [Warning] feature_fraction is set=0.6, colsample_bytree=0.6 will be ignored. Current value: feature_fraction=0.6\n"
     ]
    },
    {
     "name": "stderr",
     "output_type": "stream",
     "text": [
      "Found `num_iterations` in params. Will use it instead of argument\n"
     ]
    },
    {
     "name": "stdout",
     "output_type": "stream",
     "text": [
      "[LightGBM] [Warning] Unknown parameter: scale_pos_Weight\n",
      "[LightGBM] [Warning] bagging_fraction is set=0.8999999999999999, subsample=0.5 will be ignored. Current value: bagging_fraction=0.8999999999999999\n",
      "[LightGBM] [Warning] min_data_in_leaf is set=128, min_child_samples=2 will be ignored. Current value: min_data_in_leaf=128\n",
      "[LightGBM] [Warning] feature_fraction is set=0.6, colsample_bytree=0.6 will be ignored. Current value: feature_fraction=0.6\n"
     ]
    },
    {
     "name": "stderr",
     "output_type": "stream",
     "text": [
      "Found `num_iterations` in params. Will use it instead of argument\n"
     ]
    },
    {
     "name": "stdout",
     "output_type": "stream",
     "text": [
      "[LightGBM] [Warning] Unknown parameter: scale_pos_Weight\n",
      "[LightGBM] [Warning] bagging_fraction is set=0.7999999999999999, subsample=0.7 will be ignored. Current value: bagging_fraction=0.7999999999999999\n",
      "[LightGBM] [Warning] min_data_in_leaf is set=32, min_child_samples=32 will be ignored. Current value: min_data_in_leaf=32\n",
      "[LightGBM] [Warning] feature_fraction is set=0.8999999999999999, colsample_bytree=0.7999999999999999 will be ignored. Current value: feature_fraction=0.8999999999999999\n"
     ]
    },
    {
     "name": "stderr",
     "output_type": "stream",
     "text": [
      "Found `num_iterations` in params. Will use it instead of argument\n"
     ]
    },
    {
     "name": "stdout",
     "output_type": "stream",
     "text": [
      "[LightGBM] [Warning] Unknown parameter: scale_pos_Weight\n",
      "[LightGBM] [Warning] bagging_fraction is set=0.7999999999999999, subsample=0.7 will be ignored. Current value: bagging_fraction=0.7999999999999999\n",
      "[LightGBM] [Warning] min_data_in_leaf is set=32, min_child_samples=32 will be ignored. Current value: min_data_in_leaf=32\n",
      "[LightGBM] [Warning] feature_fraction is set=0.8999999999999999, colsample_bytree=0.7999999999999999 will be ignored. Current value: feature_fraction=0.8999999999999999\n"
     ]
    },
    {
     "name": "stderr",
     "output_type": "stream",
     "text": [
      "Found `num_iterations` in params. Will use it instead of argument\n"
     ]
    },
    {
     "name": "stdout",
     "output_type": "stream",
     "text": [
      "[LightGBM] [Warning] Unknown parameter: scale_pos_Weight\n",
      "[LightGBM] [Warning] bagging_fraction is set=0.7999999999999999, subsample=0.7 will be ignored. Current value: bagging_fraction=0.7999999999999999\n",
      "[LightGBM] [Warning] min_data_in_leaf is set=32, min_child_samples=32 will be ignored. Current value: min_data_in_leaf=32\n",
      "[LightGBM] [Warning] feature_fraction is set=0.8999999999999999, colsample_bytree=0.7999999999999999 will be ignored. Current value: feature_fraction=0.8999999999999999\n"
     ]
    },
    {
     "name": "stderr",
     "output_type": "stream",
     "text": [
      "Found `num_iterations` in params. Will use it instead of argument\n"
     ]
    },
    {
     "name": "stdout",
     "output_type": "stream",
     "text": [
      "[LightGBM] [Warning] Unknown parameter: scale_pos_Weight\n",
      "[LightGBM] [Warning] bagging_fraction is set=0.7999999999999999, subsample=0.7 will be ignored. Current value: bagging_fraction=0.7999999999999999\n",
      "[LightGBM] [Warning] min_data_in_leaf is set=32, min_child_samples=32 will be ignored. Current value: min_data_in_leaf=32\n",
      "[LightGBM] [Warning] feature_fraction is set=0.8999999999999999, colsample_bytree=0.7999999999999999 will be ignored. Current value: feature_fraction=0.8999999999999999\n"
     ]
    },
    {
     "name": "stderr",
     "output_type": "stream",
     "text": [
      "Found `num_iterations` in params. Will use it instead of argument\n"
     ]
    },
    {
     "name": "stdout",
     "output_type": "stream",
     "text": [
      "[LightGBM] [Warning] Unknown parameter: scale_pos_Weight\n",
      "[LightGBM] [Warning] bagging_fraction is set=0.7999999999999999, subsample=0.7 will be ignored. Current value: bagging_fraction=0.7999999999999999\n",
      "[LightGBM] [Warning] min_data_in_leaf is set=32, min_child_samples=32 will be ignored. Current value: min_data_in_leaf=32\n",
      "[LightGBM] [Warning] feature_fraction is set=0.8999999999999999, colsample_bytree=0.7999999999999999 will be ignored. Current value: feature_fraction=0.8999999999999999\n"
     ]
    },
    {
     "name": "stderr",
     "output_type": "stream",
     "text": [
      "Found `num_iterations` in params. Will use it instead of argument\n"
     ]
    },
    {
     "name": "stdout",
     "output_type": "stream",
     "text": [
      "[LightGBM] [Warning] Unknown parameter: scale_pos_Weight\n",
      "[LightGBM] [Warning] bagging_fraction is set=0.5, subsample=0.8999999999999999 will be ignored. Current value: bagging_fraction=0.5\n",
      "[LightGBM] [Warning] min_data_in_leaf is set=128, min_child_samples=4 will be ignored. Current value: min_data_in_leaf=128\n",
      "[LightGBM] [Warning] feature_fraction is set=0.5, colsample_bytree=0.5 will be ignored. Current value: feature_fraction=0.5\n"
     ]
    },
    {
     "name": "stderr",
     "output_type": "stream",
     "text": [
      "Found `num_iterations` in params. Will use it instead of argument\n"
     ]
    },
    {
     "name": "stdout",
     "output_type": "stream",
     "text": [
      "[LightGBM] [Warning] Unknown parameter: scale_pos_Weight\n",
      "[LightGBM] [Warning] bagging_fraction is set=0.5, subsample=0.8999999999999999 will be ignored. Current value: bagging_fraction=0.5\n",
      "[LightGBM] [Warning] min_data_in_leaf is set=128, min_child_samples=4 will be ignored. Current value: min_data_in_leaf=128\n",
      "[LightGBM] [Warning] feature_fraction is set=0.5, colsample_bytree=0.5 will be ignored. Current value: feature_fraction=0.5\n"
     ]
    },
    {
     "name": "stderr",
     "output_type": "stream",
     "text": [
      "Found `num_iterations` in params. Will use it instead of argument\n"
     ]
    },
    {
     "name": "stdout",
     "output_type": "stream",
     "text": [
      "[LightGBM] [Warning] Unknown parameter: scale_pos_Weight\n",
      "[LightGBM] [Warning] bagging_fraction is set=0.5, subsample=0.8999999999999999 will be ignored. Current value: bagging_fraction=0.5\n",
      "[LightGBM] [Warning] min_data_in_leaf is set=128, min_child_samples=4 will be ignored. Current value: min_data_in_leaf=128\n",
      "[LightGBM] [Warning] feature_fraction is set=0.5, colsample_bytree=0.5 will be ignored. Current value: feature_fraction=0.5\n"
     ]
    },
    {
     "name": "stderr",
     "output_type": "stream",
     "text": [
      "Found `num_iterations` in params. Will use it instead of argument\n"
     ]
    },
    {
     "name": "stdout",
     "output_type": "stream",
     "text": [
      "[LightGBM] [Warning] Unknown parameter: scale_pos_Weight\n",
      "[LightGBM] [Warning] bagging_fraction is set=0.5, subsample=0.8999999999999999 will be ignored. Current value: bagging_fraction=0.5\n",
      "[LightGBM] [Warning] min_data_in_leaf is set=128, min_child_samples=4 will be ignored. Current value: min_data_in_leaf=128\n",
      "[LightGBM] [Warning] feature_fraction is set=0.5, colsample_bytree=0.5 will be ignored. Current value: feature_fraction=0.5\n"
     ]
    },
    {
     "name": "stderr",
     "output_type": "stream",
     "text": [
      "Found `num_iterations` in params. Will use it instead of argument\n"
     ]
    },
    {
     "name": "stdout",
     "output_type": "stream",
     "text": [
      "[LightGBM] [Warning] Unknown parameter: scale_pos_Weight\n",
      "[LightGBM] [Warning] bagging_fraction is set=0.5, subsample=0.8999999999999999 will be ignored. Current value: bagging_fraction=0.5\n",
      "[LightGBM] [Warning] min_data_in_leaf is set=128, min_child_samples=4 will be ignored. Current value: min_data_in_leaf=128\n",
      "[LightGBM] [Warning] feature_fraction is set=0.5, colsample_bytree=0.5 will be ignored. Current value: feature_fraction=0.5\n"
     ]
    },
    {
     "name": "stderr",
     "output_type": "stream",
     "text": [
      "Found `num_iterations` in params. Will use it instead of argument\n"
     ]
    },
    {
     "name": "stdout",
     "output_type": "stream",
     "text": [
      "[LightGBM] [Warning] Unknown parameter: scale_pos_Weight\n",
      "[LightGBM] [Warning] bagging_fraction is set=0.8999999999999999, subsample=0.8999999999999999 will be ignored. Current value: bagging_fraction=0.8999999999999999\n",
      "[LightGBM] [Warning] min_data_in_leaf is set=512, min_child_samples=16 will be ignored. Current value: min_data_in_leaf=512\n",
      "[LightGBM] [Warning] feature_fraction is set=0.8999999999999999, colsample_bytree=0.7999999999999999 will be ignored. Current value: feature_fraction=0.8999999999999999\n"
     ]
    },
    {
     "name": "stderr",
     "output_type": "stream",
     "text": [
      "Found `num_iterations` in params. Will use it instead of argument\n"
     ]
    },
    {
     "name": "stdout",
     "output_type": "stream",
     "text": [
      "[LightGBM] [Warning] Unknown parameter: scale_pos_Weight\n",
      "[LightGBM] [Warning] bagging_fraction is set=0.8999999999999999, subsample=0.8999999999999999 will be ignored. Current value: bagging_fraction=0.8999999999999999\n",
      "[LightGBM] [Warning] min_data_in_leaf is set=512, min_child_samples=16 will be ignored. Current value: min_data_in_leaf=512\n",
      "[LightGBM] [Warning] feature_fraction is set=0.8999999999999999, colsample_bytree=0.7999999999999999 will be ignored. Current value: feature_fraction=0.8999999999999999\n"
     ]
    },
    {
     "name": "stderr",
     "output_type": "stream",
     "text": [
      "Found `num_iterations` in params. Will use it instead of argument\n"
     ]
    },
    {
     "name": "stdout",
     "output_type": "stream",
     "text": [
      "[LightGBM] [Warning] Unknown parameter: scale_pos_Weight\n",
      "[LightGBM] [Warning] bagging_fraction is set=0.8999999999999999, subsample=0.8999999999999999 will be ignored. Current value: bagging_fraction=0.8999999999999999\n",
      "[LightGBM] [Warning] min_data_in_leaf is set=512, min_child_samples=16 will be ignored. Current value: min_data_in_leaf=512\n",
      "[LightGBM] [Warning] feature_fraction is set=0.8999999999999999, colsample_bytree=0.7999999999999999 will be ignored. Current value: feature_fraction=0.8999999999999999\n"
     ]
    },
    {
     "name": "stderr",
     "output_type": "stream",
     "text": [
      "Found `num_iterations` in params. Will use it instead of argument\n"
     ]
    },
    {
     "name": "stdout",
     "output_type": "stream",
     "text": [
      "[LightGBM] [Warning] Unknown parameter: scale_pos_Weight\n",
      "[LightGBM] [Warning] bagging_fraction is set=0.8999999999999999, subsample=0.8999999999999999 will be ignored. Current value: bagging_fraction=0.8999999999999999\n",
      "[LightGBM] [Warning] min_data_in_leaf is set=512, min_child_samples=16 will be ignored. Current value: min_data_in_leaf=512\n",
      "[LightGBM] [Warning] feature_fraction is set=0.8999999999999999, colsample_bytree=0.7999999999999999 will be ignored. Current value: feature_fraction=0.8999999999999999\n"
     ]
    },
    {
     "name": "stderr",
     "output_type": "stream",
     "text": [
      "Found `num_iterations` in params. Will use it instead of argument\n"
     ]
    },
    {
     "name": "stdout",
     "output_type": "stream",
     "text": [
      "[LightGBM] [Warning] Unknown parameter: scale_pos_Weight\n",
      "[LightGBM] [Warning] bagging_fraction is set=0.8999999999999999, subsample=0.8999999999999999 will be ignored. Current value: bagging_fraction=0.8999999999999999\n",
      "[LightGBM] [Warning] min_data_in_leaf is set=512, min_child_samples=16 will be ignored. Current value: min_data_in_leaf=512\n",
      "[LightGBM] [Warning] feature_fraction is set=0.8999999999999999, colsample_bytree=0.7999999999999999 will be ignored. Current value: feature_fraction=0.8999999999999999\n"
     ]
    },
    {
     "name": "stderr",
     "output_type": "stream",
     "text": [
      "Found `num_iterations` in params. Will use it instead of argument\n"
     ]
    },
    {
     "name": "stdout",
     "output_type": "stream",
     "text": [
      "[LightGBM] [Warning] Unknown parameter: scale_pos_Weight\n",
      "[LightGBM] [Warning] bagging_fraction is set=0.7999999999999999, subsample=0.6 will be ignored. Current value: bagging_fraction=0.7999999999999999\n",
      "[LightGBM] [Warning] min_data_in_leaf is set=16, min_child_samples=64 will be ignored. Current value: min_data_in_leaf=16\n",
      "[LightGBM] [Warning] feature_fraction is set=0.7999999999999999, colsample_bytree=0.6 will be ignored. Current value: feature_fraction=0.7999999999999999\n"
     ]
    },
    {
     "name": "stderr",
     "output_type": "stream",
     "text": [
      "Found `num_iterations` in params. Will use it instead of argument\n"
     ]
    },
    {
     "name": "stdout",
     "output_type": "stream",
     "text": [
      "[LightGBM] [Warning] Unknown parameter: scale_pos_Weight\n",
      "[LightGBM] [Warning] bagging_fraction is set=0.7999999999999999, subsample=0.6 will be ignored. Current value: bagging_fraction=0.7999999999999999\n",
      "[LightGBM] [Warning] min_data_in_leaf is set=16, min_child_samples=64 will be ignored. Current value: min_data_in_leaf=16\n",
      "[LightGBM] [Warning] feature_fraction is set=0.7999999999999999, colsample_bytree=0.6 will be ignored. Current value: feature_fraction=0.7999999999999999\n"
     ]
    },
    {
     "name": "stderr",
     "output_type": "stream",
     "text": [
      "Found `num_iterations` in params. Will use it instead of argument\n"
     ]
    },
    {
     "name": "stdout",
     "output_type": "stream",
     "text": [
      "[LightGBM] [Warning] Unknown parameter: scale_pos_Weight\n",
      "[LightGBM] [Warning] bagging_fraction is set=0.7999999999999999, subsample=0.6 will be ignored. Current value: bagging_fraction=0.7999999999999999\n",
      "[LightGBM] [Warning] min_data_in_leaf is set=16, min_child_samples=64 will be ignored. Current value: min_data_in_leaf=16\n",
      "[LightGBM] [Warning] feature_fraction is set=0.7999999999999999, colsample_bytree=0.6 will be ignored. Current value: feature_fraction=0.7999999999999999\n"
     ]
    },
    {
     "name": "stderr",
     "output_type": "stream",
     "text": [
      "Found `num_iterations` in params. Will use it instead of argument\n"
     ]
    },
    {
     "name": "stdout",
     "output_type": "stream",
     "text": [
      "[LightGBM] [Warning] Unknown parameter: scale_pos_Weight\n",
      "[LightGBM] [Warning] bagging_fraction is set=0.7999999999999999, subsample=0.6 will be ignored. Current value: bagging_fraction=0.7999999999999999\n",
      "[LightGBM] [Warning] min_data_in_leaf is set=16, min_child_samples=64 will be ignored. Current value: min_data_in_leaf=16\n",
      "[LightGBM] [Warning] feature_fraction is set=0.7999999999999999, colsample_bytree=0.6 will be ignored. Current value: feature_fraction=0.7999999999999999\n"
     ]
    },
    {
     "name": "stderr",
     "output_type": "stream",
     "text": [
      "Found `num_iterations` in params. Will use it instead of argument\n"
     ]
    },
    {
     "name": "stdout",
     "output_type": "stream",
     "text": [
      "[LightGBM] [Warning] Unknown parameter: scale_pos_Weight\n",
      "[LightGBM] [Warning] bagging_fraction is set=0.7999999999999999, subsample=0.6 will be ignored. Current value: bagging_fraction=0.7999999999999999\n",
      "[LightGBM] [Warning] min_data_in_leaf is set=16, min_child_samples=64 will be ignored. Current value: min_data_in_leaf=16\n",
      "[LightGBM] [Warning] feature_fraction is set=0.7999999999999999, colsample_bytree=0.6 will be ignored. Current value: feature_fraction=0.7999999999999999\n"
     ]
    },
    {
     "name": "stderr",
     "output_type": "stream",
     "text": [
      "Found `num_iterations` in params. Will use it instead of argument\n"
     ]
    },
    {
     "name": "stdout",
     "output_type": "stream",
     "text": [
      "[LightGBM] [Warning] Unknown parameter: scale_pos_Weight\n",
      "[LightGBM] [Warning] bagging_fraction is set=0.8999999999999999, subsample=0.7 will be ignored. Current value: bagging_fraction=0.8999999999999999\n",
      "[LightGBM] [Warning] min_data_in_leaf is set=8, min_child_samples=16 will be ignored. Current value: min_data_in_leaf=8\n",
      "[LightGBM] [Warning] feature_fraction is set=0.8999999999999999, colsample_bytree=0.8999999999999999 will be ignored. Current value: feature_fraction=0.8999999999999999\n"
     ]
    },
    {
     "name": "stderr",
     "output_type": "stream",
     "text": [
      "Found `num_iterations` in params. Will use it instead of argument\n"
     ]
    },
    {
     "name": "stdout",
     "output_type": "stream",
     "text": [
      "[LightGBM] [Warning] Unknown parameter: scale_pos_Weight\n",
      "[LightGBM] [Warning] bagging_fraction is set=0.8999999999999999, subsample=0.7 will be ignored. Current value: bagging_fraction=0.8999999999999999\n",
      "[LightGBM] [Warning] min_data_in_leaf is set=8, min_child_samples=16 will be ignored. Current value: min_data_in_leaf=8\n",
      "[LightGBM] [Warning] feature_fraction is set=0.8999999999999999, colsample_bytree=0.8999999999999999 will be ignored. Current value: feature_fraction=0.8999999999999999\n"
     ]
    },
    {
     "name": "stderr",
     "output_type": "stream",
     "text": [
      "Found `num_iterations` in params. Will use it instead of argument\n"
     ]
    },
    {
     "name": "stdout",
     "output_type": "stream",
     "text": [
      "[LightGBM] [Warning] Unknown parameter: scale_pos_Weight\n",
      "[LightGBM] [Warning] bagging_fraction is set=0.8999999999999999, subsample=0.7 will be ignored. Current value: bagging_fraction=0.8999999999999999\n",
      "[LightGBM] [Warning] min_data_in_leaf is set=8, min_child_samples=16 will be ignored. Current value: min_data_in_leaf=8\n",
      "[LightGBM] [Warning] feature_fraction is set=0.8999999999999999, colsample_bytree=0.8999999999999999 will be ignored. Current value: feature_fraction=0.8999999999999999\n"
     ]
    },
    {
     "name": "stderr",
     "output_type": "stream",
     "text": [
      "Found `num_iterations` in params. Will use it instead of argument\n"
     ]
    },
    {
     "name": "stdout",
     "output_type": "stream",
     "text": [
      "[LightGBM] [Warning] Unknown parameter: scale_pos_Weight\n",
      "[LightGBM] [Warning] bagging_fraction is set=0.8999999999999999, subsample=0.7 will be ignored. Current value: bagging_fraction=0.8999999999999999\n",
      "[LightGBM] [Warning] min_data_in_leaf is set=8, min_child_samples=16 will be ignored. Current value: min_data_in_leaf=8\n",
      "[LightGBM] [Warning] feature_fraction is set=0.8999999999999999, colsample_bytree=0.8999999999999999 will be ignored. Current value: feature_fraction=0.8999999999999999\n"
     ]
    },
    {
     "name": "stderr",
     "output_type": "stream",
     "text": [
      "Found `num_iterations` in params. Will use it instead of argument\n"
     ]
    },
    {
     "name": "stdout",
     "output_type": "stream",
     "text": [
      "[LightGBM] [Warning] Unknown parameter: scale_pos_Weight\n",
      "[LightGBM] [Warning] bagging_fraction is set=0.8999999999999999, subsample=0.7 will be ignored. Current value: bagging_fraction=0.8999999999999999\n",
      "[LightGBM] [Warning] min_data_in_leaf is set=8, min_child_samples=16 will be ignored. Current value: min_data_in_leaf=8\n",
      "[LightGBM] [Warning] feature_fraction is set=0.8999999999999999, colsample_bytree=0.8999999999999999 will be ignored. Current value: feature_fraction=0.8999999999999999\n"
     ]
    },
    {
     "name": "stderr",
     "output_type": "stream",
     "text": [
      "Found `num_iterations` in params. Will use it instead of argument\n"
     ]
    },
    {
     "name": "stdout",
     "output_type": "stream",
     "text": [
      "[LightGBM] [Warning] Unknown parameter: scale_pos_Weight\n",
      "[LightGBM] [Warning] bagging_fraction is set=0.6, subsample=0.5 will be ignored. Current value: bagging_fraction=0.6\n",
      "[LightGBM] [Warning] min_data_in_leaf is set=64, min_child_samples=64 will be ignored. Current value: min_data_in_leaf=64\n",
      "[LightGBM] [Warning] feature_fraction is set=0.7999999999999999, colsample_bytree=0.7 will be ignored. Current value: feature_fraction=0.7999999999999999\n"
     ]
    },
    {
     "name": "stderr",
     "output_type": "stream",
     "text": [
      "Found `num_iterations` in params. Will use it instead of argument\n"
     ]
    },
    {
     "name": "stdout",
     "output_type": "stream",
     "text": [
      "[LightGBM] [Warning] Unknown parameter: scale_pos_Weight\n",
      "[LightGBM] [Warning] bagging_fraction is set=0.6, subsample=0.5 will be ignored. Current value: bagging_fraction=0.6\n",
      "[LightGBM] [Warning] min_data_in_leaf is set=64, min_child_samples=64 will be ignored. Current value: min_data_in_leaf=64\n",
      "[LightGBM] [Warning] feature_fraction is set=0.7999999999999999, colsample_bytree=0.7 will be ignored. Current value: feature_fraction=0.7999999999999999\n"
     ]
    },
    {
     "name": "stderr",
     "output_type": "stream",
     "text": [
      "Found `num_iterations` in params. Will use it instead of argument\n"
     ]
    },
    {
     "name": "stdout",
     "output_type": "stream",
     "text": [
      "[LightGBM] [Warning] Unknown parameter: scale_pos_Weight\n",
      "[LightGBM] [Warning] bagging_fraction is set=0.6, subsample=0.5 will be ignored. Current value: bagging_fraction=0.6\n",
      "[LightGBM] [Warning] min_data_in_leaf is set=64, min_child_samples=64 will be ignored. Current value: min_data_in_leaf=64\n",
      "[LightGBM] [Warning] feature_fraction is set=0.7999999999999999, colsample_bytree=0.7 will be ignored. Current value: feature_fraction=0.7999999999999999\n"
     ]
    },
    {
     "name": "stderr",
     "output_type": "stream",
     "text": [
      "Found `num_iterations` in params. Will use it instead of argument\n"
     ]
    },
    {
     "name": "stdout",
     "output_type": "stream",
     "text": [
      "[LightGBM] [Warning] Unknown parameter: scale_pos_Weight\n",
      "[LightGBM] [Warning] bagging_fraction is set=0.6, subsample=0.5 will be ignored. Current value: bagging_fraction=0.6\n",
      "[LightGBM] [Warning] min_data_in_leaf is set=64, min_child_samples=64 will be ignored. Current value: min_data_in_leaf=64\n",
      "[LightGBM] [Warning] feature_fraction is set=0.7999999999999999, colsample_bytree=0.7 will be ignored. Current value: feature_fraction=0.7999999999999999\n"
     ]
    },
    {
     "name": "stderr",
     "output_type": "stream",
     "text": [
      "Found `num_iterations` in params. Will use it instead of argument\n"
     ]
    },
    {
     "name": "stdout",
     "output_type": "stream",
     "text": [
      "[LightGBM] [Warning] Unknown parameter: scale_pos_Weight\n",
      "[LightGBM] [Warning] bagging_fraction is set=0.6, subsample=0.5 will be ignored. Current value: bagging_fraction=0.6\n",
      "[LightGBM] [Warning] min_data_in_leaf is set=64, min_child_samples=64 will be ignored. Current value: min_data_in_leaf=64\n",
      "[LightGBM] [Warning] feature_fraction is set=0.7999999999999999, colsample_bytree=0.7 will be ignored. Current value: feature_fraction=0.7999999999999999\n"
     ]
    },
    {
     "name": "stderr",
     "output_type": "stream",
     "text": [
      "Found `num_iterations` in params. Will use it instead of argument\n"
     ]
    },
    {
     "name": "stdout",
     "output_type": "stream",
     "text": [
      "[LightGBM] [Warning] Unknown parameter: scale_pos_Weight\n",
      "[LightGBM] [Warning] bagging_fraction is set=0.5, subsample=0.7 will be ignored. Current value: bagging_fraction=0.5\n",
      "[LightGBM] [Warning] min_data_in_leaf is set=64, min_child_samples=8 will be ignored. Current value: min_data_in_leaf=64\n",
      "[LightGBM] [Warning] feature_fraction is set=0.6, colsample_bytree=0.7999999999999999 will be ignored. Current value: feature_fraction=0.6\n"
     ]
    },
    {
     "name": "stderr",
     "output_type": "stream",
     "text": [
      "Found `num_iterations` in params. Will use it instead of argument\n"
     ]
    },
    {
     "name": "stdout",
     "output_type": "stream",
     "text": [
      "[LightGBM] [Warning] Unknown parameter: scale_pos_Weight\n",
      "[LightGBM] [Warning] bagging_fraction is set=0.5, subsample=0.7 will be ignored. Current value: bagging_fraction=0.5\n",
      "[LightGBM] [Warning] min_data_in_leaf is set=64, min_child_samples=8 will be ignored. Current value: min_data_in_leaf=64\n",
      "[LightGBM] [Warning] feature_fraction is set=0.6, colsample_bytree=0.7999999999999999 will be ignored. Current value: feature_fraction=0.6\n"
     ]
    },
    {
     "name": "stderr",
     "output_type": "stream",
     "text": [
      "Found `num_iterations` in params. Will use it instead of argument\n"
     ]
    },
    {
     "name": "stdout",
     "output_type": "stream",
     "text": [
      "[LightGBM] [Warning] Unknown parameter: scale_pos_Weight\n",
      "[LightGBM] [Warning] bagging_fraction is set=0.5, subsample=0.7 will be ignored. Current value: bagging_fraction=0.5\n",
      "[LightGBM] [Warning] min_data_in_leaf is set=64, min_child_samples=8 will be ignored. Current value: min_data_in_leaf=64\n",
      "[LightGBM] [Warning] feature_fraction is set=0.6, colsample_bytree=0.7999999999999999 will be ignored. Current value: feature_fraction=0.6\n"
     ]
    },
    {
     "name": "stderr",
     "output_type": "stream",
     "text": [
      "Found `num_iterations` in params. Will use it instead of argument\n"
     ]
    },
    {
     "name": "stdout",
     "output_type": "stream",
     "text": [
      "[LightGBM] [Warning] Unknown parameter: scale_pos_Weight\n",
      "[LightGBM] [Warning] bagging_fraction is set=0.5, subsample=0.7 will be ignored. Current value: bagging_fraction=0.5\n",
      "[LightGBM] [Warning] min_data_in_leaf is set=64, min_child_samples=8 will be ignored. Current value: min_data_in_leaf=64\n",
      "[LightGBM] [Warning] feature_fraction is set=0.6, colsample_bytree=0.7999999999999999 will be ignored. Current value: feature_fraction=0.6\n"
     ]
    },
    {
     "name": "stderr",
     "output_type": "stream",
     "text": [
      "Found `num_iterations` in params. Will use it instead of argument\n"
     ]
    },
    {
     "name": "stdout",
     "output_type": "stream",
     "text": [
      "[LightGBM] [Warning] Unknown parameter: scale_pos_Weight\n",
      "[LightGBM] [Warning] bagging_fraction is set=0.5, subsample=0.7 will be ignored. Current value: bagging_fraction=0.5\n",
      "[LightGBM] [Warning] min_data_in_leaf is set=64, min_child_samples=8 will be ignored. Current value: min_data_in_leaf=64\n",
      "[LightGBM] [Warning] feature_fraction is set=0.6, colsample_bytree=0.7999999999999999 will be ignored. Current value: feature_fraction=0.6\n"
     ]
    },
    {
     "name": "stderr",
     "output_type": "stream",
     "text": [
      "Found `num_iterations` in params. Will use it instead of argument\n"
     ]
    },
    {
     "name": "stdout",
     "output_type": "stream",
     "text": [
      "[LightGBM] [Warning] Unknown parameter: scale_pos_Weight\n",
      "[LightGBM] [Warning] bagging_fraction is set=0.8999999999999999, subsample=0.7999999999999999 will be ignored. Current value: bagging_fraction=0.8999999999999999\n",
      "[LightGBM] [Warning] min_data_in_leaf is set=128, min_child_samples=8 will be ignored. Current value: min_data_in_leaf=128\n",
      "[LightGBM] [Warning] feature_fraction is set=0.7, colsample_bytree=0.5 will be ignored. Current value: feature_fraction=0.7\n"
     ]
    },
    {
     "name": "stderr",
     "output_type": "stream",
     "text": [
      "Found `num_iterations` in params. Will use it instead of argument\n"
     ]
    },
    {
     "name": "stdout",
     "output_type": "stream",
     "text": [
      "[LightGBM] [Warning] Unknown parameter: scale_pos_Weight\n",
      "[LightGBM] [Warning] bagging_fraction is set=0.8999999999999999, subsample=0.7999999999999999 will be ignored. Current value: bagging_fraction=0.8999999999999999\n",
      "[LightGBM] [Warning] min_data_in_leaf is set=128, min_child_samples=8 will be ignored. Current value: min_data_in_leaf=128\n",
      "[LightGBM] [Warning] feature_fraction is set=0.7, colsample_bytree=0.5 will be ignored. Current value: feature_fraction=0.7\n"
     ]
    },
    {
     "name": "stderr",
     "output_type": "stream",
     "text": [
      "Found `num_iterations` in params. Will use it instead of argument\n"
     ]
    },
    {
     "name": "stdout",
     "output_type": "stream",
     "text": [
      "[LightGBM] [Warning] Unknown parameter: scale_pos_Weight\n",
      "[LightGBM] [Warning] bagging_fraction is set=0.8999999999999999, subsample=0.7999999999999999 will be ignored. Current value: bagging_fraction=0.8999999999999999\n",
      "[LightGBM] [Warning] min_data_in_leaf is set=128, min_child_samples=8 will be ignored. Current value: min_data_in_leaf=128\n",
      "[LightGBM] [Warning] feature_fraction is set=0.7, colsample_bytree=0.5 will be ignored. Current value: feature_fraction=0.7\n"
     ]
    },
    {
     "name": "stderr",
     "output_type": "stream",
     "text": [
      "Found `num_iterations` in params. Will use it instead of argument\n"
     ]
    },
    {
     "name": "stdout",
     "output_type": "stream",
     "text": [
      "[LightGBM] [Warning] Unknown parameter: scale_pos_Weight\n",
      "[LightGBM] [Warning] bagging_fraction is set=0.8999999999999999, subsample=0.7999999999999999 will be ignored. Current value: bagging_fraction=0.8999999999999999\n",
      "[LightGBM] [Warning] min_data_in_leaf is set=128, min_child_samples=8 will be ignored. Current value: min_data_in_leaf=128\n",
      "[LightGBM] [Warning] feature_fraction is set=0.7, colsample_bytree=0.5 will be ignored. Current value: feature_fraction=0.7\n"
     ]
    },
    {
     "name": "stderr",
     "output_type": "stream",
     "text": [
      "Found `num_iterations` in params. Will use it instead of argument\n"
     ]
    },
    {
     "name": "stdout",
     "output_type": "stream",
     "text": [
      "[LightGBM] [Warning] Unknown parameter: scale_pos_Weight\n",
      "[LightGBM] [Warning] bagging_fraction is set=0.8999999999999999, subsample=0.7999999999999999 will be ignored. Current value: bagging_fraction=0.8999999999999999\n",
      "[LightGBM] [Warning] min_data_in_leaf is set=128, min_child_samples=8 will be ignored. Current value: min_data_in_leaf=128\n",
      "[LightGBM] [Warning] feature_fraction is set=0.7, colsample_bytree=0.5 will be ignored. Current value: feature_fraction=0.7\n"
     ]
    },
    {
     "name": "stderr",
     "output_type": "stream",
     "text": [
      "Found `num_iterations` in params. Will use it instead of argument\n"
     ]
    },
    {
     "name": "stdout",
     "output_type": "stream",
     "text": [
      "[LightGBM] [Warning] Unknown parameter: scale_pos_Weight\n",
      "[LightGBM] [Warning] bagging_fraction is set=0.8999999999999999, subsample=0.6 will be ignored. Current value: bagging_fraction=0.8999999999999999\n",
      "[LightGBM] [Warning] min_data_in_leaf is set=16, min_child_samples=16 will be ignored. Current value: min_data_in_leaf=16\n",
      "[LightGBM] [Warning] feature_fraction is set=0.6, colsample_bytree=0.6 will be ignored. Current value: feature_fraction=0.6\n"
     ]
    },
    {
     "name": "stderr",
     "output_type": "stream",
     "text": [
      "Found `num_iterations` in params. Will use it instead of argument\n"
     ]
    },
    {
     "name": "stdout",
     "output_type": "stream",
     "text": [
      "[LightGBM] [Warning] Unknown parameter: scale_pos_Weight\n",
      "[LightGBM] [Warning] bagging_fraction is set=0.8999999999999999, subsample=0.6 will be ignored. Current value: bagging_fraction=0.8999999999999999\n",
      "[LightGBM] [Warning] min_data_in_leaf is set=16, min_child_samples=16 will be ignored. Current value: min_data_in_leaf=16\n",
      "[LightGBM] [Warning] feature_fraction is set=0.6, colsample_bytree=0.6 will be ignored. Current value: feature_fraction=0.6\n"
     ]
    },
    {
     "name": "stderr",
     "output_type": "stream",
     "text": [
      "Found `num_iterations` in params. Will use it instead of argument\n"
     ]
    },
    {
     "name": "stdout",
     "output_type": "stream",
     "text": [
      "[LightGBM] [Warning] Unknown parameter: scale_pos_Weight\n",
      "[LightGBM] [Warning] bagging_fraction is set=0.8999999999999999, subsample=0.6 will be ignored. Current value: bagging_fraction=0.8999999999999999\n",
      "[LightGBM] [Warning] min_data_in_leaf is set=16, min_child_samples=16 will be ignored. Current value: min_data_in_leaf=16\n",
      "[LightGBM] [Warning] feature_fraction is set=0.6, colsample_bytree=0.6 will be ignored. Current value: feature_fraction=0.6\n"
     ]
    },
    {
     "name": "stderr",
     "output_type": "stream",
     "text": [
      "Found `num_iterations` in params. Will use it instead of argument\n"
     ]
    },
    {
     "name": "stdout",
     "output_type": "stream",
     "text": [
      "[LightGBM] [Warning] Unknown parameter: scale_pos_Weight\n",
      "[LightGBM] [Warning] bagging_fraction is set=0.8999999999999999, subsample=0.6 will be ignored. Current value: bagging_fraction=0.8999999999999999\n",
      "[LightGBM] [Warning] min_data_in_leaf is set=16, min_child_samples=16 will be ignored. Current value: min_data_in_leaf=16\n",
      "[LightGBM] [Warning] feature_fraction is set=0.6, colsample_bytree=0.6 will be ignored. Current value: feature_fraction=0.6\n"
     ]
    },
    {
     "name": "stderr",
     "output_type": "stream",
     "text": [
      "Found `num_iterations` in params. Will use it instead of argument\n"
     ]
    },
    {
     "name": "stdout",
     "output_type": "stream",
     "text": [
      "[LightGBM] [Warning] Unknown parameter: scale_pos_Weight\n",
      "[LightGBM] [Warning] bagging_fraction is set=0.8999999999999999, subsample=0.6 will be ignored. Current value: bagging_fraction=0.8999999999999999\n",
      "[LightGBM] [Warning] min_data_in_leaf is set=16, min_child_samples=16 will be ignored. Current value: min_data_in_leaf=16\n",
      "[LightGBM] [Warning] feature_fraction is set=0.6, colsample_bytree=0.6 will be ignored. Current value: feature_fraction=0.6\n"
     ]
    },
    {
     "name": "stderr",
     "output_type": "stream",
     "text": [
      "Found `num_iterations` in params. Will use it instead of argument\n"
     ]
    },
    {
     "name": "stdout",
     "output_type": "stream",
     "text": [
      "[LightGBM] [Warning] Unknown parameter: scale_pos_Weight\n",
      "[LightGBM] [Warning] bagging_fraction is set=0.7, subsample=0.5 will be ignored. Current value: bagging_fraction=0.7\n",
      "[LightGBM] [Warning] min_data_in_leaf is set=512, min_child_samples=128 will be ignored. Current value: min_data_in_leaf=512\n",
      "[LightGBM] [Warning] feature_fraction is set=0.5, colsample_bytree=0.5 will be ignored. Current value: feature_fraction=0.5\n"
     ]
    },
    {
     "name": "stderr",
     "output_type": "stream",
     "text": [
      "Found `num_iterations` in params. Will use it instead of argument\n"
     ]
    },
    {
     "name": "stdout",
     "output_type": "stream",
     "text": [
      "[LightGBM] [Warning] Unknown parameter: scale_pos_Weight\n",
      "[LightGBM] [Warning] bagging_fraction is set=0.7, subsample=0.5 will be ignored. Current value: bagging_fraction=0.7\n",
      "[LightGBM] [Warning] min_data_in_leaf is set=512, min_child_samples=128 will be ignored. Current value: min_data_in_leaf=512\n",
      "[LightGBM] [Warning] feature_fraction is set=0.5, colsample_bytree=0.5 will be ignored. Current value: feature_fraction=0.5\n"
     ]
    },
    {
     "name": "stderr",
     "output_type": "stream",
     "text": [
      "Found `num_iterations` in params. Will use it instead of argument\n"
     ]
    },
    {
     "name": "stdout",
     "output_type": "stream",
     "text": [
      "[LightGBM] [Warning] Unknown parameter: scale_pos_Weight\n",
      "[LightGBM] [Warning] bagging_fraction is set=0.7, subsample=0.5 will be ignored. Current value: bagging_fraction=0.7\n",
      "[LightGBM] [Warning] min_data_in_leaf is set=512, min_child_samples=128 will be ignored. Current value: min_data_in_leaf=512\n",
      "[LightGBM] [Warning] feature_fraction is set=0.5, colsample_bytree=0.5 will be ignored. Current value: feature_fraction=0.5\n"
     ]
    },
    {
     "name": "stderr",
     "output_type": "stream",
     "text": [
      "Found `num_iterations` in params. Will use it instead of argument\n"
     ]
    },
    {
     "name": "stdout",
     "output_type": "stream",
     "text": [
      "[LightGBM] [Warning] Unknown parameter: scale_pos_Weight\n",
      "[LightGBM] [Warning] bagging_fraction is set=0.7, subsample=0.5 will be ignored. Current value: bagging_fraction=0.7\n",
      "[LightGBM] [Warning] min_data_in_leaf is set=512, min_child_samples=128 will be ignored. Current value: min_data_in_leaf=512\n",
      "[LightGBM] [Warning] feature_fraction is set=0.5, colsample_bytree=0.5 will be ignored. Current value: feature_fraction=0.5\n"
     ]
    },
    {
     "name": "stderr",
     "output_type": "stream",
     "text": [
      "Found `num_iterations` in params. Will use it instead of argument\n"
     ]
    },
    {
     "name": "stdout",
     "output_type": "stream",
     "text": [
      "[LightGBM] [Warning] Unknown parameter: scale_pos_Weight\n",
      "[LightGBM] [Warning] bagging_fraction is set=0.7, subsample=0.5 will be ignored. Current value: bagging_fraction=0.7\n",
      "[LightGBM] [Warning] min_data_in_leaf is set=512, min_child_samples=128 will be ignored. Current value: min_data_in_leaf=512\n",
      "[LightGBM] [Warning] feature_fraction is set=0.5, colsample_bytree=0.5 will be ignored. Current value: feature_fraction=0.5\n"
     ]
    },
    {
     "name": "stderr",
     "output_type": "stream",
     "text": [
      "Found `num_iterations` in params. Will use it instead of argument\n"
     ]
    },
    {
     "name": "stdout",
     "output_type": "stream",
     "text": [
      "[LightGBM] [Warning] Unknown parameter: scale_pos_Weight\n",
      "[LightGBM] [Warning] bagging_fraction is set=0.5, subsample=0.8999999999999999 will be ignored. Current value: bagging_fraction=0.5\n",
      "[LightGBM] [Warning] min_data_in_leaf is set=64, min_child_samples=8 will be ignored. Current value: min_data_in_leaf=64\n",
      "[LightGBM] [Warning] feature_fraction is set=0.8999999999999999, colsample_bytree=0.6 will be ignored. Current value: feature_fraction=0.8999999999999999\n"
     ]
    },
    {
     "name": "stderr",
     "output_type": "stream",
     "text": [
      "Found `num_iterations` in params. Will use it instead of argument\n"
     ]
    },
    {
     "name": "stdout",
     "output_type": "stream",
     "text": [
      "[LightGBM] [Warning] Unknown parameter: scale_pos_Weight\n",
      "[LightGBM] [Warning] bagging_fraction is set=0.5, subsample=0.8999999999999999 will be ignored. Current value: bagging_fraction=0.5\n",
      "[LightGBM] [Warning] min_data_in_leaf is set=64, min_child_samples=8 will be ignored. Current value: min_data_in_leaf=64\n",
      "[LightGBM] [Warning] feature_fraction is set=0.8999999999999999, colsample_bytree=0.6 will be ignored. Current value: feature_fraction=0.8999999999999999\n"
     ]
    },
    {
     "name": "stderr",
     "output_type": "stream",
     "text": [
      "Found `num_iterations` in params. Will use it instead of argument\n"
     ]
    },
    {
     "name": "stdout",
     "output_type": "stream",
     "text": [
      "[LightGBM] [Warning] Unknown parameter: scale_pos_Weight\n",
      "[LightGBM] [Warning] bagging_fraction is set=0.5, subsample=0.8999999999999999 will be ignored. Current value: bagging_fraction=0.5\n",
      "[LightGBM] [Warning] min_data_in_leaf is set=64, min_child_samples=8 will be ignored. Current value: min_data_in_leaf=64\n",
      "[LightGBM] [Warning] feature_fraction is set=0.8999999999999999, colsample_bytree=0.6 will be ignored. Current value: feature_fraction=0.8999999999999999\n"
     ]
    },
    {
     "name": "stderr",
     "output_type": "stream",
     "text": [
      "Found `num_iterations` in params. Will use it instead of argument\n"
     ]
    },
    {
     "name": "stdout",
     "output_type": "stream",
     "text": [
      "[LightGBM] [Warning] Unknown parameter: scale_pos_Weight\n",
      "[LightGBM] [Warning] bagging_fraction is set=0.5, subsample=0.8999999999999999 will be ignored. Current value: bagging_fraction=0.5\n",
      "[LightGBM] [Warning] min_data_in_leaf is set=64, min_child_samples=8 will be ignored. Current value: min_data_in_leaf=64\n",
      "[LightGBM] [Warning] feature_fraction is set=0.8999999999999999, colsample_bytree=0.6 will be ignored. Current value: feature_fraction=0.8999999999999999\n"
     ]
    },
    {
     "name": "stderr",
     "output_type": "stream",
     "text": [
      "Found `num_iterations` in params. Will use it instead of argument\n"
     ]
    },
    {
     "name": "stdout",
     "output_type": "stream",
     "text": [
      "[LightGBM] [Warning] Unknown parameter: scale_pos_Weight\n",
      "[LightGBM] [Warning] bagging_fraction is set=0.5, subsample=0.8999999999999999 will be ignored. Current value: bagging_fraction=0.5\n",
      "[LightGBM] [Warning] min_data_in_leaf is set=64, min_child_samples=8 will be ignored. Current value: min_data_in_leaf=64\n",
      "[LightGBM] [Warning] feature_fraction is set=0.8999999999999999, colsample_bytree=0.6 will be ignored. Current value: feature_fraction=0.8999999999999999\n"
     ]
    },
    {
     "name": "stderr",
     "output_type": "stream",
     "text": [
      "[Parallel(n_jobs=1)]: Done 100 out of 100 | elapsed: 246.9min finished\n",
      "Found `num_iterations` in params. Will use it instead of argument\n"
     ]
    },
    {
     "name": "stdout",
     "output_type": "stream",
     "text": [
      "[LightGBM] [Warning] Unknown parameter: scale_pos_Weight\n",
      "[LightGBM] [Warning] bagging_fraction is set=0.6, subsample=0.7999999999999999 will be ignored. Current value: bagging_fraction=0.6\n",
      "[LightGBM] [Warning] min_data_in_leaf is set=8, min_child_samples=64 will be ignored. Current value: min_data_in_leaf=8\n",
      "[LightGBM] [Warning] feature_fraction is set=0.5, colsample_bytree=0.7999999999999999 will be ignored. Current value: feature_fraction=0.5\n"
     ]
    },
    {
     "name": "stderr",
     "output_type": "stream",
     "text": [
      " 20%|██        | 1/5 [4:09:42<16:38:51, 14982.99s/it]"
     ]
    },
    {
     "name": "stdout",
     "output_type": "stream",
     "text": [
      "auc_score is :  0.7019733513240006\n",
      "(2129, 7832)\n",
      "[0. 0. 1. ... 0. 0. 0.]\n",
      "(2129, 7831) (2129,)\n",
      "(533, 7832)\n",
      "[0. 0. 1. ... 0. 0. 0.]\n",
      "(533, 7831) (533,)\n",
      "current task: 0 GBT\n",
      "(2129, 7831) (533, 7831)\n",
      "Fitting 5 folds for each of 20 candidates, totalling 100 fits\n",
      "[LightGBM] [Warning] Unknown parameter: scale_pos_Weight\n",
      "[LightGBM] [Warning] bagging_fraction is set=0.8999999999999999, subsample=0.7999999999999999 will be ignored. Current value: bagging_fraction=0.8999999999999999\n",
      "[LightGBM] [Warning] min_data_in_leaf is set=2, min_child_samples=8 will be ignored. Current value: min_data_in_leaf=2\n",
      "[LightGBM] [Warning] feature_fraction is set=0.7, colsample_bytree=0.7999999999999999 will be ignored. Current value: feature_fraction=0.7\n"
     ]
    },
    {
     "name": "stderr",
     "output_type": "stream",
     "text": [
      "[Parallel(n_jobs=1)]: Using backend SequentialBackend with 1 concurrent workers.\n",
      "Found `num_iterations` in params. Will use it instead of argument\n",
      "Found `num_iterations` in params. Will use it instead of argument\n"
     ]
    },
    {
     "name": "stdout",
     "output_type": "stream",
     "text": [
      "[LightGBM] [Warning] Unknown parameter: scale_pos_Weight\n",
      "[LightGBM] [Warning] bagging_fraction is set=0.8999999999999999, subsample=0.7999999999999999 will be ignored. Current value: bagging_fraction=0.8999999999999999\n",
      "[LightGBM] [Warning] min_data_in_leaf is set=2, min_child_samples=8 will be ignored. Current value: min_data_in_leaf=2\n",
      "[LightGBM] [Warning] feature_fraction is set=0.7, colsample_bytree=0.7999999999999999 will be ignored. Current value: feature_fraction=0.7\n"
     ]
    },
    {
     "name": "stderr",
     "output_type": "stream",
     "text": [
      "Found `num_iterations` in params. Will use it instead of argument\n"
     ]
    },
    {
     "name": "stdout",
     "output_type": "stream",
     "text": [
      "[LightGBM] [Warning] Unknown parameter: scale_pos_Weight\n",
      "[LightGBM] [Warning] bagging_fraction is set=0.8999999999999999, subsample=0.7999999999999999 will be ignored. Current value: bagging_fraction=0.8999999999999999\n",
      "[LightGBM] [Warning] min_data_in_leaf is set=2, min_child_samples=8 will be ignored. Current value: min_data_in_leaf=2\n",
      "[LightGBM] [Warning] feature_fraction is set=0.7, colsample_bytree=0.7999999999999999 will be ignored. Current value: feature_fraction=0.7\n"
     ]
    },
    {
     "name": "stderr",
     "output_type": "stream",
     "text": [
      "Found `num_iterations` in params. Will use it instead of argument\n"
     ]
    },
    {
     "name": "stdout",
     "output_type": "stream",
     "text": [
      "[LightGBM] [Warning] Unknown parameter: scale_pos_Weight\n",
      "[LightGBM] [Warning] bagging_fraction is set=0.8999999999999999, subsample=0.7999999999999999 will be ignored. Current value: bagging_fraction=0.8999999999999999\n",
      "[LightGBM] [Warning] min_data_in_leaf is set=2, min_child_samples=8 will be ignored. Current value: min_data_in_leaf=2\n",
      "[LightGBM] [Warning] feature_fraction is set=0.7, colsample_bytree=0.7999999999999999 will be ignored. Current value: feature_fraction=0.7\n"
     ]
    },
    {
     "name": "stderr",
     "output_type": "stream",
     "text": [
      "Found `num_iterations` in params. Will use it instead of argument\n"
     ]
    },
    {
     "name": "stdout",
     "output_type": "stream",
     "text": [
      "[LightGBM] [Warning] Unknown parameter: scale_pos_Weight\n",
      "[LightGBM] [Warning] bagging_fraction is set=0.8999999999999999, subsample=0.7999999999999999 will be ignored. Current value: bagging_fraction=0.8999999999999999\n",
      "[LightGBM] [Warning] min_data_in_leaf is set=2, min_child_samples=8 will be ignored. Current value: min_data_in_leaf=2\n",
      "[LightGBM] [Warning] feature_fraction is set=0.7, colsample_bytree=0.7999999999999999 will be ignored. Current value: feature_fraction=0.7\n"
     ]
    },
    {
     "name": "stderr",
     "output_type": "stream",
     "text": [
      "Found `num_iterations` in params. Will use it instead of argument\n"
     ]
    },
    {
     "name": "stdout",
     "output_type": "stream",
     "text": [
      "[LightGBM] [Warning] Unknown parameter: scale_pos_Weight\n",
      "[LightGBM] [Warning] bagging_fraction is set=0.5, subsample=0.5 will be ignored. Current value: bagging_fraction=0.5\n",
      "[LightGBM] [Warning] min_data_in_leaf is set=128, min_child_samples=32 will be ignored. Current value: min_data_in_leaf=128\n",
      "[LightGBM] [Warning] feature_fraction is set=0.7999999999999999, colsample_bytree=0.5 will be ignored. Current value: feature_fraction=0.7999999999999999\n"
     ]
    },
    {
     "name": "stderr",
     "output_type": "stream",
     "text": [
      "Found `num_iterations` in params. Will use it instead of argument\n"
     ]
    },
    {
     "name": "stdout",
     "output_type": "stream",
     "text": [
      "[LightGBM] [Warning] Unknown parameter: scale_pos_Weight\n",
      "[LightGBM] [Warning] bagging_fraction is set=0.5, subsample=0.5 will be ignored. Current value: bagging_fraction=0.5\n",
      "[LightGBM] [Warning] min_data_in_leaf is set=128, min_child_samples=32 will be ignored. Current value: min_data_in_leaf=128\n",
      "[LightGBM] [Warning] feature_fraction is set=0.7999999999999999, colsample_bytree=0.5 will be ignored. Current value: feature_fraction=0.7999999999999999\n"
     ]
    },
    {
     "name": "stderr",
     "output_type": "stream",
     "text": [
      "Found `num_iterations` in params. Will use it instead of argument\n"
     ]
    },
    {
     "name": "stdout",
     "output_type": "stream",
     "text": [
      "[LightGBM] [Warning] Unknown parameter: scale_pos_Weight\n",
      "[LightGBM] [Warning] bagging_fraction is set=0.5, subsample=0.5 will be ignored. Current value: bagging_fraction=0.5\n",
      "[LightGBM] [Warning] min_data_in_leaf is set=128, min_child_samples=32 will be ignored. Current value: min_data_in_leaf=128\n",
      "[LightGBM] [Warning] feature_fraction is set=0.7999999999999999, colsample_bytree=0.5 will be ignored. Current value: feature_fraction=0.7999999999999999\n"
     ]
    },
    {
     "name": "stderr",
     "output_type": "stream",
     "text": [
      "Found `num_iterations` in params. Will use it instead of argument\n"
     ]
    },
    {
     "name": "stdout",
     "output_type": "stream",
     "text": [
      "[LightGBM] [Warning] Unknown parameter: scale_pos_Weight\n",
      "[LightGBM] [Warning] bagging_fraction is set=0.5, subsample=0.5 will be ignored. Current value: bagging_fraction=0.5\n",
      "[LightGBM] [Warning] min_data_in_leaf is set=128, min_child_samples=32 will be ignored. Current value: min_data_in_leaf=128\n",
      "[LightGBM] [Warning] feature_fraction is set=0.7999999999999999, colsample_bytree=0.5 will be ignored. Current value: feature_fraction=0.7999999999999999\n"
     ]
    },
    {
     "name": "stderr",
     "output_type": "stream",
     "text": [
      "Found `num_iterations` in params. Will use it instead of argument\n"
     ]
    },
    {
     "name": "stdout",
     "output_type": "stream",
     "text": [
      "[LightGBM] [Warning] Unknown parameter: scale_pos_Weight\n",
      "[LightGBM] [Warning] bagging_fraction is set=0.5, subsample=0.5 will be ignored. Current value: bagging_fraction=0.5\n",
      "[LightGBM] [Warning] min_data_in_leaf is set=128, min_child_samples=32 will be ignored. Current value: min_data_in_leaf=128\n",
      "[LightGBM] [Warning] feature_fraction is set=0.7999999999999999, colsample_bytree=0.5 will be ignored. Current value: feature_fraction=0.7999999999999999\n"
     ]
    },
    {
     "name": "stderr",
     "output_type": "stream",
     "text": [
      "Found `num_iterations` in params. Will use it instead of argument\n"
     ]
    },
    {
     "name": "stdout",
     "output_type": "stream",
     "text": [
      "[LightGBM] [Warning] Unknown parameter: scale_pos_Weight\n",
      "[LightGBM] [Warning] bagging_fraction is set=0.6, subsample=0.7999999999999999 will be ignored. Current value: bagging_fraction=0.6\n",
      "[LightGBM] [Warning] min_data_in_leaf is set=8, min_child_samples=64 will be ignored. Current value: min_data_in_leaf=8\n",
      "[LightGBM] [Warning] feature_fraction is set=0.5, colsample_bytree=0.7999999999999999 will be ignored. Current value: feature_fraction=0.5\n"
     ]
    },
    {
     "name": "stderr",
     "output_type": "stream",
     "text": [
      "Found `num_iterations` in params. Will use it instead of argument\n"
     ]
    },
    {
     "name": "stdout",
     "output_type": "stream",
     "text": [
      "[LightGBM] [Warning] Unknown parameter: scale_pos_Weight\n",
      "[LightGBM] [Warning] bagging_fraction is set=0.6, subsample=0.7999999999999999 will be ignored. Current value: bagging_fraction=0.6\n",
      "[LightGBM] [Warning] min_data_in_leaf is set=8, min_child_samples=64 will be ignored. Current value: min_data_in_leaf=8\n",
      "[LightGBM] [Warning] feature_fraction is set=0.5, colsample_bytree=0.7999999999999999 will be ignored. Current value: feature_fraction=0.5\n"
     ]
    },
    {
     "name": "stderr",
     "output_type": "stream",
     "text": [
      "Found `num_iterations` in params. Will use it instead of argument\n"
     ]
    },
    {
     "name": "stdout",
     "output_type": "stream",
     "text": [
      "[LightGBM] [Warning] Unknown parameter: scale_pos_Weight\n",
      "[LightGBM] [Warning] bagging_fraction is set=0.6, subsample=0.7999999999999999 will be ignored. Current value: bagging_fraction=0.6\n",
      "[LightGBM] [Warning] min_data_in_leaf is set=8, min_child_samples=64 will be ignored. Current value: min_data_in_leaf=8\n",
      "[LightGBM] [Warning] feature_fraction is set=0.5, colsample_bytree=0.7999999999999999 will be ignored. Current value: feature_fraction=0.5\n"
     ]
    },
    {
     "name": "stderr",
     "output_type": "stream",
     "text": [
      "Found `num_iterations` in params. Will use it instead of argument\n"
     ]
    },
    {
     "name": "stdout",
     "output_type": "stream",
     "text": [
      "[LightGBM] [Warning] Unknown parameter: scale_pos_Weight\n",
      "[LightGBM] [Warning] bagging_fraction is set=0.6, subsample=0.7999999999999999 will be ignored. Current value: bagging_fraction=0.6\n",
      "[LightGBM] [Warning] min_data_in_leaf is set=8, min_child_samples=64 will be ignored. Current value: min_data_in_leaf=8\n",
      "[LightGBM] [Warning] feature_fraction is set=0.5, colsample_bytree=0.7999999999999999 will be ignored. Current value: feature_fraction=0.5\n"
     ]
    },
    {
     "name": "stderr",
     "output_type": "stream",
     "text": [
      "Found `num_iterations` in params. Will use it instead of argument\n"
     ]
    },
    {
     "name": "stdout",
     "output_type": "stream",
     "text": [
      "[LightGBM] [Warning] Unknown parameter: scale_pos_Weight\n",
      "[LightGBM] [Warning] bagging_fraction is set=0.6, subsample=0.7999999999999999 will be ignored. Current value: bagging_fraction=0.6\n",
      "[LightGBM] [Warning] min_data_in_leaf is set=8, min_child_samples=64 will be ignored. Current value: min_data_in_leaf=8\n",
      "[LightGBM] [Warning] feature_fraction is set=0.5, colsample_bytree=0.7999999999999999 will be ignored. Current value: feature_fraction=0.5\n"
     ]
    },
    {
     "name": "stderr",
     "output_type": "stream",
     "text": [
      "Found `num_iterations` in params. Will use it instead of argument\n"
     ]
    },
    {
     "name": "stdout",
     "output_type": "stream",
     "text": [
      "[LightGBM] [Warning] Unknown parameter: scale_pos_Weight\n",
      "[LightGBM] [Warning] bagging_fraction is set=0.7999999999999999, subsample=0.6 will be ignored. Current value: bagging_fraction=0.7999999999999999\n",
      "[LightGBM] [Warning] min_data_in_leaf is set=32, min_child_samples=32 will be ignored. Current value: min_data_in_leaf=32\n",
      "[LightGBM] [Warning] feature_fraction is set=0.5, colsample_bytree=0.7 will be ignored. Current value: feature_fraction=0.5\n"
     ]
    },
    {
     "name": "stderr",
     "output_type": "stream",
     "text": [
      "Found `num_iterations` in params. Will use it instead of argument\n"
     ]
    },
    {
     "name": "stdout",
     "output_type": "stream",
     "text": [
      "[LightGBM] [Warning] Unknown parameter: scale_pos_Weight\n",
      "[LightGBM] [Warning] bagging_fraction is set=0.7999999999999999, subsample=0.6 will be ignored. Current value: bagging_fraction=0.7999999999999999\n",
      "[LightGBM] [Warning] min_data_in_leaf is set=32, min_child_samples=32 will be ignored. Current value: min_data_in_leaf=32\n",
      "[LightGBM] [Warning] feature_fraction is set=0.5, colsample_bytree=0.7 will be ignored. Current value: feature_fraction=0.5\n"
     ]
    },
    {
     "name": "stderr",
     "output_type": "stream",
     "text": [
      "Found `num_iterations` in params. Will use it instead of argument\n"
     ]
    },
    {
     "name": "stdout",
     "output_type": "stream",
     "text": [
      "[LightGBM] [Warning] Unknown parameter: scale_pos_Weight\n",
      "[LightGBM] [Warning] bagging_fraction is set=0.7999999999999999, subsample=0.6 will be ignored. Current value: bagging_fraction=0.7999999999999999\n",
      "[LightGBM] [Warning] min_data_in_leaf is set=32, min_child_samples=32 will be ignored. Current value: min_data_in_leaf=32\n",
      "[LightGBM] [Warning] feature_fraction is set=0.5, colsample_bytree=0.7 will be ignored. Current value: feature_fraction=0.5\n"
     ]
    },
    {
     "name": "stderr",
     "output_type": "stream",
     "text": [
      "Found `num_iterations` in params. Will use it instead of argument\n"
     ]
    },
    {
     "name": "stdout",
     "output_type": "stream",
     "text": [
      "[LightGBM] [Warning] Unknown parameter: scale_pos_Weight\n",
      "[LightGBM] [Warning] bagging_fraction is set=0.7999999999999999, subsample=0.6 will be ignored. Current value: bagging_fraction=0.7999999999999999\n",
      "[LightGBM] [Warning] min_data_in_leaf is set=32, min_child_samples=32 will be ignored. Current value: min_data_in_leaf=32\n",
      "[LightGBM] [Warning] feature_fraction is set=0.5, colsample_bytree=0.7 will be ignored. Current value: feature_fraction=0.5\n"
     ]
    },
    {
     "name": "stderr",
     "output_type": "stream",
     "text": [
      "Found `num_iterations` in params. Will use it instead of argument\n"
     ]
    },
    {
     "name": "stdout",
     "output_type": "stream",
     "text": [
      "[LightGBM] [Warning] Unknown parameter: scale_pos_Weight\n",
      "[LightGBM] [Warning] bagging_fraction is set=0.7999999999999999, subsample=0.6 will be ignored. Current value: bagging_fraction=0.7999999999999999\n",
      "[LightGBM] [Warning] min_data_in_leaf is set=32, min_child_samples=32 will be ignored. Current value: min_data_in_leaf=32\n",
      "[LightGBM] [Warning] feature_fraction is set=0.5, colsample_bytree=0.7 will be ignored. Current value: feature_fraction=0.5\n"
     ]
    },
    {
     "name": "stderr",
     "output_type": "stream",
     "text": [
      "Found `num_iterations` in params. Will use it instead of argument\n"
     ]
    },
    {
     "name": "stdout",
     "output_type": "stream",
     "text": [
      "[LightGBM] [Warning] Unknown parameter: scale_pos_Weight\n",
      "[LightGBM] [Warning] bagging_fraction is set=0.6, subsample=0.7 will be ignored. Current value: bagging_fraction=0.6\n",
      "[LightGBM] [Warning] min_data_in_leaf is set=16, min_child_samples=4 will be ignored. Current value: min_data_in_leaf=16\n",
      "[LightGBM] [Warning] feature_fraction is set=0.5, colsample_bytree=0.7999999999999999 will be ignored. Current value: feature_fraction=0.5\n"
     ]
    },
    {
     "name": "stderr",
     "output_type": "stream",
     "text": [
      "Found `num_iterations` in params. Will use it instead of argument\n"
     ]
    },
    {
     "name": "stdout",
     "output_type": "stream",
     "text": [
      "[LightGBM] [Warning] Unknown parameter: scale_pos_Weight\n",
      "[LightGBM] [Warning] bagging_fraction is set=0.6, subsample=0.7 will be ignored. Current value: bagging_fraction=0.6\n",
      "[LightGBM] [Warning] min_data_in_leaf is set=16, min_child_samples=4 will be ignored. Current value: min_data_in_leaf=16\n",
      "[LightGBM] [Warning] feature_fraction is set=0.5, colsample_bytree=0.7999999999999999 will be ignored. Current value: feature_fraction=0.5\n"
     ]
    },
    {
     "name": "stderr",
     "output_type": "stream",
     "text": [
      "Found `num_iterations` in params. Will use it instead of argument\n"
     ]
    },
    {
     "name": "stdout",
     "output_type": "stream",
     "text": [
      "[LightGBM] [Warning] Unknown parameter: scale_pos_Weight\n",
      "[LightGBM] [Warning] bagging_fraction is set=0.6, subsample=0.7 will be ignored. Current value: bagging_fraction=0.6\n",
      "[LightGBM] [Warning] min_data_in_leaf is set=16, min_child_samples=4 will be ignored. Current value: min_data_in_leaf=16\n",
      "[LightGBM] [Warning] feature_fraction is set=0.5, colsample_bytree=0.7999999999999999 will be ignored. Current value: feature_fraction=0.5\n"
     ]
    },
    {
     "name": "stderr",
     "output_type": "stream",
     "text": [
      "Found `num_iterations` in params. Will use it instead of argument\n"
     ]
    },
    {
     "name": "stdout",
     "output_type": "stream",
     "text": [
      "[LightGBM] [Warning] Unknown parameter: scale_pos_Weight\n",
      "[LightGBM] [Warning] bagging_fraction is set=0.6, subsample=0.7 will be ignored. Current value: bagging_fraction=0.6\n",
      "[LightGBM] [Warning] min_data_in_leaf is set=16, min_child_samples=4 will be ignored. Current value: min_data_in_leaf=16\n",
      "[LightGBM] [Warning] feature_fraction is set=0.5, colsample_bytree=0.7999999999999999 will be ignored. Current value: feature_fraction=0.5\n"
     ]
    },
    {
     "name": "stderr",
     "output_type": "stream",
     "text": [
      "Found `num_iterations` in params. Will use it instead of argument\n"
     ]
    },
    {
     "name": "stdout",
     "output_type": "stream",
     "text": [
      "[LightGBM] [Warning] Unknown parameter: scale_pos_Weight\n",
      "[LightGBM] [Warning] bagging_fraction is set=0.6, subsample=0.7 will be ignored. Current value: bagging_fraction=0.6\n",
      "[LightGBM] [Warning] min_data_in_leaf is set=16, min_child_samples=4 will be ignored. Current value: min_data_in_leaf=16\n",
      "[LightGBM] [Warning] feature_fraction is set=0.5, colsample_bytree=0.7999999999999999 will be ignored. Current value: feature_fraction=0.5\n"
     ]
    },
    {
     "name": "stderr",
     "output_type": "stream",
     "text": [
      "Found `num_iterations` in params. Will use it instead of argument\n"
     ]
    },
    {
     "name": "stdout",
     "output_type": "stream",
     "text": [
      "[LightGBM] [Warning] Unknown parameter: scale_pos_Weight\n",
      "[LightGBM] [Warning] bagging_fraction is set=0.6, subsample=0.6 will be ignored. Current value: bagging_fraction=0.6\n",
      "[LightGBM] [Warning] min_data_in_leaf is set=512, min_child_samples=16 will be ignored. Current value: min_data_in_leaf=512\n",
      "[LightGBM] [Warning] feature_fraction is set=0.6, colsample_bytree=0.6 will be ignored. Current value: feature_fraction=0.6\n"
     ]
    },
    {
     "name": "stderr",
     "output_type": "stream",
     "text": [
      "Found `num_iterations` in params. Will use it instead of argument\n"
     ]
    },
    {
     "name": "stdout",
     "output_type": "stream",
     "text": [
      "[LightGBM] [Warning] Unknown parameter: scale_pos_Weight\n",
      "[LightGBM] [Warning] bagging_fraction is set=0.6, subsample=0.6 will be ignored. Current value: bagging_fraction=0.6\n",
      "[LightGBM] [Warning] min_data_in_leaf is set=512, min_child_samples=16 will be ignored. Current value: min_data_in_leaf=512\n",
      "[LightGBM] [Warning] feature_fraction is set=0.6, colsample_bytree=0.6 will be ignored. Current value: feature_fraction=0.6\n"
     ]
    },
    {
     "name": "stderr",
     "output_type": "stream",
     "text": [
      "Found `num_iterations` in params. Will use it instead of argument\n"
     ]
    },
    {
     "name": "stdout",
     "output_type": "stream",
     "text": [
      "[LightGBM] [Warning] Unknown parameter: scale_pos_Weight\n",
      "[LightGBM] [Warning] bagging_fraction is set=0.6, subsample=0.6 will be ignored. Current value: bagging_fraction=0.6\n",
      "[LightGBM] [Warning] min_data_in_leaf is set=512, min_child_samples=16 will be ignored. Current value: min_data_in_leaf=512\n",
      "[LightGBM] [Warning] feature_fraction is set=0.6, colsample_bytree=0.6 will be ignored. Current value: feature_fraction=0.6\n"
     ]
    },
    {
     "name": "stderr",
     "output_type": "stream",
     "text": [
      "Found `num_iterations` in params. Will use it instead of argument\n"
     ]
    },
    {
     "name": "stdout",
     "output_type": "stream",
     "text": [
      "[LightGBM] [Warning] Unknown parameter: scale_pos_Weight\n",
      "[LightGBM] [Warning] bagging_fraction is set=0.6, subsample=0.6 will be ignored. Current value: bagging_fraction=0.6\n",
      "[LightGBM] [Warning] min_data_in_leaf is set=512, min_child_samples=16 will be ignored. Current value: min_data_in_leaf=512\n",
      "[LightGBM] [Warning] feature_fraction is set=0.6, colsample_bytree=0.6 will be ignored. Current value: feature_fraction=0.6\n"
     ]
    },
    {
     "name": "stderr",
     "output_type": "stream",
     "text": [
      "Found `num_iterations` in params. Will use it instead of argument\n"
     ]
    },
    {
     "name": "stdout",
     "output_type": "stream",
     "text": [
      "[LightGBM] [Warning] Unknown parameter: scale_pos_Weight\n",
      "[LightGBM] [Warning] bagging_fraction is set=0.6, subsample=0.6 will be ignored. Current value: bagging_fraction=0.6\n",
      "[LightGBM] [Warning] min_data_in_leaf is set=512, min_child_samples=16 will be ignored. Current value: min_data_in_leaf=512\n",
      "[LightGBM] [Warning] feature_fraction is set=0.6, colsample_bytree=0.6 will be ignored. Current value: feature_fraction=0.6\n"
     ]
    },
    {
     "name": "stderr",
     "output_type": "stream",
     "text": [
      "Found `num_iterations` in params. Will use it instead of argument\n"
     ]
    },
    {
     "name": "stdout",
     "output_type": "stream",
     "text": [
      "[LightGBM] [Warning] Unknown parameter: scale_pos_Weight\n",
      "[LightGBM] [Warning] bagging_fraction is set=0.7999999999999999, subsample=0.8999999999999999 will be ignored. Current value: bagging_fraction=0.7999999999999999\n",
      "[LightGBM] [Warning] min_data_in_leaf is set=64, min_child_samples=64 will be ignored. Current value: min_data_in_leaf=64\n",
      "[LightGBM] [Warning] feature_fraction is set=0.8999999999999999, colsample_bytree=0.6 will be ignored. Current value: feature_fraction=0.8999999999999999\n"
     ]
    },
    {
     "name": "stderr",
     "output_type": "stream",
     "text": [
      "Found `num_iterations` in params. Will use it instead of argument\n"
     ]
    },
    {
     "name": "stdout",
     "output_type": "stream",
     "text": [
      "[LightGBM] [Warning] Unknown parameter: scale_pos_Weight\n",
      "[LightGBM] [Warning] bagging_fraction is set=0.7999999999999999, subsample=0.8999999999999999 will be ignored. Current value: bagging_fraction=0.7999999999999999\n",
      "[LightGBM] [Warning] min_data_in_leaf is set=64, min_child_samples=64 will be ignored. Current value: min_data_in_leaf=64\n",
      "[LightGBM] [Warning] feature_fraction is set=0.8999999999999999, colsample_bytree=0.6 will be ignored. Current value: feature_fraction=0.8999999999999999\n"
     ]
    },
    {
     "name": "stderr",
     "output_type": "stream",
     "text": [
      "Found `num_iterations` in params. Will use it instead of argument\n"
     ]
    },
    {
     "name": "stdout",
     "output_type": "stream",
     "text": [
      "[LightGBM] [Warning] Unknown parameter: scale_pos_Weight\n",
      "[LightGBM] [Warning] bagging_fraction is set=0.7999999999999999, subsample=0.8999999999999999 will be ignored. Current value: bagging_fraction=0.7999999999999999\n",
      "[LightGBM] [Warning] min_data_in_leaf is set=64, min_child_samples=64 will be ignored. Current value: min_data_in_leaf=64\n",
      "[LightGBM] [Warning] feature_fraction is set=0.8999999999999999, colsample_bytree=0.6 will be ignored. Current value: feature_fraction=0.8999999999999999\n"
     ]
    },
    {
     "name": "stderr",
     "output_type": "stream",
     "text": [
      "Found `num_iterations` in params. Will use it instead of argument\n"
     ]
    },
    {
     "name": "stdout",
     "output_type": "stream",
     "text": [
      "[LightGBM] [Warning] Unknown parameter: scale_pos_Weight\n",
      "[LightGBM] [Warning] bagging_fraction is set=0.7999999999999999, subsample=0.8999999999999999 will be ignored. Current value: bagging_fraction=0.7999999999999999\n",
      "[LightGBM] [Warning] min_data_in_leaf is set=64, min_child_samples=64 will be ignored. Current value: min_data_in_leaf=64\n",
      "[LightGBM] [Warning] feature_fraction is set=0.8999999999999999, colsample_bytree=0.6 will be ignored. Current value: feature_fraction=0.8999999999999999\n"
     ]
    },
    {
     "name": "stderr",
     "output_type": "stream",
     "text": [
      "Found `num_iterations` in params. Will use it instead of argument\n"
     ]
    },
    {
     "name": "stdout",
     "output_type": "stream",
     "text": [
      "[LightGBM] [Warning] Unknown parameter: scale_pos_Weight\n",
      "[LightGBM] [Warning] bagging_fraction is set=0.7999999999999999, subsample=0.8999999999999999 will be ignored. Current value: bagging_fraction=0.7999999999999999\n",
      "[LightGBM] [Warning] min_data_in_leaf is set=64, min_child_samples=64 will be ignored. Current value: min_data_in_leaf=64\n",
      "[LightGBM] [Warning] feature_fraction is set=0.8999999999999999, colsample_bytree=0.6 will be ignored. Current value: feature_fraction=0.8999999999999999\n"
     ]
    },
    {
     "name": "stderr",
     "output_type": "stream",
     "text": [
      "Found `num_iterations` in params. Will use it instead of argument\n"
     ]
    },
    {
     "name": "stdout",
     "output_type": "stream",
     "text": [
      "[LightGBM] [Warning] Unknown parameter: scale_pos_Weight\n",
      "[LightGBM] [Warning] bagging_fraction is set=0.5, subsample=0.7 will be ignored. Current value: bagging_fraction=0.5\n",
      "[LightGBM] [Warning] min_data_in_leaf is set=256, min_child_samples=16 will be ignored. Current value: min_data_in_leaf=256\n",
      "[LightGBM] [Warning] feature_fraction is set=0.6, colsample_bytree=0.7 will be ignored. Current value: feature_fraction=0.6\n"
     ]
    },
    {
     "name": "stderr",
     "output_type": "stream",
     "text": [
      "Found `num_iterations` in params. Will use it instead of argument\n"
     ]
    },
    {
     "name": "stdout",
     "output_type": "stream",
     "text": [
      "[LightGBM] [Warning] Unknown parameter: scale_pos_Weight\n",
      "[LightGBM] [Warning] bagging_fraction is set=0.5, subsample=0.7 will be ignored. Current value: bagging_fraction=0.5\n",
      "[LightGBM] [Warning] min_data_in_leaf is set=256, min_child_samples=16 will be ignored. Current value: min_data_in_leaf=256\n",
      "[LightGBM] [Warning] feature_fraction is set=0.6, colsample_bytree=0.7 will be ignored. Current value: feature_fraction=0.6\n"
     ]
    },
    {
     "name": "stderr",
     "output_type": "stream",
     "text": [
      "Found `num_iterations` in params. Will use it instead of argument\n"
     ]
    },
    {
     "name": "stdout",
     "output_type": "stream",
     "text": [
      "[LightGBM] [Warning] Unknown parameter: scale_pos_Weight\n",
      "[LightGBM] [Warning] bagging_fraction is set=0.5, subsample=0.7 will be ignored. Current value: bagging_fraction=0.5\n",
      "[LightGBM] [Warning] min_data_in_leaf is set=256, min_child_samples=16 will be ignored. Current value: min_data_in_leaf=256\n",
      "[LightGBM] [Warning] feature_fraction is set=0.6, colsample_bytree=0.7 will be ignored. Current value: feature_fraction=0.6\n"
     ]
    },
    {
     "name": "stderr",
     "output_type": "stream",
     "text": [
      "Found `num_iterations` in params. Will use it instead of argument\n"
     ]
    },
    {
     "name": "stdout",
     "output_type": "stream",
     "text": [
      "[LightGBM] [Warning] Unknown parameter: scale_pos_Weight\n",
      "[LightGBM] [Warning] bagging_fraction is set=0.5, subsample=0.7 will be ignored. Current value: bagging_fraction=0.5\n",
      "[LightGBM] [Warning] min_data_in_leaf is set=256, min_child_samples=16 will be ignored. Current value: min_data_in_leaf=256\n",
      "[LightGBM] [Warning] feature_fraction is set=0.6, colsample_bytree=0.7 will be ignored. Current value: feature_fraction=0.6\n"
     ]
    },
    {
     "name": "stderr",
     "output_type": "stream",
     "text": [
      "Found `num_iterations` in params. Will use it instead of argument\n"
     ]
    },
    {
     "name": "stdout",
     "output_type": "stream",
     "text": [
      "[LightGBM] [Warning] Unknown parameter: scale_pos_Weight\n",
      "[LightGBM] [Warning] bagging_fraction is set=0.5, subsample=0.7 will be ignored. Current value: bagging_fraction=0.5\n",
      "[LightGBM] [Warning] min_data_in_leaf is set=256, min_child_samples=16 will be ignored. Current value: min_data_in_leaf=256\n",
      "[LightGBM] [Warning] feature_fraction is set=0.6, colsample_bytree=0.7 will be ignored. Current value: feature_fraction=0.6\n"
     ]
    },
    {
     "name": "stderr",
     "output_type": "stream",
     "text": [
      "Found `num_iterations` in params. Will use it instead of argument\n"
     ]
    },
    {
     "name": "stdout",
     "output_type": "stream",
     "text": [
      "[LightGBM] [Warning] Unknown parameter: scale_pos_Weight\n",
      "[LightGBM] [Warning] bagging_fraction is set=0.8999999999999999, subsample=0.5 will be ignored. Current value: bagging_fraction=0.8999999999999999\n",
      "[LightGBM] [Warning] min_data_in_leaf is set=128, min_child_samples=2 will be ignored. Current value: min_data_in_leaf=128\n",
      "[LightGBM] [Warning] feature_fraction is set=0.6, colsample_bytree=0.6 will be ignored. Current value: feature_fraction=0.6\n"
     ]
    },
    {
     "name": "stderr",
     "output_type": "stream",
     "text": [
      "Found `num_iterations` in params. Will use it instead of argument\n"
     ]
    },
    {
     "name": "stdout",
     "output_type": "stream",
     "text": [
      "[LightGBM] [Warning] Unknown parameter: scale_pos_Weight\n",
      "[LightGBM] [Warning] bagging_fraction is set=0.8999999999999999, subsample=0.5 will be ignored. Current value: bagging_fraction=0.8999999999999999\n",
      "[LightGBM] [Warning] min_data_in_leaf is set=128, min_child_samples=2 will be ignored. Current value: min_data_in_leaf=128\n",
      "[LightGBM] [Warning] feature_fraction is set=0.6, colsample_bytree=0.6 will be ignored. Current value: feature_fraction=0.6\n"
     ]
    },
    {
     "name": "stderr",
     "output_type": "stream",
     "text": [
      "Found `num_iterations` in params. Will use it instead of argument\n"
     ]
    },
    {
     "name": "stdout",
     "output_type": "stream",
     "text": [
      "[LightGBM] [Warning] Unknown parameter: scale_pos_Weight\n",
      "[LightGBM] [Warning] bagging_fraction is set=0.8999999999999999, subsample=0.5 will be ignored. Current value: bagging_fraction=0.8999999999999999\n",
      "[LightGBM] [Warning] min_data_in_leaf is set=128, min_child_samples=2 will be ignored. Current value: min_data_in_leaf=128\n",
      "[LightGBM] [Warning] feature_fraction is set=0.6, colsample_bytree=0.6 will be ignored. Current value: feature_fraction=0.6\n"
     ]
    },
    {
     "name": "stderr",
     "output_type": "stream",
     "text": [
      "Found `num_iterations` in params. Will use it instead of argument\n"
     ]
    },
    {
     "name": "stdout",
     "output_type": "stream",
     "text": [
      "[LightGBM] [Warning] Unknown parameter: scale_pos_Weight\n",
      "[LightGBM] [Warning] bagging_fraction is set=0.8999999999999999, subsample=0.5 will be ignored. Current value: bagging_fraction=0.8999999999999999\n",
      "[LightGBM] [Warning] min_data_in_leaf is set=128, min_child_samples=2 will be ignored. Current value: min_data_in_leaf=128\n",
      "[LightGBM] [Warning] feature_fraction is set=0.6, colsample_bytree=0.6 will be ignored. Current value: feature_fraction=0.6\n"
     ]
    },
    {
     "name": "stderr",
     "output_type": "stream",
     "text": [
      "Found `num_iterations` in params. Will use it instead of argument\n"
     ]
    },
    {
     "name": "stdout",
     "output_type": "stream",
     "text": [
      "[LightGBM] [Warning] Unknown parameter: scale_pos_Weight\n",
      "[LightGBM] [Warning] bagging_fraction is set=0.8999999999999999, subsample=0.5 will be ignored. Current value: bagging_fraction=0.8999999999999999\n",
      "[LightGBM] [Warning] min_data_in_leaf is set=128, min_child_samples=2 will be ignored. Current value: min_data_in_leaf=128\n",
      "[LightGBM] [Warning] feature_fraction is set=0.6, colsample_bytree=0.6 will be ignored. Current value: feature_fraction=0.6\n"
     ]
    },
    {
     "name": "stderr",
     "output_type": "stream",
     "text": [
      "Found `num_iterations` in params. Will use it instead of argument\n"
     ]
    },
    {
     "name": "stdout",
     "output_type": "stream",
     "text": [
      "[LightGBM] [Warning] Unknown parameter: scale_pos_Weight\n",
      "[LightGBM] [Warning] bagging_fraction is set=0.7999999999999999, subsample=0.7 will be ignored. Current value: bagging_fraction=0.7999999999999999\n",
      "[LightGBM] [Warning] min_data_in_leaf is set=32, min_child_samples=32 will be ignored. Current value: min_data_in_leaf=32\n",
      "[LightGBM] [Warning] feature_fraction is set=0.8999999999999999, colsample_bytree=0.7999999999999999 will be ignored. Current value: feature_fraction=0.8999999999999999\n"
     ]
    },
    {
     "name": "stderr",
     "output_type": "stream",
     "text": [
      "Found `num_iterations` in params. Will use it instead of argument\n"
     ]
    },
    {
     "name": "stdout",
     "output_type": "stream",
     "text": [
      "[LightGBM] [Warning] Unknown parameter: scale_pos_Weight\n",
      "[LightGBM] [Warning] bagging_fraction is set=0.7999999999999999, subsample=0.7 will be ignored. Current value: bagging_fraction=0.7999999999999999\n",
      "[LightGBM] [Warning] min_data_in_leaf is set=32, min_child_samples=32 will be ignored. Current value: min_data_in_leaf=32\n",
      "[LightGBM] [Warning] feature_fraction is set=0.8999999999999999, colsample_bytree=0.7999999999999999 will be ignored. Current value: feature_fraction=0.8999999999999999\n"
     ]
    },
    {
     "name": "stderr",
     "output_type": "stream",
     "text": [
      "Found `num_iterations` in params. Will use it instead of argument\n"
     ]
    },
    {
     "name": "stdout",
     "output_type": "stream",
     "text": [
      "[LightGBM] [Warning] Unknown parameter: scale_pos_Weight\n",
      "[LightGBM] [Warning] bagging_fraction is set=0.7999999999999999, subsample=0.7 will be ignored. Current value: bagging_fraction=0.7999999999999999\n",
      "[LightGBM] [Warning] min_data_in_leaf is set=32, min_child_samples=32 will be ignored. Current value: min_data_in_leaf=32\n",
      "[LightGBM] [Warning] feature_fraction is set=0.8999999999999999, colsample_bytree=0.7999999999999999 will be ignored. Current value: feature_fraction=0.8999999999999999\n"
     ]
    },
    {
     "name": "stderr",
     "output_type": "stream",
     "text": [
      "Found `num_iterations` in params. Will use it instead of argument\n"
     ]
    },
    {
     "name": "stdout",
     "output_type": "stream",
     "text": [
      "[LightGBM] [Warning] Unknown parameter: scale_pos_Weight\n",
      "[LightGBM] [Warning] bagging_fraction is set=0.7999999999999999, subsample=0.7 will be ignored. Current value: bagging_fraction=0.7999999999999999\n",
      "[LightGBM] [Warning] min_data_in_leaf is set=32, min_child_samples=32 will be ignored. Current value: min_data_in_leaf=32\n",
      "[LightGBM] [Warning] feature_fraction is set=0.8999999999999999, colsample_bytree=0.7999999999999999 will be ignored. Current value: feature_fraction=0.8999999999999999\n"
     ]
    },
    {
     "name": "stderr",
     "output_type": "stream",
     "text": [
      "Found `num_iterations` in params. Will use it instead of argument\n"
     ]
    },
    {
     "name": "stdout",
     "output_type": "stream",
     "text": [
      "[LightGBM] [Warning] Unknown parameter: scale_pos_Weight\n",
      "[LightGBM] [Warning] bagging_fraction is set=0.7999999999999999, subsample=0.7 will be ignored. Current value: bagging_fraction=0.7999999999999999\n",
      "[LightGBM] [Warning] min_data_in_leaf is set=32, min_child_samples=32 will be ignored. Current value: min_data_in_leaf=32\n",
      "[LightGBM] [Warning] feature_fraction is set=0.8999999999999999, colsample_bytree=0.7999999999999999 will be ignored. Current value: feature_fraction=0.8999999999999999\n"
     ]
    },
    {
     "name": "stderr",
     "output_type": "stream",
     "text": [
      "Found `num_iterations` in params. Will use it instead of argument\n"
     ]
    },
    {
     "name": "stdout",
     "output_type": "stream",
     "text": [
      "[LightGBM] [Warning] Unknown parameter: scale_pos_Weight\n",
      "[LightGBM] [Warning] bagging_fraction is set=0.5, subsample=0.8999999999999999 will be ignored. Current value: bagging_fraction=0.5\n",
      "[LightGBM] [Warning] min_data_in_leaf is set=128, min_child_samples=4 will be ignored. Current value: min_data_in_leaf=128\n",
      "[LightGBM] [Warning] feature_fraction is set=0.5, colsample_bytree=0.5 will be ignored. Current value: feature_fraction=0.5\n"
     ]
    },
    {
     "name": "stderr",
     "output_type": "stream",
     "text": [
      "Found `num_iterations` in params. Will use it instead of argument\n"
     ]
    },
    {
     "name": "stdout",
     "output_type": "stream",
     "text": [
      "[LightGBM] [Warning] Unknown parameter: scale_pos_Weight\n",
      "[LightGBM] [Warning] bagging_fraction is set=0.5, subsample=0.8999999999999999 will be ignored. Current value: bagging_fraction=0.5\n",
      "[LightGBM] [Warning] min_data_in_leaf is set=128, min_child_samples=4 will be ignored. Current value: min_data_in_leaf=128\n",
      "[LightGBM] [Warning] feature_fraction is set=0.5, colsample_bytree=0.5 will be ignored. Current value: feature_fraction=0.5\n"
     ]
    },
    {
     "name": "stderr",
     "output_type": "stream",
     "text": [
      "Found `num_iterations` in params. Will use it instead of argument\n"
     ]
    },
    {
     "name": "stdout",
     "output_type": "stream",
     "text": [
      "[LightGBM] [Warning] Unknown parameter: scale_pos_Weight\n",
      "[LightGBM] [Warning] bagging_fraction is set=0.5, subsample=0.8999999999999999 will be ignored. Current value: bagging_fraction=0.5\n",
      "[LightGBM] [Warning] min_data_in_leaf is set=128, min_child_samples=4 will be ignored. Current value: min_data_in_leaf=128\n",
      "[LightGBM] [Warning] feature_fraction is set=0.5, colsample_bytree=0.5 will be ignored. Current value: feature_fraction=0.5\n"
     ]
    },
    {
     "name": "stderr",
     "output_type": "stream",
     "text": [
      "Found `num_iterations` in params. Will use it instead of argument\n"
     ]
    },
    {
     "name": "stdout",
     "output_type": "stream",
     "text": [
      "[LightGBM] [Warning] Unknown parameter: scale_pos_Weight\n",
      "[LightGBM] [Warning] bagging_fraction is set=0.5, subsample=0.8999999999999999 will be ignored. Current value: bagging_fraction=0.5\n",
      "[LightGBM] [Warning] min_data_in_leaf is set=128, min_child_samples=4 will be ignored. Current value: min_data_in_leaf=128\n",
      "[LightGBM] [Warning] feature_fraction is set=0.5, colsample_bytree=0.5 will be ignored. Current value: feature_fraction=0.5\n"
     ]
    },
    {
     "name": "stderr",
     "output_type": "stream",
     "text": [
      "Found `num_iterations` in params. Will use it instead of argument\n"
     ]
    },
    {
     "name": "stdout",
     "output_type": "stream",
     "text": [
      "[LightGBM] [Warning] Unknown parameter: scale_pos_Weight\n",
      "[LightGBM] [Warning] bagging_fraction is set=0.5, subsample=0.8999999999999999 will be ignored. Current value: bagging_fraction=0.5\n",
      "[LightGBM] [Warning] min_data_in_leaf is set=128, min_child_samples=4 will be ignored. Current value: min_data_in_leaf=128\n",
      "[LightGBM] [Warning] feature_fraction is set=0.5, colsample_bytree=0.5 will be ignored. Current value: feature_fraction=0.5\n"
     ]
    },
    {
     "name": "stderr",
     "output_type": "stream",
     "text": [
      "Found `num_iterations` in params. Will use it instead of argument\n"
     ]
    },
    {
     "name": "stdout",
     "output_type": "stream",
     "text": [
      "[LightGBM] [Warning] Unknown parameter: scale_pos_Weight\n",
      "[LightGBM] [Warning] bagging_fraction is set=0.8999999999999999, subsample=0.8999999999999999 will be ignored. Current value: bagging_fraction=0.8999999999999999\n",
      "[LightGBM] [Warning] min_data_in_leaf is set=512, min_child_samples=16 will be ignored. Current value: min_data_in_leaf=512\n",
      "[LightGBM] [Warning] feature_fraction is set=0.8999999999999999, colsample_bytree=0.7999999999999999 will be ignored. Current value: feature_fraction=0.8999999999999999\n"
     ]
    },
    {
     "name": "stderr",
     "output_type": "stream",
     "text": [
      "Found `num_iterations` in params. Will use it instead of argument\n"
     ]
    },
    {
     "name": "stdout",
     "output_type": "stream",
     "text": [
      "[LightGBM] [Warning] Unknown parameter: scale_pos_Weight\n",
      "[LightGBM] [Warning] bagging_fraction is set=0.8999999999999999, subsample=0.8999999999999999 will be ignored. Current value: bagging_fraction=0.8999999999999999\n",
      "[LightGBM] [Warning] min_data_in_leaf is set=512, min_child_samples=16 will be ignored. Current value: min_data_in_leaf=512\n",
      "[LightGBM] [Warning] feature_fraction is set=0.8999999999999999, colsample_bytree=0.7999999999999999 will be ignored. Current value: feature_fraction=0.8999999999999999\n"
     ]
    },
    {
     "name": "stderr",
     "output_type": "stream",
     "text": [
      "Found `num_iterations` in params. Will use it instead of argument\n"
     ]
    },
    {
     "name": "stdout",
     "output_type": "stream",
     "text": [
      "[LightGBM] [Warning] Unknown parameter: scale_pos_Weight\n",
      "[LightGBM] [Warning] bagging_fraction is set=0.8999999999999999, subsample=0.8999999999999999 will be ignored. Current value: bagging_fraction=0.8999999999999999\n",
      "[LightGBM] [Warning] min_data_in_leaf is set=512, min_child_samples=16 will be ignored. Current value: min_data_in_leaf=512\n",
      "[LightGBM] [Warning] feature_fraction is set=0.8999999999999999, colsample_bytree=0.7999999999999999 will be ignored. Current value: feature_fraction=0.8999999999999999\n"
     ]
    },
    {
     "name": "stderr",
     "output_type": "stream",
     "text": [
      "Found `num_iterations` in params. Will use it instead of argument\n"
     ]
    },
    {
     "name": "stdout",
     "output_type": "stream",
     "text": [
      "[LightGBM] [Warning] Unknown parameter: scale_pos_Weight\n",
      "[LightGBM] [Warning] bagging_fraction is set=0.8999999999999999, subsample=0.8999999999999999 will be ignored. Current value: bagging_fraction=0.8999999999999999\n",
      "[LightGBM] [Warning] min_data_in_leaf is set=512, min_child_samples=16 will be ignored. Current value: min_data_in_leaf=512\n",
      "[LightGBM] [Warning] feature_fraction is set=0.8999999999999999, colsample_bytree=0.7999999999999999 will be ignored. Current value: feature_fraction=0.8999999999999999\n"
     ]
    },
    {
     "name": "stderr",
     "output_type": "stream",
     "text": [
      "Found `num_iterations` in params. Will use it instead of argument\n"
     ]
    },
    {
     "name": "stdout",
     "output_type": "stream",
     "text": [
      "[LightGBM] [Warning] Unknown parameter: scale_pos_Weight\n",
      "[LightGBM] [Warning] bagging_fraction is set=0.8999999999999999, subsample=0.8999999999999999 will be ignored. Current value: bagging_fraction=0.8999999999999999\n",
      "[LightGBM] [Warning] min_data_in_leaf is set=512, min_child_samples=16 will be ignored. Current value: min_data_in_leaf=512\n",
      "[LightGBM] [Warning] feature_fraction is set=0.8999999999999999, colsample_bytree=0.7999999999999999 will be ignored. Current value: feature_fraction=0.8999999999999999\n"
     ]
    },
    {
     "name": "stderr",
     "output_type": "stream",
     "text": [
      "Found `num_iterations` in params. Will use it instead of argument\n"
     ]
    },
    {
     "name": "stdout",
     "output_type": "stream",
     "text": [
      "[LightGBM] [Warning] Unknown parameter: scale_pos_Weight\n",
      "[LightGBM] [Warning] bagging_fraction is set=0.7999999999999999, subsample=0.6 will be ignored. Current value: bagging_fraction=0.7999999999999999\n",
      "[LightGBM] [Warning] min_data_in_leaf is set=16, min_child_samples=64 will be ignored. Current value: min_data_in_leaf=16\n",
      "[LightGBM] [Warning] feature_fraction is set=0.7999999999999999, colsample_bytree=0.6 will be ignored. Current value: feature_fraction=0.7999999999999999\n"
     ]
    },
    {
     "name": "stderr",
     "output_type": "stream",
     "text": [
      "Found `num_iterations` in params. Will use it instead of argument\n"
     ]
    },
    {
     "name": "stdout",
     "output_type": "stream",
     "text": [
      "[LightGBM] [Warning] Unknown parameter: scale_pos_Weight\n",
      "[LightGBM] [Warning] bagging_fraction is set=0.7999999999999999, subsample=0.6 will be ignored. Current value: bagging_fraction=0.7999999999999999\n",
      "[LightGBM] [Warning] min_data_in_leaf is set=16, min_child_samples=64 will be ignored. Current value: min_data_in_leaf=16\n",
      "[LightGBM] [Warning] feature_fraction is set=0.7999999999999999, colsample_bytree=0.6 will be ignored. Current value: feature_fraction=0.7999999999999999\n"
     ]
    },
    {
     "name": "stderr",
     "output_type": "stream",
     "text": [
      "Found `num_iterations` in params. Will use it instead of argument\n"
     ]
    },
    {
     "name": "stdout",
     "output_type": "stream",
     "text": [
      "[LightGBM] [Warning] Unknown parameter: scale_pos_Weight\n",
      "[LightGBM] [Warning] bagging_fraction is set=0.7999999999999999, subsample=0.6 will be ignored. Current value: bagging_fraction=0.7999999999999999\n",
      "[LightGBM] [Warning] min_data_in_leaf is set=16, min_child_samples=64 will be ignored. Current value: min_data_in_leaf=16\n",
      "[LightGBM] [Warning] feature_fraction is set=0.7999999999999999, colsample_bytree=0.6 will be ignored. Current value: feature_fraction=0.7999999999999999\n"
     ]
    },
    {
     "name": "stderr",
     "output_type": "stream",
     "text": [
      "Found `num_iterations` in params. Will use it instead of argument\n"
     ]
    },
    {
     "name": "stdout",
     "output_type": "stream",
     "text": [
      "[LightGBM] [Warning] Unknown parameter: scale_pos_Weight\n",
      "[LightGBM] [Warning] bagging_fraction is set=0.7999999999999999, subsample=0.6 will be ignored. Current value: bagging_fraction=0.7999999999999999\n",
      "[LightGBM] [Warning] min_data_in_leaf is set=16, min_child_samples=64 will be ignored. Current value: min_data_in_leaf=16\n",
      "[LightGBM] [Warning] feature_fraction is set=0.7999999999999999, colsample_bytree=0.6 will be ignored. Current value: feature_fraction=0.7999999999999999\n"
     ]
    },
    {
     "name": "stderr",
     "output_type": "stream",
     "text": [
      "Found `num_iterations` in params. Will use it instead of argument\n"
     ]
    },
    {
     "name": "stdout",
     "output_type": "stream",
     "text": [
      "[LightGBM] [Warning] Unknown parameter: scale_pos_Weight\n",
      "[LightGBM] [Warning] bagging_fraction is set=0.7999999999999999, subsample=0.6 will be ignored. Current value: bagging_fraction=0.7999999999999999\n",
      "[LightGBM] [Warning] min_data_in_leaf is set=16, min_child_samples=64 will be ignored. Current value: min_data_in_leaf=16\n",
      "[LightGBM] [Warning] feature_fraction is set=0.7999999999999999, colsample_bytree=0.6 will be ignored. Current value: feature_fraction=0.7999999999999999\n"
     ]
    },
    {
     "name": "stderr",
     "output_type": "stream",
     "text": [
      "Found `num_iterations` in params. Will use it instead of argument\n"
     ]
    },
    {
     "name": "stdout",
     "output_type": "stream",
     "text": [
      "[LightGBM] [Warning] Unknown parameter: scale_pos_Weight\n",
      "[LightGBM] [Warning] bagging_fraction is set=0.8999999999999999, subsample=0.7 will be ignored. Current value: bagging_fraction=0.8999999999999999\n",
      "[LightGBM] [Warning] min_data_in_leaf is set=8, min_child_samples=16 will be ignored. Current value: min_data_in_leaf=8\n",
      "[LightGBM] [Warning] feature_fraction is set=0.8999999999999999, colsample_bytree=0.8999999999999999 will be ignored. Current value: feature_fraction=0.8999999999999999\n"
     ]
    },
    {
     "name": "stderr",
     "output_type": "stream",
     "text": [
      "Found `num_iterations` in params. Will use it instead of argument\n"
     ]
    },
    {
     "name": "stdout",
     "output_type": "stream",
     "text": [
      "[LightGBM] [Warning] Unknown parameter: scale_pos_Weight\n",
      "[LightGBM] [Warning] bagging_fraction is set=0.8999999999999999, subsample=0.7 will be ignored. Current value: bagging_fraction=0.8999999999999999\n",
      "[LightGBM] [Warning] min_data_in_leaf is set=8, min_child_samples=16 will be ignored. Current value: min_data_in_leaf=8\n",
      "[LightGBM] [Warning] feature_fraction is set=0.8999999999999999, colsample_bytree=0.8999999999999999 will be ignored. Current value: feature_fraction=0.8999999999999999\n"
     ]
    },
    {
     "name": "stderr",
     "output_type": "stream",
     "text": [
      "Found `num_iterations` in params. Will use it instead of argument\n"
     ]
    },
    {
     "name": "stdout",
     "output_type": "stream",
     "text": [
      "[LightGBM] [Warning] Unknown parameter: scale_pos_Weight\n",
      "[LightGBM] [Warning] bagging_fraction is set=0.8999999999999999, subsample=0.7 will be ignored. Current value: bagging_fraction=0.8999999999999999\n",
      "[LightGBM] [Warning] min_data_in_leaf is set=8, min_child_samples=16 will be ignored. Current value: min_data_in_leaf=8\n",
      "[LightGBM] [Warning] feature_fraction is set=0.8999999999999999, colsample_bytree=0.8999999999999999 will be ignored. Current value: feature_fraction=0.8999999999999999\n"
     ]
    },
    {
     "name": "stderr",
     "output_type": "stream",
     "text": [
      "Found `num_iterations` in params. Will use it instead of argument\n"
     ]
    },
    {
     "name": "stdout",
     "output_type": "stream",
     "text": [
      "[LightGBM] [Warning] Unknown parameter: scale_pos_Weight\n",
      "[LightGBM] [Warning] bagging_fraction is set=0.8999999999999999, subsample=0.7 will be ignored. Current value: bagging_fraction=0.8999999999999999\n",
      "[LightGBM] [Warning] min_data_in_leaf is set=8, min_child_samples=16 will be ignored. Current value: min_data_in_leaf=8\n",
      "[LightGBM] [Warning] feature_fraction is set=0.8999999999999999, colsample_bytree=0.8999999999999999 will be ignored. Current value: feature_fraction=0.8999999999999999\n"
     ]
    },
    {
     "name": "stderr",
     "output_type": "stream",
     "text": [
      "Found `num_iterations` in params. Will use it instead of argument\n"
     ]
    },
    {
     "name": "stdout",
     "output_type": "stream",
     "text": [
      "[LightGBM] [Warning] Unknown parameter: scale_pos_Weight\n",
      "[LightGBM] [Warning] bagging_fraction is set=0.8999999999999999, subsample=0.7 will be ignored. Current value: bagging_fraction=0.8999999999999999\n",
      "[LightGBM] [Warning] min_data_in_leaf is set=8, min_child_samples=16 will be ignored. Current value: min_data_in_leaf=8\n",
      "[LightGBM] [Warning] feature_fraction is set=0.8999999999999999, colsample_bytree=0.8999999999999999 will be ignored. Current value: feature_fraction=0.8999999999999999\n"
     ]
    },
    {
     "name": "stderr",
     "output_type": "stream",
     "text": [
      "Found `num_iterations` in params. Will use it instead of argument\n"
     ]
    },
    {
     "name": "stdout",
     "output_type": "stream",
     "text": [
      "[LightGBM] [Warning] Unknown parameter: scale_pos_Weight\n",
      "[LightGBM] [Warning] bagging_fraction is set=0.6, subsample=0.5 will be ignored. Current value: bagging_fraction=0.6\n",
      "[LightGBM] [Warning] min_data_in_leaf is set=64, min_child_samples=64 will be ignored. Current value: min_data_in_leaf=64\n",
      "[LightGBM] [Warning] feature_fraction is set=0.7999999999999999, colsample_bytree=0.7 will be ignored. Current value: feature_fraction=0.7999999999999999\n"
     ]
    },
    {
     "name": "stderr",
     "output_type": "stream",
     "text": [
      "Found `num_iterations` in params. Will use it instead of argument\n"
     ]
    },
    {
     "name": "stdout",
     "output_type": "stream",
     "text": [
      "[LightGBM] [Warning] Unknown parameter: scale_pos_Weight\n",
      "[LightGBM] [Warning] bagging_fraction is set=0.6, subsample=0.5 will be ignored. Current value: bagging_fraction=0.6\n",
      "[LightGBM] [Warning] min_data_in_leaf is set=64, min_child_samples=64 will be ignored. Current value: min_data_in_leaf=64\n",
      "[LightGBM] [Warning] feature_fraction is set=0.7999999999999999, colsample_bytree=0.7 will be ignored. Current value: feature_fraction=0.7999999999999999\n"
     ]
    },
    {
     "name": "stderr",
     "output_type": "stream",
     "text": [
      "Found `num_iterations` in params. Will use it instead of argument\n"
     ]
    },
    {
     "name": "stdout",
     "output_type": "stream",
     "text": [
      "[LightGBM] [Warning] Unknown parameter: scale_pos_Weight\n",
      "[LightGBM] [Warning] bagging_fraction is set=0.6, subsample=0.5 will be ignored. Current value: bagging_fraction=0.6\n",
      "[LightGBM] [Warning] min_data_in_leaf is set=64, min_child_samples=64 will be ignored. Current value: min_data_in_leaf=64\n",
      "[LightGBM] [Warning] feature_fraction is set=0.7999999999999999, colsample_bytree=0.7 will be ignored. Current value: feature_fraction=0.7999999999999999\n"
     ]
    },
    {
     "name": "stderr",
     "output_type": "stream",
     "text": [
      "Found `num_iterations` in params. Will use it instead of argument\n"
     ]
    },
    {
     "name": "stdout",
     "output_type": "stream",
     "text": [
      "[LightGBM] [Warning] Unknown parameter: scale_pos_Weight\n",
      "[LightGBM] [Warning] bagging_fraction is set=0.6, subsample=0.5 will be ignored. Current value: bagging_fraction=0.6\n",
      "[LightGBM] [Warning] min_data_in_leaf is set=64, min_child_samples=64 will be ignored. Current value: min_data_in_leaf=64\n",
      "[LightGBM] [Warning] feature_fraction is set=0.7999999999999999, colsample_bytree=0.7 will be ignored. Current value: feature_fraction=0.7999999999999999\n"
     ]
    },
    {
     "name": "stderr",
     "output_type": "stream",
     "text": [
      "Found `num_iterations` in params. Will use it instead of argument\n"
     ]
    },
    {
     "name": "stdout",
     "output_type": "stream",
     "text": [
      "[LightGBM] [Warning] Unknown parameter: scale_pos_Weight\n",
      "[LightGBM] [Warning] bagging_fraction is set=0.6, subsample=0.5 will be ignored. Current value: bagging_fraction=0.6\n",
      "[LightGBM] [Warning] min_data_in_leaf is set=64, min_child_samples=64 will be ignored. Current value: min_data_in_leaf=64\n",
      "[LightGBM] [Warning] feature_fraction is set=0.7999999999999999, colsample_bytree=0.7 will be ignored. Current value: feature_fraction=0.7999999999999999\n"
     ]
    },
    {
     "name": "stderr",
     "output_type": "stream",
     "text": [
      "Found `num_iterations` in params. Will use it instead of argument\n"
     ]
    },
    {
     "name": "stdout",
     "output_type": "stream",
     "text": [
      "[LightGBM] [Warning] Unknown parameter: scale_pos_Weight\n",
      "[LightGBM] [Warning] bagging_fraction is set=0.5, subsample=0.7 will be ignored. Current value: bagging_fraction=0.5\n",
      "[LightGBM] [Warning] min_data_in_leaf is set=64, min_child_samples=8 will be ignored. Current value: min_data_in_leaf=64\n",
      "[LightGBM] [Warning] feature_fraction is set=0.6, colsample_bytree=0.7999999999999999 will be ignored. Current value: feature_fraction=0.6\n"
     ]
    },
    {
     "name": "stderr",
     "output_type": "stream",
     "text": [
      "Found `num_iterations` in params. Will use it instead of argument\n"
     ]
    },
    {
     "name": "stdout",
     "output_type": "stream",
     "text": [
      "[LightGBM] [Warning] Unknown parameter: scale_pos_Weight\n",
      "[LightGBM] [Warning] bagging_fraction is set=0.5, subsample=0.7 will be ignored. Current value: bagging_fraction=0.5\n",
      "[LightGBM] [Warning] min_data_in_leaf is set=64, min_child_samples=8 will be ignored. Current value: min_data_in_leaf=64\n",
      "[LightGBM] [Warning] feature_fraction is set=0.6, colsample_bytree=0.7999999999999999 will be ignored. Current value: feature_fraction=0.6\n"
     ]
    },
    {
     "name": "stderr",
     "output_type": "stream",
     "text": [
      "Found `num_iterations` in params. Will use it instead of argument\n"
     ]
    },
    {
     "name": "stdout",
     "output_type": "stream",
     "text": [
      "[LightGBM] [Warning] Unknown parameter: scale_pos_Weight\n",
      "[LightGBM] [Warning] bagging_fraction is set=0.5, subsample=0.7 will be ignored. Current value: bagging_fraction=0.5\n",
      "[LightGBM] [Warning] min_data_in_leaf is set=64, min_child_samples=8 will be ignored. Current value: min_data_in_leaf=64\n",
      "[LightGBM] [Warning] feature_fraction is set=0.6, colsample_bytree=0.7999999999999999 will be ignored. Current value: feature_fraction=0.6\n"
     ]
    },
    {
     "name": "stderr",
     "output_type": "stream",
     "text": [
      "Found `num_iterations` in params. Will use it instead of argument\n"
     ]
    },
    {
     "name": "stdout",
     "output_type": "stream",
     "text": [
      "[LightGBM] [Warning] Unknown parameter: scale_pos_Weight\n",
      "[LightGBM] [Warning] bagging_fraction is set=0.5, subsample=0.7 will be ignored. Current value: bagging_fraction=0.5\n",
      "[LightGBM] [Warning] min_data_in_leaf is set=64, min_child_samples=8 will be ignored. Current value: min_data_in_leaf=64\n",
      "[LightGBM] [Warning] feature_fraction is set=0.6, colsample_bytree=0.7999999999999999 will be ignored. Current value: feature_fraction=0.6\n"
     ]
    },
    {
     "name": "stderr",
     "output_type": "stream",
     "text": [
      "Found `num_iterations` in params. Will use it instead of argument\n"
     ]
    },
    {
     "name": "stdout",
     "output_type": "stream",
     "text": [
      "[LightGBM] [Warning] Unknown parameter: scale_pos_Weight\n",
      "[LightGBM] [Warning] bagging_fraction is set=0.5, subsample=0.7 will be ignored. Current value: bagging_fraction=0.5\n",
      "[LightGBM] [Warning] min_data_in_leaf is set=64, min_child_samples=8 will be ignored. Current value: min_data_in_leaf=64\n",
      "[LightGBM] [Warning] feature_fraction is set=0.6, colsample_bytree=0.7999999999999999 will be ignored. Current value: feature_fraction=0.6\n"
     ]
    },
    {
     "name": "stderr",
     "output_type": "stream",
     "text": [
      "Found `num_iterations` in params. Will use it instead of argument\n"
     ]
    },
    {
     "name": "stdout",
     "output_type": "stream",
     "text": [
      "[LightGBM] [Warning] Unknown parameter: scale_pos_Weight\n",
      "[LightGBM] [Warning] bagging_fraction is set=0.8999999999999999, subsample=0.7999999999999999 will be ignored. Current value: bagging_fraction=0.8999999999999999\n",
      "[LightGBM] [Warning] min_data_in_leaf is set=128, min_child_samples=8 will be ignored. Current value: min_data_in_leaf=128\n",
      "[LightGBM] [Warning] feature_fraction is set=0.7, colsample_bytree=0.5 will be ignored. Current value: feature_fraction=0.7\n"
     ]
    },
    {
     "name": "stderr",
     "output_type": "stream",
     "text": [
      "Found `num_iterations` in params. Will use it instead of argument\n"
     ]
    },
    {
     "name": "stdout",
     "output_type": "stream",
     "text": [
      "[LightGBM] [Warning] Unknown parameter: scale_pos_Weight\n",
      "[LightGBM] [Warning] bagging_fraction is set=0.8999999999999999, subsample=0.7999999999999999 will be ignored. Current value: bagging_fraction=0.8999999999999999\n",
      "[LightGBM] [Warning] min_data_in_leaf is set=128, min_child_samples=8 will be ignored. Current value: min_data_in_leaf=128\n",
      "[LightGBM] [Warning] feature_fraction is set=0.7, colsample_bytree=0.5 will be ignored. Current value: feature_fraction=0.7\n"
     ]
    },
    {
     "name": "stderr",
     "output_type": "stream",
     "text": [
      "Found `num_iterations` in params. Will use it instead of argument\n"
     ]
    },
    {
     "name": "stdout",
     "output_type": "stream",
     "text": [
      "[LightGBM] [Warning] Unknown parameter: scale_pos_Weight\n",
      "[LightGBM] [Warning] bagging_fraction is set=0.8999999999999999, subsample=0.7999999999999999 will be ignored. Current value: bagging_fraction=0.8999999999999999\n",
      "[LightGBM] [Warning] min_data_in_leaf is set=128, min_child_samples=8 will be ignored. Current value: min_data_in_leaf=128\n",
      "[LightGBM] [Warning] feature_fraction is set=0.7, colsample_bytree=0.5 will be ignored. Current value: feature_fraction=0.7\n"
     ]
    },
    {
     "name": "stderr",
     "output_type": "stream",
     "text": [
      "Found `num_iterations` in params. Will use it instead of argument\n"
     ]
    },
    {
     "name": "stdout",
     "output_type": "stream",
     "text": [
      "[LightGBM] [Warning] Unknown parameter: scale_pos_Weight\n",
      "[LightGBM] [Warning] bagging_fraction is set=0.8999999999999999, subsample=0.7999999999999999 will be ignored. Current value: bagging_fraction=0.8999999999999999\n",
      "[LightGBM] [Warning] min_data_in_leaf is set=128, min_child_samples=8 will be ignored. Current value: min_data_in_leaf=128\n",
      "[LightGBM] [Warning] feature_fraction is set=0.7, colsample_bytree=0.5 will be ignored. Current value: feature_fraction=0.7\n"
     ]
    },
    {
     "name": "stderr",
     "output_type": "stream",
     "text": [
      "Found `num_iterations` in params. Will use it instead of argument\n"
     ]
    },
    {
     "name": "stdout",
     "output_type": "stream",
     "text": [
      "[LightGBM] [Warning] Unknown parameter: scale_pos_Weight\n",
      "[LightGBM] [Warning] bagging_fraction is set=0.8999999999999999, subsample=0.7999999999999999 will be ignored. Current value: bagging_fraction=0.8999999999999999\n",
      "[LightGBM] [Warning] min_data_in_leaf is set=128, min_child_samples=8 will be ignored. Current value: min_data_in_leaf=128\n",
      "[LightGBM] [Warning] feature_fraction is set=0.7, colsample_bytree=0.5 will be ignored. Current value: feature_fraction=0.7\n"
     ]
    },
    {
     "name": "stderr",
     "output_type": "stream",
     "text": [
      "Found `num_iterations` in params. Will use it instead of argument\n"
     ]
    },
    {
     "name": "stdout",
     "output_type": "stream",
     "text": [
      "[LightGBM] [Warning] Unknown parameter: scale_pos_Weight\n",
      "[LightGBM] [Warning] bagging_fraction is set=0.8999999999999999, subsample=0.6 will be ignored. Current value: bagging_fraction=0.8999999999999999\n",
      "[LightGBM] [Warning] min_data_in_leaf is set=16, min_child_samples=16 will be ignored. Current value: min_data_in_leaf=16\n",
      "[LightGBM] [Warning] feature_fraction is set=0.6, colsample_bytree=0.6 will be ignored. Current value: feature_fraction=0.6\n"
     ]
    },
    {
     "name": "stderr",
     "output_type": "stream",
     "text": [
      "Found `num_iterations` in params. Will use it instead of argument\n"
     ]
    },
    {
     "name": "stdout",
     "output_type": "stream",
     "text": [
      "[LightGBM] [Warning] Unknown parameter: scale_pos_Weight\n",
      "[LightGBM] [Warning] bagging_fraction is set=0.8999999999999999, subsample=0.6 will be ignored. Current value: bagging_fraction=0.8999999999999999\n",
      "[LightGBM] [Warning] min_data_in_leaf is set=16, min_child_samples=16 will be ignored. Current value: min_data_in_leaf=16\n",
      "[LightGBM] [Warning] feature_fraction is set=0.6, colsample_bytree=0.6 will be ignored. Current value: feature_fraction=0.6\n"
     ]
    },
    {
     "name": "stderr",
     "output_type": "stream",
     "text": [
      "Found `num_iterations` in params. Will use it instead of argument\n"
     ]
    },
    {
     "name": "stdout",
     "output_type": "stream",
     "text": [
      "[LightGBM] [Warning] Unknown parameter: scale_pos_Weight\n",
      "[LightGBM] [Warning] bagging_fraction is set=0.8999999999999999, subsample=0.6 will be ignored. Current value: bagging_fraction=0.8999999999999999\n",
      "[LightGBM] [Warning] min_data_in_leaf is set=16, min_child_samples=16 will be ignored. Current value: min_data_in_leaf=16\n",
      "[LightGBM] [Warning] feature_fraction is set=0.6, colsample_bytree=0.6 will be ignored. Current value: feature_fraction=0.6\n"
     ]
    },
    {
     "name": "stderr",
     "output_type": "stream",
     "text": [
      "Found `num_iterations` in params. Will use it instead of argument\n"
     ]
    },
    {
     "name": "stdout",
     "output_type": "stream",
     "text": [
      "[LightGBM] [Warning] Unknown parameter: scale_pos_Weight\n",
      "[LightGBM] [Warning] bagging_fraction is set=0.8999999999999999, subsample=0.6 will be ignored. Current value: bagging_fraction=0.8999999999999999\n",
      "[LightGBM] [Warning] min_data_in_leaf is set=16, min_child_samples=16 will be ignored. Current value: min_data_in_leaf=16\n",
      "[LightGBM] [Warning] feature_fraction is set=0.6, colsample_bytree=0.6 will be ignored. Current value: feature_fraction=0.6\n"
     ]
    },
    {
     "name": "stderr",
     "output_type": "stream",
     "text": [
      "Found `num_iterations` in params. Will use it instead of argument\n"
     ]
    },
    {
     "name": "stdout",
     "output_type": "stream",
     "text": [
      "[LightGBM] [Warning] Unknown parameter: scale_pos_Weight\n",
      "[LightGBM] [Warning] bagging_fraction is set=0.8999999999999999, subsample=0.6 will be ignored. Current value: bagging_fraction=0.8999999999999999\n",
      "[LightGBM] [Warning] min_data_in_leaf is set=16, min_child_samples=16 will be ignored. Current value: min_data_in_leaf=16\n",
      "[LightGBM] [Warning] feature_fraction is set=0.6, colsample_bytree=0.6 will be ignored. Current value: feature_fraction=0.6\n"
     ]
    },
    {
     "name": "stderr",
     "output_type": "stream",
     "text": [
      "Found `num_iterations` in params. Will use it instead of argument\n"
     ]
    },
    {
     "name": "stdout",
     "output_type": "stream",
     "text": [
      "[LightGBM] [Warning] Unknown parameter: scale_pos_Weight\n",
      "[LightGBM] [Warning] bagging_fraction is set=0.7, subsample=0.5 will be ignored. Current value: bagging_fraction=0.7\n",
      "[LightGBM] [Warning] min_data_in_leaf is set=512, min_child_samples=128 will be ignored. Current value: min_data_in_leaf=512\n",
      "[LightGBM] [Warning] feature_fraction is set=0.5, colsample_bytree=0.5 will be ignored. Current value: feature_fraction=0.5\n"
     ]
    },
    {
     "name": "stderr",
     "output_type": "stream",
     "text": [
      "Found `num_iterations` in params. Will use it instead of argument\n"
     ]
    },
    {
     "name": "stdout",
     "output_type": "stream",
     "text": [
      "[LightGBM] [Warning] Unknown parameter: scale_pos_Weight\n",
      "[LightGBM] [Warning] bagging_fraction is set=0.7, subsample=0.5 will be ignored. Current value: bagging_fraction=0.7\n",
      "[LightGBM] [Warning] min_data_in_leaf is set=512, min_child_samples=128 will be ignored. Current value: min_data_in_leaf=512\n",
      "[LightGBM] [Warning] feature_fraction is set=0.5, colsample_bytree=0.5 will be ignored. Current value: feature_fraction=0.5\n"
     ]
    },
    {
     "name": "stderr",
     "output_type": "stream",
     "text": [
      "Found `num_iterations` in params. Will use it instead of argument\n"
     ]
    },
    {
     "name": "stdout",
     "output_type": "stream",
     "text": [
      "[LightGBM] [Warning] Unknown parameter: scale_pos_Weight\n",
      "[LightGBM] [Warning] bagging_fraction is set=0.7, subsample=0.5 will be ignored. Current value: bagging_fraction=0.7\n",
      "[LightGBM] [Warning] min_data_in_leaf is set=512, min_child_samples=128 will be ignored. Current value: min_data_in_leaf=512\n",
      "[LightGBM] [Warning] feature_fraction is set=0.5, colsample_bytree=0.5 will be ignored. Current value: feature_fraction=0.5\n"
     ]
    },
    {
     "name": "stderr",
     "output_type": "stream",
     "text": [
      "Found `num_iterations` in params. Will use it instead of argument\n"
     ]
    },
    {
     "name": "stdout",
     "output_type": "stream",
     "text": [
      "[LightGBM] [Warning] Unknown parameter: scale_pos_Weight\n",
      "[LightGBM] [Warning] bagging_fraction is set=0.7, subsample=0.5 will be ignored. Current value: bagging_fraction=0.7\n",
      "[LightGBM] [Warning] min_data_in_leaf is set=512, min_child_samples=128 will be ignored. Current value: min_data_in_leaf=512\n",
      "[LightGBM] [Warning] feature_fraction is set=0.5, colsample_bytree=0.5 will be ignored. Current value: feature_fraction=0.5\n"
     ]
    },
    {
     "name": "stderr",
     "output_type": "stream",
     "text": [
      "Found `num_iterations` in params. Will use it instead of argument\n"
     ]
    },
    {
     "name": "stdout",
     "output_type": "stream",
     "text": [
      "[LightGBM] [Warning] Unknown parameter: scale_pos_Weight\n",
      "[LightGBM] [Warning] bagging_fraction is set=0.7, subsample=0.5 will be ignored. Current value: bagging_fraction=0.7\n",
      "[LightGBM] [Warning] min_data_in_leaf is set=512, min_child_samples=128 will be ignored. Current value: min_data_in_leaf=512\n",
      "[LightGBM] [Warning] feature_fraction is set=0.5, colsample_bytree=0.5 will be ignored. Current value: feature_fraction=0.5\n"
     ]
    },
    {
     "name": "stderr",
     "output_type": "stream",
     "text": [
      "Found `num_iterations` in params. Will use it instead of argument\n"
     ]
    },
    {
     "name": "stdout",
     "output_type": "stream",
     "text": [
      "[LightGBM] [Warning] Unknown parameter: scale_pos_Weight\n",
      "[LightGBM] [Warning] bagging_fraction is set=0.5, subsample=0.8999999999999999 will be ignored. Current value: bagging_fraction=0.5\n",
      "[LightGBM] [Warning] min_data_in_leaf is set=64, min_child_samples=8 will be ignored. Current value: min_data_in_leaf=64\n",
      "[LightGBM] [Warning] feature_fraction is set=0.8999999999999999, colsample_bytree=0.6 will be ignored. Current value: feature_fraction=0.8999999999999999\n"
     ]
    },
    {
     "name": "stderr",
     "output_type": "stream",
     "text": [
      "Found `num_iterations` in params. Will use it instead of argument\n"
     ]
    },
    {
     "name": "stdout",
     "output_type": "stream",
     "text": [
      "[LightGBM] [Warning] Unknown parameter: scale_pos_Weight\n",
      "[LightGBM] [Warning] bagging_fraction is set=0.5, subsample=0.8999999999999999 will be ignored. Current value: bagging_fraction=0.5\n",
      "[LightGBM] [Warning] min_data_in_leaf is set=64, min_child_samples=8 will be ignored. Current value: min_data_in_leaf=64\n",
      "[LightGBM] [Warning] feature_fraction is set=0.8999999999999999, colsample_bytree=0.6 will be ignored. Current value: feature_fraction=0.8999999999999999\n"
     ]
    },
    {
     "name": "stderr",
     "output_type": "stream",
     "text": [
      "Found `num_iterations` in params. Will use it instead of argument\n"
     ]
    },
    {
     "name": "stdout",
     "output_type": "stream",
     "text": [
      "[LightGBM] [Warning] Unknown parameter: scale_pos_Weight\n",
      "[LightGBM] [Warning] bagging_fraction is set=0.5, subsample=0.8999999999999999 will be ignored. Current value: bagging_fraction=0.5\n",
      "[LightGBM] [Warning] min_data_in_leaf is set=64, min_child_samples=8 will be ignored. Current value: min_data_in_leaf=64\n",
      "[LightGBM] [Warning] feature_fraction is set=0.8999999999999999, colsample_bytree=0.6 will be ignored. Current value: feature_fraction=0.8999999999999999\n"
     ]
    },
    {
     "name": "stderr",
     "output_type": "stream",
     "text": [
      "Found `num_iterations` in params. Will use it instead of argument\n"
     ]
    },
    {
     "name": "stdout",
     "output_type": "stream",
     "text": [
      "[LightGBM] [Warning] Unknown parameter: scale_pos_Weight\n",
      "[LightGBM] [Warning] bagging_fraction is set=0.5, subsample=0.8999999999999999 will be ignored. Current value: bagging_fraction=0.5\n",
      "[LightGBM] [Warning] min_data_in_leaf is set=64, min_child_samples=8 will be ignored. Current value: min_data_in_leaf=64\n",
      "[LightGBM] [Warning] feature_fraction is set=0.8999999999999999, colsample_bytree=0.6 will be ignored. Current value: feature_fraction=0.8999999999999999\n"
     ]
    },
    {
     "name": "stderr",
     "output_type": "stream",
     "text": [
      "Found `num_iterations` in params. Will use it instead of argument\n"
     ]
    },
    {
     "name": "stdout",
     "output_type": "stream",
     "text": [
      "[LightGBM] [Warning] Unknown parameter: scale_pos_Weight\n",
      "[LightGBM] [Warning] bagging_fraction is set=0.5, subsample=0.8999999999999999 will be ignored. Current value: bagging_fraction=0.5\n",
      "[LightGBM] [Warning] min_data_in_leaf is set=64, min_child_samples=8 will be ignored. Current value: min_data_in_leaf=64\n",
      "[LightGBM] [Warning] feature_fraction is set=0.8999999999999999, colsample_bytree=0.6 will be ignored. Current value: feature_fraction=0.8999999999999999\n"
     ]
    },
    {
     "name": "stderr",
     "output_type": "stream",
     "text": [
      "[Parallel(n_jobs=1)]: Done 100 out of 100 | elapsed: 163.0min finished\n",
      "Found `num_iterations` in params. Will use it instead of argument\n"
     ]
    },
    {
     "name": "stdout",
     "output_type": "stream",
     "text": [
      "[LightGBM] [Warning] Unknown parameter: scale_pos_Weight\n",
      "[LightGBM] [Warning] bagging_fraction is set=0.6, subsample=0.7999999999999999 will be ignored. Current value: bagging_fraction=0.6\n",
      "[LightGBM] [Warning] min_data_in_leaf is set=8, min_child_samples=64 will be ignored. Current value: min_data_in_leaf=8\n",
      "[LightGBM] [Warning] feature_fraction is set=0.5, colsample_bytree=0.7999999999999999 will be ignored. Current value: feature_fraction=0.5\n"
     ]
    },
    {
     "name": "stderr",
     "output_type": "stream",
     "text": [
      " 40%|████      | 2/5 [6:54:03<11:12:18, 13446.19s/it]"
     ]
    },
    {
     "name": "stdout",
     "output_type": "stream",
     "text": [
      "auc_score is :  0.7477084730605859\n",
      "(2129, 7832)\n",
      "[0. 0. 1. ... 0. 0. 0.]\n",
      "(2129, 7831) (2129,)\n",
      "(533, 7832)\n",
      "[0. 0. 1. ... 0. 0. 0.]\n",
      "(533, 7831) (533,)\n",
      "current task: 0 GBT\n",
      "(2129, 7831) (533, 7831)\n",
      "Fitting 5 folds for each of 20 candidates, totalling 100 fits\n",
      "[LightGBM] [Warning] Unknown parameter: scale_pos_Weight\n",
      "[LightGBM] [Warning] bagging_fraction is set=0.8999999999999999, subsample=0.7999999999999999 will be ignored. Current value: bagging_fraction=0.8999999999999999\n",
      "[LightGBM] [Warning] min_data_in_leaf is set=2, min_child_samples=8 will be ignored. Current value: min_data_in_leaf=2\n",
      "[LightGBM] [Warning] feature_fraction is set=0.7, colsample_bytree=0.7999999999999999 will be ignored. Current value: feature_fraction=0.7\n"
     ]
    },
    {
     "name": "stderr",
     "output_type": "stream",
     "text": [
      "[Parallel(n_jobs=1)]: Using backend SequentialBackend with 1 concurrent workers.\n",
      "Found `num_iterations` in params. Will use it instead of argument\n",
      "Found `num_iterations` in params. Will use it instead of argument\n"
     ]
    },
    {
     "name": "stdout",
     "output_type": "stream",
     "text": [
      "[LightGBM] [Warning] Unknown parameter: scale_pos_Weight\n",
      "[LightGBM] [Warning] bagging_fraction is set=0.8999999999999999, subsample=0.7999999999999999 will be ignored. Current value: bagging_fraction=0.8999999999999999\n",
      "[LightGBM] [Warning] min_data_in_leaf is set=2, min_child_samples=8 will be ignored. Current value: min_data_in_leaf=2\n",
      "[LightGBM] [Warning] feature_fraction is set=0.7, colsample_bytree=0.7999999999999999 will be ignored. Current value: feature_fraction=0.7\n"
     ]
    },
    {
     "name": "stderr",
     "output_type": "stream",
     "text": [
      "Found `num_iterations` in params. Will use it instead of argument\n"
     ]
    },
    {
     "name": "stdout",
     "output_type": "stream",
     "text": [
      "[LightGBM] [Warning] Unknown parameter: scale_pos_Weight\n",
      "[LightGBM] [Warning] bagging_fraction is set=0.8999999999999999, subsample=0.7999999999999999 will be ignored. Current value: bagging_fraction=0.8999999999999999\n",
      "[LightGBM] [Warning] min_data_in_leaf is set=2, min_child_samples=8 will be ignored. Current value: min_data_in_leaf=2\n",
      "[LightGBM] [Warning] feature_fraction is set=0.7, colsample_bytree=0.7999999999999999 will be ignored. Current value: feature_fraction=0.7\n"
     ]
    },
    {
     "name": "stderr",
     "output_type": "stream",
     "text": [
      "Found `num_iterations` in params. Will use it instead of argument\n"
     ]
    },
    {
     "name": "stdout",
     "output_type": "stream",
     "text": [
      "[LightGBM] [Warning] Unknown parameter: scale_pos_Weight\n",
      "[LightGBM] [Warning] bagging_fraction is set=0.8999999999999999, subsample=0.7999999999999999 will be ignored. Current value: bagging_fraction=0.8999999999999999\n",
      "[LightGBM] [Warning] min_data_in_leaf is set=2, min_child_samples=8 will be ignored. Current value: min_data_in_leaf=2\n",
      "[LightGBM] [Warning] feature_fraction is set=0.7, colsample_bytree=0.7999999999999999 will be ignored. Current value: feature_fraction=0.7\n"
     ]
    },
    {
     "name": "stderr",
     "output_type": "stream",
     "text": [
      "Found `num_iterations` in params. Will use it instead of argument\n"
     ]
    },
    {
     "name": "stdout",
     "output_type": "stream",
     "text": [
      "[LightGBM] [Warning] Unknown parameter: scale_pos_Weight\n",
      "[LightGBM] [Warning] bagging_fraction is set=0.8999999999999999, subsample=0.7999999999999999 will be ignored. Current value: bagging_fraction=0.8999999999999999\n",
      "[LightGBM] [Warning] min_data_in_leaf is set=2, min_child_samples=8 will be ignored. Current value: min_data_in_leaf=2\n",
      "[LightGBM] [Warning] feature_fraction is set=0.7, colsample_bytree=0.7999999999999999 will be ignored. Current value: feature_fraction=0.7\n"
     ]
    },
    {
     "name": "stderr",
     "output_type": "stream",
     "text": [
      "Found `num_iterations` in params. Will use it instead of argument\n"
     ]
    },
    {
     "name": "stdout",
     "output_type": "stream",
     "text": [
      "[LightGBM] [Warning] Unknown parameter: scale_pos_Weight\n",
      "[LightGBM] [Warning] bagging_fraction is set=0.5, subsample=0.5 will be ignored. Current value: bagging_fraction=0.5\n",
      "[LightGBM] [Warning] min_data_in_leaf is set=128, min_child_samples=32 will be ignored. Current value: min_data_in_leaf=128\n",
      "[LightGBM] [Warning] feature_fraction is set=0.7999999999999999, colsample_bytree=0.5 will be ignored. Current value: feature_fraction=0.7999999999999999\n"
     ]
    },
    {
     "name": "stderr",
     "output_type": "stream",
     "text": [
      "Found `num_iterations` in params. Will use it instead of argument\n"
     ]
    },
    {
     "name": "stdout",
     "output_type": "stream",
     "text": [
      "[LightGBM] [Warning] Unknown parameter: scale_pos_Weight\n",
      "[LightGBM] [Warning] bagging_fraction is set=0.5, subsample=0.5 will be ignored. Current value: bagging_fraction=0.5\n",
      "[LightGBM] [Warning] min_data_in_leaf is set=128, min_child_samples=32 will be ignored. Current value: min_data_in_leaf=128\n",
      "[LightGBM] [Warning] feature_fraction is set=0.7999999999999999, colsample_bytree=0.5 will be ignored. Current value: feature_fraction=0.7999999999999999\n"
     ]
    },
    {
     "name": "stderr",
     "output_type": "stream",
     "text": [
      "Found `num_iterations` in params. Will use it instead of argument\n"
     ]
    },
    {
     "name": "stdout",
     "output_type": "stream",
     "text": [
      "[LightGBM] [Warning] Unknown parameter: scale_pos_Weight\n",
      "[LightGBM] [Warning] bagging_fraction is set=0.5, subsample=0.5 will be ignored. Current value: bagging_fraction=0.5\n",
      "[LightGBM] [Warning] min_data_in_leaf is set=128, min_child_samples=32 will be ignored. Current value: min_data_in_leaf=128\n",
      "[LightGBM] [Warning] feature_fraction is set=0.7999999999999999, colsample_bytree=0.5 will be ignored. Current value: feature_fraction=0.7999999999999999\n"
     ]
    },
    {
     "name": "stderr",
     "output_type": "stream",
     "text": [
      "Found `num_iterations` in params. Will use it instead of argument\n"
     ]
    },
    {
     "name": "stdout",
     "output_type": "stream",
     "text": [
      "[LightGBM] [Warning] Unknown parameter: scale_pos_Weight\n",
      "[LightGBM] [Warning] bagging_fraction is set=0.5, subsample=0.5 will be ignored. Current value: bagging_fraction=0.5\n",
      "[LightGBM] [Warning] min_data_in_leaf is set=128, min_child_samples=32 will be ignored. Current value: min_data_in_leaf=128\n",
      "[LightGBM] [Warning] feature_fraction is set=0.7999999999999999, colsample_bytree=0.5 will be ignored. Current value: feature_fraction=0.7999999999999999\n"
     ]
    },
    {
     "name": "stderr",
     "output_type": "stream",
     "text": [
      "Found `num_iterations` in params. Will use it instead of argument\n"
     ]
    },
    {
     "name": "stdout",
     "output_type": "stream",
     "text": [
      "[LightGBM] [Warning] Unknown parameter: scale_pos_Weight\n",
      "[LightGBM] [Warning] bagging_fraction is set=0.5, subsample=0.5 will be ignored. Current value: bagging_fraction=0.5\n",
      "[LightGBM] [Warning] min_data_in_leaf is set=128, min_child_samples=32 will be ignored. Current value: min_data_in_leaf=128\n",
      "[LightGBM] [Warning] feature_fraction is set=0.7999999999999999, colsample_bytree=0.5 will be ignored. Current value: feature_fraction=0.7999999999999999\n"
     ]
    },
    {
     "name": "stderr",
     "output_type": "stream",
     "text": [
      "Found `num_iterations` in params. Will use it instead of argument\n"
     ]
    },
    {
     "name": "stdout",
     "output_type": "stream",
     "text": [
      "[LightGBM] [Warning] Unknown parameter: scale_pos_Weight\n",
      "[LightGBM] [Warning] bagging_fraction is set=0.6, subsample=0.7999999999999999 will be ignored. Current value: bagging_fraction=0.6\n",
      "[LightGBM] [Warning] min_data_in_leaf is set=8, min_child_samples=64 will be ignored. Current value: min_data_in_leaf=8\n",
      "[LightGBM] [Warning] feature_fraction is set=0.5, colsample_bytree=0.7999999999999999 will be ignored. Current value: feature_fraction=0.5\n"
     ]
    },
    {
     "name": "stderr",
     "output_type": "stream",
     "text": [
      "Found `num_iterations` in params. Will use it instead of argument\n"
     ]
    },
    {
     "name": "stdout",
     "output_type": "stream",
     "text": [
      "[LightGBM] [Warning] Unknown parameter: scale_pos_Weight\n",
      "[LightGBM] [Warning] bagging_fraction is set=0.6, subsample=0.7999999999999999 will be ignored. Current value: bagging_fraction=0.6\n",
      "[LightGBM] [Warning] min_data_in_leaf is set=8, min_child_samples=64 will be ignored. Current value: min_data_in_leaf=8\n",
      "[LightGBM] [Warning] feature_fraction is set=0.5, colsample_bytree=0.7999999999999999 will be ignored. Current value: feature_fraction=0.5\n"
     ]
    },
    {
     "name": "stderr",
     "output_type": "stream",
     "text": [
      "Found `num_iterations` in params. Will use it instead of argument\n"
     ]
    },
    {
     "name": "stdout",
     "output_type": "stream",
     "text": [
      "[LightGBM] [Warning] Unknown parameter: scale_pos_Weight\n",
      "[LightGBM] [Warning] bagging_fraction is set=0.6, subsample=0.7999999999999999 will be ignored. Current value: bagging_fraction=0.6\n",
      "[LightGBM] [Warning] min_data_in_leaf is set=8, min_child_samples=64 will be ignored. Current value: min_data_in_leaf=8\n",
      "[LightGBM] [Warning] feature_fraction is set=0.5, colsample_bytree=0.7999999999999999 will be ignored. Current value: feature_fraction=0.5\n"
     ]
    },
    {
     "name": "stderr",
     "output_type": "stream",
     "text": [
      "Found `num_iterations` in params. Will use it instead of argument\n"
     ]
    },
    {
     "name": "stdout",
     "output_type": "stream",
     "text": [
      "[LightGBM] [Warning] Unknown parameter: scale_pos_Weight\n",
      "[LightGBM] [Warning] bagging_fraction is set=0.6, subsample=0.7999999999999999 will be ignored. Current value: bagging_fraction=0.6\n",
      "[LightGBM] [Warning] min_data_in_leaf is set=8, min_child_samples=64 will be ignored. Current value: min_data_in_leaf=8\n",
      "[LightGBM] [Warning] feature_fraction is set=0.5, colsample_bytree=0.7999999999999999 will be ignored. Current value: feature_fraction=0.5\n"
     ]
    },
    {
     "name": "stderr",
     "output_type": "stream",
     "text": [
      "Found `num_iterations` in params. Will use it instead of argument\n"
     ]
    },
    {
     "name": "stdout",
     "output_type": "stream",
     "text": [
      "[LightGBM] [Warning] Unknown parameter: scale_pos_Weight\n",
      "[LightGBM] [Warning] bagging_fraction is set=0.6, subsample=0.7999999999999999 will be ignored. Current value: bagging_fraction=0.6\n",
      "[LightGBM] [Warning] min_data_in_leaf is set=8, min_child_samples=64 will be ignored. Current value: min_data_in_leaf=8\n",
      "[LightGBM] [Warning] feature_fraction is set=0.5, colsample_bytree=0.7999999999999999 will be ignored. Current value: feature_fraction=0.5\n"
     ]
    },
    {
     "name": "stderr",
     "output_type": "stream",
     "text": [
      "Found `num_iterations` in params. Will use it instead of argument\n"
     ]
    },
    {
     "name": "stdout",
     "output_type": "stream",
     "text": [
      "[LightGBM] [Warning] Unknown parameter: scale_pos_Weight\n",
      "[LightGBM] [Warning] bagging_fraction is set=0.7999999999999999, subsample=0.6 will be ignored. Current value: bagging_fraction=0.7999999999999999\n",
      "[LightGBM] [Warning] min_data_in_leaf is set=32, min_child_samples=32 will be ignored. Current value: min_data_in_leaf=32\n",
      "[LightGBM] [Warning] feature_fraction is set=0.5, colsample_bytree=0.7 will be ignored. Current value: feature_fraction=0.5\n"
     ]
    },
    {
     "name": "stderr",
     "output_type": "stream",
     "text": [
      "Found `num_iterations` in params. Will use it instead of argument\n"
     ]
    },
    {
     "name": "stdout",
     "output_type": "stream",
     "text": [
      "[LightGBM] [Warning] Unknown parameter: scale_pos_Weight\n",
      "[LightGBM] [Warning] bagging_fraction is set=0.7999999999999999, subsample=0.6 will be ignored. Current value: bagging_fraction=0.7999999999999999\n",
      "[LightGBM] [Warning] min_data_in_leaf is set=32, min_child_samples=32 will be ignored. Current value: min_data_in_leaf=32\n",
      "[LightGBM] [Warning] feature_fraction is set=0.5, colsample_bytree=0.7 will be ignored. Current value: feature_fraction=0.5\n"
     ]
    },
    {
     "name": "stderr",
     "output_type": "stream",
     "text": [
      "Found `num_iterations` in params. Will use it instead of argument\n"
     ]
    },
    {
     "name": "stdout",
     "output_type": "stream",
     "text": [
      "[LightGBM] [Warning] Unknown parameter: scale_pos_Weight\n",
      "[LightGBM] [Warning] bagging_fraction is set=0.7999999999999999, subsample=0.6 will be ignored. Current value: bagging_fraction=0.7999999999999999\n",
      "[LightGBM] [Warning] min_data_in_leaf is set=32, min_child_samples=32 will be ignored. Current value: min_data_in_leaf=32\n",
      "[LightGBM] [Warning] feature_fraction is set=0.5, colsample_bytree=0.7 will be ignored. Current value: feature_fraction=0.5\n"
     ]
    },
    {
     "name": "stderr",
     "output_type": "stream",
     "text": [
      "Found `num_iterations` in params. Will use it instead of argument\n"
     ]
    },
    {
     "name": "stdout",
     "output_type": "stream",
     "text": [
      "[LightGBM] [Warning] Unknown parameter: scale_pos_Weight\n",
      "[LightGBM] [Warning] bagging_fraction is set=0.7999999999999999, subsample=0.6 will be ignored. Current value: bagging_fraction=0.7999999999999999\n",
      "[LightGBM] [Warning] min_data_in_leaf is set=32, min_child_samples=32 will be ignored. Current value: min_data_in_leaf=32\n",
      "[LightGBM] [Warning] feature_fraction is set=0.5, colsample_bytree=0.7 will be ignored. Current value: feature_fraction=0.5\n"
     ]
    },
    {
     "name": "stderr",
     "output_type": "stream",
     "text": [
      "Found `num_iterations` in params. Will use it instead of argument\n"
     ]
    },
    {
     "name": "stdout",
     "output_type": "stream",
     "text": [
      "[LightGBM] [Warning] Unknown parameter: scale_pos_Weight\n",
      "[LightGBM] [Warning] bagging_fraction is set=0.7999999999999999, subsample=0.6 will be ignored. Current value: bagging_fraction=0.7999999999999999\n",
      "[LightGBM] [Warning] min_data_in_leaf is set=32, min_child_samples=32 will be ignored. Current value: min_data_in_leaf=32\n",
      "[LightGBM] [Warning] feature_fraction is set=0.5, colsample_bytree=0.7 will be ignored. Current value: feature_fraction=0.5\n"
     ]
    },
    {
     "name": "stderr",
     "output_type": "stream",
     "text": [
      "Found `num_iterations` in params. Will use it instead of argument\n"
     ]
    },
    {
     "name": "stdout",
     "output_type": "stream",
     "text": [
      "[LightGBM] [Warning] Unknown parameter: scale_pos_Weight\n",
      "[LightGBM] [Warning] bagging_fraction is set=0.6, subsample=0.7 will be ignored. Current value: bagging_fraction=0.6\n",
      "[LightGBM] [Warning] min_data_in_leaf is set=16, min_child_samples=4 will be ignored. Current value: min_data_in_leaf=16\n",
      "[LightGBM] [Warning] feature_fraction is set=0.5, colsample_bytree=0.7999999999999999 will be ignored. Current value: feature_fraction=0.5\n"
     ]
    },
    {
     "name": "stderr",
     "output_type": "stream",
     "text": [
      "Found `num_iterations` in params. Will use it instead of argument\n"
     ]
    },
    {
     "name": "stdout",
     "output_type": "stream",
     "text": [
      "[LightGBM] [Warning] Unknown parameter: scale_pos_Weight\n",
      "[LightGBM] [Warning] bagging_fraction is set=0.6, subsample=0.7 will be ignored. Current value: bagging_fraction=0.6\n",
      "[LightGBM] [Warning] min_data_in_leaf is set=16, min_child_samples=4 will be ignored. Current value: min_data_in_leaf=16\n",
      "[LightGBM] [Warning] feature_fraction is set=0.5, colsample_bytree=0.7999999999999999 will be ignored. Current value: feature_fraction=0.5\n"
     ]
    },
    {
     "name": "stderr",
     "output_type": "stream",
     "text": [
      "Found `num_iterations` in params. Will use it instead of argument\n"
     ]
    },
    {
     "name": "stdout",
     "output_type": "stream",
     "text": [
      "[LightGBM] [Warning] Unknown parameter: scale_pos_Weight\n",
      "[LightGBM] [Warning] bagging_fraction is set=0.6, subsample=0.7 will be ignored. Current value: bagging_fraction=0.6\n",
      "[LightGBM] [Warning] min_data_in_leaf is set=16, min_child_samples=4 will be ignored. Current value: min_data_in_leaf=16\n",
      "[LightGBM] [Warning] feature_fraction is set=0.5, colsample_bytree=0.7999999999999999 will be ignored. Current value: feature_fraction=0.5\n"
     ]
    },
    {
     "name": "stderr",
     "output_type": "stream",
     "text": [
      "Found `num_iterations` in params. Will use it instead of argument\n"
     ]
    },
    {
     "name": "stdout",
     "output_type": "stream",
     "text": [
      "[LightGBM] [Warning] Unknown parameter: scale_pos_Weight\n",
      "[LightGBM] [Warning] bagging_fraction is set=0.6, subsample=0.7 will be ignored. Current value: bagging_fraction=0.6\n",
      "[LightGBM] [Warning] min_data_in_leaf is set=16, min_child_samples=4 will be ignored. Current value: min_data_in_leaf=16\n",
      "[LightGBM] [Warning] feature_fraction is set=0.5, colsample_bytree=0.7999999999999999 will be ignored. Current value: feature_fraction=0.5\n"
     ]
    },
    {
     "name": "stderr",
     "output_type": "stream",
     "text": [
      "Found `num_iterations` in params. Will use it instead of argument\n"
     ]
    },
    {
     "name": "stdout",
     "output_type": "stream",
     "text": [
      "[LightGBM] [Warning] Unknown parameter: scale_pos_Weight\n",
      "[LightGBM] [Warning] bagging_fraction is set=0.6, subsample=0.7 will be ignored. Current value: bagging_fraction=0.6\n",
      "[LightGBM] [Warning] min_data_in_leaf is set=16, min_child_samples=4 will be ignored. Current value: min_data_in_leaf=16\n",
      "[LightGBM] [Warning] feature_fraction is set=0.5, colsample_bytree=0.7999999999999999 will be ignored. Current value: feature_fraction=0.5\n"
     ]
    },
    {
     "name": "stderr",
     "output_type": "stream",
     "text": [
      "Found `num_iterations` in params. Will use it instead of argument\n"
     ]
    },
    {
     "name": "stdout",
     "output_type": "stream",
     "text": [
      "[LightGBM] [Warning] Unknown parameter: scale_pos_Weight\n",
      "[LightGBM] [Warning] bagging_fraction is set=0.6, subsample=0.6 will be ignored. Current value: bagging_fraction=0.6\n",
      "[LightGBM] [Warning] min_data_in_leaf is set=512, min_child_samples=16 will be ignored. Current value: min_data_in_leaf=512\n",
      "[LightGBM] [Warning] feature_fraction is set=0.6, colsample_bytree=0.6 will be ignored. Current value: feature_fraction=0.6\n"
     ]
    },
    {
     "name": "stderr",
     "output_type": "stream",
     "text": [
      "Found `num_iterations` in params. Will use it instead of argument\n"
     ]
    },
    {
     "name": "stdout",
     "output_type": "stream",
     "text": [
      "[LightGBM] [Warning] Unknown parameter: scale_pos_Weight\n",
      "[LightGBM] [Warning] bagging_fraction is set=0.6, subsample=0.6 will be ignored. Current value: bagging_fraction=0.6\n",
      "[LightGBM] [Warning] min_data_in_leaf is set=512, min_child_samples=16 will be ignored. Current value: min_data_in_leaf=512\n",
      "[LightGBM] [Warning] feature_fraction is set=0.6, colsample_bytree=0.6 will be ignored. Current value: feature_fraction=0.6\n"
     ]
    },
    {
     "name": "stderr",
     "output_type": "stream",
     "text": [
      "Found `num_iterations` in params. Will use it instead of argument\n"
     ]
    },
    {
     "name": "stdout",
     "output_type": "stream",
     "text": [
      "[LightGBM] [Warning] Unknown parameter: scale_pos_Weight\n",
      "[LightGBM] [Warning] bagging_fraction is set=0.6, subsample=0.6 will be ignored. Current value: bagging_fraction=0.6\n",
      "[LightGBM] [Warning] min_data_in_leaf is set=512, min_child_samples=16 will be ignored. Current value: min_data_in_leaf=512\n",
      "[LightGBM] [Warning] feature_fraction is set=0.6, colsample_bytree=0.6 will be ignored. Current value: feature_fraction=0.6\n"
     ]
    },
    {
     "name": "stderr",
     "output_type": "stream",
     "text": [
      "Found `num_iterations` in params. Will use it instead of argument\n"
     ]
    },
    {
     "name": "stdout",
     "output_type": "stream",
     "text": [
      "[LightGBM] [Warning] Unknown parameter: scale_pos_Weight\n",
      "[LightGBM] [Warning] bagging_fraction is set=0.6, subsample=0.6 will be ignored. Current value: bagging_fraction=0.6\n",
      "[LightGBM] [Warning] min_data_in_leaf is set=512, min_child_samples=16 will be ignored. Current value: min_data_in_leaf=512\n",
      "[LightGBM] [Warning] feature_fraction is set=0.6, colsample_bytree=0.6 will be ignored. Current value: feature_fraction=0.6\n"
     ]
    },
    {
     "name": "stderr",
     "output_type": "stream",
     "text": [
      "Found `num_iterations` in params. Will use it instead of argument\n"
     ]
    },
    {
     "name": "stdout",
     "output_type": "stream",
     "text": [
      "[LightGBM] [Warning] Unknown parameter: scale_pos_Weight\n",
      "[LightGBM] [Warning] bagging_fraction is set=0.6, subsample=0.6 will be ignored. Current value: bagging_fraction=0.6\n",
      "[LightGBM] [Warning] min_data_in_leaf is set=512, min_child_samples=16 will be ignored. Current value: min_data_in_leaf=512\n",
      "[LightGBM] [Warning] feature_fraction is set=0.6, colsample_bytree=0.6 will be ignored. Current value: feature_fraction=0.6\n"
     ]
    },
    {
     "name": "stderr",
     "output_type": "stream",
     "text": [
      "Found `num_iterations` in params. Will use it instead of argument\n"
     ]
    },
    {
     "name": "stdout",
     "output_type": "stream",
     "text": [
      "[LightGBM] [Warning] Unknown parameter: scale_pos_Weight\n",
      "[LightGBM] [Warning] bagging_fraction is set=0.7999999999999999, subsample=0.8999999999999999 will be ignored. Current value: bagging_fraction=0.7999999999999999\n",
      "[LightGBM] [Warning] min_data_in_leaf is set=64, min_child_samples=64 will be ignored. Current value: min_data_in_leaf=64\n",
      "[LightGBM] [Warning] feature_fraction is set=0.8999999999999999, colsample_bytree=0.6 will be ignored. Current value: feature_fraction=0.8999999999999999\n"
     ]
    },
    {
     "name": "stderr",
     "output_type": "stream",
     "text": [
      "Found `num_iterations` in params. Will use it instead of argument\n"
     ]
    },
    {
     "name": "stdout",
     "output_type": "stream",
     "text": [
      "[LightGBM] [Warning] Unknown parameter: scale_pos_Weight\n",
      "[LightGBM] [Warning] bagging_fraction is set=0.7999999999999999, subsample=0.8999999999999999 will be ignored. Current value: bagging_fraction=0.7999999999999999\n",
      "[LightGBM] [Warning] min_data_in_leaf is set=64, min_child_samples=64 will be ignored. Current value: min_data_in_leaf=64\n",
      "[LightGBM] [Warning] feature_fraction is set=0.8999999999999999, colsample_bytree=0.6 will be ignored. Current value: feature_fraction=0.8999999999999999\n"
     ]
    },
    {
     "name": "stderr",
     "output_type": "stream",
     "text": [
      "Found `num_iterations` in params. Will use it instead of argument\n"
     ]
    },
    {
     "name": "stdout",
     "output_type": "stream",
     "text": [
      "[LightGBM] [Warning] Unknown parameter: scale_pos_Weight\n",
      "[LightGBM] [Warning] bagging_fraction is set=0.7999999999999999, subsample=0.8999999999999999 will be ignored. Current value: bagging_fraction=0.7999999999999999\n",
      "[LightGBM] [Warning] min_data_in_leaf is set=64, min_child_samples=64 will be ignored. Current value: min_data_in_leaf=64\n",
      "[LightGBM] [Warning] feature_fraction is set=0.8999999999999999, colsample_bytree=0.6 will be ignored. Current value: feature_fraction=0.8999999999999999\n"
     ]
    },
    {
     "name": "stderr",
     "output_type": "stream",
     "text": [
      "Found `num_iterations` in params. Will use it instead of argument\n"
     ]
    },
    {
     "name": "stdout",
     "output_type": "stream",
     "text": [
      "[LightGBM] [Warning] Unknown parameter: scale_pos_Weight\n",
      "[LightGBM] [Warning] bagging_fraction is set=0.7999999999999999, subsample=0.8999999999999999 will be ignored. Current value: bagging_fraction=0.7999999999999999\n",
      "[LightGBM] [Warning] min_data_in_leaf is set=64, min_child_samples=64 will be ignored. Current value: min_data_in_leaf=64\n",
      "[LightGBM] [Warning] feature_fraction is set=0.8999999999999999, colsample_bytree=0.6 will be ignored. Current value: feature_fraction=0.8999999999999999\n"
     ]
    },
    {
     "name": "stderr",
     "output_type": "stream",
     "text": [
      "Found `num_iterations` in params. Will use it instead of argument\n"
     ]
    },
    {
     "name": "stdout",
     "output_type": "stream",
     "text": [
      "[LightGBM] [Warning] Unknown parameter: scale_pos_Weight\n",
      "[LightGBM] [Warning] bagging_fraction is set=0.7999999999999999, subsample=0.8999999999999999 will be ignored. Current value: bagging_fraction=0.7999999999999999\n",
      "[LightGBM] [Warning] min_data_in_leaf is set=64, min_child_samples=64 will be ignored. Current value: min_data_in_leaf=64\n",
      "[LightGBM] [Warning] feature_fraction is set=0.8999999999999999, colsample_bytree=0.6 will be ignored. Current value: feature_fraction=0.8999999999999999\n"
     ]
    },
    {
     "name": "stderr",
     "output_type": "stream",
     "text": [
      "Found `num_iterations` in params. Will use it instead of argument\n"
     ]
    },
    {
     "name": "stdout",
     "output_type": "stream",
     "text": [
      "[LightGBM] [Warning] Unknown parameter: scale_pos_Weight\n",
      "[LightGBM] [Warning] bagging_fraction is set=0.5, subsample=0.7 will be ignored. Current value: bagging_fraction=0.5\n",
      "[LightGBM] [Warning] min_data_in_leaf is set=256, min_child_samples=16 will be ignored. Current value: min_data_in_leaf=256\n",
      "[LightGBM] [Warning] feature_fraction is set=0.6, colsample_bytree=0.7 will be ignored. Current value: feature_fraction=0.6\n"
     ]
    },
    {
     "name": "stderr",
     "output_type": "stream",
     "text": [
      "Found `num_iterations` in params. Will use it instead of argument\n"
     ]
    },
    {
     "name": "stdout",
     "output_type": "stream",
     "text": [
      "[LightGBM] [Warning] Unknown parameter: scale_pos_Weight\n",
      "[LightGBM] [Warning] bagging_fraction is set=0.5, subsample=0.7 will be ignored. Current value: bagging_fraction=0.5\n",
      "[LightGBM] [Warning] min_data_in_leaf is set=256, min_child_samples=16 will be ignored. Current value: min_data_in_leaf=256\n",
      "[LightGBM] [Warning] feature_fraction is set=0.6, colsample_bytree=0.7 will be ignored. Current value: feature_fraction=0.6\n"
     ]
    },
    {
     "name": "stderr",
     "output_type": "stream",
     "text": [
      "Found `num_iterations` in params. Will use it instead of argument\n"
     ]
    },
    {
     "name": "stdout",
     "output_type": "stream",
     "text": [
      "[LightGBM] [Warning] Unknown parameter: scale_pos_Weight\n",
      "[LightGBM] [Warning] bagging_fraction is set=0.5, subsample=0.7 will be ignored. Current value: bagging_fraction=0.5\n",
      "[LightGBM] [Warning] min_data_in_leaf is set=256, min_child_samples=16 will be ignored. Current value: min_data_in_leaf=256\n",
      "[LightGBM] [Warning] feature_fraction is set=0.6, colsample_bytree=0.7 will be ignored. Current value: feature_fraction=0.6\n"
     ]
    },
    {
     "name": "stderr",
     "output_type": "stream",
     "text": [
      "Found `num_iterations` in params. Will use it instead of argument\n"
     ]
    },
    {
     "name": "stdout",
     "output_type": "stream",
     "text": [
      "[LightGBM] [Warning] Unknown parameter: scale_pos_Weight\n",
      "[LightGBM] [Warning] bagging_fraction is set=0.5, subsample=0.7 will be ignored. Current value: bagging_fraction=0.5\n",
      "[LightGBM] [Warning] min_data_in_leaf is set=256, min_child_samples=16 will be ignored. Current value: min_data_in_leaf=256\n",
      "[LightGBM] [Warning] feature_fraction is set=0.6, colsample_bytree=0.7 will be ignored. Current value: feature_fraction=0.6\n"
     ]
    },
    {
     "name": "stderr",
     "output_type": "stream",
     "text": [
      "Found `num_iterations` in params. Will use it instead of argument\n"
     ]
    },
    {
     "name": "stdout",
     "output_type": "stream",
     "text": [
      "[LightGBM] [Warning] Unknown parameter: scale_pos_Weight\n",
      "[LightGBM] [Warning] bagging_fraction is set=0.5, subsample=0.7 will be ignored. Current value: bagging_fraction=0.5\n",
      "[LightGBM] [Warning] min_data_in_leaf is set=256, min_child_samples=16 will be ignored. Current value: min_data_in_leaf=256\n",
      "[LightGBM] [Warning] feature_fraction is set=0.6, colsample_bytree=0.7 will be ignored. Current value: feature_fraction=0.6\n"
     ]
    },
    {
     "name": "stderr",
     "output_type": "stream",
     "text": [
      "Found `num_iterations` in params. Will use it instead of argument\n"
     ]
    },
    {
     "name": "stdout",
     "output_type": "stream",
     "text": [
      "[LightGBM] [Warning] Unknown parameter: scale_pos_Weight\n",
      "[LightGBM] [Warning] bagging_fraction is set=0.8999999999999999, subsample=0.5 will be ignored. Current value: bagging_fraction=0.8999999999999999\n",
      "[LightGBM] [Warning] min_data_in_leaf is set=128, min_child_samples=2 will be ignored. Current value: min_data_in_leaf=128\n",
      "[LightGBM] [Warning] feature_fraction is set=0.6, colsample_bytree=0.6 will be ignored. Current value: feature_fraction=0.6\n"
     ]
    },
    {
     "name": "stderr",
     "output_type": "stream",
     "text": [
      "Found `num_iterations` in params. Will use it instead of argument\n"
     ]
    },
    {
     "name": "stdout",
     "output_type": "stream",
     "text": [
      "[LightGBM] [Warning] Unknown parameter: scale_pos_Weight\n",
      "[LightGBM] [Warning] bagging_fraction is set=0.8999999999999999, subsample=0.5 will be ignored. Current value: bagging_fraction=0.8999999999999999\n",
      "[LightGBM] [Warning] min_data_in_leaf is set=128, min_child_samples=2 will be ignored. Current value: min_data_in_leaf=128\n",
      "[LightGBM] [Warning] feature_fraction is set=0.6, colsample_bytree=0.6 will be ignored. Current value: feature_fraction=0.6\n"
     ]
    },
    {
     "name": "stderr",
     "output_type": "stream",
     "text": [
      "Found `num_iterations` in params. Will use it instead of argument\n"
     ]
    },
    {
     "name": "stdout",
     "output_type": "stream",
     "text": [
      "[LightGBM] [Warning] Unknown parameter: scale_pos_Weight\n",
      "[LightGBM] [Warning] bagging_fraction is set=0.8999999999999999, subsample=0.5 will be ignored. Current value: bagging_fraction=0.8999999999999999\n",
      "[LightGBM] [Warning] min_data_in_leaf is set=128, min_child_samples=2 will be ignored. Current value: min_data_in_leaf=128\n",
      "[LightGBM] [Warning] feature_fraction is set=0.6, colsample_bytree=0.6 will be ignored. Current value: feature_fraction=0.6\n"
     ]
    },
    {
     "name": "stderr",
     "output_type": "stream",
     "text": [
      "Found `num_iterations` in params. Will use it instead of argument\n"
     ]
    },
    {
     "name": "stdout",
     "output_type": "stream",
     "text": [
      "[LightGBM] [Warning] Unknown parameter: scale_pos_Weight\n",
      "[LightGBM] [Warning] bagging_fraction is set=0.8999999999999999, subsample=0.5 will be ignored. Current value: bagging_fraction=0.8999999999999999\n",
      "[LightGBM] [Warning] min_data_in_leaf is set=128, min_child_samples=2 will be ignored. Current value: min_data_in_leaf=128\n",
      "[LightGBM] [Warning] feature_fraction is set=0.6, colsample_bytree=0.6 will be ignored. Current value: feature_fraction=0.6\n"
     ]
    },
    {
     "name": "stderr",
     "output_type": "stream",
     "text": [
      "Found `num_iterations` in params. Will use it instead of argument\n"
     ]
    },
    {
     "name": "stdout",
     "output_type": "stream",
     "text": [
      "[LightGBM] [Warning] Unknown parameter: scale_pos_Weight\n",
      "[LightGBM] [Warning] bagging_fraction is set=0.8999999999999999, subsample=0.5 will be ignored. Current value: bagging_fraction=0.8999999999999999\n",
      "[LightGBM] [Warning] min_data_in_leaf is set=128, min_child_samples=2 will be ignored. Current value: min_data_in_leaf=128\n",
      "[LightGBM] [Warning] feature_fraction is set=0.6, colsample_bytree=0.6 will be ignored. Current value: feature_fraction=0.6\n"
     ]
    },
    {
     "name": "stderr",
     "output_type": "stream",
     "text": [
      "Found `num_iterations` in params. Will use it instead of argument\n"
     ]
    },
    {
     "name": "stdout",
     "output_type": "stream",
     "text": [
      "[LightGBM] [Warning] Unknown parameter: scale_pos_Weight\n",
      "[LightGBM] [Warning] bagging_fraction is set=0.7999999999999999, subsample=0.7 will be ignored. Current value: bagging_fraction=0.7999999999999999\n",
      "[LightGBM] [Warning] min_data_in_leaf is set=32, min_child_samples=32 will be ignored. Current value: min_data_in_leaf=32\n",
      "[LightGBM] [Warning] feature_fraction is set=0.8999999999999999, colsample_bytree=0.7999999999999999 will be ignored. Current value: feature_fraction=0.8999999999999999\n"
     ]
    },
    {
     "name": "stderr",
     "output_type": "stream",
     "text": [
      "Found `num_iterations` in params. Will use it instead of argument\n"
     ]
    },
    {
     "name": "stdout",
     "output_type": "stream",
     "text": [
      "[LightGBM] [Warning] Unknown parameter: scale_pos_Weight\n",
      "[LightGBM] [Warning] bagging_fraction is set=0.7999999999999999, subsample=0.7 will be ignored. Current value: bagging_fraction=0.7999999999999999\n",
      "[LightGBM] [Warning] min_data_in_leaf is set=32, min_child_samples=32 will be ignored. Current value: min_data_in_leaf=32\n",
      "[LightGBM] [Warning] feature_fraction is set=0.8999999999999999, colsample_bytree=0.7999999999999999 will be ignored. Current value: feature_fraction=0.8999999999999999\n"
     ]
    },
    {
     "name": "stderr",
     "output_type": "stream",
     "text": [
      "Found `num_iterations` in params. Will use it instead of argument\n"
     ]
    },
    {
     "name": "stdout",
     "output_type": "stream",
     "text": [
      "[LightGBM] [Warning] Unknown parameter: scale_pos_Weight\n",
      "[LightGBM] [Warning] bagging_fraction is set=0.7999999999999999, subsample=0.7 will be ignored. Current value: bagging_fraction=0.7999999999999999\n",
      "[LightGBM] [Warning] min_data_in_leaf is set=32, min_child_samples=32 will be ignored. Current value: min_data_in_leaf=32\n",
      "[LightGBM] [Warning] feature_fraction is set=0.8999999999999999, colsample_bytree=0.7999999999999999 will be ignored. Current value: feature_fraction=0.8999999999999999\n"
     ]
    },
    {
     "name": "stderr",
     "output_type": "stream",
     "text": [
      "Found `num_iterations` in params. Will use it instead of argument\n"
     ]
    },
    {
     "name": "stdout",
     "output_type": "stream",
     "text": [
      "[LightGBM] [Warning] Unknown parameter: scale_pos_Weight\n",
      "[LightGBM] [Warning] bagging_fraction is set=0.7999999999999999, subsample=0.7 will be ignored. Current value: bagging_fraction=0.7999999999999999\n",
      "[LightGBM] [Warning] min_data_in_leaf is set=32, min_child_samples=32 will be ignored. Current value: min_data_in_leaf=32\n",
      "[LightGBM] [Warning] feature_fraction is set=0.8999999999999999, colsample_bytree=0.7999999999999999 will be ignored. Current value: feature_fraction=0.8999999999999999\n"
     ]
    },
    {
     "name": "stderr",
     "output_type": "stream",
     "text": [
      "Found `num_iterations` in params. Will use it instead of argument\n"
     ]
    },
    {
     "name": "stdout",
     "output_type": "stream",
     "text": [
      "[LightGBM] [Warning] Unknown parameter: scale_pos_Weight\n",
      "[LightGBM] [Warning] bagging_fraction is set=0.7999999999999999, subsample=0.7 will be ignored. Current value: bagging_fraction=0.7999999999999999\n",
      "[LightGBM] [Warning] min_data_in_leaf is set=32, min_child_samples=32 will be ignored. Current value: min_data_in_leaf=32\n",
      "[LightGBM] [Warning] feature_fraction is set=0.8999999999999999, colsample_bytree=0.7999999999999999 will be ignored. Current value: feature_fraction=0.8999999999999999\n"
     ]
    },
    {
     "name": "stderr",
     "output_type": "stream",
     "text": [
      "Found `num_iterations` in params. Will use it instead of argument\n"
     ]
    },
    {
     "name": "stdout",
     "output_type": "stream",
     "text": [
      "[LightGBM] [Warning] Unknown parameter: scale_pos_Weight\n",
      "[LightGBM] [Warning] bagging_fraction is set=0.5, subsample=0.8999999999999999 will be ignored. Current value: bagging_fraction=0.5\n",
      "[LightGBM] [Warning] min_data_in_leaf is set=128, min_child_samples=4 will be ignored. Current value: min_data_in_leaf=128\n",
      "[LightGBM] [Warning] feature_fraction is set=0.5, colsample_bytree=0.5 will be ignored. Current value: feature_fraction=0.5\n"
     ]
    },
    {
     "name": "stderr",
     "output_type": "stream",
     "text": [
      "Found `num_iterations` in params. Will use it instead of argument\n"
     ]
    },
    {
     "name": "stdout",
     "output_type": "stream",
     "text": [
      "[LightGBM] [Warning] Unknown parameter: scale_pos_Weight\n",
      "[LightGBM] [Warning] bagging_fraction is set=0.5, subsample=0.8999999999999999 will be ignored. Current value: bagging_fraction=0.5\n",
      "[LightGBM] [Warning] min_data_in_leaf is set=128, min_child_samples=4 will be ignored. Current value: min_data_in_leaf=128\n",
      "[LightGBM] [Warning] feature_fraction is set=0.5, colsample_bytree=0.5 will be ignored. Current value: feature_fraction=0.5\n"
     ]
    },
    {
     "name": "stderr",
     "output_type": "stream",
     "text": [
      "Found `num_iterations` in params. Will use it instead of argument\n"
     ]
    },
    {
     "name": "stdout",
     "output_type": "stream",
     "text": [
      "[LightGBM] [Warning] Unknown parameter: scale_pos_Weight\n",
      "[LightGBM] [Warning] bagging_fraction is set=0.5, subsample=0.8999999999999999 will be ignored. Current value: bagging_fraction=0.5\n",
      "[LightGBM] [Warning] min_data_in_leaf is set=128, min_child_samples=4 will be ignored. Current value: min_data_in_leaf=128\n",
      "[LightGBM] [Warning] feature_fraction is set=0.5, colsample_bytree=0.5 will be ignored. Current value: feature_fraction=0.5\n"
     ]
    },
    {
     "name": "stderr",
     "output_type": "stream",
     "text": [
      "Found `num_iterations` in params. Will use it instead of argument\n"
     ]
    },
    {
     "name": "stdout",
     "output_type": "stream",
     "text": [
      "[LightGBM] [Warning] Unknown parameter: scale_pos_Weight\n",
      "[LightGBM] [Warning] bagging_fraction is set=0.5, subsample=0.8999999999999999 will be ignored. Current value: bagging_fraction=0.5\n",
      "[LightGBM] [Warning] min_data_in_leaf is set=128, min_child_samples=4 will be ignored. Current value: min_data_in_leaf=128\n",
      "[LightGBM] [Warning] feature_fraction is set=0.5, colsample_bytree=0.5 will be ignored. Current value: feature_fraction=0.5\n"
     ]
    },
    {
     "name": "stderr",
     "output_type": "stream",
     "text": [
      "Found `num_iterations` in params. Will use it instead of argument\n"
     ]
    },
    {
     "name": "stdout",
     "output_type": "stream",
     "text": [
      "[LightGBM] [Warning] Unknown parameter: scale_pos_Weight\n",
      "[LightGBM] [Warning] bagging_fraction is set=0.5, subsample=0.8999999999999999 will be ignored. Current value: bagging_fraction=0.5\n",
      "[LightGBM] [Warning] min_data_in_leaf is set=128, min_child_samples=4 will be ignored. Current value: min_data_in_leaf=128\n",
      "[LightGBM] [Warning] feature_fraction is set=0.5, colsample_bytree=0.5 will be ignored. Current value: feature_fraction=0.5\n"
     ]
    },
    {
     "name": "stderr",
     "output_type": "stream",
     "text": [
      "Found `num_iterations` in params. Will use it instead of argument\n"
     ]
    },
    {
     "name": "stdout",
     "output_type": "stream",
     "text": [
      "[LightGBM] [Warning] Unknown parameter: scale_pos_Weight\n",
      "[LightGBM] [Warning] bagging_fraction is set=0.8999999999999999, subsample=0.8999999999999999 will be ignored. Current value: bagging_fraction=0.8999999999999999\n",
      "[LightGBM] [Warning] min_data_in_leaf is set=512, min_child_samples=16 will be ignored. Current value: min_data_in_leaf=512\n",
      "[LightGBM] [Warning] feature_fraction is set=0.8999999999999999, colsample_bytree=0.7999999999999999 will be ignored. Current value: feature_fraction=0.8999999999999999\n"
     ]
    },
    {
     "name": "stderr",
     "output_type": "stream",
     "text": [
      "Found `num_iterations` in params. Will use it instead of argument\n"
     ]
    },
    {
     "name": "stdout",
     "output_type": "stream",
     "text": [
      "[LightGBM] [Warning] Unknown parameter: scale_pos_Weight\n",
      "[LightGBM] [Warning] bagging_fraction is set=0.8999999999999999, subsample=0.8999999999999999 will be ignored. Current value: bagging_fraction=0.8999999999999999\n",
      "[LightGBM] [Warning] min_data_in_leaf is set=512, min_child_samples=16 will be ignored. Current value: min_data_in_leaf=512\n",
      "[LightGBM] [Warning] feature_fraction is set=0.8999999999999999, colsample_bytree=0.7999999999999999 will be ignored. Current value: feature_fraction=0.8999999999999999\n"
     ]
    },
    {
     "name": "stderr",
     "output_type": "stream",
     "text": [
      "Found `num_iterations` in params. Will use it instead of argument\n"
     ]
    },
    {
     "name": "stdout",
     "output_type": "stream",
     "text": [
      "[LightGBM] [Warning] Unknown parameter: scale_pos_Weight\n",
      "[LightGBM] [Warning] bagging_fraction is set=0.8999999999999999, subsample=0.8999999999999999 will be ignored. Current value: bagging_fraction=0.8999999999999999\n",
      "[LightGBM] [Warning] min_data_in_leaf is set=512, min_child_samples=16 will be ignored. Current value: min_data_in_leaf=512\n",
      "[LightGBM] [Warning] feature_fraction is set=0.8999999999999999, colsample_bytree=0.7999999999999999 will be ignored. Current value: feature_fraction=0.8999999999999999\n"
     ]
    },
    {
     "name": "stderr",
     "output_type": "stream",
     "text": [
      "Found `num_iterations` in params. Will use it instead of argument\n"
     ]
    },
    {
     "name": "stdout",
     "output_type": "stream",
     "text": [
      "[LightGBM] [Warning] Unknown parameter: scale_pos_Weight\n",
      "[LightGBM] [Warning] bagging_fraction is set=0.8999999999999999, subsample=0.8999999999999999 will be ignored. Current value: bagging_fraction=0.8999999999999999\n",
      "[LightGBM] [Warning] min_data_in_leaf is set=512, min_child_samples=16 will be ignored. Current value: min_data_in_leaf=512\n",
      "[LightGBM] [Warning] feature_fraction is set=0.8999999999999999, colsample_bytree=0.7999999999999999 will be ignored. Current value: feature_fraction=0.8999999999999999\n"
     ]
    },
    {
     "name": "stderr",
     "output_type": "stream",
     "text": [
      "Found `num_iterations` in params. Will use it instead of argument\n"
     ]
    },
    {
     "name": "stdout",
     "output_type": "stream",
     "text": [
      "[LightGBM] [Warning] Unknown parameter: scale_pos_Weight\n",
      "[LightGBM] [Warning] bagging_fraction is set=0.8999999999999999, subsample=0.8999999999999999 will be ignored. Current value: bagging_fraction=0.8999999999999999\n",
      "[LightGBM] [Warning] min_data_in_leaf is set=512, min_child_samples=16 will be ignored. Current value: min_data_in_leaf=512\n",
      "[LightGBM] [Warning] feature_fraction is set=0.8999999999999999, colsample_bytree=0.7999999999999999 will be ignored. Current value: feature_fraction=0.8999999999999999\n"
     ]
    },
    {
     "name": "stderr",
     "output_type": "stream",
     "text": [
      "Found `num_iterations` in params. Will use it instead of argument\n"
     ]
    },
    {
     "name": "stdout",
     "output_type": "stream",
     "text": [
      "[LightGBM] [Warning] Unknown parameter: scale_pos_Weight\n",
      "[LightGBM] [Warning] bagging_fraction is set=0.7999999999999999, subsample=0.6 will be ignored. Current value: bagging_fraction=0.7999999999999999\n",
      "[LightGBM] [Warning] min_data_in_leaf is set=16, min_child_samples=64 will be ignored. Current value: min_data_in_leaf=16\n",
      "[LightGBM] [Warning] feature_fraction is set=0.7999999999999999, colsample_bytree=0.6 will be ignored. Current value: feature_fraction=0.7999999999999999\n"
     ]
    },
    {
     "name": "stderr",
     "output_type": "stream",
     "text": [
      "Found `num_iterations` in params. Will use it instead of argument\n"
     ]
    },
    {
     "name": "stdout",
     "output_type": "stream",
     "text": [
      "[LightGBM] [Warning] Unknown parameter: scale_pos_Weight\n",
      "[LightGBM] [Warning] bagging_fraction is set=0.7999999999999999, subsample=0.6 will be ignored. Current value: bagging_fraction=0.7999999999999999\n",
      "[LightGBM] [Warning] min_data_in_leaf is set=16, min_child_samples=64 will be ignored. Current value: min_data_in_leaf=16\n",
      "[LightGBM] [Warning] feature_fraction is set=0.7999999999999999, colsample_bytree=0.6 will be ignored. Current value: feature_fraction=0.7999999999999999\n"
     ]
    },
    {
     "name": "stderr",
     "output_type": "stream",
     "text": [
      "Found `num_iterations` in params. Will use it instead of argument\n"
     ]
    },
    {
     "name": "stdout",
     "output_type": "stream",
     "text": [
      "[LightGBM] [Warning] Unknown parameter: scale_pos_Weight\n",
      "[LightGBM] [Warning] bagging_fraction is set=0.7999999999999999, subsample=0.6 will be ignored. Current value: bagging_fraction=0.7999999999999999\n",
      "[LightGBM] [Warning] min_data_in_leaf is set=16, min_child_samples=64 will be ignored. Current value: min_data_in_leaf=16\n",
      "[LightGBM] [Warning] feature_fraction is set=0.7999999999999999, colsample_bytree=0.6 will be ignored. Current value: feature_fraction=0.7999999999999999\n"
     ]
    },
    {
     "name": "stderr",
     "output_type": "stream",
     "text": [
      "Found `num_iterations` in params. Will use it instead of argument\n"
     ]
    },
    {
     "name": "stdout",
     "output_type": "stream",
     "text": [
      "[LightGBM] [Warning] Unknown parameter: scale_pos_Weight\n",
      "[LightGBM] [Warning] bagging_fraction is set=0.7999999999999999, subsample=0.6 will be ignored. Current value: bagging_fraction=0.7999999999999999\n",
      "[LightGBM] [Warning] min_data_in_leaf is set=16, min_child_samples=64 will be ignored. Current value: min_data_in_leaf=16\n",
      "[LightGBM] [Warning] feature_fraction is set=0.7999999999999999, colsample_bytree=0.6 will be ignored. Current value: feature_fraction=0.7999999999999999\n"
     ]
    },
    {
     "name": "stderr",
     "output_type": "stream",
     "text": [
      "Found `num_iterations` in params. Will use it instead of argument\n"
     ]
    },
    {
     "name": "stdout",
     "output_type": "stream",
     "text": [
      "[LightGBM] [Warning] Unknown parameter: scale_pos_Weight\n",
      "[LightGBM] [Warning] bagging_fraction is set=0.7999999999999999, subsample=0.6 will be ignored. Current value: bagging_fraction=0.7999999999999999\n",
      "[LightGBM] [Warning] min_data_in_leaf is set=16, min_child_samples=64 will be ignored. Current value: min_data_in_leaf=16\n",
      "[LightGBM] [Warning] feature_fraction is set=0.7999999999999999, colsample_bytree=0.6 will be ignored. Current value: feature_fraction=0.7999999999999999\n"
     ]
    },
    {
     "name": "stderr",
     "output_type": "stream",
     "text": [
      "Found `num_iterations` in params. Will use it instead of argument\n"
     ]
    },
    {
     "name": "stdout",
     "output_type": "stream",
     "text": [
      "[LightGBM] [Warning] Unknown parameter: scale_pos_Weight\n",
      "[LightGBM] [Warning] bagging_fraction is set=0.8999999999999999, subsample=0.7 will be ignored. Current value: bagging_fraction=0.8999999999999999\n",
      "[LightGBM] [Warning] min_data_in_leaf is set=8, min_child_samples=16 will be ignored. Current value: min_data_in_leaf=8\n",
      "[LightGBM] [Warning] feature_fraction is set=0.8999999999999999, colsample_bytree=0.8999999999999999 will be ignored. Current value: feature_fraction=0.8999999999999999\n"
     ]
    },
    {
     "name": "stderr",
     "output_type": "stream",
     "text": [
      "Found `num_iterations` in params. Will use it instead of argument\n"
     ]
    },
    {
     "name": "stdout",
     "output_type": "stream",
     "text": [
      "[LightGBM] [Warning] Unknown parameter: scale_pos_Weight\n",
      "[LightGBM] [Warning] bagging_fraction is set=0.8999999999999999, subsample=0.7 will be ignored. Current value: bagging_fraction=0.8999999999999999\n",
      "[LightGBM] [Warning] min_data_in_leaf is set=8, min_child_samples=16 will be ignored. Current value: min_data_in_leaf=8\n",
      "[LightGBM] [Warning] feature_fraction is set=0.8999999999999999, colsample_bytree=0.8999999999999999 will be ignored. Current value: feature_fraction=0.8999999999999999\n"
     ]
    },
    {
     "name": "stderr",
     "output_type": "stream",
     "text": [
      "Found `num_iterations` in params. Will use it instead of argument\n"
     ]
    },
    {
     "name": "stdout",
     "output_type": "stream",
     "text": [
      "[LightGBM] [Warning] Unknown parameter: scale_pos_Weight\n",
      "[LightGBM] [Warning] bagging_fraction is set=0.8999999999999999, subsample=0.7 will be ignored. Current value: bagging_fraction=0.8999999999999999\n",
      "[LightGBM] [Warning] min_data_in_leaf is set=8, min_child_samples=16 will be ignored. Current value: min_data_in_leaf=8\n",
      "[LightGBM] [Warning] feature_fraction is set=0.8999999999999999, colsample_bytree=0.8999999999999999 will be ignored. Current value: feature_fraction=0.8999999999999999\n"
     ]
    },
    {
     "name": "stderr",
     "output_type": "stream",
     "text": [
      "Found `num_iterations` in params. Will use it instead of argument\n"
     ]
    },
    {
     "name": "stdout",
     "output_type": "stream",
     "text": [
      "[LightGBM] [Warning] Unknown parameter: scale_pos_Weight\n",
      "[LightGBM] [Warning] bagging_fraction is set=0.8999999999999999, subsample=0.7 will be ignored. Current value: bagging_fraction=0.8999999999999999\n",
      "[LightGBM] [Warning] min_data_in_leaf is set=8, min_child_samples=16 will be ignored. Current value: min_data_in_leaf=8\n",
      "[LightGBM] [Warning] feature_fraction is set=0.8999999999999999, colsample_bytree=0.8999999999999999 will be ignored. Current value: feature_fraction=0.8999999999999999\n"
     ]
    },
    {
     "name": "stderr",
     "output_type": "stream",
     "text": [
      "Found `num_iterations` in params. Will use it instead of argument\n"
     ]
    },
    {
     "name": "stdout",
     "output_type": "stream",
     "text": [
      "[LightGBM] [Warning] Unknown parameter: scale_pos_Weight\n",
      "[LightGBM] [Warning] bagging_fraction is set=0.8999999999999999, subsample=0.7 will be ignored. Current value: bagging_fraction=0.8999999999999999\n",
      "[LightGBM] [Warning] min_data_in_leaf is set=8, min_child_samples=16 will be ignored. Current value: min_data_in_leaf=8\n",
      "[LightGBM] [Warning] feature_fraction is set=0.8999999999999999, colsample_bytree=0.8999999999999999 will be ignored. Current value: feature_fraction=0.8999999999999999\n"
     ]
    },
    {
     "name": "stderr",
     "output_type": "stream",
     "text": [
      "Found `num_iterations` in params. Will use it instead of argument\n"
     ]
    },
    {
     "name": "stdout",
     "output_type": "stream",
     "text": [
      "[LightGBM] [Warning] Unknown parameter: scale_pos_Weight\n",
      "[LightGBM] [Warning] bagging_fraction is set=0.6, subsample=0.5 will be ignored. Current value: bagging_fraction=0.6\n",
      "[LightGBM] [Warning] min_data_in_leaf is set=64, min_child_samples=64 will be ignored. Current value: min_data_in_leaf=64\n",
      "[LightGBM] [Warning] feature_fraction is set=0.7999999999999999, colsample_bytree=0.7 will be ignored. Current value: feature_fraction=0.7999999999999999\n"
     ]
    },
    {
     "name": "stderr",
     "output_type": "stream",
     "text": [
      "Found `num_iterations` in params. Will use it instead of argument\n"
     ]
    },
    {
     "name": "stdout",
     "output_type": "stream",
     "text": [
      "[LightGBM] [Warning] Unknown parameter: scale_pos_Weight\n",
      "[LightGBM] [Warning] bagging_fraction is set=0.6, subsample=0.5 will be ignored. Current value: bagging_fraction=0.6\n",
      "[LightGBM] [Warning] min_data_in_leaf is set=64, min_child_samples=64 will be ignored. Current value: min_data_in_leaf=64\n",
      "[LightGBM] [Warning] feature_fraction is set=0.7999999999999999, colsample_bytree=0.7 will be ignored. Current value: feature_fraction=0.7999999999999999\n"
     ]
    },
    {
     "name": "stderr",
     "output_type": "stream",
     "text": [
      "Found `num_iterations` in params. Will use it instead of argument\n"
     ]
    },
    {
     "name": "stdout",
     "output_type": "stream",
     "text": [
      "[LightGBM] [Warning] Unknown parameter: scale_pos_Weight\n",
      "[LightGBM] [Warning] bagging_fraction is set=0.6, subsample=0.5 will be ignored. Current value: bagging_fraction=0.6\n",
      "[LightGBM] [Warning] min_data_in_leaf is set=64, min_child_samples=64 will be ignored. Current value: min_data_in_leaf=64\n",
      "[LightGBM] [Warning] feature_fraction is set=0.7999999999999999, colsample_bytree=0.7 will be ignored. Current value: feature_fraction=0.7999999999999999\n"
     ]
    },
    {
     "name": "stderr",
     "output_type": "stream",
     "text": [
      "Found `num_iterations` in params. Will use it instead of argument\n"
     ]
    },
    {
     "name": "stdout",
     "output_type": "stream",
     "text": [
      "[LightGBM] [Warning] Unknown parameter: scale_pos_Weight\n",
      "[LightGBM] [Warning] bagging_fraction is set=0.6, subsample=0.5 will be ignored. Current value: bagging_fraction=0.6\n",
      "[LightGBM] [Warning] min_data_in_leaf is set=64, min_child_samples=64 will be ignored. Current value: min_data_in_leaf=64\n",
      "[LightGBM] [Warning] feature_fraction is set=0.7999999999999999, colsample_bytree=0.7 will be ignored. Current value: feature_fraction=0.7999999999999999\n"
     ]
    },
    {
     "name": "stderr",
     "output_type": "stream",
     "text": [
      "Found `num_iterations` in params. Will use it instead of argument\n"
     ]
    },
    {
     "name": "stdout",
     "output_type": "stream",
     "text": [
      "[LightGBM] [Warning] Unknown parameter: scale_pos_Weight\n",
      "[LightGBM] [Warning] bagging_fraction is set=0.6, subsample=0.5 will be ignored. Current value: bagging_fraction=0.6\n",
      "[LightGBM] [Warning] min_data_in_leaf is set=64, min_child_samples=64 will be ignored. Current value: min_data_in_leaf=64\n",
      "[LightGBM] [Warning] feature_fraction is set=0.7999999999999999, colsample_bytree=0.7 will be ignored. Current value: feature_fraction=0.7999999999999999\n"
     ]
    },
    {
     "name": "stderr",
     "output_type": "stream",
     "text": [
      "Found `num_iterations` in params. Will use it instead of argument\n"
     ]
    },
    {
     "name": "stdout",
     "output_type": "stream",
     "text": [
      "[LightGBM] [Warning] Unknown parameter: scale_pos_Weight\n",
      "[LightGBM] [Warning] bagging_fraction is set=0.5, subsample=0.7 will be ignored. Current value: bagging_fraction=0.5\n",
      "[LightGBM] [Warning] min_data_in_leaf is set=64, min_child_samples=8 will be ignored. Current value: min_data_in_leaf=64\n",
      "[LightGBM] [Warning] feature_fraction is set=0.6, colsample_bytree=0.7999999999999999 will be ignored. Current value: feature_fraction=0.6\n"
     ]
    },
    {
     "name": "stderr",
     "output_type": "stream",
     "text": [
      "Found `num_iterations` in params. Will use it instead of argument\n"
     ]
    },
    {
     "name": "stdout",
     "output_type": "stream",
     "text": [
      "[LightGBM] [Warning] Unknown parameter: scale_pos_Weight\n",
      "[LightGBM] [Warning] bagging_fraction is set=0.5, subsample=0.7 will be ignored. Current value: bagging_fraction=0.5\n",
      "[LightGBM] [Warning] min_data_in_leaf is set=64, min_child_samples=8 will be ignored. Current value: min_data_in_leaf=64\n",
      "[LightGBM] [Warning] feature_fraction is set=0.6, colsample_bytree=0.7999999999999999 will be ignored. Current value: feature_fraction=0.6\n"
     ]
    },
    {
     "name": "stderr",
     "output_type": "stream",
     "text": [
      "Found `num_iterations` in params. Will use it instead of argument\n"
     ]
    },
    {
     "name": "stdout",
     "output_type": "stream",
     "text": [
      "[LightGBM] [Warning] Unknown parameter: scale_pos_Weight\n",
      "[LightGBM] [Warning] bagging_fraction is set=0.5, subsample=0.7 will be ignored. Current value: bagging_fraction=0.5\n",
      "[LightGBM] [Warning] min_data_in_leaf is set=64, min_child_samples=8 will be ignored. Current value: min_data_in_leaf=64\n",
      "[LightGBM] [Warning] feature_fraction is set=0.6, colsample_bytree=0.7999999999999999 will be ignored. Current value: feature_fraction=0.6\n"
     ]
    },
    {
     "name": "stderr",
     "output_type": "stream",
     "text": [
      "Found `num_iterations` in params. Will use it instead of argument\n"
     ]
    },
    {
     "name": "stdout",
     "output_type": "stream",
     "text": [
      "[LightGBM] [Warning] Unknown parameter: scale_pos_Weight\n",
      "[LightGBM] [Warning] bagging_fraction is set=0.5, subsample=0.7 will be ignored. Current value: bagging_fraction=0.5\n",
      "[LightGBM] [Warning] min_data_in_leaf is set=64, min_child_samples=8 will be ignored. Current value: min_data_in_leaf=64\n",
      "[LightGBM] [Warning] feature_fraction is set=0.6, colsample_bytree=0.7999999999999999 will be ignored. Current value: feature_fraction=0.6\n"
     ]
    },
    {
     "name": "stderr",
     "output_type": "stream",
     "text": [
      "Found `num_iterations` in params. Will use it instead of argument\n"
     ]
    },
    {
     "name": "stdout",
     "output_type": "stream",
     "text": [
      "[LightGBM] [Warning] Unknown parameter: scale_pos_Weight\n",
      "[LightGBM] [Warning] bagging_fraction is set=0.5, subsample=0.7 will be ignored. Current value: bagging_fraction=0.5\n",
      "[LightGBM] [Warning] min_data_in_leaf is set=64, min_child_samples=8 will be ignored. Current value: min_data_in_leaf=64\n",
      "[LightGBM] [Warning] feature_fraction is set=0.6, colsample_bytree=0.7999999999999999 will be ignored. Current value: feature_fraction=0.6\n"
     ]
    },
    {
     "name": "stderr",
     "output_type": "stream",
     "text": [
      "Found `num_iterations` in params. Will use it instead of argument\n"
     ]
    },
    {
     "name": "stdout",
     "output_type": "stream",
     "text": [
      "[LightGBM] [Warning] Unknown parameter: scale_pos_Weight\n",
      "[LightGBM] [Warning] bagging_fraction is set=0.8999999999999999, subsample=0.7999999999999999 will be ignored. Current value: bagging_fraction=0.8999999999999999\n",
      "[LightGBM] [Warning] min_data_in_leaf is set=128, min_child_samples=8 will be ignored. Current value: min_data_in_leaf=128\n",
      "[LightGBM] [Warning] feature_fraction is set=0.7, colsample_bytree=0.5 will be ignored. Current value: feature_fraction=0.7\n"
     ]
    },
    {
     "name": "stderr",
     "output_type": "stream",
     "text": [
      "Found `num_iterations` in params. Will use it instead of argument\n"
     ]
    },
    {
     "name": "stdout",
     "output_type": "stream",
     "text": [
      "[LightGBM] [Warning] Unknown parameter: scale_pos_Weight\n",
      "[LightGBM] [Warning] bagging_fraction is set=0.8999999999999999, subsample=0.7999999999999999 will be ignored. Current value: bagging_fraction=0.8999999999999999\n",
      "[LightGBM] [Warning] min_data_in_leaf is set=128, min_child_samples=8 will be ignored. Current value: min_data_in_leaf=128\n",
      "[LightGBM] [Warning] feature_fraction is set=0.7, colsample_bytree=0.5 will be ignored. Current value: feature_fraction=0.7\n"
     ]
    },
    {
     "name": "stderr",
     "output_type": "stream",
     "text": [
      "Found `num_iterations` in params. Will use it instead of argument\n"
     ]
    },
    {
     "name": "stdout",
     "output_type": "stream",
     "text": [
      "[LightGBM] [Warning] Unknown parameter: scale_pos_Weight\n",
      "[LightGBM] [Warning] bagging_fraction is set=0.8999999999999999, subsample=0.7999999999999999 will be ignored. Current value: bagging_fraction=0.8999999999999999\n",
      "[LightGBM] [Warning] min_data_in_leaf is set=128, min_child_samples=8 will be ignored. Current value: min_data_in_leaf=128\n",
      "[LightGBM] [Warning] feature_fraction is set=0.7, colsample_bytree=0.5 will be ignored. Current value: feature_fraction=0.7\n"
     ]
    },
    {
     "name": "stderr",
     "output_type": "stream",
     "text": [
      "Found `num_iterations` in params. Will use it instead of argument\n"
     ]
    },
    {
     "name": "stdout",
     "output_type": "stream",
     "text": [
      "[LightGBM] [Warning] Unknown parameter: scale_pos_Weight\n",
      "[LightGBM] [Warning] bagging_fraction is set=0.8999999999999999, subsample=0.7999999999999999 will be ignored. Current value: bagging_fraction=0.8999999999999999\n",
      "[LightGBM] [Warning] min_data_in_leaf is set=128, min_child_samples=8 will be ignored. Current value: min_data_in_leaf=128\n",
      "[LightGBM] [Warning] feature_fraction is set=0.7, colsample_bytree=0.5 will be ignored. Current value: feature_fraction=0.7\n"
     ]
    },
    {
     "name": "stderr",
     "output_type": "stream",
     "text": [
      "Found `num_iterations` in params. Will use it instead of argument\n"
     ]
    },
    {
     "name": "stdout",
     "output_type": "stream",
     "text": [
      "[LightGBM] [Warning] Unknown parameter: scale_pos_Weight\n",
      "[LightGBM] [Warning] bagging_fraction is set=0.8999999999999999, subsample=0.7999999999999999 will be ignored. Current value: bagging_fraction=0.8999999999999999\n",
      "[LightGBM] [Warning] min_data_in_leaf is set=128, min_child_samples=8 will be ignored. Current value: min_data_in_leaf=128\n",
      "[LightGBM] [Warning] feature_fraction is set=0.7, colsample_bytree=0.5 will be ignored. Current value: feature_fraction=0.7\n"
     ]
    },
    {
     "name": "stderr",
     "output_type": "stream",
     "text": [
      "Found `num_iterations` in params. Will use it instead of argument\n"
     ]
    },
    {
     "name": "stdout",
     "output_type": "stream",
     "text": [
      "[LightGBM] [Warning] Unknown parameter: scale_pos_Weight\n",
      "[LightGBM] [Warning] bagging_fraction is set=0.8999999999999999, subsample=0.6 will be ignored. Current value: bagging_fraction=0.8999999999999999\n",
      "[LightGBM] [Warning] min_data_in_leaf is set=16, min_child_samples=16 will be ignored. Current value: min_data_in_leaf=16\n",
      "[LightGBM] [Warning] feature_fraction is set=0.6, colsample_bytree=0.6 will be ignored. Current value: feature_fraction=0.6\n"
     ]
    },
    {
     "name": "stderr",
     "output_type": "stream",
     "text": [
      "Found `num_iterations` in params. Will use it instead of argument\n"
     ]
    },
    {
     "name": "stdout",
     "output_type": "stream",
     "text": [
      "[LightGBM] [Warning] Unknown parameter: scale_pos_Weight\n",
      "[LightGBM] [Warning] bagging_fraction is set=0.8999999999999999, subsample=0.6 will be ignored. Current value: bagging_fraction=0.8999999999999999\n",
      "[LightGBM] [Warning] min_data_in_leaf is set=16, min_child_samples=16 will be ignored. Current value: min_data_in_leaf=16\n",
      "[LightGBM] [Warning] feature_fraction is set=0.6, colsample_bytree=0.6 will be ignored. Current value: feature_fraction=0.6\n"
     ]
    },
    {
     "name": "stderr",
     "output_type": "stream",
     "text": [
      "Found `num_iterations` in params. Will use it instead of argument\n"
     ]
    },
    {
     "name": "stdout",
     "output_type": "stream",
     "text": [
      "[LightGBM] [Warning] Unknown parameter: scale_pos_Weight\n",
      "[LightGBM] [Warning] bagging_fraction is set=0.8999999999999999, subsample=0.6 will be ignored. Current value: bagging_fraction=0.8999999999999999\n",
      "[LightGBM] [Warning] min_data_in_leaf is set=16, min_child_samples=16 will be ignored. Current value: min_data_in_leaf=16\n",
      "[LightGBM] [Warning] feature_fraction is set=0.6, colsample_bytree=0.6 will be ignored. Current value: feature_fraction=0.6\n"
     ]
    },
    {
     "name": "stderr",
     "output_type": "stream",
     "text": [
      "Found `num_iterations` in params. Will use it instead of argument\n"
     ]
    },
    {
     "name": "stdout",
     "output_type": "stream",
     "text": [
      "[LightGBM] [Warning] Unknown parameter: scale_pos_Weight\n",
      "[LightGBM] [Warning] bagging_fraction is set=0.8999999999999999, subsample=0.6 will be ignored. Current value: bagging_fraction=0.8999999999999999\n",
      "[LightGBM] [Warning] min_data_in_leaf is set=16, min_child_samples=16 will be ignored. Current value: min_data_in_leaf=16\n",
      "[LightGBM] [Warning] feature_fraction is set=0.6, colsample_bytree=0.6 will be ignored. Current value: feature_fraction=0.6\n"
     ]
    },
    {
     "name": "stderr",
     "output_type": "stream",
     "text": [
      "Found `num_iterations` in params. Will use it instead of argument\n"
     ]
    },
    {
     "name": "stdout",
     "output_type": "stream",
     "text": [
      "[LightGBM] [Warning] Unknown parameter: scale_pos_Weight\n",
      "[LightGBM] [Warning] bagging_fraction is set=0.8999999999999999, subsample=0.6 will be ignored. Current value: bagging_fraction=0.8999999999999999\n",
      "[LightGBM] [Warning] min_data_in_leaf is set=16, min_child_samples=16 will be ignored. Current value: min_data_in_leaf=16\n",
      "[LightGBM] [Warning] feature_fraction is set=0.6, colsample_bytree=0.6 will be ignored. Current value: feature_fraction=0.6\n"
     ]
    },
    {
     "name": "stderr",
     "output_type": "stream",
     "text": [
      "Found `num_iterations` in params. Will use it instead of argument\n"
     ]
    },
    {
     "name": "stdout",
     "output_type": "stream",
     "text": [
      "[LightGBM] [Warning] Unknown parameter: scale_pos_Weight\n",
      "[LightGBM] [Warning] bagging_fraction is set=0.7, subsample=0.5 will be ignored. Current value: bagging_fraction=0.7\n",
      "[LightGBM] [Warning] min_data_in_leaf is set=512, min_child_samples=128 will be ignored. Current value: min_data_in_leaf=512\n",
      "[LightGBM] [Warning] feature_fraction is set=0.5, colsample_bytree=0.5 will be ignored. Current value: feature_fraction=0.5\n"
     ]
    },
    {
     "name": "stderr",
     "output_type": "stream",
     "text": [
      "Found `num_iterations` in params. Will use it instead of argument\n"
     ]
    },
    {
     "name": "stdout",
     "output_type": "stream",
     "text": [
      "[LightGBM] [Warning] Unknown parameter: scale_pos_Weight\n",
      "[LightGBM] [Warning] bagging_fraction is set=0.7, subsample=0.5 will be ignored. Current value: bagging_fraction=0.7\n",
      "[LightGBM] [Warning] min_data_in_leaf is set=512, min_child_samples=128 will be ignored. Current value: min_data_in_leaf=512\n",
      "[LightGBM] [Warning] feature_fraction is set=0.5, colsample_bytree=0.5 will be ignored. Current value: feature_fraction=0.5\n"
     ]
    },
    {
     "name": "stderr",
     "output_type": "stream",
     "text": [
      "Found `num_iterations` in params. Will use it instead of argument\n"
     ]
    },
    {
     "name": "stdout",
     "output_type": "stream",
     "text": [
      "[LightGBM] [Warning] Unknown parameter: scale_pos_Weight\n",
      "[LightGBM] [Warning] bagging_fraction is set=0.7, subsample=0.5 will be ignored. Current value: bagging_fraction=0.7\n",
      "[LightGBM] [Warning] min_data_in_leaf is set=512, min_child_samples=128 will be ignored. Current value: min_data_in_leaf=512\n",
      "[LightGBM] [Warning] feature_fraction is set=0.5, colsample_bytree=0.5 will be ignored. Current value: feature_fraction=0.5\n"
     ]
    },
    {
     "name": "stderr",
     "output_type": "stream",
     "text": [
      "Found `num_iterations` in params. Will use it instead of argument\n"
     ]
    },
    {
     "name": "stdout",
     "output_type": "stream",
     "text": [
      "[LightGBM] [Warning] Unknown parameter: scale_pos_Weight\n",
      "[LightGBM] [Warning] bagging_fraction is set=0.7, subsample=0.5 will be ignored. Current value: bagging_fraction=0.7\n",
      "[LightGBM] [Warning] min_data_in_leaf is set=512, min_child_samples=128 will be ignored. Current value: min_data_in_leaf=512\n",
      "[LightGBM] [Warning] feature_fraction is set=0.5, colsample_bytree=0.5 will be ignored. Current value: feature_fraction=0.5\n"
     ]
    },
    {
     "name": "stderr",
     "output_type": "stream",
     "text": [
      "Found `num_iterations` in params. Will use it instead of argument\n"
     ]
    },
    {
     "name": "stdout",
     "output_type": "stream",
     "text": [
      "[LightGBM] [Warning] Unknown parameter: scale_pos_Weight\n",
      "[LightGBM] [Warning] bagging_fraction is set=0.7, subsample=0.5 will be ignored. Current value: bagging_fraction=0.7\n",
      "[LightGBM] [Warning] min_data_in_leaf is set=512, min_child_samples=128 will be ignored. Current value: min_data_in_leaf=512\n",
      "[LightGBM] [Warning] feature_fraction is set=0.5, colsample_bytree=0.5 will be ignored. Current value: feature_fraction=0.5\n"
     ]
    },
    {
     "name": "stderr",
     "output_type": "stream",
     "text": [
      "Found `num_iterations` in params. Will use it instead of argument\n"
     ]
    },
    {
     "name": "stdout",
     "output_type": "stream",
     "text": [
      "[LightGBM] [Warning] Unknown parameter: scale_pos_Weight\n",
      "[LightGBM] [Warning] bagging_fraction is set=0.5, subsample=0.8999999999999999 will be ignored. Current value: bagging_fraction=0.5\n",
      "[LightGBM] [Warning] min_data_in_leaf is set=64, min_child_samples=8 will be ignored. Current value: min_data_in_leaf=64\n",
      "[LightGBM] [Warning] feature_fraction is set=0.8999999999999999, colsample_bytree=0.6 will be ignored. Current value: feature_fraction=0.8999999999999999\n"
     ]
    },
    {
     "name": "stderr",
     "output_type": "stream",
     "text": [
      "Found `num_iterations` in params. Will use it instead of argument\n"
     ]
    },
    {
     "name": "stdout",
     "output_type": "stream",
     "text": [
      "[LightGBM] [Warning] Unknown parameter: scale_pos_Weight\n",
      "[LightGBM] [Warning] bagging_fraction is set=0.5, subsample=0.8999999999999999 will be ignored. Current value: bagging_fraction=0.5\n",
      "[LightGBM] [Warning] min_data_in_leaf is set=64, min_child_samples=8 will be ignored. Current value: min_data_in_leaf=64\n",
      "[LightGBM] [Warning] feature_fraction is set=0.8999999999999999, colsample_bytree=0.6 will be ignored. Current value: feature_fraction=0.8999999999999999\n"
     ]
    },
    {
     "name": "stderr",
     "output_type": "stream",
     "text": [
      "Found `num_iterations` in params. Will use it instead of argument\n"
     ]
    },
    {
     "name": "stdout",
     "output_type": "stream",
     "text": [
      "[LightGBM] [Warning] Unknown parameter: scale_pos_Weight\n",
      "[LightGBM] [Warning] bagging_fraction is set=0.5, subsample=0.8999999999999999 will be ignored. Current value: bagging_fraction=0.5\n",
      "[LightGBM] [Warning] min_data_in_leaf is set=64, min_child_samples=8 will be ignored. Current value: min_data_in_leaf=64\n",
      "[LightGBM] [Warning] feature_fraction is set=0.8999999999999999, colsample_bytree=0.6 will be ignored. Current value: feature_fraction=0.8999999999999999\n"
     ]
    },
    {
     "name": "stderr",
     "output_type": "stream",
     "text": [
      "Found `num_iterations` in params. Will use it instead of argument\n"
     ]
    },
    {
     "name": "stdout",
     "output_type": "stream",
     "text": [
      "[LightGBM] [Warning] Unknown parameter: scale_pos_Weight\n",
      "[LightGBM] [Warning] bagging_fraction is set=0.5, subsample=0.8999999999999999 will be ignored. Current value: bagging_fraction=0.5\n",
      "[LightGBM] [Warning] min_data_in_leaf is set=64, min_child_samples=8 will be ignored. Current value: min_data_in_leaf=64\n",
      "[LightGBM] [Warning] feature_fraction is set=0.8999999999999999, colsample_bytree=0.6 will be ignored. Current value: feature_fraction=0.8999999999999999\n"
     ]
    },
    {
     "name": "stderr",
     "output_type": "stream",
     "text": [
      "Found `num_iterations` in params. Will use it instead of argument\n"
     ]
    },
    {
     "name": "stdout",
     "output_type": "stream",
     "text": [
      "[LightGBM] [Warning] Unknown parameter: scale_pos_Weight\n",
      "[LightGBM] [Warning] bagging_fraction is set=0.5, subsample=0.8999999999999999 will be ignored. Current value: bagging_fraction=0.5\n",
      "[LightGBM] [Warning] min_data_in_leaf is set=64, min_child_samples=8 will be ignored. Current value: min_data_in_leaf=64\n",
      "[LightGBM] [Warning] feature_fraction is set=0.8999999999999999, colsample_bytree=0.6 will be ignored. Current value: feature_fraction=0.8999999999999999\n"
     ]
    },
    {
     "name": "stderr",
     "output_type": "stream",
     "text": [
      "[Parallel(n_jobs=1)]: Done 100 out of 100 | elapsed: 69.1min finished\n",
      "Found `num_iterations` in params. Will use it instead of argument\n"
     ]
    },
    {
     "name": "stdout",
     "output_type": "stream",
     "text": [
      "[LightGBM] [Warning] Unknown parameter: scale_pos_Weight\n",
      "[LightGBM] [Warning] bagging_fraction is set=0.6, subsample=0.7999999999999999 will be ignored. Current value: bagging_fraction=0.6\n",
      "[LightGBM] [Warning] min_data_in_leaf is set=8, min_child_samples=64 will be ignored. Current value: min_data_in_leaf=8\n",
      "[LightGBM] [Warning] feature_fraction is set=0.5, colsample_bytree=0.7999999999999999 will be ignored. Current value: feature_fraction=0.5\n"
     ]
    },
    {
     "name": "stderr",
     "output_type": "stream",
     "text": [
      " 60%|██████    | 3/5 [8:03:40<5:55:31, 10665.50s/it] "
     ]
    },
    {
     "name": "stdout",
     "output_type": "stream",
     "text": [
      "auc_score is :  0.7477084730605859\n",
      "(2129, 7832)\n",
      "[0. 0. 1. ... 0. 0. 0.]\n",
      "(2129, 7831) (2129,)\n",
      "(533, 7832)\n",
      "[0. 0. 1. ... 0. 0. 0.]\n",
      "(533, 7831) (533,)\n",
      "current task: 0 GBT\n",
      "(2129, 7831) (533, 7831)\n",
      "Fitting 5 folds for each of 20 candidates, totalling 100 fits\n",
      "[LightGBM] [Warning] Unknown parameter: scale_pos_Weight\n",
      "[LightGBM] [Warning] bagging_fraction is set=0.8999999999999999, subsample=0.7999999999999999 will be ignored. Current value: bagging_fraction=0.8999999999999999\n",
      "[LightGBM] [Warning] min_data_in_leaf is set=2, min_child_samples=8 will be ignored. Current value: min_data_in_leaf=2\n",
      "[LightGBM] [Warning] feature_fraction is set=0.7, colsample_bytree=0.7999999999999999 will be ignored. Current value: feature_fraction=0.7\n"
     ]
    },
    {
     "name": "stderr",
     "output_type": "stream",
     "text": [
      "[Parallel(n_jobs=1)]: Using backend SequentialBackend with 1 concurrent workers.\n",
      "Found `num_iterations` in params. Will use it instead of argument\n",
      "Found `num_iterations` in params. Will use it instead of argument\n"
     ]
    },
    {
     "name": "stdout",
     "output_type": "stream",
     "text": [
      "[LightGBM] [Warning] Unknown parameter: scale_pos_Weight\n",
      "[LightGBM] [Warning] bagging_fraction is set=0.8999999999999999, subsample=0.7999999999999999 will be ignored. Current value: bagging_fraction=0.8999999999999999\n",
      "[LightGBM] [Warning] min_data_in_leaf is set=2, min_child_samples=8 will be ignored. Current value: min_data_in_leaf=2\n",
      "[LightGBM] [Warning] feature_fraction is set=0.7, colsample_bytree=0.7999999999999999 will be ignored. Current value: feature_fraction=0.7\n"
     ]
    },
    {
     "name": "stderr",
     "output_type": "stream",
     "text": [
      "Found `num_iterations` in params. Will use it instead of argument\n"
     ]
    },
    {
     "name": "stdout",
     "output_type": "stream",
     "text": [
      "[LightGBM] [Warning] Unknown parameter: scale_pos_Weight\n",
      "[LightGBM] [Warning] bagging_fraction is set=0.8999999999999999, subsample=0.7999999999999999 will be ignored. Current value: bagging_fraction=0.8999999999999999\n",
      "[LightGBM] [Warning] min_data_in_leaf is set=2, min_child_samples=8 will be ignored. Current value: min_data_in_leaf=2\n",
      "[LightGBM] [Warning] feature_fraction is set=0.7, colsample_bytree=0.7999999999999999 will be ignored. Current value: feature_fraction=0.7\n"
     ]
    },
    {
     "name": "stderr",
     "output_type": "stream",
     "text": [
      "Found `num_iterations` in params. Will use it instead of argument\n"
     ]
    },
    {
     "name": "stdout",
     "output_type": "stream",
     "text": [
      "[LightGBM] [Warning] Unknown parameter: scale_pos_Weight\n",
      "[LightGBM] [Warning] bagging_fraction is set=0.8999999999999999, subsample=0.7999999999999999 will be ignored. Current value: bagging_fraction=0.8999999999999999\n",
      "[LightGBM] [Warning] min_data_in_leaf is set=2, min_child_samples=8 will be ignored. Current value: min_data_in_leaf=2\n",
      "[LightGBM] [Warning] feature_fraction is set=0.7, colsample_bytree=0.7999999999999999 will be ignored. Current value: feature_fraction=0.7\n"
     ]
    },
    {
     "name": "stderr",
     "output_type": "stream",
     "text": [
      "Found `num_iterations` in params. Will use it instead of argument\n"
     ]
    },
    {
     "name": "stdout",
     "output_type": "stream",
     "text": [
      "[LightGBM] [Warning] Unknown parameter: scale_pos_Weight\n",
      "[LightGBM] [Warning] bagging_fraction is set=0.8999999999999999, subsample=0.7999999999999999 will be ignored. Current value: bagging_fraction=0.8999999999999999\n",
      "[LightGBM] [Warning] min_data_in_leaf is set=2, min_child_samples=8 will be ignored. Current value: min_data_in_leaf=2\n",
      "[LightGBM] [Warning] feature_fraction is set=0.7, colsample_bytree=0.7999999999999999 will be ignored. Current value: feature_fraction=0.7\n"
     ]
    },
    {
     "name": "stderr",
     "output_type": "stream",
     "text": [
      "Found `num_iterations` in params. Will use it instead of argument\n"
     ]
    },
    {
     "name": "stdout",
     "output_type": "stream",
     "text": [
      "[LightGBM] [Warning] Unknown parameter: scale_pos_Weight\n",
      "[LightGBM] [Warning] bagging_fraction is set=0.5, subsample=0.5 will be ignored. Current value: bagging_fraction=0.5\n",
      "[LightGBM] [Warning] min_data_in_leaf is set=128, min_child_samples=32 will be ignored. Current value: min_data_in_leaf=128\n",
      "[LightGBM] [Warning] feature_fraction is set=0.7999999999999999, colsample_bytree=0.5 will be ignored. Current value: feature_fraction=0.7999999999999999\n"
     ]
    },
    {
     "name": "stderr",
     "output_type": "stream",
     "text": [
      "Found `num_iterations` in params. Will use it instead of argument\n"
     ]
    },
    {
     "name": "stdout",
     "output_type": "stream",
     "text": [
      "[LightGBM] [Warning] Unknown parameter: scale_pos_Weight\n",
      "[LightGBM] [Warning] bagging_fraction is set=0.5, subsample=0.5 will be ignored. Current value: bagging_fraction=0.5\n",
      "[LightGBM] [Warning] min_data_in_leaf is set=128, min_child_samples=32 will be ignored. Current value: min_data_in_leaf=128\n",
      "[LightGBM] [Warning] feature_fraction is set=0.7999999999999999, colsample_bytree=0.5 will be ignored. Current value: feature_fraction=0.7999999999999999\n"
     ]
    },
    {
     "name": "stderr",
     "output_type": "stream",
     "text": [
      "Found `num_iterations` in params. Will use it instead of argument\n"
     ]
    },
    {
     "name": "stdout",
     "output_type": "stream",
     "text": [
      "[LightGBM] [Warning] Unknown parameter: scale_pos_Weight\n",
      "[LightGBM] [Warning] bagging_fraction is set=0.5, subsample=0.5 will be ignored. Current value: bagging_fraction=0.5\n",
      "[LightGBM] [Warning] min_data_in_leaf is set=128, min_child_samples=32 will be ignored. Current value: min_data_in_leaf=128\n",
      "[LightGBM] [Warning] feature_fraction is set=0.7999999999999999, colsample_bytree=0.5 will be ignored. Current value: feature_fraction=0.7999999999999999\n"
     ]
    },
    {
     "name": "stderr",
     "output_type": "stream",
     "text": [
      "Found `num_iterations` in params. Will use it instead of argument\n"
     ]
    },
    {
     "name": "stdout",
     "output_type": "stream",
     "text": [
      "[LightGBM] [Warning] Unknown parameter: scale_pos_Weight\n",
      "[LightGBM] [Warning] bagging_fraction is set=0.5, subsample=0.5 will be ignored. Current value: bagging_fraction=0.5\n",
      "[LightGBM] [Warning] min_data_in_leaf is set=128, min_child_samples=32 will be ignored. Current value: min_data_in_leaf=128\n",
      "[LightGBM] [Warning] feature_fraction is set=0.7999999999999999, colsample_bytree=0.5 will be ignored. Current value: feature_fraction=0.7999999999999999\n"
     ]
    },
    {
     "name": "stderr",
     "output_type": "stream",
     "text": [
      "Found `num_iterations` in params. Will use it instead of argument\n"
     ]
    },
    {
     "name": "stdout",
     "output_type": "stream",
     "text": [
      "[LightGBM] [Warning] Unknown parameter: scale_pos_Weight\n",
      "[LightGBM] [Warning] bagging_fraction is set=0.5, subsample=0.5 will be ignored. Current value: bagging_fraction=0.5\n",
      "[LightGBM] [Warning] min_data_in_leaf is set=128, min_child_samples=32 will be ignored. Current value: min_data_in_leaf=128\n",
      "[LightGBM] [Warning] feature_fraction is set=0.7999999999999999, colsample_bytree=0.5 will be ignored. Current value: feature_fraction=0.7999999999999999\n"
     ]
    },
    {
     "name": "stderr",
     "output_type": "stream",
     "text": [
      "Found `num_iterations` in params. Will use it instead of argument\n"
     ]
    },
    {
     "name": "stdout",
     "output_type": "stream",
     "text": [
      "[LightGBM] [Warning] Unknown parameter: scale_pos_Weight\n",
      "[LightGBM] [Warning] bagging_fraction is set=0.6, subsample=0.7999999999999999 will be ignored. Current value: bagging_fraction=0.6\n",
      "[LightGBM] [Warning] min_data_in_leaf is set=8, min_child_samples=64 will be ignored. Current value: min_data_in_leaf=8\n",
      "[LightGBM] [Warning] feature_fraction is set=0.5, colsample_bytree=0.7999999999999999 will be ignored. Current value: feature_fraction=0.5\n"
     ]
    },
    {
     "name": "stderr",
     "output_type": "stream",
     "text": [
      "Found `num_iterations` in params. Will use it instead of argument\n"
     ]
    },
    {
     "name": "stdout",
     "output_type": "stream",
     "text": [
      "[LightGBM] [Warning] Unknown parameter: scale_pos_Weight\n",
      "[LightGBM] [Warning] bagging_fraction is set=0.6, subsample=0.7999999999999999 will be ignored. Current value: bagging_fraction=0.6\n",
      "[LightGBM] [Warning] min_data_in_leaf is set=8, min_child_samples=64 will be ignored. Current value: min_data_in_leaf=8\n",
      "[LightGBM] [Warning] feature_fraction is set=0.5, colsample_bytree=0.7999999999999999 will be ignored. Current value: feature_fraction=0.5\n"
     ]
    },
    {
     "name": "stderr",
     "output_type": "stream",
     "text": [
      "Found `num_iterations` in params. Will use it instead of argument\n"
     ]
    },
    {
     "name": "stdout",
     "output_type": "stream",
     "text": [
      "[LightGBM] [Warning] Unknown parameter: scale_pos_Weight\n",
      "[LightGBM] [Warning] bagging_fraction is set=0.6, subsample=0.7999999999999999 will be ignored. Current value: bagging_fraction=0.6\n",
      "[LightGBM] [Warning] min_data_in_leaf is set=8, min_child_samples=64 will be ignored. Current value: min_data_in_leaf=8\n",
      "[LightGBM] [Warning] feature_fraction is set=0.5, colsample_bytree=0.7999999999999999 will be ignored. Current value: feature_fraction=0.5\n"
     ]
    },
    {
     "name": "stderr",
     "output_type": "stream",
     "text": [
      "Found `num_iterations` in params. Will use it instead of argument\n"
     ]
    },
    {
     "name": "stdout",
     "output_type": "stream",
     "text": [
      "[LightGBM] [Warning] Unknown parameter: scale_pos_Weight\n",
      "[LightGBM] [Warning] bagging_fraction is set=0.6, subsample=0.7999999999999999 will be ignored. Current value: bagging_fraction=0.6\n",
      "[LightGBM] [Warning] min_data_in_leaf is set=8, min_child_samples=64 will be ignored. Current value: min_data_in_leaf=8\n",
      "[LightGBM] [Warning] feature_fraction is set=0.5, colsample_bytree=0.7999999999999999 will be ignored. Current value: feature_fraction=0.5\n"
     ]
    },
    {
     "name": "stderr",
     "output_type": "stream",
     "text": [
      "Found `num_iterations` in params. Will use it instead of argument\n"
     ]
    },
    {
     "name": "stdout",
     "output_type": "stream",
     "text": [
      "[LightGBM] [Warning] Unknown parameter: scale_pos_Weight\n",
      "[LightGBM] [Warning] bagging_fraction is set=0.6, subsample=0.7999999999999999 will be ignored. Current value: bagging_fraction=0.6\n",
      "[LightGBM] [Warning] min_data_in_leaf is set=8, min_child_samples=64 will be ignored. Current value: min_data_in_leaf=8\n",
      "[LightGBM] [Warning] feature_fraction is set=0.5, colsample_bytree=0.7999999999999999 will be ignored. Current value: feature_fraction=0.5\n"
     ]
    },
    {
     "name": "stderr",
     "output_type": "stream",
     "text": [
      "Found `num_iterations` in params. Will use it instead of argument\n"
     ]
    },
    {
     "name": "stdout",
     "output_type": "stream",
     "text": [
      "[LightGBM] [Warning] Unknown parameter: scale_pos_Weight\n",
      "[LightGBM] [Warning] bagging_fraction is set=0.7999999999999999, subsample=0.6 will be ignored. Current value: bagging_fraction=0.7999999999999999\n",
      "[LightGBM] [Warning] min_data_in_leaf is set=32, min_child_samples=32 will be ignored. Current value: min_data_in_leaf=32\n",
      "[LightGBM] [Warning] feature_fraction is set=0.5, colsample_bytree=0.7 will be ignored. Current value: feature_fraction=0.5\n"
     ]
    },
    {
     "name": "stderr",
     "output_type": "stream",
     "text": [
      "Found `num_iterations` in params. Will use it instead of argument\n"
     ]
    },
    {
     "name": "stdout",
     "output_type": "stream",
     "text": [
      "[LightGBM] [Warning] Unknown parameter: scale_pos_Weight\n",
      "[LightGBM] [Warning] bagging_fraction is set=0.7999999999999999, subsample=0.6 will be ignored. Current value: bagging_fraction=0.7999999999999999\n",
      "[LightGBM] [Warning] min_data_in_leaf is set=32, min_child_samples=32 will be ignored. Current value: min_data_in_leaf=32\n",
      "[LightGBM] [Warning] feature_fraction is set=0.5, colsample_bytree=0.7 will be ignored. Current value: feature_fraction=0.5\n"
     ]
    },
    {
     "name": "stderr",
     "output_type": "stream",
     "text": [
      "Found `num_iterations` in params. Will use it instead of argument\n"
     ]
    },
    {
     "name": "stdout",
     "output_type": "stream",
     "text": [
      "[LightGBM] [Warning] Unknown parameter: scale_pos_Weight\n",
      "[LightGBM] [Warning] bagging_fraction is set=0.7999999999999999, subsample=0.6 will be ignored. Current value: bagging_fraction=0.7999999999999999\n",
      "[LightGBM] [Warning] min_data_in_leaf is set=32, min_child_samples=32 will be ignored. Current value: min_data_in_leaf=32\n",
      "[LightGBM] [Warning] feature_fraction is set=0.5, colsample_bytree=0.7 will be ignored. Current value: feature_fraction=0.5\n"
     ]
    },
    {
     "name": "stderr",
     "output_type": "stream",
     "text": [
      "Found `num_iterations` in params. Will use it instead of argument\n"
     ]
    },
    {
     "name": "stdout",
     "output_type": "stream",
     "text": [
      "[LightGBM] [Warning] Unknown parameter: scale_pos_Weight\n",
      "[LightGBM] [Warning] bagging_fraction is set=0.7999999999999999, subsample=0.6 will be ignored. Current value: bagging_fraction=0.7999999999999999\n",
      "[LightGBM] [Warning] min_data_in_leaf is set=32, min_child_samples=32 will be ignored. Current value: min_data_in_leaf=32\n",
      "[LightGBM] [Warning] feature_fraction is set=0.5, colsample_bytree=0.7 will be ignored. Current value: feature_fraction=0.5\n"
     ]
    },
    {
     "name": "stderr",
     "output_type": "stream",
     "text": [
      "Found `num_iterations` in params. Will use it instead of argument\n"
     ]
    },
    {
     "name": "stdout",
     "output_type": "stream",
     "text": [
      "[LightGBM] [Warning] Unknown parameter: scale_pos_Weight\n",
      "[LightGBM] [Warning] bagging_fraction is set=0.7999999999999999, subsample=0.6 will be ignored. Current value: bagging_fraction=0.7999999999999999\n",
      "[LightGBM] [Warning] min_data_in_leaf is set=32, min_child_samples=32 will be ignored. Current value: min_data_in_leaf=32\n",
      "[LightGBM] [Warning] feature_fraction is set=0.5, colsample_bytree=0.7 will be ignored. Current value: feature_fraction=0.5\n"
     ]
    },
    {
     "name": "stderr",
     "output_type": "stream",
     "text": [
      "Found `num_iterations` in params. Will use it instead of argument\n"
     ]
    },
    {
     "name": "stdout",
     "output_type": "stream",
     "text": [
      "[LightGBM] [Warning] Unknown parameter: scale_pos_Weight\n",
      "[LightGBM] [Warning] bagging_fraction is set=0.6, subsample=0.7 will be ignored. Current value: bagging_fraction=0.6\n",
      "[LightGBM] [Warning] min_data_in_leaf is set=16, min_child_samples=4 will be ignored. Current value: min_data_in_leaf=16\n",
      "[LightGBM] [Warning] feature_fraction is set=0.5, colsample_bytree=0.7999999999999999 will be ignored. Current value: feature_fraction=0.5\n"
     ]
    },
    {
     "name": "stderr",
     "output_type": "stream",
     "text": [
      "Found `num_iterations` in params. Will use it instead of argument\n"
     ]
    },
    {
     "name": "stdout",
     "output_type": "stream",
     "text": [
      "[LightGBM] [Warning] Unknown parameter: scale_pos_Weight\n",
      "[LightGBM] [Warning] bagging_fraction is set=0.6, subsample=0.7 will be ignored. Current value: bagging_fraction=0.6\n",
      "[LightGBM] [Warning] min_data_in_leaf is set=16, min_child_samples=4 will be ignored. Current value: min_data_in_leaf=16\n",
      "[LightGBM] [Warning] feature_fraction is set=0.5, colsample_bytree=0.7999999999999999 will be ignored. Current value: feature_fraction=0.5\n"
     ]
    },
    {
     "name": "stderr",
     "output_type": "stream",
     "text": [
      "Found `num_iterations` in params. Will use it instead of argument\n"
     ]
    },
    {
     "name": "stdout",
     "output_type": "stream",
     "text": [
      "[LightGBM] [Warning] Unknown parameter: scale_pos_Weight\n",
      "[LightGBM] [Warning] bagging_fraction is set=0.6, subsample=0.7 will be ignored. Current value: bagging_fraction=0.6\n",
      "[LightGBM] [Warning] min_data_in_leaf is set=16, min_child_samples=4 will be ignored. Current value: min_data_in_leaf=16\n",
      "[LightGBM] [Warning] feature_fraction is set=0.5, colsample_bytree=0.7999999999999999 will be ignored. Current value: feature_fraction=0.5\n"
     ]
    },
    {
     "name": "stderr",
     "output_type": "stream",
     "text": [
      "Found `num_iterations` in params. Will use it instead of argument\n"
     ]
    },
    {
     "name": "stdout",
     "output_type": "stream",
     "text": [
      "[LightGBM] [Warning] Unknown parameter: scale_pos_Weight\n",
      "[LightGBM] [Warning] bagging_fraction is set=0.6, subsample=0.7 will be ignored. Current value: bagging_fraction=0.6\n",
      "[LightGBM] [Warning] min_data_in_leaf is set=16, min_child_samples=4 will be ignored. Current value: min_data_in_leaf=16\n",
      "[LightGBM] [Warning] feature_fraction is set=0.5, colsample_bytree=0.7999999999999999 will be ignored. Current value: feature_fraction=0.5\n"
     ]
    },
    {
     "name": "stderr",
     "output_type": "stream",
     "text": [
      "Found `num_iterations` in params. Will use it instead of argument\n"
     ]
    },
    {
     "name": "stdout",
     "output_type": "stream",
     "text": [
      "[LightGBM] [Warning] Unknown parameter: scale_pos_Weight\n",
      "[LightGBM] [Warning] bagging_fraction is set=0.6, subsample=0.7 will be ignored. Current value: bagging_fraction=0.6\n",
      "[LightGBM] [Warning] min_data_in_leaf is set=16, min_child_samples=4 will be ignored. Current value: min_data_in_leaf=16\n",
      "[LightGBM] [Warning] feature_fraction is set=0.5, colsample_bytree=0.7999999999999999 will be ignored. Current value: feature_fraction=0.5\n"
     ]
    },
    {
     "name": "stderr",
     "output_type": "stream",
     "text": [
      "Found `num_iterations` in params. Will use it instead of argument\n"
     ]
    },
    {
     "name": "stdout",
     "output_type": "stream",
     "text": [
      "[LightGBM] [Warning] Unknown parameter: scale_pos_Weight\n",
      "[LightGBM] [Warning] bagging_fraction is set=0.6, subsample=0.6 will be ignored. Current value: bagging_fraction=0.6\n",
      "[LightGBM] [Warning] min_data_in_leaf is set=512, min_child_samples=16 will be ignored. Current value: min_data_in_leaf=512\n",
      "[LightGBM] [Warning] feature_fraction is set=0.6, colsample_bytree=0.6 will be ignored. Current value: feature_fraction=0.6\n"
     ]
    },
    {
     "name": "stderr",
     "output_type": "stream",
     "text": [
      "Found `num_iterations` in params. Will use it instead of argument\n"
     ]
    },
    {
     "name": "stdout",
     "output_type": "stream",
     "text": [
      "[LightGBM] [Warning] Unknown parameter: scale_pos_Weight\n",
      "[LightGBM] [Warning] bagging_fraction is set=0.6, subsample=0.6 will be ignored. Current value: bagging_fraction=0.6\n",
      "[LightGBM] [Warning] min_data_in_leaf is set=512, min_child_samples=16 will be ignored. Current value: min_data_in_leaf=512\n",
      "[LightGBM] [Warning] feature_fraction is set=0.6, colsample_bytree=0.6 will be ignored. Current value: feature_fraction=0.6\n"
     ]
    },
    {
     "name": "stderr",
     "output_type": "stream",
     "text": [
      "Found `num_iterations` in params. Will use it instead of argument\n"
     ]
    },
    {
     "name": "stdout",
     "output_type": "stream",
     "text": [
      "[LightGBM] [Warning] Unknown parameter: scale_pos_Weight\n",
      "[LightGBM] [Warning] bagging_fraction is set=0.6, subsample=0.6 will be ignored. Current value: bagging_fraction=0.6\n",
      "[LightGBM] [Warning] min_data_in_leaf is set=512, min_child_samples=16 will be ignored. Current value: min_data_in_leaf=512\n",
      "[LightGBM] [Warning] feature_fraction is set=0.6, colsample_bytree=0.6 will be ignored. Current value: feature_fraction=0.6\n"
     ]
    },
    {
     "name": "stderr",
     "output_type": "stream",
     "text": [
      "Found `num_iterations` in params. Will use it instead of argument\n"
     ]
    },
    {
     "name": "stdout",
     "output_type": "stream",
     "text": [
      "[LightGBM] [Warning] Unknown parameter: scale_pos_Weight\n",
      "[LightGBM] [Warning] bagging_fraction is set=0.6, subsample=0.6 will be ignored. Current value: bagging_fraction=0.6\n",
      "[LightGBM] [Warning] min_data_in_leaf is set=512, min_child_samples=16 will be ignored. Current value: min_data_in_leaf=512\n",
      "[LightGBM] [Warning] feature_fraction is set=0.6, colsample_bytree=0.6 will be ignored. Current value: feature_fraction=0.6\n"
     ]
    },
    {
     "name": "stderr",
     "output_type": "stream",
     "text": [
      "Found `num_iterations` in params. Will use it instead of argument\n"
     ]
    },
    {
     "name": "stdout",
     "output_type": "stream",
     "text": [
      "[LightGBM] [Warning] Unknown parameter: scale_pos_Weight\n",
      "[LightGBM] [Warning] bagging_fraction is set=0.6, subsample=0.6 will be ignored. Current value: bagging_fraction=0.6\n",
      "[LightGBM] [Warning] min_data_in_leaf is set=512, min_child_samples=16 will be ignored. Current value: min_data_in_leaf=512\n",
      "[LightGBM] [Warning] feature_fraction is set=0.6, colsample_bytree=0.6 will be ignored. Current value: feature_fraction=0.6\n"
     ]
    },
    {
     "name": "stderr",
     "output_type": "stream",
     "text": [
      "Found `num_iterations` in params. Will use it instead of argument\n"
     ]
    },
    {
     "name": "stdout",
     "output_type": "stream",
     "text": [
      "[LightGBM] [Warning] Unknown parameter: scale_pos_Weight\n",
      "[LightGBM] [Warning] bagging_fraction is set=0.7999999999999999, subsample=0.8999999999999999 will be ignored. Current value: bagging_fraction=0.7999999999999999\n",
      "[LightGBM] [Warning] min_data_in_leaf is set=64, min_child_samples=64 will be ignored. Current value: min_data_in_leaf=64\n",
      "[LightGBM] [Warning] feature_fraction is set=0.8999999999999999, colsample_bytree=0.6 will be ignored. Current value: feature_fraction=0.8999999999999999\n"
     ]
    },
    {
     "name": "stderr",
     "output_type": "stream",
     "text": [
      "Found `num_iterations` in params. Will use it instead of argument\n"
     ]
    },
    {
     "name": "stdout",
     "output_type": "stream",
     "text": [
      "[LightGBM] [Warning] Unknown parameter: scale_pos_Weight\n",
      "[LightGBM] [Warning] bagging_fraction is set=0.7999999999999999, subsample=0.8999999999999999 will be ignored. Current value: bagging_fraction=0.7999999999999999\n",
      "[LightGBM] [Warning] min_data_in_leaf is set=64, min_child_samples=64 will be ignored. Current value: min_data_in_leaf=64\n",
      "[LightGBM] [Warning] feature_fraction is set=0.8999999999999999, colsample_bytree=0.6 will be ignored. Current value: feature_fraction=0.8999999999999999\n"
     ]
    },
    {
     "name": "stderr",
     "output_type": "stream",
     "text": [
      "Found `num_iterations` in params. Will use it instead of argument\n"
     ]
    },
    {
     "name": "stdout",
     "output_type": "stream",
     "text": [
      "[LightGBM] [Warning] Unknown parameter: scale_pos_Weight\n",
      "[LightGBM] [Warning] bagging_fraction is set=0.7999999999999999, subsample=0.8999999999999999 will be ignored. Current value: bagging_fraction=0.7999999999999999\n",
      "[LightGBM] [Warning] min_data_in_leaf is set=64, min_child_samples=64 will be ignored. Current value: min_data_in_leaf=64\n",
      "[LightGBM] [Warning] feature_fraction is set=0.8999999999999999, colsample_bytree=0.6 will be ignored. Current value: feature_fraction=0.8999999999999999\n"
     ]
    },
    {
     "name": "stderr",
     "output_type": "stream",
     "text": [
      "Found `num_iterations` in params. Will use it instead of argument\n"
     ]
    },
    {
     "name": "stdout",
     "output_type": "stream",
     "text": [
      "[LightGBM] [Warning] Unknown parameter: scale_pos_Weight\n",
      "[LightGBM] [Warning] bagging_fraction is set=0.7999999999999999, subsample=0.8999999999999999 will be ignored. Current value: bagging_fraction=0.7999999999999999\n",
      "[LightGBM] [Warning] min_data_in_leaf is set=64, min_child_samples=64 will be ignored. Current value: min_data_in_leaf=64\n",
      "[LightGBM] [Warning] feature_fraction is set=0.8999999999999999, colsample_bytree=0.6 will be ignored. Current value: feature_fraction=0.8999999999999999\n"
     ]
    },
    {
     "name": "stderr",
     "output_type": "stream",
     "text": [
      "Found `num_iterations` in params. Will use it instead of argument\n"
     ]
    },
    {
     "name": "stdout",
     "output_type": "stream",
     "text": [
      "[LightGBM] [Warning] Unknown parameter: scale_pos_Weight\n",
      "[LightGBM] [Warning] bagging_fraction is set=0.7999999999999999, subsample=0.8999999999999999 will be ignored. Current value: bagging_fraction=0.7999999999999999\n",
      "[LightGBM] [Warning] min_data_in_leaf is set=64, min_child_samples=64 will be ignored. Current value: min_data_in_leaf=64\n",
      "[LightGBM] [Warning] feature_fraction is set=0.8999999999999999, colsample_bytree=0.6 will be ignored. Current value: feature_fraction=0.8999999999999999\n"
     ]
    },
    {
     "name": "stderr",
     "output_type": "stream",
     "text": [
      "Found `num_iterations` in params. Will use it instead of argument\n"
     ]
    },
    {
     "name": "stdout",
     "output_type": "stream",
     "text": [
      "[LightGBM] [Warning] Unknown parameter: scale_pos_Weight\n",
      "[LightGBM] [Warning] bagging_fraction is set=0.5, subsample=0.7 will be ignored. Current value: bagging_fraction=0.5\n",
      "[LightGBM] [Warning] min_data_in_leaf is set=256, min_child_samples=16 will be ignored. Current value: min_data_in_leaf=256\n",
      "[LightGBM] [Warning] feature_fraction is set=0.6, colsample_bytree=0.7 will be ignored. Current value: feature_fraction=0.6\n"
     ]
    },
    {
     "name": "stderr",
     "output_type": "stream",
     "text": [
      "Found `num_iterations` in params. Will use it instead of argument\n"
     ]
    },
    {
     "name": "stdout",
     "output_type": "stream",
     "text": [
      "[LightGBM] [Warning] Unknown parameter: scale_pos_Weight\n",
      "[LightGBM] [Warning] bagging_fraction is set=0.5, subsample=0.7 will be ignored. Current value: bagging_fraction=0.5\n",
      "[LightGBM] [Warning] min_data_in_leaf is set=256, min_child_samples=16 will be ignored. Current value: min_data_in_leaf=256\n",
      "[LightGBM] [Warning] feature_fraction is set=0.6, colsample_bytree=0.7 will be ignored. Current value: feature_fraction=0.6\n"
     ]
    },
    {
     "name": "stderr",
     "output_type": "stream",
     "text": [
      "Found `num_iterations` in params. Will use it instead of argument\n"
     ]
    },
    {
     "name": "stdout",
     "output_type": "stream",
     "text": [
      "[LightGBM] [Warning] Unknown parameter: scale_pos_Weight\n",
      "[LightGBM] [Warning] bagging_fraction is set=0.5, subsample=0.7 will be ignored. Current value: bagging_fraction=0.5\n",
      "[LightGBM] [Warning] min_data_in_leaf is set=256, min_child_samples=16 will be ignored. Current value: min_data_in_leaf=256\n",
      "[LightGBM] [Warning] feature_fraction is set=0.6, colsample_bytree=0.7 will be ignored. Current value: feature_fraction=0.6\n"
     ]
    },
    {
     "name": "stderr",
     "output_type": "stream",
     "text": [
      "Found `num_iterations` in params. Will use it instead of argument\n"
     ]
    },
    {
     "name": "stdout",
     "output_type": "stream",
     "text": [
      "[LightGBM] [Warning] Unknown parameter: scale_pos_Weight\n",
      "[LightGBM] [Warning] bagging_fraction is set=0.5, subsample=0.7 will be ignored. Current value: bagging_fraction=0.5\n",
      "[LightGBM] [Warning] min_data_in_leaf is set=256, min_child_samples=16 will be ignored. Current value: min_data_in_leaf=256\n",
      "[LightGBM] [Warning] feature_fraction is set=0.6, colsample_bytree=0.7 will be ignored. Current value: feature_fraction=0.6\n"
     ]
    },
    {
     "name": "stderr",
     "output_type": "stream",
     "text": [
      "Found `num_iterations` in params. Will use it instead of argument\n"
     ]
    },
    {
     "name": "stdout",
     "output_type": "stream",
     "text": [
      "[LightGBM] [Warning] Unknown parameter: scale_pos_Weight\n",
      "[LightGBM] [Warning] bagging_fraction is set=0.5, subsample=0.7 will be ignored. Current value: bagging_fraction=0.5\n",
      "[LightGBM] [Warning] min_data_in_leaf is set=256, min_child_samples=16 will be ignored. Current value: min_data_in_leaf=256\n",
      "[LightGBM] [Warning] feature_fraction is set=0.6, colsample_bytree=0.7 will be ignored. Current value: feature_fraction=0.6\n"
     ]
    },
    {
     "name": "stderr",
     "output_type": "stream",
     "text": [
      "Found `num_iterations` in params. Will use it instead of argument\n"
     ]
    },
    {
     "name": "stdout",
     "output_type": "stream",
     "text": [
      "[LightGBM] [Warning] Unknown parameter: scale_pos_Weight\n",
      "[LightGBM] [Warning] bagging_fraction is set=0.8999999999999999, subsample=0.5 will be ignored. Current value: bagging_fraction=0.8999999999999999\n",
      "[LightGBM] [Warning] min_data_in_leaf is set=128, min_child_samples=2 will be ignored. Current value: min_data_in_leaf=128\n",
      "[LightGBM] [Warning] feature_fraction is set=0.6, colsample_bytree=0.6 will be ignored. Current value: feature_fraction=0.6\n"
     ]
    },
    {
     "name": "stderr",
     "output_type": "stream",
     "text": [
      "Found `num_iterations` in params. Will use it instead of argument\n"
     ]
    },
    {
     "name": "stdout",
     "output_type": "stream",
     "text": [
      "[LightGBM] [Warning] Unknown parameter: scale_pos_Weight\n",
      "[LightGBM] [Warning] bagging_fraction is set=0.8999999999999999, subsample=0.5 will be ignored. Current value: bagging_fraction=0.8999999999999999\n",
      "[LightGBM] [Warning] min_data_in_leaf is set=128, min_child_samples=2 will be ignored. Current value: min_data_in_leaf=128\n",
      "[LightGBM] [Warning] feature_fraction is set=0.6, colsample_bytree=0.6 will be ignored. Current value: feature_fraction=0.6\n"
     ]
    },
    {
     "name": "stderr",
     "output_type": "stream",
     "text": [
      "Found `num_iterations` in params. Will use it instead of argument\n"
     ]
    },
    {
     "name": "stdout",
     "output_type": "stream",
     "text": [
      "[LightGBM] [Warning] Unknown parameter: scale_pos_Weight\n",
      "[LightGBM] [Warning] bagging_fraction is set=0.8999999999999999, subsample=0.5 will be ignored. Current value: bagging_fraction=0.8999999999999999\n",
      "[LightGBM] [Warning] min_data_in_leaf is set=128, min_child_samples=2 will be ignored. Current value: min_data_in_leaf=128\n",
      "[LightGBM] [Warning] feature_fraction is set=0.6, colsample_bytree=0.6 will be ignored. Current value: feature_fraction=0.6\n"
     ]
    },
    {
     "name": "stderr",
     "output_type": "stream",
     "text": [
      "Found `num_iterations` in params. Will use it instead of argument\n"
     ]
    },
    {
     "name": "stdout",
     "output_type": "stream",
     "text": [
      "[LightGBM] [Warning] Unknown parameter: scale_pos_Weight\n",
      "[LightGBM] [Warning] bagging_fraction is set=0.8999999999999999, subsample=0.5 will be ignored. Current value: bagging_fraction=0.8999999999999999\n",
      "[LightGBM] [Warning] min_data_in_leaf is set=128, min_child_samples=2 will be ignored. Current value: min_data_in_leaf=128\n",
      "[LightGBM] [Warning] feature_fraction is set=0.6, colsample_bytree=0.6 will be ignored. Current value: feature_fraction=0.6\n"
     ]
    },
    {
     "name": "stderr",
     "output_type": "stream",
     "text": [
      "Found `num_iterations` in params. Will use it instead of argument\n"
     ]
    },
    {
     "name": "stdout",
     "output_type": "stream",
     "text": [
      "[LightGBM] [Warning] Unknown parameter: scale_pos_Weight\n",
      "[LightGBM] [Warning] bagging_fraction is set=0.8999999999999999, subsample=0.5 will be ignored. Current value: bagging_fraction=0.8999999999999999\n",
      "[LightGBM] [Warning] min_data_in_leaf is set=128, min_child_samples=2 will be ignored. Current value: min_data_in_leaf=128\n",
      "[LightGBM] [Warning] feature_fraction is set=0.6, colsample_bytree=0.6 will be ignored. Current value: feature_fraction=0.6\n"
     ]
    },
    {
     "name": "stderr",
     "output_type": "stream",
     "text": [
      "Found `num_iterations` in params. Will use it instead of argument\n"
     ]
    },
    {
     "name": "stdout",
     "output_type": "stream",
     "text": [
      "[LightGBM] [Warning] Unknown parameter: scale_pos_Weight\n",
      "[LightGBM] [Warning] bagging_fraction is set=0.7999999999999999, subsample=0.7 will be ignored. Current value: bagging_fraction=0.7999999999999999\n",
      "[LightGBM] [Warning] min_data_in_leaf is set=32, min_child_samples=32 will be ignored. Current value: min_data_in_leaf=32\n",
      "[LightGBM] [Warning] feature_fraction is set=0.8999999999999999, colsample_bytree=0.7999999999999999 will be ignored. Current value: feature_fraction=0.8999999999999999\n"
     ]
    },
    {
     "name": "stderr",
     "output_type": "stream",
     "text": [
      "Found `num_iterations` in params. Will use it instead of argument\n"
     ]
    },
    {
     "name": "stdout",
     "output_type": "stream",
     "text": [
      "[LightGBM] [Warning] Unknown parameter: scale_pos_Weight\n",
      "[LightGBM] [Warning] bagging_fraction is set=0.7999999999999999, subsample=0.7 will be ignored. Current value: bagging_fraction=0.7999999999999999\n",
      "[LightGBM] [Warning] min_data_in_leaf is set=32, min_child_samples=32 will be ignored. Current value: min_data_in_leaf=32\n",
      "[LightGBM] [Warning] feature_fraction is set=0.8999999999999999, colsample_bytree=0.7999999999999999 will be ignored. Current value: feature_fraction=0.8999999999999999\n"
     ]
    },
    {
     "name": "stderr",
     "output_type": "stream",
     "text": [
      "Found `num_iterations` in params. Will use it instead of argument\n"
     ]
    },
    {
     "name": "stdout",
     "output_type": "stream",
     "text": [
      "[LightGBM] [Warning] Unknown parameter: scale_pos_Weight\n",
      "[LightGBM] [Warning] bagging_fraction is set=0.7999999999999999, subsample=0.7 will be ignored. Current value: bagging_fraction=0.7999999999999999\n",
      "[LightGBM] [Warning] min_data_in_leaf is set=32, min_child_samples=32 will be ignored. Current value: min_data_in_leaf=32\n",
      "[LightGBM] [Warning] feature_fraction is set=0.8999999999999999, colsample_bytree=0.7999999999999999 will be ignored. Current value: feature_fraction=0.8999999999999999\n"
     ]
    },
    {
     "name": "stderr",
     "output_type": "stream",
     "text": [
      "Found `num_iterations` in params. Will use it instead of argument\n"
     ]
    },
    {
     "name": "stdout",
     "output_type": "stream",
     "text": [
      "[LightGBM] [Warning] Unknown parameter: scale_pos_Weight\n",
      "[LightGBM] [Warning] bagging_fraction is set=0.7999999999999999, subsample=0.7 will be ignored. Current value: bagging_fraction=0.7999999999999999\n",
      "[LightGBM] [Warning] min_data_in_leaf is set=32, min_child_samples=32 will be ignored. Current value: min_data_in_leaf=32\n",
      "[LightGBM] [Warning] feature_fraction is set=0.8999999999999999, colsample_bytree=0.7999999999999999 will be ignored. Current value: feature_fraction=0.8999999999999999\n"
     ]
    },
    {
     "name": "stderr",
     "output_type": "stream",
     "text": [
      "Found `num_iterations` in params. Will use it instead of argument\n"
     ]
    },
    {
     "name": "stdout",
     "output_type": "stream",
     "text": [
      "[LightGBM] [Warning] Unknown parameter: scale_pos_Weight\n",
      "[LightGBM] [Warning] bagging_fraction is set=0.7999999999999999, subsample=0.7 will be ignored. Current value: bagging_fraction=0.7999999999999999\n",
      "[LightGBM] [Warning] min_data_in_leaf is set=32, min_child_samples=32 will be ignored. Current value: min_data_in_leaf=32\n",
      "[LightGBM] [Warning] feature_fraction is set=0.8999999999999999, colsample_bytree=0.7999999999999999 will be ignored. Current value: feature_fraction=0.8999999999999999\n"
     ]
    },
    {
     "name": "stderr",
     "output_type": "stream",
     "text": [
      "Found `num_iterations` in params. Will use it instead of argument\n"
     ]
    },
    {
     "name": "stdout",
     "output_type": "stream",
     "text": [
      "[LightGBM] [Warning] Unknown parameter: scale_pos_Weight\n",
      "[LightGBM] [Warning] bagging_fraction is set=0.5, subsample=0.8999999999999999 will be ignored. Current value: bagging_fraction=0.5\n",
      "[LightGBM] [Warning] min_data_in_leaf is set=128, min_child_samples=4 will be ignored. Current value: min_data_in_leaf=128\n",
      "[LightGBM] [Warning] feature_fraction is set=0.5, colsample_bytree=0.5 will be ignored. Current value: feature_fraction=0.5\n"
     ]
    },
    {
     "name": "stderr",
     "output_type": "stream",
     "text": [
      "Found `num_iterations` in params. Will use it instead of argument\n"
     ]
    },
    {
     "name": "stdout",
     "output_type": "stream",
     "text": [
      "[LightGBM] [Warning] Unknown parameter: scale_pos_Weight\n",
      "[LightGBM] [Warning] bagging_fraction is set=0.5, subsample=0.8999999999999999 will be ignored. Current value: bagging_fraction=0.5\n",
      "[LightGBM] [Warning] min_data_in_leaf is set=128, min_child_samples=4 will be ignored. Current value: min_data_in_leaf=128\n",
      "[LightGBM] [Warning] feature_fraction is set=0.5, colsample_bytree=0.5 will be ignored. Current value: feature_fraction=0.5\n"
     ]
    },
    {
     "name": "stderr",
     "output_type": "stream",
     "text": [
      "Found `num_iterations` in params. Will use it instead of argument\n"
     ]
    },
    {
     "name": "stdout",
     "output_type": "stream",
     "text": [
      "[LightGBM] [Warning] Unknown parameter: scale_pos_Weight\n",
      "[LightGBM] [Warning] bagging_fraction is set=0.5, subsample=0.8999999999999999 will be ignored. Current value: bagging_fraction=0.5\n",
      "[LightGBM] [Warning] min_data_in_leaf is set=128, min_child_samples=4 will be ignored. Current value: min_data_in_leaf=128\n",
      "[LightGBM] [Warning] feature_fraction is set=0.5, colsample_bytree=0.5 will be ignored. Current value: feature_fraction=0.5\n"
     ]
    },
    {
     "name": "stderr",
     "output_type": "stream",
     "text": [
      "Found `num_iterations` in params. Will use it instead of argument\n"
     ]
    },
    {
     "name": "stdout",
     "output_type": "stream",
     "text": [
      "[LightGBM] [Warning] Unknown parameter: scale_pos_Weight\n",
      "[LightGBM] [Warning] bagging_fraction is set=0.5, subsample=0.8999999999999999 will be ignored. Current value: bagging_fraction=0.5\n",
      "[LightGBM] [Warning] min_data_in_leaf is set=128, min_child_samples=4 will be ignored. Current value: min_data_in_leaf=128\n",
      "[LightGBM] [Warning] feature_fraction is set=0.5, colsample_bytree=0.5 will be ignored. Current value: feature_fraction=0.5\n"
     ]
    },
    {
     "name": "stderr",
     "output_type": "stream",
     "text": [
      "Found `num_iterations` in params. Will use it instead of argument\n"
     ]
    },
    {
     "name": "stdout",
     "output_type": "stream",
     "text": [
      "[LightGBM] [Warning] Unknown parameter: scale_pos_Weight\n",
      "[LightGBM] [Warning] bagging_fraction is set=0.5, subsample=0.8999999999999999 will be ignored. Current value: bagging_fraction=0.5\n",
      "[LightGBM] [Warning] min_data_in_leaf is set=128, min_child_samples=4 will be ignored. Current value: min_data_in_leaf=128\n",
      "[LightGBM] [Warning] feature_fraction is set=0.5, colsample_bytree=0.5 will be ignored. Current value: feature_fraction=0.5\n"
     ]
    },
    {
     "name": "stderr",
     "output_type": "stream",
     "text": [
      "Found `num_iterations` in params. Will use it instead of argument\n"
     ]
    },
    {
     "name": "stdout",
     "output_type": "stream",
     "text": [
      "[LightGBM] [Warning] Unknown parameter: scale_pos_Weight\n",
      "[LightGBM] [Warning] bagging_fraction is set=0.8999999999999999, subsample=0.8999999999999999 will be ignored. Current value: bagging_fraction=0.8999999999999999\n",
      "[LightGBM] [Warning] min_data_in_leaf is set=512, min_child_samples=16 will be ignored. Current value: min_data_in_leaf=512\n",
      "[LightGBM] [Warning] feature_fraction is set=0.8999999999999999, colsample_bytree=0.7999999999999999 will be ignored. Current value: feature_fraction=0.8999999999999999\n"
     ]
    },
    {
     "name": "stderr",
     "output_type": "stream",
     "text": [
      "Found `num_iterations` in params. Will use it instead of argument\n"
     ]
    },
    {
     "name": "stdout",
     "output_type": "stream",
     "text": [
      "[LightGBM] [Warning] Unknown parameter: scale_pos_Weight\n",
      "[LightGBM] [Warning] bagging_fraction is set=0.8999999999999999, subsample=0.8999999999999999 will be ignored. Current value: bagging_fraction=0.8999999999999999\n",
      "[LightGBM] [Warning] min_data_in_leaf is set=512, min_child_samples=16 will be ignored. Current value: min_data_in_leaf=512\n",
      "[LightGBM] [Warning] feature_fraction is set=0.8999999999999999, colsample_bytree=0.7999999999999999 will be ignored. Current value: feature_fraction=0.8999999999999999\n"
     ]
    },
    {
     "name": "stderr",
     "output_type": "stream",
     "text": [
      "Found `num_iterations` in params. Will use it instead of argument\n"
     ]
    },
    {
     "name": "stdout",
     "output_type": "stream",
     "text": [
      "[LightGBM] [Warning] Unknown parameter: scale_pos_Weight\n",
      "[LightGBM] [Warning] bagging_fraction is set=0.8999999999999999, subsample=0.8999999999999999 will be ignored. Current value: bagging_fraction=0.8999999999999999\n",
      "[LightGBM] [Warning] min_data_in_leaf is set=512, min_child_samples=16 will be ignored. Current value: min_data_in_leaf=512\n",
      "[LightGBM] [Warning] feature_fraction is set=0.8999999999999999, colsample_bytree=0.7999999999999999 will be ignored. Current value: feature_fraction=0.8999999999999999\n"
     ]
    },
    {
     "name": "stderr",
     "output_type": "stream",
     "text": [
      "Found `num_iterations` in params. Will use it instead of argument\n"
     ]
    },
    {
     "name": "stdout",
     "output_type": "stream",
     "text": [
      "[LightGBM] [Warning] Unknown parameter: scale_pos_Weight\n",
      "[LightGBM] [Warning] bagging_fraction is set=0.8999999999999999, subsample=0.8999999999999999 will be ignored. Current value: bagging_fraction=0.8999999999999999\n",
      "[LightGBM] [Warning] min_data_in_leaf is set=512, min_child_samples=16 will be ignored. Current value: min_data_in_leaf=512\n",
      "[LightGBM] [Warning] feature_fraction is set=0.8999999999999999, colsample_bytree=0.7999999999999999 will be ignored. Current value: feature_fraction=0.8999999999999999\n"
     ]
    },
    {
     "name": "stderr",
     "output_type": "stream",
     "text": [
      "Found `num_iterations` in params. Will use it instead of argument\n"
     ]
    },
    {
     "name": "stdout",
     "output_type": "stream",
     "text": [
      "[LightGBM] [Warning] Unknown parameter: scale_pos_Weight\n",
      "[LightGBM] [Warning] bagging_fraction is set=0.8999999999999999, subsample=0.8999999999999999 will be ignored. Current value: bagging_fraction=0.8999999999999999\n",
      "[LightGBM] [Warning] min_data_in_leaf is set=512, min_child_samples=16 will be ignored. Current value: min_data_in_leaf=512\n",
      "[LightGBM] [Warning] feature_fraction is set=0.8999999999999999, colsample_bytree=0.7999999999999999 will be ignored. Current value: feature_fraction=0.8999999999999999\n"
     ]
    },
    {
     "name": "stderr",
     "output_type": "stream",
     "text": [
      "Found `num_iterations` in params. Will use it instead of argument\n"
     ]
    },
    {
     "name": "stdout",
     "output_type": "stream",
     "text": [
      "[LightGBM] [Warning] Unknown parameter: scale_pos_Weight\n",
      "[LightGBM] [Warning] bagging_fraction is set=0.7999999999999999, subsample=0.6 will be ignored. Current value: bagging_fraction=0.7999999999999999\n",
      "[LightGBM] [Warning] min_data_in_leaf is set=16, min_child_samples=64 will be ignored. Current value: min_data_in_leaf=16\n",
      "[LightGBM] [Warning] feature_fraction is set=0.7999999999999999, colsample_bytree=0.6 will be ignored. Current value: feature_fraction=0.7999999999999999\n"
     ]
    },
    {
     "name": "stderr",
     "output_type": "stream",
     "text": [
      "Found `num_iterations` in params. Will use it instead of argument\n"
     ]
    },
    {
     "name": "stdout",
     "output_type": "stream",
     "text": [
      "[LightGBM] [Warning] Unknown parameter: scale_pos_Weight\n",
      "[LightGBM] [Warning] bagging_fraction is set=0.7999999999999999, subsample=0.6 will be ignored. Current value: bagging_fraction=0.7999999999999999\n",
      "[LightGBM] [Warning] min_data_in_leaf is set=16, min_child_samples=64 will be ignored. Current value: min_data_in_leaf=16\n",
      "[LightGBM] [Warning] feature_fraction is set=0.7999999999999999, colsample_bytree=0.6 will be ignored. Current value: feature_fraction=0.7999999999999999\n"
     ]
    },
    {
     "name": "stderr",
     "output_type": "stream",
     "text": [
      "Found `num_iterations` in params. Will use it instead of argument\n"
     ]
    },
    {
     "name": "stdout",
     "output_type": "stream",
     "text": [
      "[LightGBM] [Warning] Unknown parameter: scale_pos_Weight\n",
      "[LightGBM] [Warning] bagging_fraction is set=0.7999999999999999, subsample=0.6 will be ignored. Current value: bagging_fraction=0.7999999999999999\n",
      "[LightGBM] [Warning] min_data_in_leaf is set=16, min_child_samples=64 will be ignored. Current value: min_data_in_leaf=16\n",
      "[LightGBM] [Warning] feature_fraction is set=0.7999999999999999, colsample_bytree=0.6 will be ignored. Current value: feature_fraction=0.7999999999999999\n"
     ]
    },
    {
     "name": "stderr",
     "output_type": "stream",
     "text": [
      "Found `num_iterations` in params. Will use it instead of argument\n"
     ]
    },
    {
     "name": "stdout",
     "output_type": "stream",
     "text": [
      "[LightGBM] [Warning] Unknown parameter: scale_pos_Weight\n",
      "[LightGBM] [Warning] bagging_fraction is set=0.7999999999999999, subsample=0.6 will be ignored. Current value: bagging_fraction=0.7999999999999999\n",
      "[LightGBM] [Warning] min_data_in_leaf is set=16, min_child_samples=64 will be ignored. Current value: min_data_in_leaf=16\n",
      "[LightGBM] [Warning] feature_fraction is set=0.7999999999999999, colsample_bytree=0.6 will be ignored. Current value: feature_fraction=0.7999999999999999\n"
     ]
    },
    {
     "name": "stderr",
     "output_type": "stream",
     "text": [
      "Found `num_iterations` in params. Will use it instead of argument\n"
     ]
    },
    {
     "name": "stdout",
     "output_type": "stream",
     "text": [
      "[LightGBM] [Warning] Unknown parameter: scale_pos_Weight\n",
      "[LightGBM] [Warning] bagging_fraction is set=0.7999999999999999, subsample=0.6 will be ignored. Current value: bagging_fraction=0.7999999999999999\n",
      "[LightGBM] [Warning] min_data_in_leaf is set=16, min_child_samples=64 will be ignored. Current value: min_data_in_leaf=16\n",
      "[LightGBM] [Warning] feature_fraction is set=0.7999999999999999, colsample_bytree=0.6 will be ignored. Current value: feature_fraction=0.7999999999999999\n"
     ]
    },
    {
     "name": "stderr",
     "output_type": "stream",
     "text": [
      "Found `num_iterations` in params. Will use it instead of argument\n"
     ]
    },
    {
     "name": "stdout",
     "output_type": "stream",
     "text": [
      "[LightGBM] [Warning] Unknown parameter: scale_pos_Weight\n",
      "[LightGBM] [Warning] bagging_fraction is set=0.8999999999999999, subsample=0.7 will be ignored. Current value: bagging_fraction=0.8999999999999999\n",
      "[LightGBM] [Warning] min_data_in_leaf is set=8, min_child_samples=16 will be ignored. Current value: min_data_in_leaf=8\n",
      "[LightGBM] [Warning] feature_fraction is set=0.8999999999999999, colsample_bytree=0.8999999999999999 will be ignored. Current value: feature_fraction=0.8999999999999999\n"
     ]
    },
    {
     "name": "stderr",
     "output_type": "stream",
     "text": [
      "Found `num_iterations` in params. Will use it instead of argument\n"
     ]
    },
    {
     "name": "stdout",
     "output_type": "stream",
     "text": [
      "[LightGBM] [Warning] Unknown parameter: scale_pos_Weight\n",
      "[LightGBM] [Warning] bagging_fraction is set=0.8999999999999999, subsample=0.7 will be ignored. Current value: bagging_fraction=0.8999999999999999\n",
      "[LightGBM] [Warning] min_data_in_leaf is set=8, min_child_samples=16 will be ignored. Current value: min_data_in_leaf=8\n",
      "[LightGBM] [Warning] feature_fraction is set=0.8999999999999999, colsample_bytree=0.8999999999999999 will be ignored. Current value: feature_fraction=0.8999999999999999\n"
     ]
    },
    {
     "name": "stderr",
     "output_type": "stream",
     "text": [
      "Found `num_iterations` in params. Will use it instead of argument\n"
     ]
    },
    {
     "name": "stdout",
     "output_type": "stream",
     "text": [
      "[LightGBM] [Warning] Unknown parameter: scale_pos_Weight\n",
      "[LightGBM] [Warning] bagging_fraction is set=0.8999999999999999, subsample=0.7 will be ignored. Current value: bagging_fraction=0.8999999999999999\n",
      "[LightGBM] [Warning] min_data_in_leaf is set=8, min_child_samples=16 will be ignored. Current value: min_data_in_leaf=8\n",
      "[LightGBM] [Warning] feature_fraction is set=0.8999999999999999, colsample_bytree=0.8999999999999999 will be ignored. Current value: feature_fraction=0.8999999999999999\n"
     ]
    },
    {
     "name": "stderr",
     "output_type": "stream",
     "text": [
      "Found `num_iterations` in params. Will use it instead of argument\n"
     ]
    },
    {
     "name": "stdout",
     "output_type": "stream",
     "text": [
      "[LightGBM] [Warning] Unknown parameter: scale_pos_Weight\n",
      "[LightGBM] [Warning] bagging_fraction is set=0.8999999999999999, subsample=0.7 will be ignored. Current value: bagging_fraction=0.8999999999999999\n",
      "[LightGBM] [Warning] min_data_in_leaf is set=8, min_child_samples=16 will be ignored. Current value: min_data_in_leaf=8\n",
      "[LightGBM] [Warning] feature_fraction is set=0.8999999999999999, colsample_bytree=0.8999999999999999 will be ignored. Current value: feature_fraction=0.8999999999999999\n"
     ]
    },
    {
     "name": "stderr",
     "output_type": "stream",
     "text": [
      "Found `num_iterations` in params. Will use it instead of argument\n"
     ]
    },
    {
     "name": "stdout",
     "output_type": "stream",
     "text": [
      "[LightGBM] [Warning] Unknown parameter: scale_pos_Weight\n",
      "[LightGBM] [Warning] bagging_fraction is set=0.8999999999999999, subsample=0.7 will be ignored. Current value: bagging_fraction=0.8999999999999999\n",
      "[LightGBM] [Warning] min_data_in_leaf is set=8, min_child_samples=16 will be ignored. Current value: min_data_in_leaf=8\n",
      "[LightGBM] [Warning] feature_fraction is set=0.8999999999999999, colsample_bytree=0.8999999999999999 will be ignored. Current value: feature_fraction=0.8999999999999999\n"
     ]
    },
    {
     "name": "stderr",
     "output_type": "stream",
     "text": [
      "Found `num_iterations` in params. Will use it instead of argument\n"
     ]
    },
    {
     "name": "stdout",
     "output_type": "stream",
     "text": [
      "[LightGBM] [Warning] Unknown parameter: scale_pos_Weight\n",
      "[LightGBM] [Warning] bagging_fraction is set=0.6, subsample=0.5 will be ignored. Current value: bagging_fraction=0.6\n",
      "[LightGBM] [Warning] min_data_in_leaf is set=64, min_child_samples=64 will be ignored. Current value: min_data_in_leaf=64\n",
      "[LightGBM] [Warning] feature_fraction is set=0.7999999999999999, colsample_bytree=0.7 will be ignored. Current value: feature_fraction=0.7999999999999999\n"
     ]
    },
    {
     "name": "stderr",
     "output_type": "stream",
     "text": [
      "Found `num_iterations` in params. Will use it instead of argument\n"
     ]
    },
    {
     "name": "stdout",
     "output_type": "stream",
     "text": [
      "[LightGBM] [Warning] Unknown parameter: scale_pos_Weight\n",
      "[LightGBM] [Warning] bagging_fraction is set=0.6, subsample=0.5 will be ignored. Current value: bagging_fraction=0.6\n",
      "[LightGBM] [Warning] min_data_in_leaf is set=64, min_child_samples=64 will be ignored. Current value: min_data_in_leaf=64\n",
      "[LightGBM] [Warning] feature_fraction is set=0.7999999999999999, colsample_bytree=0.7 will be ignored. Current value: feature_fraction=0.7999999999999999\n"
     ]
    },
    {
     "name": "stderr",
     "output_type": "stream",
     "text": [
      "Found `num_iterations` in params. Will use it instead of argument\n"
     ]
    },
    {
     "name": "stdout",
     "output_type": "stream",
     "text": [
      "[LightGBM] [Warning] Unknown parameter: scale_pos_Weight\n",
      "[LightGBM] [Warning] bagging_fraction is set=0.6, subsample=0.5 will be ignored. Current value: bagging_fraction=0.6\n",
      "[LightGBM] [Warning] min_data_in_leaf is set=64, min_child_samples=64 will be ignored. Current value: min_data_in_leaf=64\n",
      "[LightGBM] [Warning] feature_fraction is set=0.7999999999999999, colsample_bytree=0.7 will be ignored. Current value: feature_fraction=0.7999999999999999\n"
     ]
    },
    {
     "name": "stderr",
     "output_type": "stream",
     "text": [
      "Found `num_iterations` in params. Will use it instead of argument\n"
     ]
    },
    {
     "name": "stdout",
     "output_type": "stream",
     "text": [
      "[LightGBM] [Warning] Unknown parameter: scale_pos_Weight\n",
      "[LightGBM] [Warning] bagging_fraction is set=0.6, subsample=0.5 will be ignored. Current value: bagging_fraction=0.6\n",
      "[LightGBM] [Warning] min_data_in_leaf is set=64, min_child_samples=64 will be ignored. Current value: min_data_in_leaf=64\n",
      "[LightGBM] [Warning] feature_fraction is set=0.7999999999999999, colsample_bytree=0.7 will be ignored. Current value: feature_fraction=0.7999999999999999\n"
     ]
    },
    {
     "name": "stderr",
     "output_type": "stream",
     "text": [
      "Found `num_iterations` in params. Will use it instead of argument\n"
     ]
    },
    {
     "name": "stdout",
     "output_type": "stream",
     "text": [
      "[LightGBM] [Warning] Unknown parameter: scale_pos_Weight\n",
      "[LightGBM] [Warning] bagging_fraction is set=0.6, subsample=0.5 will be ignored. Current value: bagging_fraction=0.6\n",
      "[LightGBM] [Warning] min_data_in_leaf is set=64, min_child_samples=64 will be ignored. Current value: min_data_in_leaf=64\n",
      "[LightGBM] [Warning] feature_fraction is set=0.7999999999999999, colsample_bytree=0.7 will be ignored. Current value: feature_fraction=0.7999999999999999\n"
     ]
    },
    {
     "name": "stderr",
     "output_type": "stream",
     "text": [
      "Found `num_iterations` in params. Will use it instead of argument\n"
     ]
    },
    {
     "name": "stdout",
     "output_type": "stream",
     "text": [
      "[LightGBM] [Warning] Unknown parameter: scale_pos_Weight\n",
      "[LightGBM] [Warning] bagging_fraction is set=0.5, subsample=0.7 will be ignored. Current value: bagging_fraction=0.5\n",
      "[LightGBM] [Warning] min_data_in_leaf is set=64, min_child_samples=8 will be ignored. Current value: min_data_in_leaf=64\n",
      "[LightGBM] [Warning] feature_fraction is set=0.6, colsample_bytree=0.7999999999999999 will be ignored. Current value: feature_fraction=0.6\n"
     ]
    },
    {
     "name": "stderr",
     "output_type": "stream",
     "text": [
      "Found `num_iterations` in params. Will use it instead of argument\n"
     ]
    },
    {
     "name": "stdout",
     "output_type": "stream",
     "text": [
      "[LightGBM] [Warning] Unknown parameter: scale_pos_Weight\n",
      "[LightGBM] [Warning] bagging_fraction is set=0.5, subsample=0.7 will be ignored. Current value: bagging_fraction=0.5\n",
      "[LightGBM] [Warning] min_data_in_leaf is set=64, min_child_samples=8 will be ignored. Current value: min_data_in_leaf=64\n",
      "[LightGBM] [Warning] feature_fraction is set=0.6, colsample_bytree=0.7999999999999999 will be ignored. Current value: feature_fraction=0.6\n"
     ]
    },
    {
     "name": "stderr",
     "output_type": "stream",
     "text": [
      "Found `num_iterations` in params. Will use it instead of argument\n"
     ]
    },
    {
     "name": "stdout",
     "output_type": "stream",
     "text": [
      "[LightGBM] [Warning] Unknown parameter: scale_pos_Weight\n",
      "[LightGBM] [Warning] bagging_fraction is set=0.5, subsample=0.7 will be ignored. Current value: bagging_fraction=0.5\n",
      "[LightGBM] [Warning] min_data_in_leaf is set=64, min_child_samples=8 will be ignored. Current value: min_data_in_leaf=64\n",
      "[LightGBM] [Warning] feature_fraction is set=0.6, colsample_bytree=0.7999999999999999 will be ignored. Current value: feature_fraction=0.6\n"
     ]
    },
    {
     "name": "stderr",
     "output_type": "stream",
     "text": [
      "Found `num_iterations` in params. Will use it instead of argument\n"
     ]
    },
    {
     "name": "stdout",
     "output_type": "stream",
     "text": [
      "[LightGBM] [Warning] Unknown parameter: scale_pos_Weight\n",
      "[LightGBM] [Warning] bagging_fraction is set=0.5, subsample=0.7 will be ignored. Current value: bagging_fraction=0.5\n",
      "[LightGBM] [Warning] min_data_in_leaf is set=64, min_child_samples=8 will be ignored. Current value: min_data_in_leaf=64\n",
      "[LightGBM] [Warning] feature_fraction is set=0.6, colsample_bytree=0.7999999999999999 will be ignored. Current value: feature_fraction=0.6\n"
     ]
    },
    {
     "name": "stderr",
     "output_type": "stream",
     "text": [
      "Found `num_iterations` in params. Will use it instead of argument\n"
     ]
    },
    {
     "name": "stdout",
     "output_type": "stream",
     "text": [
      "[LightGBM] [Warning] Unknown parameter: scale_pos_Weight\n",
      "[LightGBM] [Warning] bagging_fraction is set=0.5, subsample=0.7 will be ignored. Current value: bagging_fraction=0.5\n",
      "[LightGBM] [Warning] min_data_in_leaf is set=64, min_child_samples=8 will be ignored. Current value: min_data_in_leaf=64\n",
      "[LightGBM] [Warning] feature_fraction is set=0.6, colsample_bytree=0.7999999999999999 will be ignored. Current value: feature_fraction=0.6\n"
     ]
    },
    {
     "name": "stderr",
     "output_type": "stream",
     "text": [
      "Found `num_iterations` in params. Will use it instead of argument\n"
     ]
    },
    {
     "name": "stdout",
     "output_type": "stream",
     "text": [
      "[LightGBM] [Warning] Unknown parameter: scale_pos_Weight\n",
      "[LightGBM] [Warning] bagging_fraction is set=0.8999999999999999, subsample=0.7999999999999999 will be ignored. Current value: bagging_fraction=0.8999999999999999\n",
      "[LightGBM] [Warning] min_data_in_leaf is set=128, min_child_samples=8 will be ignored. Current value: min_data_in_leaf=128\n",
      "[LightGBM] [Warning] feature_fraction is set=0.7, colsample_bytree=0.5 will be ignored. Current value: feature_fraction=0.7\n"
     ]
    },
    {
     "name": "stderr",
     "output_type": "stream",
     "text": [
      "Found `num_iterations` in params. Will use it instead of argument\n"
     ]
    },
    {
     "name": "stdout",
     "output_type": "stream",
     "text": [
      "[LightGBM] [Warning] Unknown parameter: scale_pos_Weight\n",
      "[LightGBM] [Warning] bagging_fraction is set=0.8999999999999999, subsample=0.7999999999999999 will be ignored. Current value: bagging_fraction=0.8999999999999999\n",
      "[LightGBM] [Warning] min_data_in_leaf is set=128, min_child_samples=8 will be ignored. Current value: min_data_in_leaf=128\n",
      "[LightGBM] [Warning] feature_fraction is set=0.7, colsample_bytree=0.5 will be ignored. Current value: feature_fraction=0.7\n"
     ]
    },
    {
     "name": "stderr",
     "output_type": "stream",
     "text": [
      "Found `num_iterations` in params. Will use it instead of argument\n"
     ]
    },
    {
     "name": "stdout",
     "output_type": "stream",
     "text": [
      "[LightGBM] [Warning] Unknown parameter: scale_pos_Weight\n",
      "[LightGBM] [Warning] bagging_fraction is set=0.8999999999999999, subsample=0.7999999999999999 will be ignored. Current value: bagging_fraction=0.8999999999999999\n",
      "[LightGBM] [Warning] min_data_in_leaf is set=128, min_child_samples=8 will be ignored. Current value: min_data_in_leaf=128\n",
      "[LightGBM] [Warning] feature_fraction is set=0.7, colsample_bytree=0.5 will be ignored. Current value: feature_fraction=0.7\n"
     ]
    },
    {
     "name": "stderr",
     "output_type": "stream",
     "text": [
      "Found `num_iterations` in params. Will use it instead of argument\n"
     ]
    },
    {
     "name": "stdout",
     "output_type": "stream",
     "text": [
      "[LightGBM] [Warning] Unknown parameter: scale_pos_Weight\n",
      "[LightGBM] [Warning] bagging_fraction is set=0.8999999999999999, subsample=0.7999999999999999 will be ignored. Current value: bagging_fraction=0.8999999999999999\n",
      "[LightGBM] [Warning] min_data_in_leaf is set=128, min_child_samples=8 will be ignored. Current value: min_data_in_leaf=128\n",
      "[LightGBM] [Warning] feature_fraction is set=0.7, colsample_bytree=0.5 will be ignored. Current value: feature_fraction=0.7\n"
     ]
    },
    {
     "name": "stderr",
     "output_type": "stream",
     "text": [
      "Found `num_iterations` in params. Will use it instead of argument\n"
     ]
    },
    {
     "name": "stdout",
     "output_type": "stream",
     "text": [
      "[LightGBM] [Warning] Unknown parameter: scale_pos_Weight\n",
      "[LightGBM] [Warning] bagging_fraction is set=0.8999999999999999, subsample=0.7999999999999999 will be ignored. Current value: bagging_fraction=0.8999999999999999\n",
      "[LightGBM] [Warning] min_data_in_leaf is set=128, min_child_samples=8 will be ignored. Current value: min_data_in_leaf=128\n",
      "[LightGBM] [Warning] feature_fraction is set=0.7, colsample_bytree=0.5 will be ignored. Current value: feature_fraction=0.7\n"
     ]
    },
    {
     "name": "stderr",
     "output_type": "stream",
     "text": [
      "Found `num_iterations` in params. Will use it instead of argument\n"
     ]
    },
    {
     "name": "stdout",
     "output_type": "stream",
     "text": [
      "[LightGBM] [Warning] Unknown parameter: scale_pos_Weight\n",
      "[LightGBM] [Warning] bagging_fraction is set=0.8999999999999999, subsample=0.6 will be ignored. Current value: bagging_fraction=0.8999999999999999\n",
      "[LightGBM] [Warning] min_data_in_leaf is set=16, min_child_samples=16 will be ignored. Current value: min_data_in_leaf=16\n",
      "[LightGBM] [Warning] feature_fraction is set=0.6, colsample_bytree=0.6 will be ignored. Current value: feature_fraction=0.6\n"
     ]
    },
    {
     "name": "stderr",
     "output_type": "stream",
     "text": [
      "Found `num_iterations` in params. Will use it instead of argument\n"
     ]
    },
    {
     "name": "stdout",
     "output_type": "stream",
     "text": [
      "[LightGBM] [Warning] Unknown parameter: scale_pos_Weight\n",
      "[LightGBM] [Warning] bagging_fraction is set=0.8999999999999999, subsample=0.6 will be ignored. Current value: bagging_fraction=0.8999999999999999\n",
      "[LightGBM] [Warning] min_data_in_leaf is set=16, min_child_samples=16 will be ignored. Current value: min_data_in_leaf=16\n",
      "[LightGBM] [Warning] feature_fraction is set=0.6, colsample_bytree=0.6 will be ignored. Current value: feature_fraction=0.6\n"
     ]
    },
    {
     "name": "stderr",
     "output_type": "stream",
     "text": [
      "Found `num_iterations` in params. Will use it instead of argument\n"
     ]
    },
    {
     "name": "stdout",
     "output_type": "stream",
     "text": [
      "[LightGBM] [Warning] Unknown parameter: scale_pos_Weight\n",
      "[LightGBM] [Warning] bagging_fraction is set=0.8999999999999999, subsample=0.6 will be ignored. Current value: bagging_fraction=0.8999999999999999\n",
      "[LightGBM] [Warning] min_data_in_leaf is set=16, min_child_samples=16 will be ignored. Current value: min_data_in_leaf=16\n",
      "[LightGBM] [Warning] feature_fraction is set=0.6, colsample_bytree=0.6 will be ignored. Current value: feature_fraction=0.6\n"
     ]
    },
    {
     "name": "stderr",
     "output_type": "stream",
     "text": [
      "Found `num_iterations` in params. Will use it instead of argument\n"
     ]
    },
    {
     "name": "stdout",
     "output_type": "stream",
     "text": [
      "[LightGBM] [Warning] Unknown parameter: scale_pos_Weight\n",
      "[LightGBM] [Warning] bagging_fraction is set=0.8999999999999999, subsample=0.6 will be ignored. Current value: bagging_fraction=0.8999999999999999\n",
      "[LightGBM] [Warning] min_data_in_leaf is set=16, min_child_samples=16 will be ignored. Current value: min_data_in_leaf=16\n",
      "[LightGBM] [Warning] feature_fraction is set=0.6, colsample_bytree=0.6 will be ignored. Current value: feature_fraction=0.6\n"
     ]
    },
    {
     "name": "stderr",
     "output_type": "stream",
     "text": [
      "Found `num_iterations` in params. Will use it instead of argument\n"
     ]
    },
    {
     "name": "stdout",
     "output_type": "stream",
     "text": [
      "[LightGBM] [Warning] Unknown parameter: scale_pos_Weight\n",
      "[LightGBM] [Warning] bagging_fraction is set=0.8999999999999999, subsample=0.6 will be ignored. Current value: bagging_fraction=0.8999999999999999\n",
      "[LightGBM] [Warning] min_data_in_leaf is set=16, min_child_samples=16 will be ignored. Current value: min_data_in_leaf=16\n",
      "[LightGBM] [Warning] feature_fraction is set=0.6, colsample_bytree=0.6 will be ignored. Current value: feature_fraction=0.6\n"
     ]
    },
    {
     "name": "stderr",
     "output_type": "stream",
     "text": [
      "Found `num_iterations` in params. Will use it instead of argument\n"
     ]
    },
    {
     "name": "stdout",
     "output_type": "stream",
     "text": [
      "[LightGBM] [Warning] Unknown parameter: scale_pos_Weight\n",
      "[LightGBM] [Warning] bagging_fraction is set=0.7, subsample=0.5 will be ignored. Current value: bagging_fraction=0.7\n",
      "[LightGBM] [Warning] min_data_in_leaf is set=512, min_child_samples=128 will be ignored. Current value: min_data_in_leaf=512\n",
      "[LightGBM] [Warning] feature_fraction is set=0.5, colsample_bytree=0.5 will be ignored. Current value: feature_fraction=0.5\n"
     ]
    },
    {
     "name": "stderr",
     "output_type": "stream",
     "text": [
      "Found `num_iterations` in params. Will use it instead of argument\n"
     ]
    },
    {
     "name": "stdout",
     "output_type": "stream",
     "text": [
      "[LightGBM] [Warning] Unknown parameter: scale_pos_Weight\n",
      "[LightGBM] [Warning] bagging_fraction is set=0.7, subsample=0.5 will be ignored. Current value: bagging_fraction=0.7\n",
      "[LightGBM] [Warning] min_data_in_leaf is set=512, min_child_samples=128 will be ignored. Current value: min_data_in_leaf=512\n",
      "[LightGBM] [Warning] feature_fraction is set=0.5, colsample_bytree=0.5 will be ignored. Current value: feature_fraction=0.5\n"
     ]
    },
    {
     "name": "stderr",
     "output_type": "stream",
     "text": [
      "Found `num_iterations` in params. Will use it instead of argument\n"
     ]
    },
    {
     "name": "stdout",
     "output_type": "stream",
     "text": [
      "[LightGBM] [Warning] Unknown parameter: scale_pos_Weight\n",
      "[LightGBM] [Warning] bagging_fraction is set=0.7, subsample=0.5 will be ignored. Current value: bagging_fraction=0.7\n",
      "[LightGBM] [Warning] min_data_in_leaf is set=512, min_child_samples=128 will be ignored. Current value: min_data_in_leaf=512\n",
      "[LightGBM] [Warning] feature_fraction is set=0.5, colsample_bytree=0.5 will be ignored. Current value: feature_fraction=0.5\n"
     ]
    },
    {
     "name": "stderr",
     "output_type": "stream",
     "text": [
      "Found `num_iterations` in params. Will use it instead of argument\n"
     ]
    },
    {
     "name": "stdout",
     "output_type": "stream",
     "text": [
      "[LightGBM] [Warning] Unknown parameter: scale_pos_Weight\n",
      "[LightGBM] [Warning] bagging_fraction is set=0.7, subsample=0.5 will be ignored. Current value: bagging_fraction=0.7\n",
      "[LightGBM] [Warning] min_data_in_leaf is set=512, min_child_samples=128 will be ignored. Current value: min_data_in_leaf=512\n",
      "[LightGBM] [Warning] feature_fraction is set=0.5, colsample_bytree=0.5 will be ignored. Current value: feature_fraction=0.5\n"
     ]
    },
    {
     "name": "stderr",
     "output_type": "stream",
     "text": [
      "Found `num_iterations` in params. Will use it instead of argument\n"
     ]
    },
    {
     "name": "stdout",
     "output_type": "stream",
     "text": [
      "[LightGBM] [Warning] Unknown parameter: scale_pos_Weight\n",
      "[LightGBM] [Warning] bagging_fraction is set=0.7, subsample=0.5 will be ignored. Current value: bagging_fraction=0.7\n",
      "[LightGBM] [Warning] min_data_in_leaf is set=512, min_child_samples=128 will be ignored. Current value: min_data_in_leaf=512\n",
      "[LightGBM] [Warning] feature_fraction is set=0.5, colsample_bytree=0.5 will be ignored. Current value: feature_fraction=0.5\n"
     ]
    },
    {
     "name": "stderr",
     "output_type": "stream",
     "text": [
      "Found `num_iterations` in params. Will use it instead of argument\n"
     ]
    },
    {
     "name": "stdout",
     "output_type": "stream",
     "text": [
      "[LightGBM] [Warning] Unknown parameter: scale_pos_Weight\n",
      "[LightGBM] [Warning] bagging_fraction is set=0.5, subsample=0.8999999999999999 will be ignored. Current value: bagging_fraction=0.5\n",
      "[LightGBM] [Warning] min_data_in_leaf is set=64, min_child_samples=8 will be ignored. Current value: min_data_in_leaf=64\n",
      "[LightGBM] [Warning] feature_fraction is set=0.8999999999999999, colsample_bytree=0.6 will be ignored. Current value: feature_fraction=0.8999999999999999\n"
     ]
    },
    {
     "name": "stderr",
     "output_type": "stream",
     "text": [
      "Found `num_iterations` in params. Will use it instead of argument\n"
     ]
    },
    {
     "name": "stdout",
     "output_type": "stream",
     "text": [
      "[LightGBM] [Warning] Unknown parameter: scale_pos_Weight\n",
      "[LightGBM] [Warning] bagging_fraction is set=0.5, subsample=0.8999999999999999 will be ignored. Current value: bagging_fraction=0.5\n",
      "[LightGBM] [Warning] min_data_in_leaf is set=64, min_child_samples=8 will be ignored. Current value: min_data_in_leaf=64\n",
      "[LightGBM] [Warning] feature_fraction is set=0.8999999999999999, colsample_bytree=0.6 will be ignored. Current value: feature_fraction=0.8999999999999999\n"
     ]
    },
    {
     "name": "stderr",
     "output_type": "stream",
     "text": [
      "Found `num_iterations` in params. Will use it instead of argument\n"
     ]
    },
    {
     "name": "stdout",
     "output_type": "stream",
     "text": [
      "[LightGBM] [Warning] Unknown parameter: scale_pos_Weight\n",
      "[LightGBM] [Warning] bagging_fraction is set=0.5, subsample=0.8999999999999999 will be ignored. Current value: bagging_fraction=0.5\n",
      "[LightGBM] [Warning] min_data_in_leaf is set=64, min_child_samples=8 will be ignored. Current value: min_data_in_leaf=64\n",
      "[LightGBM] [Warning] feature_fraction is set=0.8999999999999999, colsample_bytree=0.6 will be ignored. Current value: feature_fraction=0.8999999999999999\n"
     ]
    },
    {
     "name": "stderr",
     "output_type": "stream",
     "text": [
      "Found `num_iterations` in params. Will use it instead of argument\n"
     ]
    },
    {
     "name": "stdout",
     "output_type": "stream",
     "text": [
      "[LightGBM] [Warning] Unknown parameter: scale_pos_Weight\n",
      "[LightGBM] [Warning] bagging_fraction is set=0.5, subsample=0.8999999999999999 will be ignored. Current value: bagging_fraction=0.5\n",
      "[LightGBM] [Warning] min_data_in_leaf is set=64, min_child_samples=8 will be ignored. Current value: min_data_in_leaf=64\n",
      "[LightGBM] [Warning] feature_fraction is set=0.8999999999999999, colsample_bytree=0.6 will be ignored. Current value: feature_fraction=0.8999999999999999\n"
     ]
    },
    {
     "name": "stderr",
     "output_type": "stream",
     "text": [
      "Found `num_iterations` in params. Will use it instead of argument\n"
     ]
    },
    {
     "name": "stdout",
     "output_type": "stream",
     "text": [
      "[LightGBM] [Warning] Unknown parameter: scale_pos_Weight\n",
      "[LightGBM] [Warning] bagging_fraction is set=0.5, subsample=0.8999999999999999 will be ignored. Current value: bagging_fraction=0.5\n",
      "[LightGBM] [Warning] min_data_in_leaf is set=64, min_child_samples=8 will be ignored. Current value: min_data_in_leaf=64\n",
      "[LightGBM] [Warning] feature_fraction is set=0.8999999999999999, colsample_bytree=0.6 will be ignored. Current value: feature_fraction=0.8999999999999999\n"
     ]
    },
    {
     "name": "stderr",
     "output_type": "stream",
     "text": [
      "[Parallel(n_jobs=1)]: Done 100 out of 100 | elapsed: 45.8min finished\n",
      "Found `num_iterations` in params. Will use it instead of argument\n"
     ]
    },
    {
     "name": "stdout",
     "output_type": "stream",
     "text": [
      "[LightGBM] [Warning] Unknown parameter: scale_pos_Weight\n",
      "[LightGBM] [Warning] bagging_fraction is set=0.6, subsample=0.7999999999999999 will be ignored. Current value: bagging_fraction=0.6\n",
      "[LightGBM] [Warning] min_data_in_leaf is set=8, min_child_samples=64 will be ignored. Current value: min_data_in_leaf=8\n",
      "[LightGBM] [Warning] feature_fraction is set=0.5, colsample_bytree=0.7999999999999999 will be ignored. Current value: feature_fraction=0.5\n"
     ]
    },
    {
     "name": "stderr",
     "output_type": "stream",
     "text": [
      " 80%|████████  | 4/5 [8:49:45<2:18:15, 8295.46s/it] "
     ]
    },
    {
     "name": "stdout",
     "output_type": "stream",
     "text": [
      "auc_score is :  0.7477084730605859\n",
      "(2129, 7832)\n",
      "[0. 0. 1. ... 0. 0. 0.]\n",
      "(2129, 7831) (2129,)\n",
      "(533, 7832)\n",
      "[0. 0. 1. ... 0. 0. 0.]\n",
      "(533, 7831) (533,)\n",
      "current task: 0 GBT\n",
      "(2129, 7831) (533, 7831)\n",
      "Fitting 5 folds for each of 20 candidates, totalling 100 fits\n",
      "[LightGBM] [Warning] Unknown parameter: scale_pos_Weight\n",
      "[LightGBM] [Warning] bagging_fraction is set=0.8999999999999999, subsample=0.7999999999999999 will be ignored. Current value: bagging_fraction=0.8999999999999999\n",
      "[LightGBM] [Warning] min_data_in_leaf is set=2, min_child_samples=8 will be ignored. Current value: min_data_in_leaf=2\n",
      "[LightGBM] [Warning] feature_fraction is set=0.7, colsample_bytree=0.7999999999999999 will be ignored. Current value: feature_fraction=0.7\n"
     ]
    },
    {
     "name": "stderr",
     "output_type": "stream",
     "text": [
      "[Parallel(n_jobs=1)]: Using backend SequentialBackend with 1 concurrent workers.\n",
      "Found `num_iterations` in params. Will use it instead of argument\n",
      "Found `num_iterations` in params. Will use it instead of argument\n"
     ]
    },
    {
     "name": "stdout",
     "output_type": "stream",
     "text": [
      "[LightGBM] [Warning] Unknown parameter: scale_pos_Weight\n",
      "[LightGBM] [Warning] bagging_fraction is set=0.8999999999999999, subsample=0.7999999999999999 will be ignored. Current value: bagging_fraction=0.8999999999999999\n",
      "[LightGBM] [Warning] min_data_in_leaf is set=2, min_child_samples=8 will be ignored. Current value: min_data_in_leaf=2\n",
      "[LightGBM] [Warning] feature_fraction is set=0.7, colsample_bytree=0.7999999999999999 will be ignored. Current value: feature_fraction=0.7\n"
     ]
    },
    {
     "name": "stderr",
     "output_type": "stream",
     "text": [
      "Found `num_iterations` in params. Will use it instead of argument\n"
     ]
    },
    {
     "name": "stdout",
     "output_type": "stream",
     "text": [
      "[LightGBM] [Warning] Unknown parameter: scale_pos_Weight\n",
      "[LightGBM] [Warning] bagging_fraction is set=0.8999999999999999, subsample=0.7999999999999999 will be ignored. Current value: bagging_fraction=0.8999999999999999\n",
      "[LightGBM] [Warning] min_data_in_leaf is set=2, min_child_samples=8 will be ignored. Current value: min_data_in_leaf=2\n",
      "[LightGBM] [Warning] feature_fraction is set=0.7, colsample_bytree=0.7999999999999999 will be ignored. Current value: feature_fraction=0.7\n"
     ]
    },
    {
     "name": "stderr",
     "output_type": "stream",
     "text": [
      "Found `num_iterations` in params. Will use it instead of argument\n"
     ]
    },
    {
     "name": "stdout",
     "output_type": "stream",
     "text": [
      "[LightGBM] [Warning] Unknown parameter: scale_pos_Weight\n",
      "[LightGBM] [Warning] bagging_fraction is set=0.8999999999999999, subsample=0.7999999999999999 will be ignored. Current value: bagging_fraction=0.8999999999999999\n",
      "[LightGBM] [Warning] min_data_in_leaf is set=2, min_child_samples=8 will be ignored. Current value: min_data_in_leaf=2\n",
      "[LightGBM] [Warning] feature_fraction is set=0.7, colsample_bytree=0.7999999999999999 will be ignored. Current value: feature_fraction=0.7\n"
     ]
    },
    {
     "name": "stderr",
     "output_type": "stream",
     "text": [
      "Found `num_iterations` in params. Will use it instead of argument\n"
     ]
    },
    {
     "name": "stdout",
     "output_type": "stream",
     "text": [
      "[LightGBM] [Warning] Unknown parameter: scale_pos_Weight\n",
      "[LightGBM] [Warning] bagging_fraction is set=0.8999999999999999, subsample=0.7999999999999999 will be ignored. Current value: bagging_fraction=0.8999999999999999\n",
      "[LightGBM] [Warning] min_data_in_leaf is set=2, min_child_samples=8 will be ignored. Current value: min_data_in_leaf=2\n",
      "[LightGBM] [Warning] feature_fraction is set=0.7, colsample_bytree=0.7999999999999999 will be ignored. Current value: feature_fraction=0.7\n"
     ]
    },
    {
     "name": "stderr",
     "output_type": "stream",
     "text": [
      "Found `num_iterations` in params. Will use it instead of argument\n"
     ]
    },
    {
     "name": "stdout",
     "output_type": "stream",
     "text": [
      "[LightGBM] [Warning] Unknown parameter: scale_pos_Weight\n",
      "[LightGBM] [Warning] bagging_fraction is set=0.5, subsample=0.5 will be ignored. Current value: bagging_fraction=0.5\n",
      "[LightGBM] [Warning] min_data_in_leaf is set=128, min_child_samples=32 will be ignored. Current value: min_data_in_leaf=128\n",
      "[LightGBM] [Warning] feature_fraction is set=0.7999999999999999, colsample_bytree=0.5 will be ignored. Current value: feature_fraction=0.7999999999999999\n"
     ]
    },
    {
     "name": "stderr",
     "output_type": "stream",
     "text": [
      "Found `num_iterations` in params. Will use it instead of argument\n"
     ]
    },
    {
     "name": "stdout",
     "output_type": "stream",
     "text": [
      "[LightGBM] [Warning] Unknown parameter: scale_pos_Weight\n",
      "[LightGBM] [Warning] bagging_fraction is set=0.5, subsample=0.5 will be ignored. Current value: bagging_fraction=0.5\n",
      "[LightGBM] [Warning] min_data_in_leaf is set=128, min_child_samples=32 will be ignored. Current value: min_data_in_leaf=128\n",
      "[LightGBM] [Warning] feature_fraction is set=0.7999999999999999, colsample_bytree=0.5 will be ignored. Current value: feature_fraction=0.7999999999999999\n"
     ]
    },
    {
     "name": "stderr",
     "output_type": "stream",
     "text": [
      "Found `num_iterations` in params. Will use it instead of argument\n"
     ]
    },
    {
     "name": "stdout",
     "output_type": "stream",
     "text": [
      "[LightGBM] [Warning] Unknown parameter: scale_pos_Weight\n",
      "[LightGBM] [Warning] bagging_fraction is set=0.5, subsample=0.5 will be ignored. Current value: bagging_fraction=0.5\n",
      "[LightGBM] [Warning] min_data_in_leaf is set=128, min_child_samples=32 will be ignored. Current value: min_data_in_leaf=128\n",
      "[LightGBM] [Warning] feature_fraction is set=0.7999999999999999, colsample_bytree=0.5 will be ignored. Current value: feature_fraction=0.7999999999999999\n"
     ]
    },
    {
     "name": "stderr",
     "output_type": "stream",
     "text": [
      "Found `num_iterations` in params. Will use it instead of argument\n"
     ]
    },
    {
     "name": "stdout",
     "output_type": "stream",
     "text": [
      "[LightGBM] [Warning] Unknown parameter: scale_pos_Weight\n",
      "[LightGBM] [Warning] bagging_fraction is set=0.5, subsample=0.5 will be ignored. Current value: bagging_fraction=0.5\n",
      "[LightGBM] [Warning] min_data_in_leaf is set=128, min_child_samples=32 will be ignored. Current value: min_data_in_leaf=128\n",
      "[LightGBM] [Warning] feature_fraction is set=0.7999999999999999, colsample_bytree=0.5 will be ignored. Current value: feature_fraction=0.7999999999999999\n"
     ]
    },
    {
     "name": "stderr",
     "output_type": "stream",
     "text": [
      "Found `num_iterations` in params. Will use it instead of argument\n"
     ]
    },
    {
     "name": "stdout",
     "output_type": "stream",
     "text": [
      "[LightGBM] [Warning] Unknown parameter: scale_pos_Weight\n",
      "[LightGBM] [Warning] bagging_fraction is set=0.5, subsample=0.5 will be ignored. Current value: bagging_fraction=0.5\n",
      "[LightGBM] [Warning] min_data_in_leaf is set=128, min_child_samples=32 will be ignored. Current value: min_data_in_leaf=128\n",
      "[LightGBM] [Warning] feature_fraction is set=0.7999999999999999, colsample_bytree=0.5 will be ignored. Current value: feature_fraction=0.7999999999999999\n"
     ]
    },
    {
     "name": "stderr",
     "output_type": "stream",
     "text": [
      "Found `num_iterations` in params. Will use it instead of argument\n"
     ]
    },
    {
     "name": "stdout",
     "output_type": "stream",
     "text": [
      "[LightGBM] [Warning] Unknown parameter: scale_pos_Weight\n",
      "[LightGBM] [Warning] bagging_fraction is set=0.6, subsample=0.7999999999999999 will be ignored. Current value: bagging_fraction=0.6\n",
      "[LightGBM] [Warning] min_data_in_leaf is set=8, min_child_samples=64 will be ignored. Current value: min_data_in_leaf=8\n",
      "[LightGBM] [Warning] feature_fraction is set=0.5, colsample_bytree=0.7999999999999999 will be ignored. Current value: feature_fraction=0.5\n"
     ]
    },
    {
     "name": "stderr",
     "output_type": "stream",
     "text": [
      "Found `num_iterations` in params. Will use it instead of argument\n"
     ]
    },
    {
     "name": "stdout",
     "output_type": "stream",
     "text": [
      "[LightGBM] [Warning] Unknown parameter: scale_pos_Weight\n",
      "[LightGBM] [Warning] bagging_fraction is set=0.6, subsample=0.7999999999999999 will be ignored. Current value: bagging_fraction=0.6\n",
      "[LightGBM] [Warning] min_data_in_leaf is set=8, min_child_samples=64 will be ignored. Current value: min_data_in_leaf=8\n",
      "[LightGBM] [Warning] feature_fraction is set=0.5, colsample_bytree=0.7999999999999999 will be ignored. Current value: feature_fraction=0.5\n"
     ]
    },
    {
     "name": "stderr",
     "output_type": "stream",
     "text": [
      "Found `num_iterations` in params. Will use it instead of argument\n"
     ]
    },
    {
     "name": "stdout",
     "output_type": "stream",
     "text": [
      "[LightGBM] [Warning] Unknown parameter: scale_pos_Weight\n",
      "[LightGBM] [Warning] bagging_fraction is set=0.6, subsample=0.7999999999999999 will be ignored. Current value: bagging_fraction=0.6\n",
      "[LightGBM] [Warning] min_data_in_leaf is set=8, min_child_samples=64 will be ignored. Current value: min_data_in_leaf=8\n",
      "[LightGBM] [Warning] feature_fraction is set=0.5, colsample_bytree=0.7999999999999999 will be ignored. Current value: feature_fraction=0.5\n"
     ]
    },
    {
     "name": "stderr",
     "output_type": "stream",
     "text": [
      "Found `num_iterations` in params. Will use it instead of argument\n"
     ]
    },
    {
     "name": "stdout",
     "output_type": "stream",
     "text": [
      "[LightGBM] [Warning] Unknown parameter: scale_pos_Weight\n",
      "[LightGBM] [Warning] bagging_fraction is set=0.6, subsample=0.7999999999999999 will be ignored. Current value: bagging_fraction=0.6\n",
      "[LightGBM] [Warning] min_data_in_leaf is set=8, min_child_samples=64 will be ignored. Current value: min_data_in_leaf=8\n",
      "[LightGBM] [Warning] feature_fraction is set=0.5, colsample_bytree=0.7999999999999999 will be ignored. Current value: feature_fraction=0.5\n"
     ]
    },
    {
     "name": "stderr",
     "output_type": "stream",
     "text": [
      "Found `num_iterations` in params. Will use it instead of argument\n"
     ]
    },
    {
     "name": "stdout",
     "output_type": "stream",
     "text": [
      "[LightGBM] [Warning] Unknown parameter: scale_pos_Weight\n",
      "[LightGBM] [Warning] bagging_fraction is set=0.6, subsample=0.7999999999999999 will be ignored. Current value: bagging_fraction=0.6\n",
      "[LightGBM] [Warning] min_data_in_leaf is set=8, min_child_samples=64 will be ignored. Current value: min_data_in_leaf=8\n",
      "[LightGBM] [Warning] feature_fraction is set=0.5, colsample_bytree=0.7999999999999999 will be ignored. Current value: feature_fraction=0.5\n"
     ]
    },
    {
     "name": "stderr",
     "output_type": "stream",
     "text": [
      "Found `num_iterations` in params. Will use it instead of argument\n"
     ]
    },
    {
     "name": "stdout",
     "output_type": "stream",
     "text": [
      "[LightGBM] [Warning] Unknown parameter: scale_pos_Weight\n",
      "[LightGBM] [Warning] bagging_fraction is set=0.7999999999999999, subsample=0.6 will be ignored. Current value: bagging_fraction=0.7999999999999999\n",
      "[LightGBM] [Warning] min_data_in_leaf is set=32, min_child_samples=32 will be ignored. Current value: min_data_in_leaf=32\n",
      "[LightGBM] [Warning] feature_fraction is set=0.5, colsample_bytree=0.7 will be ignored. Current value: feature_fraction=0.5\n"
     ]
    },
    {
     "name": "stderr",
     "output_type": "stream",
     "text": [
      "Found `num_iterations` in params. Will use it instead of argument\n"
     ]
    },
    {
     "name": "stdout",
     "output_type": "stream",
     "text": [
      "[LightGBM] [Warning] Unknown parameter: scale_pos_Weight\n",
      "[LightGBM] [Warning] bagging_fraction is set=0.7999999999999999, subsample=0.6 will be ignored. Current value: bagging_fraction=0.7999999999999999\n",
      "[LightGBM] [Warning] min_data_in_leaf is set=32, min_child_samples=32 will be ignored. Current value: min_data_in_leaf=32\n",
      "[LightGBM] [Warning] feature_fraction is set=0.5, colsample_bytree=0.7 will be ignored. Current value: feature_fraction=0.5\n"
     ]
    },
    {
     "name": "stderr",
     "output_type": "stream",
     "text": [
      "Found `num_iterations` in params. Will use it instead of argument\n"
     ]
    },
    {
     "name": "stdout",
     "output_type": "stream",
     "text": [
      "[LightGBM] [Warning] Unknown parameter: scale_pos_Weight\n",
      "[LightGBM] [Warning] bagging_fraction is set=0.7999999999999999, subsample=0.6 will be ignored. Current value: bagging_fraction=0.7999999999999999\n",
      "[LightGBM] [Warning] min_data_in_leaf is set=32, min_child_samples=32 will be ignored. Current value: min_data_in_leaf=32\n",
      "[LightGBM] [Warning] feature_fraction is set=0.5, colsample_bytree=0.7 will be ignored. Current value: feature_fraction=0.5\n"
     ]
    },
    {
     "name": "stderr",
     "output_type": "stream",
     "text": [
      "Found `num_iterations` in params. Will use it instead of argument\n"
     ]
    },
    {
     "name": "stdout",
     "output_type": "stream",
     "text": [
      "[LightGBM] [Warning] Unknown parameter: scale_pos_Weight\n",
      "[LightGBM] [Warning] bagging_fraction is set=0.7999999999999999, subsample=0.6 will be ignored. Current value: bagging_fraction=0.7999999999999999\n",
      "[LightGBM] [Warning] min_data_in_leaf is set=32, min_child_samples=32 will be ignored. Current value: min_data_in_leaf=32\n",
      "[LightGBM] [Warning] feature_fraction is set=0.5, colsample_bytree=0.7 will be ignored. Current value: feature_fraction=0.5\n"
     ]
    },
    {
     "name": "stderr",
     "output_type": "stream",
     "text": [
      "Found `num_iterations` in params. Will use it instead of argument\n"
     ]
    },
    {
     "name": "stdout",
     "output_type": "stream",
     "text": [
      "[LightGBM] [Warning] Unknown parameter: scale_pos_Weight\n",
      "[LightGBM] [Warning] bagging_fraction is set=0.7999999999999999, subsample=0.6 will be ignored. Current value: bagging_fraction=0.7999999999999999\n",
      "[LightGBM] [Warning] min_data_in_leaf is set=32, min_child_samples=32 will be ignored. Current value: min_data_in_leaf=32\n",
      "[LightGBM] [Warning] feature_fraction is set=0.5, colsample_bytree=0.7 will be ignored. Current value: feature_fraction=0.5\n"
     ]
    },
    {
     "name": "stderr",
     "output_type": "stream",
     "text": [
      "Found `num_iterations` in params. Will use it instead of argument\n"
     ]
    },
    {
     "name": "stdout",
     "output_type": "stream",
     "text": [
      "[LightGBM] [Warning] Unknown parameter: scale_pos_Weight\n",
      "[LightGBM] [Warning] bagging_fraction is set=0.6, subsample=0.7 will be ignored. Current value: bagging_fraction=0.6\n",
      "[LightGBM] [Warning] min_data_in_leaf is set=16, min_child_samples=4 will be ignored. Current value: min_data_in_leaf=16\n",
      "[LightGBM] [Warning] feature_fraction is set=0.5, colsample_bytree=0.7999999999999999 will be ignored. Current value: feature_fraction=0.5\n"
     ]
    },
    {
     "name": "stderr",
     "output_type": "stream",
     "text": [
      "Found `num_iterations` in params. Will use it instead of argument\n"
     ]
    },
    {
     "name": "stdout",
     "output_type": "stream",
     "text": [
      "[LightGBM] [Warning] Unknown parameter: scale_pos_Weight\n",
      "[LightGBM] [Warning] bagging_fraction is set=0.6, subsample=0.7 will be ignored. Current value: bagging_fraction=0.6\n",
      "[LightGBM] [Warning] min_data_in_leaf is set=16, min_child_samples=4 will be ignored. Current value: min_data_in_leaf=16\n",
      "[LightGBM] [Warning] feature_fraction is set=0.5, colsample_bytree=0.7999999999999999 will be ignored. Current value: feature_fraction=0.5\n"
     ]
    },
    {
     "name": "stderr",
     "output_type": "stream",
     "text": [
      "Found `num_iterations` in params. Will use it instead of argument\n"
     ]
    },
    {
     "name": "stdout",
     "output_type": "stream",
     "text": [
      "[LightGBM] [Warning] Unknown parameter: scale_pos_Weight\n",
      "[LightGBM] [Warning] bagging_fraction is set=0.6, subsample=0.7 will be ignored. Current value: bagging_fraction=0.6\n",
      "[LightGBM] [Warning] min_data_in_leaf is set=16, min_child_samples=4 will be ignored. Current value: min_data_in_leaf=16\n",
      "[LightGBM] [Warning] feature_fraction is set=0.5, colsample_bytree=0.7999999999999999 will be ignored. Current value: feature_fraction=0.5\n"
     ]
    },
    {
     "name": "stderr",
     "output_type": "stream",
     "text": [
      "Found `num_iterations` in params. Will use it instead of argument\n"
     ]
    },
    {
     "name": "stdout",
     "output_type": "stream",
     "text": [
      "[LightGBM] [Warning] Unknown parameter: scale_pos_Weight\n",
      "[LightGBM] [Warning] bagging_fraction is set=0.6, subsample=0.7 will be ignored. Current value: bagging_fraction=0.6\n",
      "[LightGBM] [Warning] min_data_in_leaf is set=16, min_child_samples=4 will be ignored. Current value: min_data_in_leaf=16\n",
      "[LightGBM] [Warning] feature_fraction is set=0.5, colsample_bytree=0.7999999999999999 will be ignored. Current value: feature_fraction=0.5\n"
     ]
    },
    {
     "name": "stderr",
     "output_type": "stream",
     "text": [
      "Found `num_iterations` in params. Will use it instead of argument\n"
     ]
    },
    {
     "name": "stdout",
     "output_type": "stream",
     "text": [
      "[LightGBM] [Warning] Unknown parameter: scale_pos_Weight\n",
      "[LightGBM] [Warning] bagging_fraction is set=0.6, subsample=0.7 will be ignored. Current value: bagging_fraction=0.6\n",
      "[LightGBM] [Warning] min_data_in_leaf is set=16, min_child_samples=4 will be ignored. Current value: min_data_in_leaf=16\n",
      "[LightGBM] [Warning] feature_fraction is set=0.5, colsample_bytree=0.7999999999999999 will be ignored. Current value: feature_fraction=0.5\n"
     ]
    },
    {
     "name": "stderr",
     "output_type": "stream",
     "text": [
      "Found `num_iterations` in params. Will use it instead of argument\n"
     ]
    },
    {
     "name": "stdout",
     "output_type": "stream",
     "text": [
      "[LightGBM] [Warning] Unknown parameter: scale_pos_Weight\n",
      "[LightGBM] [Warning] bagging_fraction is set=0.6, subsample=0.6 will be ignored. Current value: bagging_fraction=0.6\n",
      "[LightGBM] [Warning] min_data_in_leaf is set=512, min_child_samples=16 will be ignored. Current value: min_data_in_leaf=512\n",
      "[LightGBM] [Warning] feature_fraction is set=0.6, colsample_bytree=0.6 will be ignored. Current value: feature_fraction=0.6\n"
     ]
    },
    {
     "name": "stderr",
     "output_type": "stream",
     "text": [
      "Found `num_iterations` in params. Will use it instead of argument\n"
     ]
    },
    {
     "name": "stdout",
     "output_type": "stream",
     "text": [
      "[LightGBM] [Warning] Unknown parameter: scale_pos_Weight\n",
      "[LightGBM] [Warning] bagging_fraction is set=0.6, subsample=0.6 will be ignored. Current value: bagging_fraction=0.6\n",
      "[LightGBM] [Warning] min_data_in_leaf is set=512, min_child_samples=16 will be ignored. Current value: min_data_in_leaf=512\n",
      "[LightGBM] [Warning] feature_fraction is set=0.6, colsample_bytree=0.6 will be ignored. Current value: feature_fraction=0.6\n"
     ]
    },
    {
     "name": "stderr",
     "output_type": "stream",
     "text": [
      "Found `num_iterations` in params. Will use it instead of argument\n"
     ]
    },
    {
     "name": "stdout",
     "output_type": "stream",
     "text": [
      "[LightGBM] [Warning] Unknown parameter: scale_pos_Weight\n",
      "[LightGBM] [Warning] bagging_fraction is set=0.6, subsample=0.6 will be ignored. Current value: bagging_fraction=0.6\n",
      "[LightGBM] [Warning] min_data_in_leaf is set=512, min_child_samples=16 will be ignored. Current value: min_data_in_leaf=512\n",
      "[LightGBM] [Warning] feature_fraction is set=0.6, colsample_bytree=0.6 will be ignored. Current value: feature_fraction=0.6\n"
     ]
    },
    {
     "name": "stderr",
     "output_type": "stream",
     "text": [
      "Found `num_iterations` in params. Will use it instead of argument\n"
     ]
    },
    {
     "name": "stdout",
     "output_type": "stream",
     "text": [
      "[LightGBM] [Warning] Unknown parameter: scale_pos_Weight\n",
      "[LightGBM] [Warning] bagging_fraction is set=0.6, subsample=0.6 will be ignored. Current value: bagging_fraction=0.6\n",
      "[LightGBM] [Warning] min_data_in_leaf is set=512, min_child_samples=16 will be ignored. Current value: min_data_in_leaf=512\n",
      "[LightGBM] [Warning] feature_fraction is set=0.6, colsample_bytree=0.6 will be ignored. Current value: feature_fraction=0.6\n"
     ]
    },
    {
     "name": "stderr",
     "output_type": "stream",
     "text": [
      "Found `num_iterations` in params. Will use it instead of argument\n"
     ]
    },
    {
     "name": "stdout",
     "output_type": "stream",
     "text": [
      "[LightGBM] [Warning] Unknown parameter: scale_pos_Weight\n",
      "[LightGBM] [Warning] bagging_fraction is set=0.6, subsample=0.6 will be ignored. Current value: bagging_fraction=0.6\n",
      "[LightGBM] [Warning] min_data_in_leaf is set=512, min_child_samples=16 will be ignored. Current value: min_data_in_leaf=512\n",
      "[LightGBM] [Warning] feature_fraction is set=0.6, colsample_bytree=0.6 will be ignored. Current value: feature_fraction=0.6\n"
     ]
    },
    {
     "name": "stderr",
     "output_type": "stream",
     "text": [
      "Found `num_iterations` in params. Will use it instead of argument\n"
     ]
    },
    {
     "name": "stdout",
     "output_type": "stream",
     "text": [
      "[LightGBM] [Warning] Unknown parameter: scale_pos_Weight\n",
      "[LightGBM] [Warning] bagging_fraction is set=0.7999999999999999, subsample=0.8999999999999999 will be ignored. Current value: bagging_fraction=0.7999999999999999\n",
      "[LightGBM] [Warning] min_data_in_leaf is set=64, min_child_samples=64 will be ignored. Current value: min_data_in_leaf=64\n",
      "[LightGBM] [Warning] feature_fraction is set=0.8999999999999999, colsample_bytree=0.6 will be ignored. Current value: feature_fraction=0.8999999999999999\n"
     ]
    },
    {
     "name": "stderr",
     "output_type": "stream",
     "text": [
      "Found `num_iterations` in params. Will use it instead of argument\n"
     ]
    },
    {
     "name": "stdout",
     "output_type": "stream",
     "text": [
      "[LightGBM] [Warning] Unknown parameter: scale_pos_Weight\n",
      "[LightGBM] [Warning] bagging_fraction is set=0.7999999999999999, subsample=0.8999999999999999 will be ignored. Current value: bagging_fraction=0.7999999999999999\n",
      "[LightGBM] [Warning] min_data_in_leaf is set=64, min_child_samples=64 will be ignored. Current value: min_data_in_leaf=64\n",
      "[LightGBM] [Warning] feature_fraction is set=0.8999999999999999, colsample_bytree=0.6 will be ignored. Current value: feature_fraction=0.8999999999999999\n"
     ]
    },
    {
     "name": "stderr",
     "output_type": "stream",
     "text": [
      "Found `num_iterations` in params. Will use it instead of argument\n"
     ]
    },
    {
     "name": "stdout",
     "output_type": "stream",
     "text": [
      "[LightGBM] [Warning] Unknown parameter: scale_pos_Weight\n",
      "[LightGBM] [Warning] bagging_fraction is set=0.7999999999999999, subsample=0.8999999999999999 will be ignored. Current value: bagging_fraction=0.7999999999999999\n",
      "[LightGBM] [Warning] min_data_in_leaf is set=64, min_child_samples=64 will be ignored. Current value: min_data_in_leaf=64\n",
      "[LightGBM] [Warning] feature_fraction is set=0.8999999999999999, colsample_bytree=0.6 will be ignored. Current value: feature_fraction=0.8999999999999999\n"
     ]
    },
    {
     "name": "stderr",
     "output_type": "stream",
     "text": [
      "Found `num_iterations` in params. Will use it instead of argument\n"
     ]
    },
    {
     "name": "stdout",
     "output_type": "stream",
     "text": [
      "[LightGBM] [Warning] Unknown parameter: scale_pos_Weight\n",
      "[LightGBM] [Warning] bagging_fraction is set=0.7999999999999999, subsample=0.8999999999999999 will be ignored. Current value: bagging_fraction=0.7999999999999999\n",
      "[LightGBM] [Warning] min_data_in_leaf is set=64, min_child_samples=64 will be ignored. Current value: min_data_in_leaf=64\n",
      "[LightGBM] [Warning] feature_fraction is set=0.8999999999999999, colsample_bytree=0.6 will be ignored. Current value: feature_fraction=0.8999999999999999\n"
     ]
    },
    {
     "name": "stderr",
     "output_type": "stream",
     "text": [
      "Found `num_iterations` in params. Will use it instead of argument\n"
     ]
    },
    {
     "name": "stdout",
     "output_type": "stream",
     "text": [
      "[LightGBM] [Warning] Unknown parameter: scale_pos_Weight\n",
      "[LightGBM] [Warning] bagging_fraction is set=0.7999999999999999, subsample=0.8999999999999999 will be ignored. Current value: bagging_fraction=0.7999999999999999\n",
      "[LightGBM] [Warning] min_data_in_leaf is set=64, min_child_samples=64 will be ignored. Current value: min_data_in_leaf=64\n",
      "[LightGBM] [Warning] feature_fraction is set=0.8999999999999999, colsample_bytree=0.6 will be ignored. Current value: feature_fraction=0.8999999999999999\n"
     ]
    },
    {
     "name": "stderr",
     "output_type": "stream",
     "text": [
      "Found `num_iterations` in params. Will use it instead of argument\n"
     ]
    },
    {
     "name": "stdout",
     "output_type": "stream",
     "text": [
      "[LightGBM] [Warning] Unknown parameter: scale_pos_Weight\n",
      "[LightGBM] [Warning] bagging_fraction is set=0.5, subsample=0.7 will be ignored. Current value: bagging_fraction=0.5\n",
      "[LightGBM] [Warning] min_data_in_leaf is set=256, min_child_samples=16 will be ignored. Current value: min_data_in_leaf=256\n",
      "[LightGBM] [Warning] feature_fraction is set=0.6, colsample_bytree=0.7 will be ignored. Current value: feature_fraction=0.6\n"
     ]
    },
    {
     "name": "stderr",
     "output_type": "stream",
     "text": [
      "Found `num_iterations` in params. Will use it instead of argument\n"
     ]
    },
    {
     "name": "stdout",
     "output_type": "stream",
     "text": [
      "[LightGBM] [Warning] Unknown parameter: scale_pos_Weight\n",
      "[LightGBM] [Warning] bagging_fraction is set=0.5, subsample=0.7 will be ignored. Current value: bagging_fraction=0.5\n",
      "[LightGBM] [Warning] min_data_in_leaf is set=256, min_child_samples=16 will be ignored. Current value: min_data_in_leaf=256\n",
      "[LightGBM] [Warning] feature_fraction is set=0.6, colsample_bytree=0.7 will be ignored. Current value: feature_fraction=0.6\n"
     ]
    },
    {
     "name": "stderr",
     "output_type": "stream",
     "text": [
      "Found `num_iterations` in params. Will use it instead of argument\n"
     ]
    },
    {
     "name": "stdout",
     "output_type": "stream",
     "text": [
      "[LightGBM] [Warning] Unknown parameter: scale_pos_Weight\n",
      "[LightGBM] [Warning] bagging_fraction is set=0.5, subsample=0.7 will be ignored. Current value: bagging_fraction=0.5\n",
      "[LightGBM] [Warning] min_data_in_leaf is set=256, min_child_samples=16 will be ignored. Current value: min_data_in_leaf=256\n",
      "[LightGBM] [Warning] feature_fraction is set=0.6, colsample_bytree=0.7 will be ignored. Current value: feature_fraction=0.6\n"
     ]
    },
    {
     "name": "stderr",
     "output_type": "stream",
     "text": [
      "Found `num_iterations` in params. Will use it instead of argument\n"
     ]
    },
    {
     "name": "stdout",
     "output_type": "stream",
     "text": [
      "[LightGBM] [Warning] Unknown parameter: scale_pos_Weight\n",
      "[LightGBM] [Warning] bagging_fraction is set=0.5, subsample=0.7 will be ignored. Current value: bagging_fraction=0.5\n",
      "[LightGBM] [Warning] min_data_in_leaf is set=256, min_child_samples=16 will be ignored. Current value: min_data_in_leaf=256\n",
      "[LightGBM] [Warning] feature_fraction is set=0.6, colsample_bytree=0.7 will be ignored. Current value: feature_fraction=0.6\n"
     ]
    },
    {
     "name": "stderr",
     "output_type": "stream",
     "text": [
      "Found `num_iterations` in params. Will use it instead of argument\n"
     ]
    },
    {
     "name": "stdout",
     "output_type": "stream",
     "text": [
      "[LightGBM] [Warning] Unknown parameter: scale_pos_Weight\n",
      "[LightGBM] [Warning] bagging_fraction is set=0.5, subsample=0.7 will be ignored. Current value: bagging_fraction=0.5\n",
      "[LightGBM] [Warning] min_data_in_leaf is set=256, min_child_samples=16 will be ignored. Current value: min_data_in_leaf=256\n",
      "[LightGBM] [Warning] feature_fraction is set=0.6, colsample_bytree=0.7 will be ignored. Current value: feature_fraction=0.6\n"
     ]
    },
    {
     "name": "stderr",
     "output_type": "stream",
     "text": [
      "Found `num_iterations` in params. Will use it instead of argument\n"
     ]
    },
    {
     "name": "stdout",
     "output_type": "stream",
     "text": [
      "[LightGBM] [Warning] Unknown parameter: scale_pos_Weight\n",
      "[LightGBM] [Warning] bagging_fraction is set=0.8999999999999999, subsample=0.5 will be ignored. Current value: bagging_fraction=0.8999999999999999\n",
      "[LightGBM] [Warning] min_data_in_leaf is set=128, min_child_samples=2 will be ignored. Current value: min_data_in_leaf=128\n",
      "[LightGBM] [Warning] feature_fraction is set=0.6, colsample_bytree=0.6 will be ignored. Current value: feature_fraction=0.6\n"
     ]
    },
    {
     "name": "stderr",
     "output_type": "stream",
     "text": [
      "Found `num_iterations` in params. Will use it instead of argument\n"
     ]
    },
    {
     "name": "stdout",
     "output_type": "stream",
     "text": [
      "[LightGBM] [Warning] Unknown parameter: scale_pos_Weight\n",
      "[LightGBM] [Warning] bagging_fraction is set=0.8999999999999999, subsample=0.5 will be ignored. Current value: bagging_fraction=0.8999999999999999\n",
      "[LightGBM] [Warning] min_data_in_leaf is set=128, min_child_samples=2 will be ignored. Current value: min_data_in_leaf=128\n",
      "[LightGBM] [Warning] feature_fraction is set=0.6, colsample_bytree=0.6 will be ignored. Current value: feature_fraction=0.6\n"
     ]
    },
    {
     "name": "stderr",
     "output_type": "stream",
     "text": [
      "Found `num_iterations` in params. Will use it instead of argument\n"
     ]
    },
    {
     "name": "stdout",
     "output_type": "stream",
     "text": [
      "[LightGBM] [Warning] Unknown parameter: scale_pos_Weight\n",
      "[LightGBM] [Warning] bagging_fraction is set=0.8999999999999999, subsample=0.5 will be ignored. Current value: bagging_fraction=0.8999999999999999\n",
      "[LightGBM] [Warning] min_data_in_leaf is set=128, min_child_samples=2 will be ignored. Current value: min_data_in_leaf=128\n",
      "[LightGBM] [Warning] feature_fraction is set=0.6, colsample_bytree=0.6 will be ignored. Current value: feature_fraction=0.6\n"
     ]
    },
    {
     "name": "stderr",
     "output_type": "stream",
     "text": [
      "Found `num_iterations` in params. Will use it instead of argument\n"
     ]
    },
    {
     "name": "stdout",
     "output_type": "stream",
     "text": [
      "[LightGBM] [Warning] Unknown parameter: scale_pos_Weight\n",
      "[LightGBM] [Warning] bagging_fraction is set=0.8999999999999999, subsample=0.5 will be ignored. Current value: bagging_fraction=0.8999999999999999\n",
      "[LightGBM] [Warning] min_data_in_leaf is set=128, min_child_samples=2 will be ignored. Current value: min_data_in_leaf=128\n",
      "[LightGBM] [Warning] feature_fraction is set=0.6, colsample_bytree=0.6 will be ignored. Current value: feature_fraction=0.6\n"
     ]
    },
    {
     "name": "stderr",
     "output_type": "stream",
     "text": [
      "Found `num_iterations` in params. Will use it instead of argument\n"
     ]
    },
    {
     "name": "stdout",
     "output_type": "stream",
     "text": [
      "[LightGBM] [Warning] Unknown parameter: scale_pos_Weight\n",
      "[LightGBM] [Warning] bagging_fraction is set=0.8999999999999999, subsample=0.5 will be ignored. Current value: bagging_fraction=0.8999999999999999\n",
      "[LightGBM] [Warning] min_data_in_leaf is set=128, min_child_samples=2 will be ignored. Current value: min_data_in_leaf=128\n",
      "[LightGBM] [Warning] feature_fraction is set=0.6, colsample_bytree=0.6 will be ignored. Current value: feature_fraction=0.6\n"
     ]
    },
    {
     "name": "stderr",
     "output_type": "stream",
     "text": [
      "Found `num_iterations` in params. Will use it instead of argument\n"
     ]
    },
    {
     "name": "stdout",
     "output_type": "stream",
     "text": [
      "[LightGBM] [Warning] Unknown parameter: scale_pos_Weight\n",
      "[LightGBM] [Warning] bagging_fraction is set=0.7999999999999999, subsample=0.7 will be ignored. Current value: bagging_fraction=0.7999999999999999\n",
      "[LightGBM] [Warning] min_data_in_leaf is set=32, min_child_samples=32 will be ignored. Current value: min_data_in_leaf=32\n",
      "[LightGBM] [Warning] feature_fraction is set=0.8999999999999999, colsample_bytree=0.7999999999999999 will be ignored. Current value: feature_fraction=0.8999999999999999\n"
     ]
    },
    {
     "name": "stderr",
     "output_type": "stream",
     "text": [
      "Found `num_iterations` in params. Will use it instead of argument\n"
     ]
    },
    {
     "name": "stdout",
     "output_type": "stream",
     "text": [
      "[LightGBM] [Warning] Unknown parameter: scale_pos_Weight\n",
      "[LightGBM] [Warning] bagging_fraction is set=0.7999999999999999, subsample=0.7 will be ignored. Current value: bagging_fraction=0.7999999999999999\n",
      "[LightGBM] [Warning] min_data_in_leaf is set=32, min_child_samples=32 will be ignored. Current value: min_data_in_leaf=32\n",
      "[LightGBM] [Warning] feature_fraction is set=0.8999999999999999, colsample_bytree=0.7999999999999999 will be ignored. Current value: feature_fraction=0.8999999999999999\n"
     ]
    },
    {
     "name": "stderr",
     "output_type": "stream",
     "text": [
      "Found `num_iterations` in params. Will use it instead of argument\n"
     ]
    },
    {
     "name": "stdout",
     "output_type": "stream",
     "text": [
      "[LightGBM] [Warning] Unknown parameter: scale_pos_Weight\n",
      "[LightGBM] [Warning] bagging_fraction is set=0.7999999999999999, subsample=0.7 will be ignored. Current value: bagging_fraction=0.7999999999999999\n",
      "[LightGBM] [Warning] min_data_in_leaf is set=32, min_child_samples=32 will be ignored. Current value: min_data_in_leaf=32\n",
      "[LightGBM] [Warning] feature_fraction is set=0.8999999999999999, colsample_bytree=0.7999999999999999 will be ignored. Current value: feature_fraction=0.8999999999999999\n"
     ]
    },
    {
     "name": "stderr",
     "output_type": "stream",
     "text": [
      "Found `num_iterations` in params. Will use it instead of argument\n"
     ]
    },
    {
     "name": "stdout",
     "output_type": "stream",
     "text": [
      "[LightGBM] [Warning] Unknown parameter: scale_pos_Weight\n",
      "[LightGBM] [Warning] bagging_fraction is set=0.7999999999999999, subsample=0.7 will be ignored. Current value: bagging_fraction=0.7999999999999999\n",
      "[LightGBM] [Warning] min_data_in_leaf is set=32, min_child_samples=32 will be ignored. Current value: min_data_in_leaf=32\n",
      "[LightGBM] [Warning] feature_fraction is set=0.8999999999999999, colsample_bytree=0.7999999999999999 will be ignored. Current value: feature_fraction=0.8999999999999999\n"
     ]
    },
    {
     "name": "stderr",
     "output_type": "stream",
     "text": [
      "Found `num_iterations` in params. Will use it instead of argument\n"
     ]
    },
    {
     "name": "stdout",
     "output_type": "stream",
     "text": [
      "[LightGBM] [Warning] Unknown parameter: scale_pos_Weight\n",
      "[LightGBM] [Warning] bagging_fraction is set=0.7999999999999999, subsample=0.7 will be ignored. Current value: bagging_fraction=0.7999999999999999\n",
      "[LightGBM] [Warning] min_data_in_leaf is set=32, min_child_samples=32 will be ignored. Current value: min_data_in_leaf=32\n",
      "[LightGBM] [Warning] feature_fraction is set=0.8999999999999999, colsample_bytree=0.7999999999999999 will be ignored. Current value: feature_fraction=0.8999999999999999\n"
     ]
    },
    {
     "name": "stderr",
     "output_type": "stream",
     "text": [
      "Found `num_iterations` in params. Will use it instead of argument\n"
     ]
    },
    {
     "name": "stdout",
     "output_type": "stream",
     "text": [
      "[LightGBM] [Warning] Unknown parameter: scale_pos_Weight\n",
      "[LightGBM] [Warning] bagging_fraction is set=0.5, subsample=0.8999999999999999 will be ignored. Current value: bagging_fraction=0.5\n",
      "[LightGBM] [Warning] min_data_in_leaf is set=128, min_child_samples=4 will be ignored. Current value: min_data_in_leaf=128\n",
      "[LightGBM] [Warning] feature_fraction is set=0.5, colsample_bytree=0.5 will be ignored. Current value: feature_fraction=0.5\n"
     ]
    },
    {
     "name": "stderr",
     "output_type": "stream",
     "text": [
      "Found `num_iterations` in params. Will use it instead of argument\n"
     ]
    },
    {
     "name": "stdout",
     "output_type": "stream",
     "text": [
      "[LightGBM] [Warning] Unknown parameter: scale_pos_Weight\n",
      "[LightGBM] [Warning] bagging_fraction is set=0.5, subsample=0.8999999999999999 will be ignored. Current value: bagging_fraction=0.5\n",
      "[LightGBM] [Warning] min_data_in_leaf is set=128, min_child_samples=4 will be ignored. Current value: min_data_in_leaf=128\n",
      "[LightGBM] [Warning] feature_fraction is set=0.5, colsample_bytree=0.5 will be ignored. Current value: feature_fraction=0.5\n"
     ]
    },
    {
     "name": "stderr",
     "output_type": "stream",
     "text": [
      "Found `num_iterations` in params. Will use it instead of argument\n"
     ]
    },
    {
     "name": "stdout",
     "output_type": "stream",
     "text": [
      "[LightGBM] [Warning] Unknown parameter: scale_pos_Weight\n",
      "[LightGBM] [Warning] bagging_fraction is set=0.5, subsample=0.8999999999999999 will be ignored. Current value: bagging_fraction=0.5\n",
      "[LightGBM] [Warning] min_data_in_leaf is set=128, min_child_samples=4 will be ignored. Current value: min_data_in_leaf=128\n",
      "[LightGBM] [Warning] feature_fraction is set=0.5, colsample_bytree=0.5 will be ignored. Current value: feature_fraction=0.5\n"
     ]
    },
    {
     "name": "stderr",
     "output_type": "stream",
     "text": [
      "Found `num_iterations` in params. Will use it instead of argument\n"
     ]
    },
    {
     "name": "stdout",
     "output_type": "stream",
     "text": [
      "[LightGBM] [Warning] Unknown parameter: scale_pos_Weight\n",
      "[LightGBM] [Warning] bagging_fraction is set=0.5, subsample=0.8999999999999999 will be ignored. Current value: bagging_fraction=0.5\n",
      "[LightGBM] [Warning] min_data_in_leaf is set=128, min_child_samples=4 will be ignored. Current value: min_data_in_leaf=128\n",
      "[LightGBM] [Warning] feature_fraction is set=0.5, colsample_bytree=0.5 will be ignored. Current value: feature_fraction=0.5\n"
     ]
    },
    {
     "name": "stderr",
     "output_type": "stream",
     "text": [
      "Found `num_iterations` in params. Will use it instead of argument\n"
     ]
    },
    {
     "name": "stdout",
     "output_type": "stream",
     "text": [
      "[LightGBM] [Warning] Unknown parameter: scale_pos_Weight\n",
      "[LightGBM] [Warning] bagging_fraction is set=0.5, subsample=0.8999999999999999 will be ignored. Current value: bagging_fraction=0.5\n",
      "[LightGBM] [Warning] min_data_in_leaf is set=128, min_child_samples=4 will be ignored. Current value: min_data_in_leaf=128\n",
      "[LightGBM] [Warning] feature_fraction is set=0.5, colsample_bytree=0.5 will be ignored. Current value: feature_fraction=0.5\n"
     ]
    },
    {
     "name": "stderr",
     "output_type": "stream",
     "text": [
      "Found `num_iterations` in params. Will use it instead of argument\n"
     ]
    },
    {
     "name": "stdout",
     "output_type": "stream",
     "text": [
      "[LightGBM] [Warning] Unknown parameter: scale_pos_Weight\n",
      "[LightGBM] [Warning] bagging_fraction is set=0.8999999999999999, subsample=0.8999999999999999 will be ignored. Current value: bagging_fraction=0.8999999999999999\n",
      "[LightGBM] [Warning] min_data_in_leaf is set=512, min_child_samples=16 will be ignored. Current value: min_data_in_leaf=512\n",
      "[LightGBM] [Warning] feature_fraction is set=0.8999999999999999, colsample_bytree=0.7999999999999999 will be ignored. Current value: feature_fraction=0.8999999999999999\n"
     ]
    },
    {
     "name": "stderr",
     "output_type": "stream",
     "text": [
      "Found `num_iterations` in params. Will use it instead of argument\n"
     ]
    },
    {
     "name": "stdout",
     "output_type": "stream",
     "text": [
      "[LightGBM] [Warning] Unknown parameter: scale_pos_Weight\n",
      "[LightGBM] [Warning] bagging_fraction is set=0.8999999999999999, subsample=0.8999999999999999 will be ignored. Current value: bagging_fraction=0.8999999999999999\n",
      "[LightGBM] [Warning] min_data_in_leaf is set=512, min_child_samples=16 will be ignored. Current value: min_data_in_leaf=512\n",
      "[LightGBM] [Warning] feature_fraction is set=0.8999999999999999, colsample_bytree=0.7999999999999999 will be ignored. Current value: feature_fraction=0.8999999999999999\n"
     ]
    },
    {
     "name": "stderr",
     "output_type": "stream",
     "text": [
      "Found `num_iterations` in params. Will use it instead of argument\n"
     ]
    },
    {
     "name": "stdout",
     "output_type": "stream",
     "text": [
      "[LightGBM] [Warning] Unknown parameter: scale_pos_Weight\n",
      "[LightGBM] [Warning] bagging_fraction is set=0.8999999999999999, subsample=0.8999999999999999 will be ignored. Current value: bagging_fraction=0.8999999999999999\n",
      "[LightGBM] [Warning] min_data_in_leaf is set=512, min_child_samples=16 will be ignored. Current value: min_data_in_leaf=512\n",
      "[LightGBM] [Warning] feature_fraction is set=0.8999999999999999, colsample_bytree=0.7999999999999999 will be ignored. Current value: feature_fraction=0.8999999999999999\n"
     ]
    },
    {
     "name": "stderr",
     "output_type": "stream",
     "text": [
      "Found `num_iterations` in params. Will use it instead of argument\n"
     ]
    },
    {
     "name": "stdout",
     "output_type": "stream",
     "text": [
      "[LightGBM] [Warning] Unknown parameter: scale_pos_Weight\n",
      "[LightGBM] [Warning] bagging_fraction is set=0.8999999999999999, subsample=0.8999999999999999 will be ignored. Current value: bagging_fraction=0.8999999999999999\n",
      "[LightGBM] [Warning] min_data_in_leaf is set=512, min_child_samples=16 will be ignored. Current value: min_data_in_leaf=512\n",
      "[LightGBM] [Warning] feature_fraction is set=0.8999999999999999, colsample_bytree=0.7999999999999999 will be ignored. Current value: feature_fraction=0.8999999999999999\n"
     ]
    },
    {
     "name": "stderr",
     "output_type": "stream",
     "text": [
      "Found `num_iterations` in params. Will use it instead of argument\n"
     ]
    },
    {
     "name": "stdout",
     "output_type": "stream",
     "text": [
      "[LightGBM] [Warning] Unknown parameter: scale_pos_Weight\n",
      "[LightGBM] [Warning] bagging_fraction is set=0.8999999999999999, subsample=0.8999999999999999 will be ignored. Current value: bagging_fraction=0.8999999999999999\n",
      "[LightGBM] [Warning] min_data_in_leaf is set=512, min_child_samples=16 will be ignored. Current value: min_data_in_leaf=512\n",
      "[LightGBM] [Warning] feature_fraction is set=0.8999999999999999, colsample_bytree=0.7999999999999999 will be ignored. Current value: feature_fraction=0.8999999999999999\n"
     ]
    },
    {
     "name": "stderr",
     "output_type": "stream",
     "text": [
      "Found `num_iterations` in params. Will use it instead of argument\n"
     ]
    },
    {
     "name": "stdout",
     "output_type": "stream",
     "text": [
      "[LightGBM] [Warning] Unknown parameter: scale_pos_Weight\n",
      "[LightGBM] [Warning] bagging_fraction is set=0.7999999999999999, subsample=0.6 will be ignored. Current value: bagging_fraction=0.7999999999999999\n",
      "[LightGBM] [Warning] min_data_in_leaf is set=16, min_child_samples=64 will be ignored. Current value: min_data_in_leaf=16\n",
      "[LightGBM] [Warning] feature_fraction is set=0.7999999999999999, colsample_bytree=0.6 will be ignored. Current value: feature_fraction=0.7999999999999999\n"
     ]
    },
    {
     "name": "stderr",
     "output_type": "stream",
     "text": [
      "Found `num_iterations` in params. Will use it instead of argument\n"
     ]
    },
    {
     "name": "stdout",
     "output_type": "stream",
     "text": [
      "[LightGBM] [Warning] Unknown parameter: scale_pos_Weight\n",
      "[LightGBM] [Warning] bagging_fraction is set=0.7999999999999999, subsample=0.6 will be ignored. Current value: bagging_fraction=0.7999999999999999\n",
      "[LightGBM] [Warning] min_data_in_leaf is set=16, min_child_samples=64 will be ignored. Current value: min_data_in_leaf=16\n",
      "[LightGBM] [Warning] feature_fraction is set=0.7999999999999999, colsample_bytree=0.6 will be ignored. Current value: feature_fraction=0.7999999999999999\n"
     ]
    },
    {
     "name": "stderr",
     "output_type": "stream",
     "text": [
      "Found `num_iterations` in params. Will use it instead of argument\n"
     ]
    },
    {
     "name": "stdout",
     "output_type": "stream",
     "text": [
      "[LightGBM] [Warning] Unknown parameter: scale_pos_Weight\n",
      "[LightGBM] [Warning] bagging_fraction is set=0.7999999999999999, subsample=0.6 will be ignored. Current value: bagging_fraction=0.7999999999999999\n",
      "[LightGBM] [Warning] min_data_in_leaf is set=16, min_child_samples=64 will be ignored. Current value: min_data_in_leaf=16\n",
      "[LightGBM] [Warning] feature_fraction is set=0.7999999999999999, colsample_bytree=0.6 will be ignored. Current value: feature_fraction=0.7999999999999999\n"
     ]
    },
    {
     "name": "stderr",
     "output_type": "stream",
     "text": [
      "Found `num_iterations` in params. Will use it instead of argument\n"
     ]
    },
    {
     "name": "stdout",
     "output_type": "stream",
     "text": [
      "[LightGBM] [Warning] Unknown parameter: scale_pos_Weight\n",
      "[LightGBM] [Warning] bagging_fraction is set=0.7999999999999999, subsample=0.6 will be ignored. Current value: bagging_fraction=0.7999999999999999\n",
      "[LightGBM] [Warning] min_data_in_leaf is set=16, min_child_samples=64 will be ignored. Current value: min_data_in_leaf=16\n",
      "[LightGBM] [Warning] feature_fraction is set=0.7999999999999999, colsample_bytree=0.6 will be ignored. Current value: feature_fraction=0.7999999999999999\n"
     ]
    },
    {
     "name": "stderr",
     "output_type": "stream",
     "text": [
      "Found `num_iterations` in params. Will use it instead of argument\n"
     ]
    },
    {
     "name": "stdout",
     "output_type": "stream",
     "text": [
      "[LightGBM] [Warning] Unknown parameter: scale_pos_Weight\n",
      "[LightGBM] [Warning] bagging_fraction is set=0.7999999999999999, subsample=0.6 will be ignored. Current value: bagging_fraction=0.7999999999999999\n",
      "[LightGBM] [Warning] min_data_in_leaf is set=16, min_child_samples=64 will be ignored. Current value: min_data_in_leaf=16\n",
      "[LightGBM] [Warning] feature_fraction is set=0.7999999999999999, colsample_bytree=0.6 will be ignored. Current value: feature_fraction=0.7999999999999999\n"
     ]
    },
    {
     "name": "stderr",
     "output_type": "stream",
     "text": [
      "Found `num_iterations` in params. Will use it instead of argument\n"
     ]
    },
    {
     "name": "stdout",
     "output_type": "stream",
     "text": [
      "[LightGBM] [Warning] Unknown parameter: scale_pos_Weight\n",
      "[LightGBM] [Warning] bagging_fraction is set=0.8999999999999999, subsample=0.7 will be ignored. Current value: bagging_fraction=0.8999999999999999\n",
      "[LightGBM] [Warning] min_data_in_leaf is set=8, min_child_samples=16 will be ignored. Current value: min_data_in_leaf=8\n",
      "[LightGBM] [Warning] feature_fraction is set=0.8999999999999999, colsample_bytree=0.8999999999999999 will be ignored. Current value: feature_fraction=0.8999999999999999\n"
     ]
    },
    {
     "name": "stderr",
     "output_type": "stream",
     "text": [
      "Found `num_iterations` in params. Will use it instead of argument\n"
     ]
    },
    {
     "name": "stdout",
     "output_type": "stream",
     "text": [
      "[LightGBM] [Warning] Unknown parameter: scale_pos_Weight\n",
      "[LightGBM] [Warning] bagging_fraction is set=0.8999999999999999, subsample=0.7 will be ignored. Current value: bagging_fraction=0.8999999999999999\n",
      "[LightGBM] [Warning] min_data_in_leaf is set=8, min_child_samples=16 will be ignored. Current value: min_data_in_leaf=8\n",
      "[LightGBM] [Warning] feature_fraction is set=0.8999999999999999, colsample_bytree=0.8999999999999999 will be ignored. Current value: feature_fraction=0.8999999999999999\n"
     ]
    },
    {
     "name": "stderr",
     "output_type": "stream",
     "text": [
      "Found `num_iterations` in params. Will use it instead of argument\n"
     ]
    },
    {
     "name": "stdout",
     "output_type": "stream",
     "text": [
      "[LightGBM] [Warning] Unknown parameter: scale_pos_Weight\n",
      "[LightGBM] [Warning] bagging_fraction is set=0.8999999999999999, subsample=0.7 will be ignored. Current value: bagging_fraction=0.8999999999999999\n",
      "[LightGBM] [Warning] min_data_in_leaf is set=8, min_child_samples=16 will be ignored. Current value: min_data_in_leaf=8\n",
      "[LightGBM] [Warning] feature_fraction is set=0.8999999999999999, colsample_bytree=0.8999999999999999 will be ignored. Current value: feature_fraction=0.8999999999999999\n"
     ]
    },
    {
     "name": "stderr",
     "output_type": "stream",
     "text": [
      "Found `num_iterations` in params. Will use it instead of argument\n"
     ]
    },
    {
     "name": "stdout",
     "output_type": "stream",
     "text": [
      "[LightGBM] [Warning] Unknown parameter: scale_pos_Weight\n",
      "[LightGBM] [Warning] bagging_fraction is set=0.8999999999999999, subsample=0.7 will be ignored. Current value: bagging_fraction=0.8999999999999999\n",
      "[LightGBM] [Warning] min_data_in_leaf is set=8, min_child_samples=16 will be ignored. Current value: min_data_in_leaf=8\n",
      "[LightGBM] [Warning] feature_fraction is set=0.8999999999999999, colsample_bytree=0.8999999999999999 will be ignored. Current value: feature_fraction=0.8999999999999999\n"
     ]
    },
    {
     "name": "stderr",
     "output_type": "stream",
     "text": [
      "Found `num_iterations` in params. Will use it instead of argument\n"
     ]
    },
    {
     "name": "stdout",
     "output_type": "stream",
     "text": [
      "[LightGBM] [Warning] Unknown parameter: scale_pos_Weight\n",
      "[LightGBM] [Warning] bagging_fraction is set=0.8999999999999999, subsample=0.7 will be ignored. Current value: bagging_fraction=0.8999999999999999\n",
      "[LightGBM] [Warning] min_data_in_leaf is set=8, min_child_samples=16 will be ignored. Current value: min_data_in_leaf=8\n",
      "[LightGBM] [Warning] feature_fraction is set=0.8999999999999999, colsample_bytree=0.8999999999999999 will be ignored. Current value: feature_fraction=0.8999999999999999\n"
     ]
    },
    {
     "name": "stderr",
     "output_type": "stream",
     "text": [
      "Found `num_iterations` in params. Will use it instead of argument\n"
     ]
    },
    {
     "name": "stdout",
     "output_type": "stream",
     "text": [
      "[LightGBM] [Warning] Unknown parameter: scale_pos_Weight\n",
      "[LightGBM] [Warning] bagging_fraction is set=0.6, subsample=0.5 will be ignored. Current value: bagging_fraction=0.6\n",
      "[LightGBM] [Warning] min_data_in_leaf is set=64, min_child_samples=64 will be ignored. Current value: min_data_in_leaf=64\n",
      "[LightGBM] [Warning] feature_fraction is set=0.7999999999999999, colsample_bytree=0.7 will be ignored. Current value: feature_fraction=0.7999999999999999\n"
     ]
    },
    {
     "name": "stderr",
     "output_type": "stream",
     "text": [
      "Found `num_iterations` in params. Will use it instead of argument\n"
     ]
    },
    {
     "name": "stdout",
     "output_type": "stream",
     "text": [
      "[LightGBM] [Warning] Unknown parameter: scale_pos_Weight\n",
      "[LightGBM] [Warning] bagging_fraction is set=0.6, subsample=0.5 will be ignored. Current value: bagging_fraction=0.6\n",
      "[LightGBM] [Warning] min_data_in_leaf is set=64, min_child_samples=64 will be ignored. Current value: min_data_in_leaf=64\n",
      "[LightGBM] [Warning] feature_fraction is set=0.7999999999999999, colsample_bytree=0.7 will be ignored. Current value: feature_fraction=0.7999999999999999\n"
     ]
    },
    {
     "name": "stderr",
     "output_type": "stream",
     "text": [
      "Found `num_iterations` in params. Will use it instead of argument\n"
     ]
    },
    {
     "name": "stdout",
     "output_type": "stream",
     "text": [
      "[LightGBM] [Warning] Unknown parameter: scale_pos_Weight\n",
      "[LightGBM] [Warning] bagging_fraction is set=0.6, subsample=0.5 will be ignored. Current value: bagging_fraction=0.6\n",
      "[LightGBM] [Warning] min_data_in_leaf is set=64, min_child_samples=64 will be ignored. Current value: min_data_in_leaf=64\n",
      "[LightGBM] [Warning] feature_fraction is set=0.7999999999999999, colsample_bytree=0.7 will be ignored. Current value: feature_fraction=0.7999999999999999\n"
     ]
    },
    {
     "name": "stderr",
     "output_type": "stream",
     "text": [
      "Found `num_iterations` in params. Will use it instead of argument\n"
     ]
    },
    {
     "name": "stdout",
     "output_type": "stream",
     "text": [
      "[LightGBM] [Warning] Unknown parameter: scale_pos_Weight\n",
      "[LightGBM] [Warning] bagging_fraction is set=0.6, subsample=0.5 will be ignored. Current value: bagging_fraction=0.6\n",
      "[LightGBM] [Warning] min_data_in_leaf is set=64, min_child_samples=64 will be ignored. Current value: min_data_in_leaf=64\n",
      "[LightGBM] [Warning] feature_fraction is set=0.7999999999999999, colsample_bytree=0.7 will be ignored. Current value: feature_fraction=0.7999999999999999\n"
     ]
    },
    {
     "name": "stderr",
     "output_type": "stream",
     "text": [
      "Found `num_iterations` in params. Will use it instead of argument\n"
     ]
    },
    {
     "name": "stdout",
     "output_type": "stream",
     "text": [
      "[LightGBM] [Warning] Unknown parameter: scale_pos_Weight\n",
      "[LightGBM] [Warning] bagging_fraction is set=0.6, subsample=0.5 will be ignored. Current value: bagging_fraction=0.6\n",
      "[LightGBM] [Warning] min_data_in_leaf is set=64, min_child_samples=64 will be ignored. Current value: min_data_in_leaf=64\n",
      "[LightGBM] [Warning] feature_fraction is set=0.7999999999999999, colsample_bytree=0.7 will be ignored. Current value: feature_fraction=0.7999999999999999\n"
     ]
    },
    {
     "name": "stderr",
     "output_type": "stream",
     "text": [
      "Found `num_iterations` in params. Will use it instead of argument\n"
     ]
    },
    {
     "name": "stdout",
     "output_type": "stream",
     "text": [
      "[LightGBM] [Warning] Unknown parameter: scale_pos_Weight\n",
      "[LightGBM] [Warning] bagging_fraction is set=0.5, subsample=0.7 will be ignored. Current value: bagging_fraction=0.5\n",
      "[LightGBM] [Warning] min_data_in_leaf is set=64, min_child_samples=8 will be ignored. Current value: min_data_in_leaf=64\n",
      "[LightGBM] [Warning] feature_fraction is set=0.6, colsample_bytree=0.7999999999999999 will be ignored. Current value: feature_fraction=0.6\n"
     ]
    },
    {
     "name": "stderr",
     "output_type": "stream",
     "text": [
      "Found `num_iterations` in params. Will use it instead of argument\n"
     ]
    },
    {
     "name": "stdout",
     "output_type": "stream",
     "text": [
      "[LightGBM] [Warning] Unknown parameter: scale_pos_Weight\n",
      "[LightGBM] [Warning] bagging_fraction is set=0.5, subsample=0.7 will be ignored. Current value: bagging_fraction=0.5\n",
      "[LightGBM] [Warning] min_data_in_leaf is set=64, min_child_samples=8 will be ignored. Current value: min_data_in_leaf=64\n",
      "[LightGBM] [Warning] feature_fraction is set=0.6, colsample_bytree=0.7999999999999999 will be ignored. Current value: feature_fraction=0.6\n"
     ]
    },
    {
     "name": "stderr",
     "output_type": "stream",
     "text": [
      "Found `num_iterations` in params. Will use it instead of argument\n"
     ]
    },
    {
     "name": "stdout",
     "output_type": "stream",
     "text": [
      "[LightGBM] [Warning] Unknown parameter: scale_pos_Weight\n",
      "[LightGBM] [Warning] bagging_fraction is set=0.5, subsample=0.7 will be ignored. Current value: bagging_fraction=0.5\n",
      "[LightGBM] [Warning] min_data_in_leaf is set=64, min_child_samples=8 will be ignored. Current value: min_data_in_leaf=64\n",
      "[LightGBM] [Warning] feature_fraction is set=0.6, colsample_bytree=0.7999999999999999 will be ignored. Current value: feature_fraction=0.6\n"
     ]
    },
    {
     "name": "stderr",
     "output_type": "stream",
     "text": [
      "Found `num_iterations` in params. Will use it instead of argument\n"
     ]
    },
    {
     "name": "stdout",
     "output_type": "stream",
     "text": [
      "[LightGBM] [Warning] Unknown parameter: scale_pos_Weight\n",
      "[LightGBM] [Warning] bagging_fraction is set=0.5, subsample=0.7 will be ignored. Current value: bagging_fraction=0.5\n",
      "[LightGBM] [Warning] min_data_in_leaf is set=64, min_child_samples=8 will be ignored. Current value: min_data_in_leaf=64\n",
      "[LightGBM] [Warning] feature_fraction is set=0.6, colsample_bytree=0.7999999999999999 will be ignored. Current value: feature_fraction=0.6\n"
     ]
    },
    {
     "name": "stderr",
     "output_type": "stream",
     "text": [
      "Found `num_iterations` in params. Will use it instead of argument\n"
     ]
    },
    {
     "name": "stdout",
     "output_type": "stream",
     "text": [
      "[LightGBM] [Warning] Unknown parameter: scale_pos_Weight\n",
      "[LightGBM] [Warning] bagging_fraction is set=0.5, subsample=0.7 will be ignored. Current value: bagging_fraction=0.5\n",
      "[LightGBM] [Warning] min_data_in_leaf is set=64, min_child_samples=8 will be ignored. Current value: min_data_in_leaf=64\n",
      "[LightGBM] [Warning] feature_fraction is set=0.6, colsample_bytree=0.7999999999999999 will be ignored. Current value: feature_fraction=0.6\n"
     ]
    },
    {
     "name": "stderr",
     "output_type": "stream",
     "text": [
      "Found `num_iterations` in params. Will use it instead of argument\n"
     ]
    },
    {
     "name": "stdout",
     "output_type": "stream",
     "text": [
      "[LightGBM] [Warning] Unknown parameter: scale_pos_Weight\n",
      "[LightGBM] [Warning] bagging_fraction is set=0.8999999999999999, subsample=0.7999999999999999 will be ignored. Current value: bagging_fraction=0.8999999999999999\n",
      "[LightGBM] [Warning] min_data_in_leaf is set=128, min_child_samples=8 will be ignored. Current value: min_data_in_leaf=128\n",
      "[LightGBM] [Warning] feature_fraction is set=0.7, colsample_bytree=0.5 will be ignored. Current value: feature_fraction=0.7\n"
     ]
    },
    {
     "name": "stderr",
     "output_type": "stream",
     "text": [
      "Found `num_iterations` in params. Will use it instead of argument\n"
     ]
    },
    {
     "name": "stdout",
     "output_type": "stream",
     "text": [
      "[LightGBM] [Warning] Unknown parameter: scale_pos_Weight\n",
      "[LightGBM] [Warning] bagging_fraction is set=0.8999999999999999, subsample=0.7999999999999999 will be ignored. Current value: bagging_fraction=0.8999999999999999\n",
      "[LightGBM] [Warning] min_data_in_leaf is set=128, min_child_samples=8 will be ignored. Current value: min_data_in_leaf=128\n",
      "[LightGBM] [Warning] feature_fraction is set=0.7, colsample_bytree=0.5 will be ignored. Current value: feature_fraction=0.7\n"
     ]
    },
    {
     "name": "stderr",
     "output_type": "stream",
     "text": [
      "Found `num_iterations` in params. Will use it instead of argument\n"
     ]
    },
    {
     "name": "stdout",
     "output_type": "stream",
     "text": [
      "[LightGBM] [Warning] Unknown parameter: scale_pos_Weight\n",
      "[LightGBM] [Warning] bagging_fraction is set=0.8999999999999999, subsample=0.7999999999999999 will be ignored. Current value: bagging_fraction=0.8999999999999999\n",
      "[LightGBM] [Warning] min_data_in_leaf is set=128, min_child_samples=8 will be ignored. Current value: min_data_in_leaf=128\n",
      "[LightGBM] [Warning] feature_fraction is set=0.7, colsample_bytree=0.5 will be ignored. Current value: feature_fraction=0.7\n"
     ]
    },
    {
     "name": "stderr",
     "output_type": "stream",
     "text": [
      "Found `num_iterations` in params. Will use it instead of argument\n"
     ]
    },
    {
     "name": "stdout",
     "output_type": "stream",
     "text": [
      "[LightGBM] [Warning] Unknown parameter: scale_pos_Weight\n",
      "[LightGBM] [Warning] bagging_fraction is set=0.8999999999999999, subsample=0.7999999999999999 will be ignored. Current value: bagging_fraction=0.8999999999999999\n",
      "[LightGBM] [Warning] min_data_in_leaf is set=128, min_child_samples=8 will be ignored. Current value: min_data_in_leaf=128\n",
      "[LightGBM] [Warning] feature_fraction is set=0.7, colsample_bytree=0.5 will be ignored. Current value: feature_fraction=0.7\n"
     ]
    },
    {
     "name": "stderr",
     "output_type": "stream",
     "text": [
      "Found `num_iterations` in params. Will use it instead of argument\n"
     ]
    },
    {
     "name": "stdout",
     "output_type": "stream",
     "text": [
      "[LightGBM] [Warning] Unknown parameter: scale_pos_Weight\n",
      "[LightGBM] [Warning] bagging_fraction is set=0.8999999999999999, subsample=0.7999999999999999 will be ignored. Current value: bagging_fraction=0.8999999999999999\n",
      "[LightGBM] [Warning] min_data_in_leaf is set=128, min_child_samples=8 will be ignored. Current value: min_data_in_leaf=128\n",
      "[LightGBM] [Warning] feature_fraction is set=0.7, colsample_bytree=0.5 will be ignored. Current value: feature_fraction=0.7\n"
     ]
    },
    {
     "name": "stderr",
     "output_type": "stream",
     "text": [
      "Found `num_iterations` in params. Will use it instead of argument\n"
     ]
    },
    {
     "name": "stdout",
     "output_type": "stream",
     "text": [
      "[LightGBM] [Warning] Unknown parameter: scale_pos_Weight\n",
      "[LightGBM] [Warning] bagging_fraction is set=0.8999999999999999, subsample=0.6 will be ignored. Current value: bagging_fraction=0.8999999999999999\n",
      "[LightGBM] [Warning] min_data_in_leaf is set=16, min_child_samples=16 will be ignored. Current value: min_data_in_leaf=16\n",
      "[LightGBM] [Warning] feature_fraction is set=0.6, colsample_bytree=0.6 will be ignored. Current value: feature_fraction=0.6\n"
     ]
    },
    {
     "name": "stderr",
     "output_type": "stream",
     "text": [
      "Found `num_iterations` in params. Will use it instead of argument\n"
     ]
    },
    {
     "name": "stdout",
     "output_type": "stream",
     "text": [
      "[LightGBM] [Warning] Unknown parameter: scale_pos_Weight\n",
      "[LightGBM] [Warning] bagging_fraction is set=0.8999999999999999, subsample=0.6 will be ignored. Current value: bagging_fraction=0.8999999999999999\n",
      "[LightGBM] [Warning] min_data_in_leaf is set=16, min_child_samples=16 will be ignored. Current value: min_data_in_leaf=16\n",
      "[LightGBM] [Warning] feature_fraction is set=0.6, colsample_bytree=0.6 will be ignored. Current value: feature_fraction=0.6\n"
     ]
    },
    {
     "name": "stderr",
     "output_type": "stream",
     "text": [
      "Found `num_iterations` in params. Will use it instead of argument\n"
     ]
    },
    {
     "name": "stdout",
     "output_type": "stream",
     "text": [
      "[LightGBM] [Warning] Unknown parameter: scale_pos_Weight\n",
      "[LightGBM] [Warning] bagging_fraction is set=0.8999999999999999, subsample=0.6 will be ignored. Current value: bagging_fraction=0.8999999999999999\n",
      "[LightGBM] [Warning] min_data_in_leaf is set=16, min_child_samples=16 will be ignored. Current value: min_data_in_leaf=16\n",
      "[LightGBM] [Warning] feature_fraction is set=0.6, colsample_bytree=0.6 will be ignored. Current value: feature_fraction=0.6\n"
     ]
    },
    {
     "name": "stderr",
     "output_type": "stream",
     "text": [
      "Found `num_iterations` in params. Will use it instead of argument\n"
     ]
    },
    {
     "name": "stdout",
     "output_type": "stream",
     "text": [
      "[LightGBM] [Warning] Unknown parameter: scale_pos_Weight\n",
      "[LightGBM] [Warning] bagging_fraction is set=0.8999999999999999, subsample=0.6 will be ignored. Current value: bagging_fraction=0.8999999999999999\n",
      "[LightGBM] [Warning] min_data_in_leaf is set=16, min_child_samples=16 will be ignored. Current value: min_data_in_leaf=16\n",
      "[LightGBM] [Warning] feature_fraction is set=0.6, colsample_bytree=0.6 will be ignored. Current value: feature_fraction=0.6\n"
     ]
    },
    {
     "name": "stderr",
     "output_type": "stream",
     "text": [
      "Found `num_iterations` in params. Will use it instead of argument\n"
     ]
    },
    {
     "name": "stdout",
     "output_type": "stream",
     "text": [
      "[LightGBM] [Warning] Unknown parameter: scale_pos_Weight\n",
      "[LightGBM] [Warning] bagging_fraction is set=0.8999999999999999, subsample=0.6 will be ignored. Current value: bagging_fraction=0.8999999999999999\n",
      "[LightGBM] [Warning] min_data_in_leaf is set=16, min_child_samples=16 will be ignored. Current value: min_data_in_leaf=16\n",
      "[LightGBM] [Warning] feature_fraction is set=0.6, colsample_bytree=0.6 will be ignored. Current value: feature_fraction=0.6\n"
     ]
    },
    {
     "name": "stderr",
     "output_type": "stream",
     "text": [
      "Found `num_iterations` in params. Will use it instead of argument\n"
     ]
    },
    {
     "name": "stdout",
     "output_type": "stream",
     "text": [
      "[LightGBM] [Warning] Unknown parameter: scale_pos_Weight\n",
      "[LightGBM] [Warning] bagging_fraction is set=0.7, subsample=0.5 will be ignored. Current value: bagging_fraction=0.7\n",
      "[LightGBM] [Warning] min_data_in_leaf is set=512, min_child_samples=128 will be ignored. Current value: min_data_in_leaf=512\n",
      "[LightGBM] [Warning] feature_fraction is set=0.5, colsample_bytree=0.5 will be ignored. Current value: feature_fraction=0.5\n"
     ]
    },
    {
     "name": "stderr",
     "output_type": "stream",
     "text": [
      "Found `num_iterations` in params. Will use it instead of argument\n"
     ]
    },
    {
     "name": "stdout",
     "output_type": "stream",
     "text": [
      "[LightGBM] [Warning] Unknown parameter: scale_pos_Weight\n",
      "[LightGBM] [Warning] bagging_fraction is set=0.7, subsample=0.5 will be ignored. Current value: bagging_fraction=0.7\n",
      "[LightGBM] [Warning] min_data_in_leaf is set=512, min_child_samples=128 will be ignored. Current value: min_data_in_leaf=512\n",
      "[LightGBM] [Warning] feature_fraction is set=0.5, colsample_bytree=0.5 will be ignored. Current value: feature_fraction=0.5\n"
     ]
    },
    {
     "name": "stderr",
     "output_type": "stream",
     "text": [
      "Found `num_iterations` in params. Will use it instead of argument\n"
     ]
    },
    {
     "name": "stdout",
     "output_type": "stream",
     "text": [
      "[LightGBM] [Warning] Unknown parameter: scale_pos_Weight\n",
      "[LightGBM] [Warning] bagging_fraction is set=0.7, subsample=0.5 will be ignored. Current value: bagging_fraction=0.7\n",
      "[LightGBM] [Warning] min_data_in_leaf is set=512, min_child_samples=128 will be ignored. Current value: min_data_in_leaf=512\n",
      "[LightGBM] [Warning] feature_fraction is set=0.5, colsample_bytree=0.5 will be ignored. Current value: feature_fraction=0.5\n"
     ]
    },
    {
     "name": "stderr",
     "output_type": "stream",
     "text": [
      "Found `num_iterations` in params. Will use it instead of argument\n"
     ]
    },
    {
     "name": "stdout",
     "output_type": "stream",
     "text": [
      "[LightGBM] [Warning] Unknown parameter: scale_pos_Weight\n",
      "[LightGBM] [Warning] bagging_fraction is set=0.7, subsample=0.5 will be ignored. Current value: bagging_fraction=0.7\n",
      "[LightGBM] [Warning] min_data_in_leaf is set=512, min_child_samples=128 will be ignored. Current value: min_data_in_leaf=512\n",
      "[LightGBM] [Warning] feature_fraction is set=0.5, colsample_bytree=0.5 will be ignored. Current value: feature_fraction=0.5\n"
     ]
    },
    {
     "name": "stderr",
     "output_type": "stream",
     "text": [
      "Found `num_iterations` in params. Will use it instead of argument\n"
     ]
    },
    {
     "name": "stdout",
     "output_type": "stream",
     "text": [
      "[LightGBM] [Warning] Unknown parameter: scale_pos_Weight\n",
      "[LightGBM] [Warning] bagging_fraction is set=0.7, subsample=0.5 will be ignored. Current value: bagging_fraction=0.7\n",
      "[LightGBM] [Warning] min_data_in_leaf is set=512, min_child_samples=128 will be ignored. Current value: min_data_in_leaf=512\n",
      "[LightGBM] [Warning] feature_fraction is set=0.5, colsample_bytree=0.5 will be ignored. Current value: feature_fraction=0.5\n"
     ]
    },
    {
     "name": "stderr",
     "output_type": "stream",
     "text": [
      "Found `num_iterations` in params. Will use it instead of argument\n"
     ]
    },
    {
     "name": "stdout",
     "output_type": "stream",
     "text": [
      "[LightGBM] [Warning] Unknown parameter: scale_pos_Weight\n",
      "[LightGBM] [Warning] bagging_fraction is set=0.5, subsample=0.8999999999999999 will be ignored. Current value: bagging_fraction=0.5\n",
      "[LightGBM] [Warning] min_data_in_leaf is set=64, min_child_samples=8 will be ignored. Current value: min_data_in_leaf=64\n",
      "[LightGBM] [Warning] feature_fraction is set=0.8999999999999999, colsample_bytree=0.6 will be ignored. Current value: feature_fraction=0.8999999999999999\n"
     ]
    },
    {
     "name": "stderr",
     "output_type": "stream",
     "text": [
      "Found `num_iterations` in params. Will use it instead of argument\n"
     ]
    },
    {
     "name": "stdout",
     "output_type": "stream",
     "text": [
      "[LightGBM] [Warning] Unknown parameter: scale_pos_Weight\n",
      "[LightGBM] [Warning] bagging_fraction is set=0.5, subsample=0.8999999999999999 will be ignored. Current value: bagging_fraction=0.5\n",
      "[LightGBM] [Warning] min_data_in_leaf is set=64, min_child_samples=8 will be ignored. Current value: min_data_in_leaf=64\n",
      "[LightGBM] [Warning] feature_fraction is set=0.8999999999999999, colsample_bytree=0.6 will be ignored. Current value: feature_fraction=0.8999999999999999\n"
     ]
    },
    {
     "name": "stderr",
     "output_type": "stream",
     "text": [
      "Found `num_iterations` in params. Will use it instead of argument\n"
     ]
    },
    {
     "name": "stdout",
     "output_type": "stream",
     "text": [
      "[LightGBM] [Warning] Unknown parameter: scale_pos_Weight\n",
      "[LightGBM] [Warning] bagging_fraction is set=0.5, subsample=0.8999999999999999 will be ignored. Current value: bagging_fraction=0.5\n",
      "[LightGBM] [Warning] min_data_in_leaf is set=64, min_child_samples=8 will be ignored. Current value: min_data_in_leaf=64\n",
      "[LightGBM] [Warning] feature_fraction is set=0.8999999999999999, colsample_bytree=0.6 will be ignored. Current value: feature_fraction=0.8999999999999999\n"
     ]
    },
    {
     "name": "stderr",
     "output_type": "stream",
     "text": [
      "Found `num_iterations` in params. Will use it instead of argument\n"
     ]
    },
    {
     "name": "stdout",
     "output_type": "stream",
     "text": [
      "[LightGBM] [Warning] Unknown parameter: scale_pos_Weight\n",
      "[LightGBM] [Warning] bagging_fraction is set=0.5, subsample=0.8999999999999999 will be ignored. Current value: bagging_fraction=0.5\n",
      "[LightGBM] [Warning] min_data_in_leaf is set=64, min_child_samples=8 will be ignored. Current value: min_data_in_leaf=64\n",
      "[LightGBM] [Warning] feature_fraction is set=0.8999999999999999, colsample_bytree=0.6 will be ignored. Current value: feature_fraction=0.8999999999999999\n"
     ]
    },
    {
     "name": "stderr",
     "output_type": "stream",
     "text": [
      "Found `num_iterations` in params. Will use it instead of argument\n"
     ]
    },
    {
     "name": "stdout",
     "output_type": "stream",
     "text": [
      "[LightGBM] [Warning] Unknown parameter: scale_pos_Weight\n",
      "[LightGBM] [Warning] bagging_fraction is set=0.5, subsample=0.8999999999999999 will be ignored. Current value: bagging_fraction=0.5\n",
      "[LightGBM] [Warning] min_data_in_leaf is set=64, min_child_samples=8 will be ignored. Current value: min_data_in_leaf=64\n",
      "[LightGBM] [Warning] feature_fraction is set=0.8999999999999999, colsample_bytree=0.6 will be ignored. Current value: feature_fraction=0.8999999999999999\n"
     ]
    },
    {
     "name": "stderr",
     "output_type": "stream",
     "text": [
      "[Parallel(n_jobs=1)]: Done 100 out of 100 | elapsed: 119.0min finished\n",
      "Found `num_iterations` in params. Will use it instead of argument\n"
     ]
    },
    {
     "name": "stdout",
     "output_type": "stream",
     "text": [
      "[LightGBM] [Warning] Unknown parameter: scale_pos_Weight\n",
      "[LightGBM] [Warning] bagging_fraction is set=0.6, subsample=0.7999999999999999 will be ignored. Current value: bagging_fraction=0.6\n",
      "[LightGBM] [Warning] min_data_in_leaf is set=8, min_child_samples=64 will be ignored. Current value: min_data_in_leaf=8\n",
      "[LightGBM] [Warning] feature_fraction is set=0.5, colsample_bytree=0.7999999999999999 will be ignored. Current value: feature_fraction=0.5\n"
     ]
    },
    {
     "name": "stderr",
     "output_type": "stream",
     "text": [
      "100%|██████████| 5/5 [10:49:00<00:00, 7953.22s/it] "
     ]
    },
    {
     "name": "stdout",
     "output_type": "stream",
     "text": [
      "auc_score is :  0.7477084730605859\n"
     ]
    },
    {
     "name": "stderr",
     "output_type": "stream",
     "text": [
      "\n"
     ]
    }
   ],
   "source": [
    "for i in tqdm(range(5)):\n",
    "    train_id, test_id = train_test_split(ptIDs,test_size=0.2)\n",
    "    test_id.head(), train_id.head(), test_id.shape, train_id.shape\n",
    "    test_ids = test_id.PATID.to_list()\n",
    "    train_ids = train_id.PATID.to_list()\n",
    "\n",
    "    #print(data[0][0])\n",
    "\n",
    "    trains = []\n",
    "    tests = []\n",
    "    count = 0\n",
    "    for dp in data:\n",
    "        pid = dp[0]\n",
    "        ndata = dp[1:]\n",
    "        if pid in train_ids:\n",
    "            trains.append(ndata)\n",
    "        elif pid in test_ids:\n",
    "            tests.append(ndata)\n",
    "        else:\n",
    "            count = count + 1\n",
    "\n",
    "    #print(count)\n",
    "    matrix, pids = to_matrix(trains, len(fea2id), -1)\n",
    "\n",
    "    tr_dx, tr_dy = create_data(matrix)\n",
    "\n",
    "    matrix, pids = to_matrix(tests, len(fea2id), -1)\n",
    "\n",
    "    ts_dx, ts_dy = create_data(matrix)\n",
    "\n",
    "\n",
    "    pkl4_dump((tr_dx, tr_dy, ts_dx, ts_dy), \"./03_MQ_Encoding_Files/expr_data_RC0yr_train_test.pkl\")\n",
    "\n",
    "\n",
    "##Algorithm\n",
    "    expr(clf, tuned_parameters, tasks = [0], nb = 1, nit = 20, model_name = 'GBT')"
   ]
  },
  {
   "cell_type": "markdown",
   "metadata": {},
   "source": [
    "# 1 YEAR"
   ]
  },
  {
   "cell_type": "code",
   "execution_count": null,
   "metadata": {},
   "outputs": [],
   "source": [
    "fea2id, features = pkl_load(\"./03_MQ_Encoding_Files/data_RC1yr_expr_features.pkl\")\n",
    "data = pkl_load(\"./03_MQ_Encoding_Files/data_RC1yr_expr.pkl\")"
   ]
  },
  {
   "cell_type": "code",
   "execution_count": null,
   "metadata": {},
   "outputs": [],
   "source": [
    "for i in range(100):\n",
    "    train_id, test_id = train_test_split(ptIDs,test_size=0.2)\n",
    "    test_id.head(), train_id.head(), test_id.shape, train_id.shape\n",
    "    test_ids = test_id.PATID.to_list()\n",
    "    train_ids = train_id.PATID.to_list()\n",
    "\n",
    "# split train and test\n",
    "    print(data[0][0])\n",
    "#print(len(data))\n",
    "    trains = []\n",
    "    tests = []\n",
    "    count = 0\n",
    "    for dp in data:\n",
    "        pid = dp[0]\n",
    "        ndata = dp[1:]\n",
    "        if pid in train_ids:\n",
    "            trains.append(ndata)\n",
    "        elif pid in test_ids:\n",
    "            tests.append(ndata)\n",
    "        else:\n",
    "        #print(f\"{pid} is not an id in train test\")\n",
    "        count = count + 1\n",
    "# coln = len(valid_loinc) + len(findings_list)\n",
    "    print(count)\n",
    "    matrix, pids = to_matrix(trains, len(fea2id), -1)\n",
    "# matrix, feas = imputation(matrix, pids)\n",
    "    tr_dx, tr_dy = create_data(matrix)\n",
    "\n",
    "    matrix, pids = to_matrix(tests, len(fea2id), -1)\n",
    "# matrix, feas = imputation(matrix, pids)\n",
    "    ts_dx, ts_dy = create_data(matrix)\n",
    "\n",
    "# pkl_dump(feas, \"./expr_data_5yr_features.pkl\")\n",
    "    pkl4_dump((tr_dx, tr_dy, ts_dx, ts_dy), \"./03_MQ_Encoding_Files/expr_data_RC1yr_train_test.pkl\")\n",
    "# pkl4_dump((), \"./expr_data_5yr_test.pkl\")\n",
    "    \n",
    "    expr(clf, tuned_parameters, tasks = [3,5], nb = 1, nit = 50, model_name = 'GBT')"
   ]
  },
  {
   "cell_type": "markdown",
   "metadata": {},
   "source": [
    "# 3 YEAR"
   ]
  },
  {
   "cell_type": "code",
   "execution_count": null,
   "metadata": {},
   "outputs": [],
   "source": [
    "ptIDs = pd.read_csv(\"01_MQ_Incident_Match_Files/matched_case_control_RC_3yr.csv\",usecols=['PATID'],dtype =str)\n",
    "ptIDs.head()\n",
    "fea2id, features = pkl_load(\"./03_MQ_Encoding_Files/data_RC3yr_expr_features.pkl\")\n",
    "data = pkl_load(\"./03_MQ_Encoding_Files/data_RC3yr_expr.pkl\")"
   ]
  },
  {
   "cell_type": "code",
   "execution_count": null,
   "metadata": {},
   "outputs": [],
   "source": [
    "for i in range(100):\n",
    "    train_id, test_id = train_test_split(ptIDs,test_size=0.2)\n",
    "    test_id.head(), train_id.head(), test_id.shape, train_id.shape\n",
    "    test_ids = test_id.PATID.to_list()\n",
    "    train_ids = train_id.PATID.to_list()\n",
    "\n",
    "# split train and test\n",
    "    print(data[0][0])\n",
    "#print(len(data))\n",
    "    trains = []\n",
    "    tests = []\n",
    "    count = 0\n",
    "    for dp in data:\n",
    "        pid = dp[0]\n",
    "        ndata = dp[1:]\n",
    "        if pid in train_ids:\n",
    "            trains.append(ndata)\n",
    "        elif pid in test_ids:\n",
    "            tests.append(ndata)\n",
    "        else:\n",
    "        #print(f\"{pid} is not an id in train test\")\n",
    "            count = count + 1\n",
    "# coln = len(valid_loinc) + len(findings_list)\n",
    "    print(count)\n",
    "    matrix, pids = to_matrix(trains, len(fea2id), -1)\n",
    "# matrix, feas = imputation(matrix, pids)\n",
    "    tr_dx, tr_dy = create_data(matrix)\n",
    "\n",
    "    matrix, pids = to_matrix(tests, len(fea2id), -1)\n",
    "# matrix, feas = imputation(matrix, pids)\n",
    "    ts_dx, ts_dy = create_data(matrix)\n",
    "\n",
    "# pkl_dump(feas, \"./expr_data_5yr_features.pkl\")\n",
    "    pkl4_dump((tr_dx, tr_dy, ts_dx, ts_dy), \"./03_MQ_Encoding_Files/expr_data_RC3yr_train_test.pkl\")\n",
    "# pkl4_dump((), \"./expr_data_5yr_test.pkl\")\n",
    "    expr(clf, tuned_parameters, tasks = [3,5], nb = 1, nit = 50, model_name = 'GBT')"
   ]
  },
  {
   "cell_type": "markdown",
   "metadata": {},
   "source": [
    "# 5 YEAR"
   ]
  },
  {
   "cell_type": "code",
   "execution_count": null,
   "metadata": {},
   "outputs": [],
   "source": [
    "ptIDs = pd.read_csv(\"01_MQ_Incident_Match_Files/matched_case_control_RC_5yr.csv\",usecols=['PATID'],dtype =str)\n",
    "ptIDs.head()\n",
    "fea2id, features = pkl_load(\"./03_MQ_Encoding_Files/data_RC5yr_expr_features.pkl\")\n",
    "data = pkl_load(\"./03_MQ_Encoding_Files/data_RC5yr_expr.pkl\")"
   ]
  },
  {
   "cell_type": "code",
   "execution_count": null,
   "metadata": {},
   "outputs": [],
   "source": [
    "for i in range(100):\n",
    "    train_id, test_id = train_test_split(ptIDs,test_size=0.2)\n",
    "    test_id.head(), train_id.head(), test_id.shape, train_id.shape\n",
    "    test_ids = test_id.PATID.to_list()\n",
    "    train_ids = train_id.PATID.to_list()\n",
    "\n",
    "# split train and test\n",
    "    print(data[0][0])\n",
    "#print(len(data))\n",
    "    trains = []\n",
    "    tests = []\n",
    "    count = 0\n",
    "    for dp in data:\n",
    "        pid = dp[0]\n",
    "        ndata = dp[1:]\n",
    "        if pid in train_ids:\n",
    "            trains.append(ndata)\n",
    "        elif pid in test_ids:\n",
    "            tests.append(ndata)\n",
    "        else:\n",
    "        #print(f\"{pid} is not an id in train test\")\n",
    "            count = count + 1\n",
    "# coln = len(valid_loinc) + len(findings_list)\n",
    "    print(count)\n",
    "    matrix, pids = to_matrix(trains, len(fea2id), -1)\n",
    "# matrix, feas = imputation(matrix, pids)\n",
    "    tr_dx, tr_dy = create_data(matrix)\n",
    "\n",
    "    matrix, pids = to_matrix(tests, len(fea2id), -1)\n",
    "# matrix, feas = imputation(matrix, pids)\n",
    "    ts_dx, ts_dy = create_data(matrix)\n",
    "\n",
    "# pkl_dump(feas, \"./expr_data_5yr_features.pkl\")\n",
    "    pkl4_dump((tr_dx, tr_dy, ts_dx, ts_dy), \"./03_MQ_Encoding_Files/expr_data_RC5yr_train_test.pkl\")\n",
    "# pkl4_dump((), \"./expr_data_5yr_test.pkl\")\n",
    "    expr(clf, tuned_parameters, tasks = [3,5], nb = 1, nit = 50, model_name = 'GBT')"
   ]
  },
  {
   "cell_type": "code",
   "execution_count": null,
   "metadata": {},
   "outputs": [],
   "source": []
  },
  {
   "cell_type": "markdown",
   "metadata": {},
   "source": [
    "## Untuned model"
   ]
  },
  {
   "cell_type": "code",
   "execution_count": 17,
   "metadata": {},
   "outputs": [
    {
     "name": "stderr",
     "output_type": "stream",
     "text": [
      "\n",
      "  0%|          | 0/5 [00:00<?, ?it/s]\u001b[A"
     ]
    },
    {
     "name": "stdout",
     "output_type": "stream",
     "text": [
      "(2129, 7832)\n",
      "[0. 0. 1. ... 0. 0. 0.]\n",
      "(2129, 7831) (2129,)\n",
      "(533, 7832)\n",
      "[0. 0. 1. ... 0. 0. 0.]\n",
      "(533, 7831) (533,)\n",
      "current task: 0 GBT\n",
      "[LightGBM] [Warning] Unknown parameter: scale_pos_Weight\n"
     ]
    },
    {
     "name": "stderr",
     "output_type": "stream",
     "text": [
      "\n",
      " 20%|██        | 1/5 [00:07<00:29,  7.29s/it]\u001b[A"
     ]
    },
    {
     "name": "stdout",
     "output_type": "stream",
     "text": [
      "auc_score is :  0.7456405097250167\n",
      "(2129, 7832)\n",
      "[0. 0. 1. ... 0. 0. 0.]\n",
      "(2129, 7831) (2129,)\n",
      "(533, 7832)\n",
      "[0. 0. 1. ... 0. 0. 0.]\n",
      "(533, 7831) (533,)\n",
      "current task: 0 GBT\n",
      "[LightGBM] [Warning] Unknown parameter: scale_pos_Weight\n"
     ]
    },
    {
     "name": "stderr",
     "output_type": "stream",
     "text": [
      "\n",
      " 40%|████      | 2/5 [00:12<00:19,  6.59s/it]\u001b[A"
     ]
    },
    {
     "name": "stdout",
     "output_type": "stream",
     "text": [
      "auc_score is :  0.7456405097250167\n",
      "(2129, 7832)\n",
      "[0. 0. 1. ... 0. 0. 0.]\n",
      "(2129, 7831) (2129,)\n",
      "(533, 7832)\n",
      "[0. 0. 1. ... 0. 0. 0.]\n",
      "(533, 7831) (533,)\n",
      "current task: 0 GBT\n",
      "[LightGBM] [Warning] Unknown parameter: scale_pos_Weight\n"
     ]
    },
    {
     "name": "stderr",
     "output_type": "stream",
     "text": [
      "\n",
      " 60%|██████    | 3/5 [00:19<00:13,  6.90s/it]\u001b[A"
     ]
    },
    {
     "name": "stdout",
     "output_type": "stream",
     "text": [
      "auc_score is :  0.7456405097250167\n",
      "(2129, 7832)\n",
      "[0. 0. 1. ... 0. 0. 0.]\n",
      "(2129, 7831) (2129,)\n",
      "(533, 7832)\n",
      "[0. 0. 1. ... 0. 0. 0.]\n",
      "(533, 7831) (533,)\n",
      "current task: 0 GBT\n",
      "[LightGBM] [Warning] Unknown parameter: scale_pos_Weight\n"
     ]
    },
    {
     "name": "stderr",
     "output_type": "stream",
     "text": [
      "\n",
      " 80%|████████  | 4/5 [00:30<00:08,  8.05s/it]\u001b[A"
     ]
    },
    {
     "name": "stdout",
     "output_type": "stream",
     "text": [
      "auc_score is :  0.7456405097250167\n",
      "(2129, 7832)\n",
      "[0. 0. 1. ... 0. 0. 0.]\n",
      "(2129, 7831) (2129,)\n",
      "(533, 7832)\n",
      "[0. 0. 1. ... 0. 0. 0.]\n",
      "(533, 7831) (533,)\n",
      "current task: 0 GBT\n",
      "[LightGBM] [Warning] Unknown parameter: scale_pos_Weight\n"
     ]
    },
    {
     "name": "stderr",
     "output_type": "stream",
     "text": [
      "\n",
      "100%|██████████| 5/5 [00:38<00:00,  7.95s/it]\u001b[A"
     ]
    },
    {
     "name": "stdout",
     "output_type": "stream",
     "text": [
      "auc_score is :  0.7456405097250167\n"
     ]
    }
   ],
   "source": [
    "\n",
    "\n",
    "clf = lgb.LGBMClassifier(objective='binary', \n",
    "                         n_jobs=10, \n",
    "                         scale_pos_Weight=4, use_missing=True)\n",
    "\n",
    "def expr(clf, tasks, model_name):\n",
    "\n",
    "    for task in tasks:\n",
    "        print(f\"current task: {task} {model_name}\")\n",
    "        res_output = f\"{task}year_{model_name}.txt\"\n",
    "        model_dump = f\"{task}year_{model_name}_model.pkl\"\n",
    "\n",
    "        fea2iD, features = pkl_load(f\"./03_MQ_Encoding_Files/data_RC{task}yr_expr_features.pkl\")\n",
    "        tr_dx, tr_dy, ts_dx, ts_dy = pkl4_load(f\"./03_MQ_Encoding_Files/expr_data_RC{task}yr_train_test.pkl\")\n",
    "\n",
    "        \n",
    "\n",
    "        clf.fit(tr_dx, tr_dy)\n",
    "\n",
    "        pkl_dump(clf, model_dump)\n",
    "\n",
    "        preds = clf.predict_proba(ts_dx)\n",
    "        pkl_dump(preds, f\"{task}year_{model_name}_preds.pkl\")\n",
    "\n",
    "        idx = np.argmax(clf.classes_)\n",
    "        preds_1 = list(map(lambda x: x[idx], preds))\n",
    "\n",
    "        auc_score = roc_auc_score(ts_dy, preds_1)\n",
    "        fprs, tprs, ths = roc_curve(ts_dy, preds_1)\n",
    "        print(\"auc_score is : \",auc_score)\n",
    "\n",
    "#         J_idx = np.argmax(tprs - fprs)\n",
    "#         fpr, tpr, th = fprs[J_idx], tprs[J_idx], ths[J_idx]\n",
    "#         auc_score1 = auc(fprs, tprs)\n",
    "\n",
    "        return auc_score\n",
    "\n",
    "\n",
    "\n",
    "\n",
    "\n",
    "\n",
    "for i in tqdm(range(5)):\n",
    "    train_id, test_id = train_test_split(ptIDs,test_size=0.2)\n",
    "    test_id.head(), train_id.head(), test_id.shape, train_id.shape\n",
    "    test_ids = test_id.PATID.to_list()\n",
    "    train_ids = train_id.PATID.to_list()\n",
    "\n",
    "    #print(data[0][0])\n",
    "\n",
    "    trains = []\n",
    "    tests = []\n",
    "    count = 0\n",
    "    for dp in data:\n",
    "        pid = dp[0]\n",
    "        ndata = dp[1:]\n",
    "        if pid in train_ids:\n",
    "            trains.append(ndata)\n",
    "        elif pid in test_ids:\n",
    "            tests.append(ndata)\n",
    "        else:\n",
    "            count = count + 1\n",
    "\n",
    "    #print(count)\n",
    "    matrix, pids = to_matrix(trains, len(fea2id), -1)\n",
    "\n",
    "    tr_dx, tr_dy = create_data(matrix)\n",
    "\n",
    "    matrix, pids = to_matrix(tests, len(fea2id), -1)\n",
    "\n",
    "    ts_dx, ts_dy = create_data(matrix)\n",
    "\n",
    "\n",
    "    pkl4_dump((tr_dx, tr_dy, ts_dx, ts_dy), \"./03_MQ_Encoding_Files/expr_data_RC0yr_train_test.pkl\")\n",
    "\n",
    "\n",
    "##Algorithm\n",
    "    expr(clf, tasks = [0], model_name = 'GBT')\n",
    "    \n",
    "\n"
   ]
  },
  {
   "cell_type": "code",
   "execution_count": null,
   "metadata": {},
   "outputs": [],
   "source": []
  }
 ],
 "metadata": {
  "kernelspec": {
   "display_name": "MyPython3",
   "language": "python",
   "name": "mypython3"
  },
  "language_info": {
   "codemirror_mode": {
    "name": "ipython",
    "version": 3
   },
   "file_extension": ".py",
   "mimetype": "text/x-python",
   "name": "python",
   "nbconvert_exporter": "python",
   "pygments_lexer": "ipython3",
   "version": "3.7.3"
  }
 },
 "nbformat": 4,
 "nbformat_minor": 4
}
