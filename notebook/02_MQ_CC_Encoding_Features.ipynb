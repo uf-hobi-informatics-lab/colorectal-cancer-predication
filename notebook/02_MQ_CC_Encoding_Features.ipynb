{
 "cells": [
  {
   "cell_type": "code",
   "execution_count": 1,
   "metadata": {},
   "outputs": [],
   "source": [
    "## Authors:     Michael Quillen & Max Parker; M.D. Candidates @ University of Florida\n",
    "## Project:     'Towards prediction of CRC in patients under the age of 50'\n",
    "## PIs:         Dr. Thomas George, MD; Dr. Jiang Bian, PhD\n",
    "## \n",
    "## **base code adapted from Dr. Xi Yang, PhD project: 'Early Prediction of Alzheimer's Disease and Related Dementias\n",
    "##                                                          Using Electronic Health Records'"
   ]
  },
  {
   "cell_type": "code",
   "execution_count": 2,
   "metadata": {},
   "outputs": [],
   "source": [
    "import numpy as np\n",
    "import pandas as pd\n",
    "from pathlib import Path"
   ]
  },
  {
   "cell_type": "code",
   "execution_count": 3,
   "metadata": {},
   "outputs": [],
   "source": [
    "import time\n",
    "import os\n",
    "import sys\n",
    "import re \n",
    "from collections import Counter, defaultdict\n",
    "from concurrent.futures import ProcessPoolExecutor, wait\n",
    "from functools import partial\n",
    "import mmap\n",
    "import json\n",
    "import pickle as pkl\n",
    "import gc\n",
    "import logging\n",
    "from tqdm import tqdm\n",
    "CPU_COUNT=9"
   ]
  },
  {
   "cell_type": "code",
   "execution_count": 4,
   "metadata": {},
   "outputs": [],
   "source": [
    "def pkl_dump(data, file):\n",
    "    with open(file, \"wb\") as fw:\n",
    "        pkl.dump(data, fw)\n",
    "\n",
    "        \n",
    "def pkl_load(file):\n",
    "    with open(file, \"rb\") as fr:\n",
    "        data = pkl.load(fr)\n",
    "    return data\n",
    "\n",
    "\n",
    "def pkl4_dump(data, file):\n",
    "    with open(file, \"wb\") as fw:\n",
    "        pkl.dump(data, fw, pkl.HIGHEST_PROTOCOL)\n",
    "\n",
    "        \n",
    "def pkl4_load(file):\n",
    "    with open(file, \"rb\") as fr:\n",
    "        data = pkl.load(fr)\n",
    "    return data"
   ]
  },
  {
   "cell_type": "code",
   "execution_count": 5,
   "metadata": {},
   "outputs": [],
   "source": [
    "os.chdir('/mnt/data1/chong/2021-CRC/updated_data/agg_files')\n",
    "os.getcwd()\n",
    "global_data_CC_01yr = pkl_load(\"aggCC01.pkl\")\n",
    "global_data_CC_3yr = pkl_load(\"aggCC3.pkl\")\n",
    "global_data_CC_5yr = pkl_load(\"aggCC5.pkl\")"
   ]
  },
  {
   "cell_type": "code",
   "execution_count": 6,
   "metadata": {},
   "outputs": [],
   "source": [
    "os.chdir('/mnt/data1/chong/2021-CRC/updated_data/agg_files')\n",
    "d_l_v01 = pkl_load(\"d_l_v_CC_01.pkl\")\n",
    "d_l_v3 = pkl_load(\"d_l_v_CC_3.pkl\")\n",
    "d_l_v5 = pkl_load(\"d_l_v_CC_5.pkl\")"
   ]
  },
  {
   "cell_type": "code",
   "execution_count": 7,
   "metadata": {},
   "outputs": [],
   "source": [
    "import datetime\n",
    "\n",
    "def bmi_map(x):\n",
    "    if x <= 18.5:\n",
    "        return 'underweight'\n",
    "    elif 18.5 < x <= 23:\n",
    "        return 'normal'\n",
    "    elif 23 < x <= 30:\n",
    "        return 'overweight'\n",
    "    elif x > 30:\n",
    "        return 'obesity'\n",
    "    else:\n",
    "        return f'bmi_other'\n",
    "    \n",
    "def diastolic_map(x):\n",
    "    if x <= 80:\n",
    "        return 'diastolic_Optimal'\n",
    "    elif 80 < x <= 90:\n",
    "        return 'diastolic_Prehypertension'\n",
    "    elif 90 < x <= 100:\n",
    "        return 'diastolic_Hypertension_stage_1'\n",
    "    elif 100 < x <= 110:\n",
    "        return 'diastolic_Hypertension_stage_2'\n",
    "    elif x > 110:\n",
    "        return 'diastolic_Hypertension_crisis'\n",
    "    else:\n",
    "        return f'diastolic_other'\n",
    "    \n",
    "def systolic_map(x):\n",
    "    if x <= 120:\n",
    "        return 'systolic_Optimal'\n",
    "    elif 120 < x <= 140:\n",
    "        return 'systolic_Prehypertension'\n",
    "    elif 140 < x <= 160:\n",
    "        return 'systolic_Hypertension_stage_1'\n",
    "    elif 160 < x <= 180:\n",
    "        return 'systolic_Hypertension_stage_2'\n",
    "    elif x > 180:\n",
    "        return 'systolic_Hypertension_crisis'\n",
    "    else:\n",
    "        return f'systolic_other'"
   ]
  },
  {
   "cell_type": "code",
   "execution_count": 8,
   "metadata": {},
   "outputs": [],
   "source": [
    "def get_age(age):\n",
    "    if 30 <= age < 40:\n",
    "        return \"age_30_39\"\n",
    "    elif 40 <= age < 50:\n",
    "        return \"age_40_49\"\n",
    "    elif 18 <= age < 30:\n",
    "        return \"age_18_29\"\n",
    "    elif age < 18:\n",
    "        return \"age_<18\"\n",
    "    else:\n",
    "        return \"age_>=50\"\n",
    "    \n",
    "\n",
    "def get_fea_id(fea_dict, features, fea):\n",
    "    if fea in fea_dict:\n",
    "        return fea_dict[fea]\n",
    "    else:\n",
    "        features.append(fea)\n",
    "        fea_dict[fea] = len(features)\n",
    "        return fea_dict[fea]\n",
    "    \n",
    "def s2t(t):\n",
    "    return datetime.datetime.strptime(t, \"%Y-%m-%d\")\n",
    "\n",
    "def diff_days(d1, d2):\n",
    "    d1 = s2t(d1)\n",
    "    d2 = s2t(d2)\n",
    "    return (d1-d2).days"
   ]
  },
  {
   "cell_type": "code",
   "execution_count": 9,
   "metadata": {},
   "outputs": [],
   "source": [
    "import traceback\n",
    "\n",
    "def get_clinic(tag, pat_data, idx, th, f2i, feas, p):\n",
    "    try:\n",
    "        data = pat_data[tag]\n",
    "        l = []\n",
    "        for k, v in data.items():\n",
    "            if diff_days(idx, k) <= th:\n",
    "                continue\n",
    "            for val in v:\n",
    "                l.append(get_fea_id(f2i, feas, f\"{tag}_{val}\"))\n",
    "        return l\n",
    "    except Exception as ex:\n",
    "        errors.append((p, tag, traceback.format_exc))\n",
    "#         print(p,tag,data)\n",
    "#         traceback.print_exc()\n",
    "        return []"
   ]
  },
  {
   "cell_type": "code",
   "execution_count": 10,
   "metadata": {},
   "outputs": [],
   "source": [
    "#'index_date', 'age', 'has_ad', 'gender', 'hispanic', 'race', 'diag', 'proc', 'med_p', 'med_d'\n",
    "from tqdm import tqdm_notebook as tqdm\n",
    "\n",
    "def matching(agg, vit, thc):\n",
    "    data_points = []\n",
    "    if thc:\n",
    "        th = 365*thc\n",
    "    else:\n",
    "        th = 1\n",
    "    \n",
    "    for ii, (k, v) in enumerate(agg.items()):\n",
    "        if ii % 10000 == 0:\n",
    "            print(\"processed \", ii)\n",
    "        data_point = []\n",
    "        pid = k\n",
    "        index_date = v['index_date']\n",
    "        \n",
    "        # case or control\n",
    "        label = v['has_CRC']\n",
    "        \n",
    "        # age, gender, race, hispanic\n",
    "        age_fea = get_age(v['age'])\n",
    "        age_id = get_fea_id(fea2id, features, age_fea)\n",
    "        gender_id = get_fea_id(fea2id, features, \"SEX_\" + v['SEX'])\n",
    "        race_id = get_fea_id(fea2id, features, \"Race_\" + v['Race'])\n",
    "        hispanic_id = get_fea_id(fea2id, features, \"Hispanic_\" + v['Hispanic'])\n",
    "        data_point.extend([age_id, gender_id, race_id, hispanic_id])\n",
    "        \n",
    "        #diag, proc, med\n",
    "        med_p = get_clinic('med_p', v, index_date, th, fea2id, features, pid)\n",
    "        med_d = get_clinic('med_d', v, index_date, th, fea2id, features, pid)\n",
    "        diags = get_clinic('diag', v, index_date, th, fea2id, features, pid)\n",
    "        proc = get_clinic('proc', v, index_date, th, fea2id, features, pid)\n",
    "        labs = get_clinic('lab',  v, index_date, th, fea2id, features, pid)\n",
    "        data_point.extend(med_p)\n",
    "        data_point.extend(med_d)\n",
    "        data_point.extend(diags)\n",
    "        data_point.extend(proc)\n",
    "        data_point.extend(labs)\n",
    "        \n",
    "        # vital\n",
    "        pv = vit[pid]\n",
    "        if 'BMI_mean' in pv:\n",
    "            bmi = pv['BMI_mean']\n",
    "            if not pd.isna(bmi):\n",
    "                bmi_id = get_fea_id(fea2id, features, bmi_map(bmi))\n",
    "                data_point.append(bmi_id)\n",
    "        if 'DIASTOLIC_mean' in pv:\n",
    "            dp = pv['DIASTOLIC_mean']\n",
    "            if not pd.isna(dp):\n",
    "                dp_id = get_fea_id(fea2id, features, diastolic_map(dp))\n",
    "                data_point.append(dp_id)\n",
    "        if 'SYSTOLIC_mean' in pv:    \n",
    "            sp = pv['SYSTOLIC_mean']\n",
    "            if not pd.isna(sp):\n",
    "                sp_id = get_fea_id(fea2id, features, systolic_map(sp))\n",
    "                data_point.append(sp_id)\n",
    "        \n",
    "        #for lbk in {'BUNCreat', 'hmglb', 'folate', 'hba1c', 'ttChol', 'vitaminD', 'b12', 'hdl', 'glucose'}:\n",
    "         #   lvv = pv[f\"{lbk}_l_abnind_{thc}y\"]\n",
    "         #   if not pd.isna(lvv):\n",
    "         #       lvv_id = get_fea_id(fea2id, features, f\"{lbk}_{lvv}\")\n",
    "         #       data_point.append(lvv_id)\n",
    "        \n",
    "\n",
    "        data_point = list(sorted(set(data_point)))\n",
    "        data_point.insert(0, label)\n",
    "        data_point.insert(0, pid)\n",
    "        data_points.append(data_point)\n",
    "    return data_points"
   ]
  },
  {
   "cell_type": "code",
   "execution_count": 11,
   "metadata": {},
   "outputs": [],
   "source": [
    "os.chdir('/mnt/data1/chong/2021-CRC/updated_data/encoding_files')"
   ]
  },
  {
   "cell_type": "code",
   "execution_count": 12,
   "metadata": {},
   "outputs": [
    {
     "name": "stdout",
     "output_type": "stream",
     "text": [
      "processed  0\n",
      "8601\n"
     ]
    }
   ],
   "source": [
    "features = []\n",
    "fea2id = dict()\n",
    "errors = []\n",
    "d5_1fl = matching(global_data_CC_01yr, d_l_v01,thc=0)\n",
    "print(len(features))\n",
    "pkl_dump(d5_1fl, \"./data_CC0yr_expr.pkl\")\n",
    "pkl_dump((fea2id, features), \"./data_CC0yr_expr_features.pkl\")"
   ]
  },
  {
   "cell_type": "code",
   "execution_count": 13,
   "metadata": {},
   "outputs": [
    {
     "name": "stdout",
     "output_type": "stream",
     "text": [
      "processed  0\n",
      "7714\n"
     ]
    }
   ],
   "source": [
    "features = []\n",
    "fea2id = dict()\n",
    "errors = []\n",
    "d5_1fl = matching(global_data_CC_01yr, d_l_v01,thc=1)\n",
    "print(len(features))\n",
    "pkl_dump(d5_1fl, \"./data_CC1yr_expr.pkl\")\n",
    "pkl_dump((fea2id, features), \"./data_CC1yr_expr_features.pkl\")"
   ]
  },
  {
   "cell_type": "code",
   "execution_count": 14,
   "metadata": {},
   "outputs": [
    {
     "name": "stdout",
     "output_type": "stream",
     "text": [
      "processed  0\n",
      "5852\n"
     ]
    }
   ],
   "source": [
    "features = []\n",
    "fea2id = dict()\n",
    "errors = []\n",
    "d5_1fl = matching(global_data_CC_3yr, d_l_v3,thc=3)\n",
    "print(len(features))\n",
    "pkl_dump(d5_1fl, \"./data_CC3yr_expr.pkl\")\n",
    "pkl_dump((fea2id, features), \"./data_CC3yr_expr_features.pkl\")"
   ]
  },
  {
   "cell_type": "code",
   "execution_count": 15,
   "metadata": {},
   "outputs": [
    {
     "name": "stdout",
     "output_type": "stream",
     "text": [
      "processed  0\n",
      "3794\n"
     ]
    }
   ],
   "source": [
    "features = []\n",
    "fea2id = dict()\n",
    "errors = []\n",
    "d5_1fl = matching(global_data_CC_5yr, d_l_v5,thc=5)\n",
    "print(len(features))\n",
    "pkl_dump(d5_1fl, \"./data_CC5yr_expr.pkl\")\n",
    "pkl_dump((fea2id, features), \"./data_CC5yr_expr_features.pkl\")"
   ]
  }
 ],
 "metadata": {
  "kernelspec": {
   "display_name": "Python 3",
   "language": "python",
   "name": "python3"
  },
  "language_info": {
   "codemirror_mode": {
    "name": "ipython",
    "version": 3
   },
   "file_extension": ".py",
   "mimetype": "text/x-python",
   "name": "python",
   "nbconvert_exporter": "python",
   "pygments_lexer": "ipython3",
   "version": "3.7.3"
  }
 },
 "nbformat": 4,
 "nbformat_minor": 4
}
